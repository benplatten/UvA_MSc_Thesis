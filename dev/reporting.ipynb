{
 "cells": [
  {
   "cell_type": "code",
   "execution_count": 75,
   "metadata": {},
   "outputs": [],
   "source": [
    "import pandas as pd\n",
    "import matplotlib.pyplot as plt\n",
    "import seaborn as sns\n",
    "import numpy as np\n",
    "import glob"
   ]
  },
  {
   "cell_type": "code",
   "execution_count": null,
   "metadata": {},
   "outputs": [],
   "source": [
    "# save viz template\n",
    "title=\n",
    "name=\n",
    "sns.set_context(\"paper\")\n",
    "\n",
    "plot = ## .set_title(title)\n",
    "\n",
    "fig = plot.get_figure()\n",
    "fig.savefig(f\"{plots}{name}.png\",bbox_inches='tight') "
   ]
  },
  {
   "cell_type": "markdown",
   "metadata": {},
   "source": [
    "## MAIN RESULTS: reward vs difficulty"
   ]
  },
  {
   "cell_type": "code",
   "execution_count": 50,
   "metadata": {},
   "outputs": [
    {
     "data": {
      "text/html": [
       "<div>\n",
       "<style scoped>\n",
       "    .dataframe tbody tr th:only-of-type {\n",
       "        vertical-align: middle;\n",
       "    }\n",
       "\n",
       "    .dataframe tbody tr th {\n",
       "        vertical-align: top;\n",
       "    }\n",
       "\n",
       "    .dataframe thead th {\n",
       "        text-align: right;\n",
       "    }\n",
       "</style>\n",
       "<table border=\"1\" class=\"dataframe\">\n",
       "  <thead>\n",
       "    <tr style=\"text-align: right;\">\n",
       "      <th></th>\n",
       "      <th>problem</th>\n",
       "      <th>reward</th>\n",
       "      <th>model</th>\n",
       "      <th>seed</th>\n",
       "      <th>set</th>\n",
       "    </tr>\n",
       "  </thead>\n",
       "  <tbody>\n",
       "    <tr>\n",
       "      <th>0</th>\n",
       "      <td>101</td>\n",
       "      <td>1.000000</td>\n",
       "      <td>stepbonus_8</td>\n",
       "      <td>10</td>\n",
       "      <td>shifts_easy_ratio_mixed</td>\n",
       "    </tr>\n",
       "    <tr>\n",
       "      <th>1</th>\n",
       "      <td>202</td>\n",
       "      <td>1.000000</td>\n",
       "      <td>stepbonus_8</td>\n",
       "      <td>10</td>\n",
       "      <td>shifts_easy_ratio_mixed</td>\n",
       "    </tr>\n",
       "    <tr>\n",
       "      <th>2</th>\n",
       "      <td>303</td>\n",
       "      <td>1.000000</td>\n",
       "      <td>stepbonus_8</td>\n",
       "      <td>10</td>\n",
       "      <td>shifts_easy_ratio_mixed</td>\n",
       "    </tr>\n",
       "    <tr>\n",
       "      <th>3</th>\n",
       "      <td>404</td>\n",
       "      <td>1.000000</td>\n",
       "      <td>stepbonus_8</td>\n",
       "      <td>10</td>\n",
       "      <td>shifts_easy_ratio_mixed</td>\n",
       "    </tr>\n",
       "    <tr>\n",
       "      <th>4</th>\n",
       "      <td>505</td>\n",
       "      <td>1.000000</td>\n",
       "      <td>stepbonus_8</td>\n",
       "      <td>10</td>\n",
       "      <td>shifts_easy_ratio_mixed</td>\n",
       "    </tr>\n",
       "    <tr>\n",
       "      <th>...</th>\n",
       "      <td>...</td>\n",
       "      <td>...</td>\n",
       "      <td>...</td>\n",
       "      <td>...</td>\n",
       "      <td>...</td>\n",
       "    </tr>\n",
       "    <tr>\n",
       "      <th>7995</th>\n",
       "      <td>4646</td>\n",
       "      <td>0.428571</td>\n",
       "      <td>random_0</td>\n",
       "      <td>91</td>\n",
       "      <td>shifts_extrahard_ratio_above</td>\n",
       "    </tr>\n",
       "    <tr>\n",
       "      <th>7996</th>\n",
       "      <td>4747</td>\n",
       "      <td>0.476190</td>\n",
       "      <td>random_0</td>\n",
       "      <td>91</td>\n",
       "      <td>shifts_extrahard_ratio_above</td>\n",
       "    </tr>\n",
       "    <tr>\n",
       "      <th>7997</th>\n",
       "      <td>4848</td>\n",
       "      <td>0.388889</td>\n",
       "      <td>random_0</td>\n",
       "      <td>91</td>\n",
       "      <td>shifts_extrahard_ratio_above</td>\n",
       "    </tr>\n",
       "    <tr>\n",
       "      <th>7998</th>\n",
       "      <td>4949</td>\n",
       "      <td>0.431818</td>\n",
       "      <td>random_0</td>\n",
       "      <td>91</td>\n",
       "      <td>shifts_extrahard_ratio_above</td>\n",
       "    </tr>\n",
       "    <tr>\n",
       "      <th>7999</th>\n",
       "      <td>5050</td>\n",
       "      <td>0.447368</td>\n",
       "      <td>random_0</td>\n",
       "      <td>91</td>\n",
       "      <td>shifts_extrahard_ratio_above</td>\n",
       "    </tr>\n",
       "  </tbody>\n",
       "</table>\n",
       "<p>8000 rows × 5 columns</p>\n",
       "</div>"
      ],
      "text/plain": [
       "      problem    reward        model  seed                           set\n",
       "0         101  1.000000  stepbonus_8    10       shifts_easy_ratio_mixed\n",
       "1         202  1.000000  stepbonus_8    10       shifts_easy_ratio_mixed\n",
       "2         303  1.000000  stepbonus_8    10       shifts_easy_ratio_mixed\n",
       "3         404  1.000000  stepbonus_8    10       shifts_easy_ratio_mixed\n",
       "4         505  1.000000  stepbonus_8    10       shifts_easy_ratio_mixed\n",
       "...       ...       ...          ...   ...                           ...\n",
       "7995     4646  0.428571     random_0    91  shifts_extrahard_ratio_above\n",
       "7996     4747  0.476190     random_0    91  shifts_extrahard_ratio_above\n",
       "7997     4848  0.388889     random_0    91  shifts_extrahard_ratio_above\n",
       "7998     4949  0.431818     random_0    91  shifts_extrahard_ratio_above\n",
       "7999     5050  0.447368     random_0    91  shifts_extrahard_ratio_above\n",
       "\n",
       "[8000 rows x 5 columns]"
      ]
     },
     "execution_count": 50,
     "metadata": {},
     "output_type": "execute_result"
    }
   ],
   "source": [
    "data = pd.read_csv(\"test_data/test_data.csv\")\n",
    "data"
   ]
  },
  {
   "cell_type": "code",
   "execution_count": 52,
   "metadata": {},
   "outputs": [
    {
     "data": {
      "text/plain": [
       "0       mixed\n",
       "1       mixed\n",
       "2       mixed\n",
       "3       mixed\n",
       "4       mixed\n",
       "        ...  \n",
       "7995    above\n",
       "7996    above\n",
       "7997    above\n",
       "7998    above\n",
       "7999    above\n",
       "Name: set, Length: 8000, dtype: object"
      ]
     },
     "execution_count": 52,
     "metadata": {},
     "output_type": "execute_result"
    }
   ],
   "source": [
    "data['ratio'] = data['set'].apply(lambda x: x.split('_')[3])"
   ]
  },
  {
   "cell_type": "code",
   "execution_count": 106,
   "metadata": {},
   "outputs": [],
   "source": [
    "def AverageRewardvsProblemComplexityData(data):\n",
    "    data[['reward_function', 'train_size']] = data['model'].str.split('_', 1, expand=True)\n",
    "    #data[['reward_function', 'train_size']] = data['model'].str.split('_', 0, expand=True)\n",
    "    data.drop(['model'],axis=1,inplace=True)\n",
    "\n",
    "    #data = data[data['reward_function']=='step']\n",
    "\n",
    "    data.reward_function = data.reward_function.str.title()\n",
    "    data.reward_function = data.reward_function.str.replace('Stepbonus', 'Step Bonus', regex=False)\n",
    "    data.columns = ['problem','Reward','seed','set','ratio','Reward Function','train_size']\n",
    "\n",
    "    conditions = [data['set'] == 'shifts_easy_ratio_mixed',              \n",
    "                data['set'] == 'shifts_medium_ratio_mixed',              \n",
    "                data['set'] == 'shifts_hard_ratio_mixed',\n",
    "                data['set'] == 'shifts_extrahard_ratio_mixed',\n",
    "                data['set'] == 'shifts_easy_ratio_above',\n",
    "                data['set'] == 'shifts_medium_ratio_above',\n",
    "                data['set'] == 'shifts_hard_ratio_above',\n",
    "                data['set'] == 'shifts_extrahard_ratio_above',\n",
    "            ]\n",
    "    outputs = [1,2,3,4,5,6,7,8]\n",
    "    #outputs = ['Max Shifts 8',]\n",
    "    X = np.select(conditions, outputs, 'Other')\n",
    "    data['Problem Complexity'] = X\n",
    "\n",
    "    hmm = data.groupby(['Reward Function','Problem Complexity']).agg({\n",
    "                                        'Reward':'mean'\n",
    "                                        }).reset_index()\n",
    "\n",
    "    return hmm"
   ]
  },
  {
   "cell_type": "code",
   "execution_count": 113,
   "metadata": {},
   "outputs": [],
   "source": [
    "data = pd.read_csv(\"test_data/test_data.csv\")\n",
    "\n",
    "data['ratio'] = data['set'].apply(lambda x: x.split('_')[3])\n",
    "data = data[data['ratio']=='mixed']\n",
    "\n",
    "ARvPC_data = AverageRewardvsProblemComplexityData(data)\n",
    "#ARvPC_data.head()"
   ]
  },
  {
   "cell_type": "code",
   "execution_count": 116,
   "metadata": {},
   "outputs": [
    {
     "data": {
      "text/plain": [
       "<matplotlib.legend.Legend at 0x129aa3b70>"
      ]
     },
     "execution_count": 116,
     "metadata": {},
     "output_type": "execute_result"
    },
    {
     "data": {
      "image/png": "[encoded data removed]",
      "text/plain": [
       "<Figure size 432x288 with 1 Axes>"
      ]
     },
     "metadata": {
      "needs_background": "light"
     },
     "output_type": "display_data"
    }
   ],
   "source": [
    "title = 'Avg. Reward vs Problem Complexity, Average Shift-Emp Ratio'\n",
    "\n",
    "sns.lineplot(x=\"Problem Complexity\", y=\"Reward\", hue=\"Reward Function\", data=ARvPC_data).set_title(title)\n",
    "plt.legend(bbox_to_anchor=(1.05, 1), loc=2, borderaxespad=0.)"
   ]
  },
  {
   "cell_type": "code",
   "execution_count": 117,
   "metadata": {},
   "outputs": [],
   "source": [
    "data = pd.read_csv(\"test_data/test_data.csv\")\n",
    "data['ratio'] = data['set'].apply(lambda x: x.split('_')[3])\n",
    "data = data[data['ratio']=='above']\n",
    "\n",
    "data[['reward_function', 'train_size']] = data['model'].str.split('_', 1, expand=True)\n",
    "#data[['reward_function', 'train_size']] = data['model'].str.split('_', 0, expand=True)\n",
    "data.drop(['model'],axis=1,inplace=True)\n",
    "\n",
    "#data = data[data['reward_function']=='step']\n",
    "\n",
    "data.reward_function = data.reward_function.str.title()\n",
    "data.reward_function = data.reward_function.str.replace('Stepbonus', 'Step Bonus', regex=False)\n",
    "\n",
    "data.columns = ['problem','Reward','seed','set','ratio','Reward Function','train_size']\n",
    "\n",
    "conditions = [\n",
    "            data['set'] == 'shifts_easy_ratio_above',\n",
    "            data['set'] == 'shifts_medium_ratio_above',\n",
    "            data['set'] == 'shifts_hard_ratio_above',\n",
    "            data['set'] == 'shifts_extrahard_ratio_above',\n",
    "        ]\n",
    "#outputs = [1,2,3,4,5,6,7,8]\n",
    "#outputs = ['Max shifts 8, avg ratio','Max shifts 14, avg ratio', 'Max shifts 18, avg ratio', 'Max shifts 23, avg ratio', \\\n",
    "#           'Max shifts 8, above avg ratio', 'Max shifts 14, above avg ratio', 'Max shifts 18, above avg ratio',  'Max shifts 23, above avg ratio']\n",
    "outputs = ['Max 08', 'Max 14','Max 18','Max 23']\n",
    "X = np.select(conditions, outputs, 'Other')\n",
    "data['Problem Complexity'] = X\n",
    "\n",
    "hmm = data.groupby(['Reward Function','Problem Complexity']).agg({\n",
    "                                    'Reward':'mean'\n",
    "                                    }).reset_index()\n",
    "\n"
   ]
  },
  {
   "cell_type": "code",
   "execution_count": 118,
   "metadata": {},
   "outputs": [
    {
     "data": {
      "text/plain": [
       "([0, 1, 2, 3],\n",
       " [Text(0, 0, ''), Text(0, 0, ''), Text(0, 0, ''), Text(0, 0, '')])"
      ]
     },
     "execution_count": 118,
     "metadata": {},
     "output_type": "execute_result"
    },
    {
     "data": {
      "image/png": "[encoded data removed]",
      "text/plain": [
       "<Figure size 432x288 with 1 Axes>"
      ]
     },
     "metadata": {
      "needs_background": "light"
     },
     "output_type": "display_data"
    }
   ],
   "source": [
    "title = 'Avg. Reward vs Problem Complexity, High Shift-Emp Ratio'\n",
    "\n",
    "sns.lineplot(x=\"Problem Complexity\", y=\"Reward\", hue=\"Reward Function\", data=hmm).set_title(title)\n",
    "plt.legend(bbox_to_anchor=(1.05, 1), loc=2, borderaxespad=0.)\n",
    "plt.xticks(rotation=45)"
   ]
  },
  {
   "cell_type": "markdown",
   "metadata": {},
   "source": [
    "## % Acceptable "
   ]
  },
  {
   "cell_type": "code",
   "execution_count": 60,
   "metadata": {},
   "outputs": [],
   "source": [
    "# plot percentage of problems with reward == 1"
   ]
  },
  {
   "cell_type": "markdown",
   "metadata": {},
   "source": [
    "## Training data: learning curve"
   ]
  },
  {
   "cell_type": "code",
   "execution_count": 40,
   "metadata": {},
   "outputs": [],
   "source": [
    "training_data = glob.glob(\"run_data/*.csv\")"
   ]
  },
  {
   "cell_type": "code",
   "execution_count": 46,
   "metadata": {},
   "outputs": [
    {
     "data": {
      "text/plain": [
       "'Step'"
      ]
     },
     "execution_count": 46,
     "metadata": {},
     "output_type": "execute_result"
    }
   ],
   "source": [
    "reward_function = training_data[0].split('_')[5].split('=')[1]"
   ]
  },
  {
   "cell_type": "code",
   "execution_count": 41,
   "metadata": {},
   "outputs": [
    {
     "data": {
      "text/html": [
       "<div>\n",
       "<style scoped>\n",
       "    .dataframe tbody tr th:only-of-type {\n",
       "        vertical-align: middle;\n",
       "    }\n",
       "\n",
       "    .dataframe tbody tr th {\n",
       "        vertical-align: top;\n",
       "    }\n",
       "\n",
       "    .dataframe thead th {\n",
       "        text-align: right;\n",
       "    }\n",
       "</style>\n",
       "<table border=\"1\" class=\"dataframe\">\n",
       "  <thead>\n",
       "    <tr style=\"text-align: right;\">\n",
       "      <th></th>\n",
       "      <th>scores</th>\n",
       "      <th>prob</th>\n",
       "    </tr>\n",
       "  </thead>\n",
       "  <tbody>\n",
       "    <tr>\n",
       "      <th>0</th>\n",
       "      <td>1.000000</td>\n",
       "      <td>('0037', '0007')</td>\n",
       "    </tr>\n",
       "    <tr>\n",
       "      <th>1</th>\n",
       "      <td>0.714286</td>\n",
       "      <td>('0026', '0009')</td>\n",
       "    </tr>\n",
       "    <tr>\n",
       "      <th>2</th>\n",
       "      <td>1.000000</td>\n",
       "      <td>('0026', '0004')</td>\n",
       "    </tr>\n",
       "    <tr>\n",
       "      <th>3</th>\n",
       "      <td>0.857143</td>\n",
       "      <td>('0045', '0039')</td>\n",
       "    </tr>\n",
       "    <tr>\n",
       "      <th>4</th>\n",
       "      <td>0.857143</td>\n",
       "      <td>('0020', '0008')</td>\n",
       "    </tr>\n",
       "    <tr>\n",
       "      <th>...</th>\n",
       "      <td>...</td>\n",
       "      <td>...</td>\n",
       "    </tr>\n",
       "    <tr>\n",
       "      <th>9994</th>\n",
       "      <td>0.857143</td>\n",
       "      <td>('0020', '0007')</td>\n",
       "    </tr>\n",
       "    <tr>\n",
       "      <th>9995</th>\n",
       "      <td>1.000000</td>\n",
       "      <td>('0023', '0033')</td>\n",
       "    </tr>\n",
       "    <tr>\n",
       "      <th>9996</th>\n",
       "      <td>0.714286</td>\n",
       "      <td>('0048', '0040')</td>\n",
       "    </tr>\n",
       "    <tr>\n",
       "      <th>9997</th>\n",
       "      <td>0.857143</td>\n",
       "      <td>('0017', '0024')</td>\n",
       "    </tr>\n",
       "    <tr>\n",
       "      <th>9998</th>\n",
       "      <td>0.857143</td>\n",
       "      <td>('0046', '0028')</td>\n",
       "    </tr>\n",
       "  </tbody>\n",
       "</table>\n",
       "<p>9999 rows × 2 columns</p>\n",
       "</div>"
      ],
      "text/plain": [
       "        scores              prob\n",
       "0     1.000000  ('0037', '0007')\n",
       "1     0.714286  ('0026', '0009')\n",
       "2     1.000000  ('0026', '0004')\n",
       "3     0.857143  ('0045', '0039')\n",
       "4     0.857143  ('0020', '0008')\n",
       "...        ...               ...\n",
       "9994  0.857143  ('0020', '0007')\n",
       "9995  1.000000  ('0023', '0033')\n",
       "9996  0.714286  ('0048', '0040')\n",
       "9997  0.857143  ('0017', '0024')\n",
       "9998  0.857143  ('0046', '0028')\n",
       "\n",
       "[9999 rows x 2 columns]"
      ]
     },
     "execution_count": 41,
     "metadata": {},
     "output_type": "execute_result"
    }
   ],
   "source": [
    "pd.read_csv(training_data[0])"
   ]
  },
  {
   "cell_type": "code",
   "execution_count": null,
   "metadata": {},
   "outputs": [],
   "source": []
  },
  {
   "cell_type": "code",
   "execution_count": null,
   "metadata": {},
   "outputs": [],
   "source": []
  },
  {
   "cell_type": "markdown",
   "metadata": {},
   "source": [
    "## archive ####"
   ]
  },
  {
   "cell_type": "code",
   "execution_count": 6,
   "metadata": {},
   "outputs": [
    {
     "data": {
      "text/html": [
       "<div>\n",
       "<style scoped>\n",
       "    .dataframe tbody tr th:only-of-type {\n",
       "        vertical-align: middle;\n",
       "    }\n",
       "\n",
       "    .dataframe tbody tr th {\n",
       "        vertical-align: top;\n",
       "    }\n",
       "\n",
       "    .dataframe thead th {\n",
       "        text-align: right;\n",
       "    }\n",
       "</style>\n",
       "<table border=\"1\" class=\"dataframe\">\n",
       "  <thead>\n",
       "    <tr style=\"text-align: right;\">\n",
       "      <th>reward_function</th>\n",
       "      <th>set</th>\n",
       "      <th>step</th>\n",
       "      <th>stepbonus</th>\n",
       "      <th>terminal</th>\n",
       "    </tr>\n",
       "  </thead>\n",
       "  <tbody>\n",
       "    <tr>\n",
       "      <th>0</th>\n",
       "      <td>shifts_easy_ratio_mixed</td>\n",
       "      <td>0.592000</td>\n",
       "      <td>0.938333</td>\n",
       "      <td>-0.046714</td>\n",
       "    </tr>\n",
       "    <tr>\n",
       "      <th>1</th>\n",
       "      <td>shifts_hard_ratio_mixed</td>\n",
       "      <td>0.328772</td>\n",
       "      <td>1.000000</td>\n",
       "      <td>-0.428233</td>\n",
       "    </tr>\n",
       "    <tr>\n",
       "      <th>2</th>\n",
       "      <td>shifts_medium_ratio_mixed</td>\n",
       "      <td>0.379712</td>\n",
       "      <td>1.000000</td>\n",
       "      <td>-0.340655</td>\n",
       "    </tr>\n",
       "  </tbody>\n",
       "</table>\n",
       "</div>"
      ],
      "text/plain": [
       "reward_function                        set      step  stepbonus  terminal\n",
       "0                  shifts_easy_ratio_mixed  0.592000   0.938333 -0.046714\n",
       "1                  shifts_hard_ratio_mixed  0.328772   1.000000 -0.428233\n",
       "2                shifts_medium_ratio_mixed  0.379712   1.000000 -0.340655"
      ]
     },
     "execution_count": 6,
     "metadata": {},
     "output_type": "execute_result"
    }
   ],
   "source": [
    "piv = hmm.pivot(index='set', columns='reward_function', values=['reward'])\n",
    "piv.columns = piv.columns.get_level_values(1)\n",
    "\n",
    "plot_data = piv.reset_index()\n",
    "plot_data"
   ]
  },
  {
   "cell_type": "code",
   "execution_count": 7,
   "metadata": {},
   "outputs": [
    {
     "data": {
      "text/html": [
       "<div>\n",
       "<style scoped>\n",
       "    .dataframe tbody tr th:only-of-type {\n",
       "        vertical-align: middle;\n",
       "    }\n",
       "\n",
       "    .dataframe tbody tr th {\n",
       "        vertical-align: top;\n",
       "    }\n",
       "\n",
       "    .dataframe thead th {\n",
       "        text-align: right;\n",
       "    }\n",
       "</style>\n",
       "<table border=\"1\" class=\"dataframe\">\n",
       "  <thead>\n",
       "    <tr style=\"text-align: right;\">\n",
       "      <th>reward_function</th>\n",
       "      <th>step</th>\n",
       "      <th>stepbonus</th>\n",
       "      <th>terminal</th>\n",
       "    </tr>\n",
       "  </thead>\n",
       "  <tbody>\n",
       "    <tr>\n",
       "      <th>shifts_easy_ratio_mixed</th>\n",
       "      <td>0.592</td>\n",
       "      <td>0.938333</td>\n",
       "      <td>-0.0467143</td>\n",
       "    </tr>\n",
       "    <tr>\n",
       "      <th>shifts_medium_ratio_mixed</th>\n",
       "      <td>0.379712</td>\n",
       "      <td>1</td>\n",
       "      <td>-0.340655</td>\n",
       "    </tr>\n",
       "    <tr>\n",
       "      <th>shifts_hard_ratio_mixed</th>\n",
       "      <td>0.328772</td>\n",
       "      <td>1</td>\n",
       "      <td>-0.428233</td>\n",
       "    </tr>\n",
       "  </tbody>\n",
       "</table>\n",
       "</div>"
      ],
      "text/plain": [
       "reward_function                step stepbonus   terminal\n",
       "shifts_easy_ratio_mixed       0.592  0.938333 -0.0467143\n",
       "shifts_medium_ratio_mixed  0.379712         1  -0.340655\n",
       "shifts_hard_ratio_mixed    0.328772         1  -0.428233"
      ]
     },
     "execution_count": 7,
     "metadata": {},
     "output_type": "execute_result"
    }
   ],
   "source": [
    "erm = plot_data.transpose()\n",
    "\n",
    "well = erm.rename(columns=erm.iloc[0]).drop(erm.index[0]).reindex(columns = ['shifts_easy_ratio_mixed','shifts_medium_ratio_mixed','shifts_hard_ratio_mixed']).transpose()\n",
    "\n",
    "well"
   ]
  },
  {
   "cell_type": "code",
   "execution_count": 8,
   "metadata": {},
   "outputs": [
    {
     "ename": "DataError",
     "evalue": "No numeric types to aggregate",
     "output_type": "error",
     "traceback": [
      "\u001b[0;31m---------------------------------------------------------------------------\u001b[0m",
      "\u001b[0;31mDataError\u001b[0m                                 Traceback (most recent call last)",
      "\u001b[0;32m<ipython-input-8-394497ef74bf>\u001b[0m in \u001b[0;36m<module>\u001b[0;34m\u001b[0m\n\u001b[0;32m----> 1\u001b[0;31m \u001b[0msns\u001b[0m\u001b[0;34m.\u001b[0m\u001b[0mlineplot\u001b[0m\u001b[0;34m(\u001b[0m\u001b[0mdata\u001b[0m\u001b[0;34m=\u001b[0m\u001b[0mwell\u001b[0m\u001b[0;34m)\u001b[0m\u001b[0;34m\u001b[0m\u001b[0;34m\u001b[0m\u001b[0m\n\u001b[0m",
      "\u001b[0;32m~/.pyenv/versions/werkcollege/lib/python3.7/site-packages/seaborn/_decorators.py\u001b[0m in \u001b[0;36minner_f\u001b[0;34m(*args, **kwargs)\u001b[0m\n\u001b[1;32m     44\u001b[0m             )\n\u001b[1;32m     45\u001b[0m         \u001b[0mkwargs\u001b[0m\u001b[0;34m.\u001b[0m\u001b[0mupdate\u001b[0m\u001b[0;34m(\u001b[0m\u001b[0;34m{\u001b[0m\u001b[0mk\u001b[0m\u001b[0;34m:\u001b[0m \u001b[0marg\u001b[0m \u001b[0;32mfor\u001b[0m \u001b[0mk\u001b[0m\u001b[0;34m,\u001b[0m \u001b[0marg\u001b[0m \u001b[0;32min\u001b[0m \u001b[0mzip\u001b[0m\u001b[0;34m(\u001b[0m\u001b[0msig\u001b[0m\u001b[0;34m.\u001b[0m\u001b[0mparameters\u001b[0m\u001b[0;34m,\u001b[0m \u001b[0margs\u001b[0m\u001b[0;34m)\u001b[0m\u001b[0;34m}\u001b[0m\u001b[0;34m)\u001b[0m\u001b[0;34m\u001b[0m\u001b[0;34m\u001b[0m\u001b[0m\n\u001b[0;32m---> 46\u001b[0;31m         \u001b[0;32mreturn\u001b[0m \u001b[0mf\u001b[0m\u001b[0;34m(\u001b[0m\u001b[0;34m**\u001b[0m\u001b[0mkwargs\u001b[0m\u001b[0;34m)\u001b[0m\u001b[0;34m\u001b[0m\u001b[0;34m\u001b[0m\u001b[0m\n\u001b[0m\u001b[1;32m     47\u001b[0m     \u001b[0;32mreturn\u001b[0m \u001b[0minner_f\u001b[0m\u001b[0;34m\u001b[0m\u001b[0;34m\u001b[0m\u001b[0m\n\u001b[1;32m     48\u001b[0m \u001b[0;34m\u001b[0m\u001b[0m\n",
      "\u001b[0;32m~/.pyenv/versions/werkcollege/lib/python3.7/site-packages/seaborn/relational.py\u001b[0m in \u001b[0;36mlineplot\u001b[0;34m(x, y, hue, size, style, data, palette, hue_order, hue_norm, sizes, size_order, size_norm, dashes, markers, style_order, units, estimator, ci, n_boot, seed, sort, err_style, err_kws, legend, ax, **kwargs)\u001b[0m\n\u001b[1;32m    694\u001b[0m     \u001b[0mp\u001b[0m\u001b[0;34m.\u001b[0m\u001b[0m_attach\u001b[0m\u001b[0;34m(\u001b[0m\u001b[0max\u001b[0m\u001b[0;34m)\u001b[0m\u001b[0;34m\u001b[0m\u001b[0;34m\u001b[0m\u001b[0m\n\u001b[1;32m    695\u001b[0m \u001b[0;34m\u001b[0m\u001b[0m\n\u001b[0;32m--> 696\u001b[0;31m     \u001b[0mp\u001b[0m\u001b[0;34m.\u001b[0m\u001b[0mplot\u001b[0m\u001b[0;34m(\u001b[0m\u001b[0max\u001b[0m\u001b[0;34m,\u001b[0m \u001b[0mkwargs\u001b[0m\u001b[0;34m)\u001b[0m\u001b[0;34m\u001b[0m\u001b[0;34m\u001b[0m\u001b[0m\n\u001b[0m\u001b[1;32m    697\u001b[0m     \u001b[0;32mreturn\u001b[0m \u001b[0max\u001b[0m\u001b[0;34m\u001b[0m\u001b[0;34m\u001b[0m\u001b[0m\n\u001b[1;32m    698\u001b[0m \u001b[0;34m\u001b[0m\u001b[0m\n",
      "\u001b[0;32m~/.pyenv/versions/werkcollege/lib/python3.7/site-packages/seaborn/relational.py\u001b[0m in \u001b[0;36mplot\u001b[0;34m(self, ax, kws)\u001b[0m\n\u001b[1;32m    490\u001b[0m                     \u001b[0merr\u001b[0m \u001b[0;34m=\u001b[0m \u001b[0;34m\"estimator must be None when specifying units\"\u001b[0m\u001b[0;34m\u001b[0m\u001b[0;34m\u001b[0m\u001b[0m\n\u001b[1;32m    491\u001b[0m                     \u001b[0;32mraise\u001b[0m \u001b[0mValueError\u001b[0m\u001b[0;34m(\u001b[0m\u001b[0merr\u001b[0m\u001b[0;34m)\u001b[0m\u001b[0;34m\u001b[0m\u001b[0;34m\u001b[0m\u001b[0m\n\u001b[0;32m--> 492\u001b[0;31m                 \u001b[0mx\u001b[0m\u001b[0;34m,\u001b[0m \u001b[0my\u001b[0m\u001b[0;34m,\u001b[0m \u001b[0my_ci\u001b[0m \u001b[0;34m=\u001b[0m \u001b[0mself\u001b[0m\u001b[0;34m.\u001b[0m\u001b[0maggregate\u001b[0m\u001b[0;34m(\u001b[0m\u001b[0my\u001b[0m\u001b[0;34m,\u001b[0m \u001b[0mx\u001b[0m\u001b[0;34m,\u001b[0m \u001b[0mu\u001b[0m\u001b[0;34m)\u001b[0m\u001b[0;34m\u001b[0m\u001b[0;34m\u001b[0m\u001b[0m\n\u001b[0m\u001b[1;32m    493\u001b[0m             \u001b[0;32melse\u001b[0m\u001b[0;34m:\u001b[0m\u001b[0;34m\u001b[0m\u001b[0;34m\u001b[0m\u001b[0m\n\u001b[1;32m    494\u001b[0m                 \u001b[0my_ci\u001b[0m \u001b[0;34m=\u001b[0m \u001b[0;32mNone\u001b[0m\u001b[0;34m\u001b[0m\u001b[0;34m\u001b[0m\u001b[0m\n",
      "\u001b[0;32m~/.pyenv/versions/werkcollege/lib/python3.7/site-packages/seaborn/relational.py\u001b[0m in \u001b[0;36maggregate\u001b[0;34m(self, vals, grouper, units)\u001b[0m\n\u001b[1;32m    399\u001b[0m         \u001b[0;31m# Group and get the aggregation estimate\u001b[0m\u001b[0;34m\u001b[0m\u001b[0;34m\u001b[0m\u001b[0;34m\u001b[0m\u001b[0m\n\u001b[1;32m    400\u001b[0m         \u001b[0mgrouped\u001b[0m \u001b[0;34m=\u001b[0m \u001b[0mvals\u001b[0m\u001b[0;34m.\u001b[0m\u001b[0mgroupby\u001b[0m\u001b[0;34m(\u001b[0m\u001b[0mgrouper\u001b[0m\u001b[0;34m,\u001b[0m \u001b[0msort\u001b[0m\u001b[0;34m=\u001b[0m\u001b[0mself\u001b[0m\u001b[0;34m.\u001b[0m\u001b[0msort\u001b[0m\u001b[0;34m)\u001b[0m\u001b[0;34m\u001b[0m\u001b[0;34m\u001b[0m\u001b[0m\n\u001b[0;32m--> 401\u001b[0;31m         \u001b[0mest\u001b[0m \u001b[0;34m=\u001b[0m \u001b[0mgrouped\u001b[0m\u001b[0;34m.\u001b[0m\u001b[0magg\u001b[0m\u001b[0;34m(\u001b[0m\u001b[0mfunc\u001b[0m\u001b[0;34m)\u001b[0m\u001b[0;34m\u001b[0m\u001b[0;34m\u001b[0m\u001b[0m\n\u001b[0m\u001b[1;32m    402\u001b[0m \u001b[0;34m\u001b[0m\u001b[0m\n\u001b[1;32m    403\u001b[0m         \u001b[0;31m# Exit early if we don't want a confidence interval\u001b[0m\u001b[0;34m\u001b[0m\u001b[0;34m\u001b[0m\u001b[0;34m\u001b[0m\u001b[0m\n",
      "\u001b[0;32m~/.pyenv/versions/werkcollege/lib/python3.7/site-packages/pandas/core/groupby/generic.py\u001b[0m in \u001b[0;36maggregate\u001b[0;34m(self, func, engine, engine_kwargs, *args, **kwargs)\u001b[0m\n\u001b[1;32m    238\u001b[0m \u001b[0;34m\u001b[0m\u001b[0m\n\u001b[1;32m    239\u001b[0m         \u001b[0;32mif\u001b[0m \u001b[0misinstance\u001b[0m\u001b[0;34m(\u001b[0m\u001b[0mfunc\u001b[0m\u001b[0;34m,\u001b[0m \u001b[0mstr\u001b[0m\u001b[0;34m)\u001b[0m\u001b[0;34m:\u001b[0m\u001b[0;34m\u001b[0m\u001b[0;34m\u001b[0m\u001b[0m\n\u001b[0;32m--> 240\u001b[0;31m             \u001b[0;32mreturn\u001b[0m \u001b[0mgetattr\u001b[0m\u001b[0;34m(\u001b[0m\u001b[0mself\u001b[0m\u001b[0;34m,\u001b[0m \u001b[0mfunc\u001b[0m\u001b[0;34m)\u001b[0m\u001b[0;34m(\u001b[0m\u001b[0;34m*\u001b[0m\u001b[0margs\u001b[0m\u001b[0;34m,\u001b[0m \u001b[0;34m**\u001b[0m\u001b[0mkwargs\u001b[0m\u001b[0;34m)\u001b[0m\u001b[0;34m\u001b[0m\u001b[0;34m\u001b[0m\u001b[0m\n\u001b[0m\u001b[1;32m    241\u001b[0m \u001b[0;34m\u001b[0m\u001b[0m\n\u001b[1;32m    242\u001b[0m         \u001b[0;32melif\u001b[0m \u001b[0misinstance\u001b[0m\u001b[0;34m(\u001b[0m\u001b[0mfunc\u001b[0m\u001b[0;34m,\u001b[0m \u001b[0mabc\u001b[0m\u001b[0;34m.\u001b[0m\u001b[0mIterable\u001b[0m\u001b[0;34m)\u001b[0m\u001b[0;34m:\u001b[0m\u001b[0;34m\u001b[0m\u001b[0;34m\u001b[0m\u001b[0m\n",
      "\u001b[0;32m~/.pyenv/versions/werkcollege/lib/python3.7/site-packages/pandas/core/groupby/groupby.py\u001b[0m in \u001b[0;36mmean\u001b[0;34m(self, numeric_only)\u001b[0m\n\u001b[1;32m   1394\u001b[0m             \u001b[0;34m\"mean\"\u001b[0m\u001b[0;34m,\u001b[0m\u001b[0;34m\u001b[0m\u001b[0;34m\u001b[0m\u001b[0m\n\u001b[1;32m   1395\u001b[0m             \u001b[0malt\u001b[0m\u001b[0;34m=\u001b[0m\u001b[0;32mlambda\u001b[0m \u001b[0mx\u001b[0m\u001b[0;34m,\u001b[0m \u001b[0maxis\u001b[0m\u001b[0;34m:\u001b[0m \u001b[0mSeries\u001b[0m\u001b[0;34m(\u001b[0m\u001b[0mx\u001b[0m\u001b[0;34m)\u001b[0m\u001b[0;34m.\u001b[0m\u001b[0mmean\u001b[0m\u001b[0;34m(\u001b[0m\u001b[0mnumeric_only\u001b[0m\u001b[0;34m=\u001b[0m\u001b[0mnumeric_only\u001b[0m\u001b[0;34m)\u001b[0m\u001b[0;34m,\u001b[0m\u001b[0;34m\u001b[0m\u001b[0;34m\u001b[0m\u001b[0m\n\u001b[0;32m-> 1396\u001b[0;31m             \u001b[0mnumeric_only\u001b[0m\u001b[0;34m=\u001b[0m\u001b[0mnumeric_only\u001b[0m\u001b[0;34m,\u001b[0m\u001b[0;34m\u001b[0m\u001b[0;34m\u001b[0m\u001b[0m\n\u001b[0m\u001b[1;32m   1397\u001b[0m         )\n\u001b[1;32m   1398\u001b[0m \u001b[0;34m\u001b[0m\u001b[0m\n",
      "\u001b[0;32m~/.pyenv/versions/werkcollege/lib/python3.7/site-packages/pandas/core/groupby/groupby.py\u001b[0m in \u001b[0;36m_cython_agg_general\u001b[0;34m(self, how, alt, numeric_only, min_count)\u001b[0m\n\u001b[1;32m   1049\u001b[0m \u001b[0;34m\u001b[0m\u001b[0m\n\u001b[1;32m   1050\u001b[0m         \u001b[0;32mif\u001b[0m \u001b[0mlen\u001b[0m\u001b[0;34m(\u001b[0m\u001b[0moutput\u001b[0m\u001b[0;34m)\u001b[0m \u001b[0;34m==\u001b[0m \u001b[0;36m0\u001b[0m\u001b[0;34m:\u001b[0m\u001b[0;34m\u001b[0m\u001b[0;34m\u001b[0m\u001b[0m\n\u001b[0;32m-> 1051\u001b[0;31m             \u001b[0;32mraise\u001b[0m \u001b[0mDataError\u001b[0m\u001b[0;34m(\u001b[0m\u001b[0;34m\"No numeric types to aggregate\"\u001b[0m\u001b[0;34m)\u001b[0m\u001b[0;34m\u001b[0m\u001b[0;34m\u001b[0m\u001b[0m\n\u001b[0m\u001b[1;32m   1052\u001b[0m \u001b[0;34m\u001b[0m\u001b[0m\n\u001b[1;32m   1053\u001b[0m         \u001b[0;32mreturn\u001b[0m \u001b[0mself\u001b[0m\u001b[0;34m.\u001b[0m\u001b[0m_wrap_aggregated_output\u001b[0m\u001b[0;34m(\u001b[0m\u001b[0moutput\u001b[0m\u001b[0;34m,\u001b[0m \u001b[0mindex\u001b[0m\u001b[0;34m=\u001b[0m\u001b[0mself\u001b[0m\u001b[0;34m.\u001b[0m\u001b[0mgrouper\u001b[0m\u001b[0;34m.\u001b[0m\u001b[0mresult_index\u001b[0m\u001b[0;34m)\u001b[0m\u001b[0;34m\u001b[0m\u001b[0;34m\u001b[0m\u001b[0m\n",
      "\u001b[0;31mDataError\u001b[0m: No numeric types to aggregate"
     ]
    },
    {
     "data": {
      "image/png": "[encoded data removed]",
      "text/plain": [
       "<Figure size 432x288 with 1 Axes>"
      ]
     },
     "metadata": {
      "needs_background": "light"
     },
     "output_type": "display_data"
    }
   ],
   "source": [
    "sns.lineplot(data=well)"
   ]
  }
 ],
 "metadata": {
  "kernelspec": {
   "display_name": "werkcollege",
   "language": "python",
   "name": "werkcollege"
  },
  "language_info": {
   "codemirror_mode": {
    "name": "ipython",
    "version": 3
   },
   "file_extension": ".py",
   "mimetype": "text/x-python",
   "name": "python",
   "nbconvert_exporter": "python",
   "pygments_lexer": "ipython3",
   "version": "3.7.2"
  },
  "orig_nbformat": 4,
  "vscode": {
   "interpreter": {
    "hash": "a5b0cbe14e1b88e411ba60f7f1e42d018a6caa56656953e7d806710a4690a6c8"
   }
  }
 },
 "nbformat": 4,
 "nbformat_minor": 2
}
