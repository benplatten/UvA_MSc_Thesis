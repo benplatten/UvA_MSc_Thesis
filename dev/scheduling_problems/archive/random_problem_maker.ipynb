{
 "cells": [
  {
   "cell_type": "markdown",
   "metadata": {},
   "source": [
    "TODO\n",
    "\n",
    "make employee count based on distribution: https://stackoverflow.com/questions/4265988/generate-random-numbers-with-a-given-numerical-distribution\n",
    "i.e. realistic shift-employee ratio"
   ]
  },
  {
   "cell_type": "code",
   "execution_count": 2,
   "metadata": {},
   "outputs": [],
   "source": [
    "import pandas as pd\n",
    "import random\n",
    "import matplotlib.pyplot as plt\n",
    "import numpy as np\n",
    "import glob"
   ]
  },
  {
   "cell_type": "code",
   "execution_count": 51,
   "metadata": {},
   "outputs": [],
   "source": [
    "def matrify(pool, schedule):\n",
    "    schedule = pd.get_dummies(schedule,drop_first=True)\n",
    "    #shift_features = schedule.shape[1]\n",
    "    for i in pd.get_dummies(pool).columns.to_list():\n",
    "        schedule[i] = 0\n",
    "\n",
    "    return schedule.to_numpy()"
   ]
  },
  {
   "cell_type": "code",
   "execution_count": 57,
   "metadata": {},
   "outputs": [
    {
     "data": {
      "text/plain": [
       "array([[0, 0, 0, 0, 1, 0, 0],\n",
       "       [1, 0, 0, 0, 0, 0, 0],\n",
       "       [0, 1, 0, 1, 1, 0, 0],\n",
       "       [0, 0, 1, 1, 0, 0, 0]])"
      ]
     },
     "execution_count": 57,
     "metadata": {},
     "output_type": "execute_result"
    }
   ],
   "source": [
    "# is problem solvable \n",
    "\n",
    "pi = pd.read_csv('problem_index.csv',dtype=str) \n",
    "pi.head()\n",
    "\n",
    "glob_list = []\n",
    "for i in range(len(pi)):\n",
    "    s = pi['Schedule'].iloc[i]\n",
    "    p = pi['Pool'].iloc[i]\n",
    "    glob_list.append((s,p))\n",
    "\n",
    "s = glob_list[0][0]\n",
    "p = glob_list[0][1]\n",
    "\n",
    "pool, schedule = pd.read_csv(f'pools/pool_{p}.csv',dtype={'employee_id':'str'}), \\\n",
    "                pd.read_csv(f'schedules/schedule_{s}.csv',dtype={'shift_id':'str'})\n",
    "\n",
    "#schedule['shift_day_of_week'] = schedule['shift_day_of_week'].replace(['Monday', 'Tuesday', 'Wednesday', 'Thursday', 'Friday'],[1, 2, 3, 4, 5])\n",
    "#schedule['shift_type'] = schedule['shift_type'].replace(['Morning', 'Evening'],[1, 2])\n",
    "\n",
    "matrify(pool, schedule)\n",
    "\n",
    "# simulatenous shifts + the next consecutive shift\n",
    "\n",
    "# less than workers\n",
    "\n",
    "# return minimum workers for each shift"
   ]
  },
  {
   "cell_type": "code",
   "execution_count": 58,
   "metadata": {},
   "outputs": [
    {
     "data": {
      "text/html": [
       "<div>\n",
       "<style scoped>\n",
       "    .dataframe tbody tr th:only-of-type {\n",
       "        vertical-align: middle;\n",
       "    }\n",
       "\n",
       "    .dataframe tbody tr th {\n",
       "        vertical-align: top;\n",
       "    }\n",
       "\n",
       "    .dataframe thead th {\n",
       "        text-align: right;\n",
       "    }\n",
       "</style>\n",
       "<table border=\"1\" class=\"dataframe\">\n",
       "  <thead>\n",
       "    <tr style=\"text-align: right;\">\n",
       "      <th></th>\n",
       "      <th>shift_id</th>\n",
       "      <th>shift_day_of_week</th>\n",
       "      <th>shift_type</th>\n",
       "    </tr>\n",
       "  </thead>\n",
       "  <tbody>\n",
       "    <tr>\n",
       "      <th>0</th>\n",
       "      <td>0</td>\n",
       "      <td>Monday</td>\n",
       "      <td>Morning</td>\n",
       "    </tr>\n",
       "    <tr>\n",
       "      <th>1</th>\n",
       "      <td>1</td>\n",
       "      <td>Monday</td>\n",
       "      <td>Evening</td>\n",
       "    </tr>\n",
       "    <tr>\n",
       "      <th>2</th>\n",
       "      <td>2</td>\n",
       "      <td>Tuesday</td>\n",
       "      <td>Morning</td>\n",
       "    </tr>\n",
       "    <tr>\n",
       "      <th>3</th>\n",
       "      <td>3</td>\n",
       "      <td>Tuesday</td>\n",
       "      <td>Evening</td>\n",
       "    </tr>\n",
       "  </tbody>\n",
       "</table>\n",
       "</div>"
      ],
      "text/plain": [
       "  shift_id shift_day_of_week shift_type\n",
       "0        0            Monday    Morning\n",
       "1        1            Monday    Evening\n",
       "2        2           Tuesday    Morning\n",
       "3        3           Tuesday    Evening"
      ]
     },
     "execution_count": 58,
     "metadata": {},
     "output_type": "execute_result"
    }
   ],
   "source": [
    "schedule"
   ]
  },
  {
   "cell_type": "code",
   "execution_count": 48,
   "metadata": {},
   "outputs": [
    {
     "data": {
      "text/plain": [
       "'schedules/schedule_0058.csv'"
      ]
     },
     "execution_count": 48,
     "metadata": {},
     "output_type": "execute_result"
    }
   ],
   "source": [
    "scheds = sorted(glob.glob(\"schedules/*.csv\"))\n",
    "id = int(scheds[-1].split('/')[1].split('_')[1].split('.')[0]) # .split('/')[2]\n",
    "id\n",
    "scheds[-1]"
   ]
  },
  {
   "cell_type": "code",
   "execution_count": 30,
   "metadata": {},
   "outputs": [],
   "source": [
    "def scheduleValidation():\n",
    "        #check for duplicates in schedules\n",
    "\n",
    "        scheds = glob.glob(\"schedules/*.csv\") # \"scheduling_problems/schedules/*.csv\"\n",
    "\n",
    "        schedDict = {}\n",
    "        for sched in scheds:\n",
    "                id = sched.split('/')[1].split('_')[1].split('.')[0]  # .split('/')[2]\n",
    "                s = pd.read_csv(sched,dtype={'shift_id':'str'})\n",
    "                schedDict[id] = s\n",
    "\n",
    "        dupes=[]\n",
    "        for key, value in schedDict.items(): \n",
    "                for k, v in schedDict.items(): \n",
    "                        if key != k:\n",
    "                                if value.equals(v):\n",
    "                                        dupes.append((key,k))\n",
    "\n",
    "        return dupes\n"
   ]
  },
  {
   "cell_type": "code",
   "execution_count": 42,
   "metadata": {},
   "outputs": [
    {
     "data": {
      "text/plain": [
       "[]"
      ]
     },
     "execution_count": 42,
     "metadata": {},
     "output_type": "execute_result"
    }
   ],
   "source": [
    "scheduleValidation()"
   ]
  },
  {
   "cell_type": "code",
   "execution_count": 39,
   "metadata": {},
   "outputs": [],
   "source": [
    "def randomSchedule(n=1, min_shifts=2,max_shifts=16, max_shifts_per_day=4):\n",
    "    for i in range(n):\n",
    "        # shift_id\n",
    "        n = random.randint(min_shifts, max_shifts)\n",
    "        shift_id = list(range(0, n))\n",
    "\n",
    "        shifts = len(shift_id)\n",
    "\n",
    "\n",
    "        # shift_day_of_week\n",
    "        shift_day_of_week = []\n",
    "        days = ['Monday','Tuesday','Wednesday','Thursday','Friday']\n",
    "\n",
    "        for i in range(len(shift_id)):\n",
    "            choice = random.choice(days)\n",
    "            if shift_day_of_week.count(choice) < max_shifts_per_day + 1:\n",
    "                shift_day_of_week.append(choice)\n",
    "\n",
    "        shift_day_of_week = sorted(shift_day_of_week, key=days.index)\n",
    "\n",
    "        # shift_type\n",
    "        shift_type = []\n",
    "        shift_types = ['Morning','Evening']\n",
    "\n",
    "        dayset = set(shift_day_of_week)\n",
    "        sortedDayset = sorted(list(dayset), key=days.index)\n",
    "\n",
    "        for i in sortedDayset:\n",
    "            temp = []\n",
    "            for j in range(shift_day_of_week.count(i)):\n",
    "                temp.append(random.choice(shift_types))\n",
    "            temp = sorted(temp, key=shift_types.index)\n",
    "            for k in temp:\n",
    "                shift_type.append(k)\n",
    "\n",
    "        scheduleDic = {'shift_id':shift_id,'shift_day_of_week':shift_day_of_week,'shift_type':shift_type}\n",
    "\n",
    "        schedule = pd.DataFrame(scheduleDic)\n",
    "\n",
    "        id = int(scheds[-1].split('/')[2].split('_')[1].split('.')[0]) # .split('/')[1]\n",
    "\n",
    "        schedule.to_csv(f'schedules/schedule_00{id}.csv',index=False)\n",
    "\n",
    "        print(f\"schedule_00{id} saved.\")\n",
    "\n",
    "    #return schedule\n",
    "        "
   ]
  },
  {
   "cell_type": "code",
   "execution_count": 41,
   "metadata": {},
   "outputs": [
    {
     "data": {
      "text/html": [
       "<div>\n",
       "<style scoped>\n",
       "    .dataframe tbody tr th:only-of-type {\n",
       "        vertical-align: middle;\n",
       "    }\n",
       "\n",
       "    .dataframe tbody tr th {\n",
       "        vertical-align: top;\n",
       "    }\n",
       "\n",
       "    .dataframe thead th {\n",
       "        text-align: right;\n",
       "    }\n",
       "</style>\n",
       "<table border=\"1\" class=\"dataframe\">\n",
       "  <thead>\n",
       "    <tr style=\"text-align: right;\">\n",
       "      <th></th>\n",
       "      <th>shift_id</th>\n",
       "      <th>shift_day_of_week</th>\n",
       "      <th>shift_type</th>\n",
       "    </tr>\n",
       "  </thead>\n",
       "  <tbody>\n",
       "    <tr>\n",
       "      <th>0</th>\n",
       "      <td>0</td>\n",
       "      <td>Monday</td>\n",
       "      <td>Evening</td>\n",
       "    </tr>\n",
       "    <tr>\n",
       "      <th>1</th>\n",
       "      <td>1</td>\n",
       "      <td>Tuesday</td>\n",
       "      <td>Morning</td>\n",
       "    </tr>\n",
       "    <tr>\n",
       "      <th>2</th>\n",
       "      <td>2</td>\n",
       "      <td>Wednesday</td>\n",
       "      <td>Morning</td>\n",
       "    </tr>\n",
       "    <tr>\n",
       "      <th>3</th>\n",
       "      <td>3</td>\n",
       "      <td>Wednesday</td>\n",
       "      <td>Evening</td>\n",
       "    </tr>\n",
       "  </tbody>\n",
       "</table>\n",
       "</div>"
      ],
      "text/plain": [
       "   shift_id shift_day_of_week shift_type\n",
       "0         0            Monday    Evening\n",
       "1         1           Tuesday    Morning\n",
       "2         2         Wednesday    Morning\n",
       "3         3         Wednesday    Evening"
      ]
     },
     "execution_count": 41,
     "metadata": {},
     "output_type": "execute_result"
    }
   ],
   "source": [
    "randomSchedule()"
   ]
  },
  {
   "cell_type": "markdown",
   "metadata": {},
   "source": [
    "## BUILDING TEST SET "
   ]
  },
  {
   "cell_type": "code",
   "execution_count": 60,
   "metadata": {},
   "outputs": [],
   "source": [
    "def empGen(num_shifts,num_emps=False):\n",
    "    employee_id = []\n",
    "    e = random.randint(2, num_shifts)\n",
    "    if num_emps:\n",
    "        for i in range(num_emps):\n",
    "            employee_id.append(''.join(np.random.randint(9,size=(6)).astype('str')))\n",
    "    else:\n",
    "        for i in range(e):\n",
    "            employee_id.append(''.join(np.random.randint(9,size=(6)).astype('str')))\n",
    "    \n",
    "    return employee_id\n",
    "\n",
    "\n",
    "def randomProblem(min_shifts=2,max_shifts=15, max_shifts_per_day=4,num_emps=False):\n",
    "    \n",
    "    # shift_id\n",
    "    n = random.randint(min_shifts, max_shifts)\n",
    "    shift_id = list(range(0, n))\n",
    "    \n",
    "    # shift_day_of_week\n",
    "    shift_day_of_week = []\n",
    "    days = ['Monday','Tuesday','Wednesday','Thursday','Friday']\n",
    "\n",
    "    for i in range(len(shift_id)):\n",
    "        choice = random.choice(days)\n",
    "        if shift_day_of_week.count(choice) < max_shifts_per_day + 1:\n",
    "            shift_day_of_week.append(choice)\n",
    "\n",
    "    shift_day_of_week = sorted(shift_day_of_week, key=days.index)\n",
    "    \n",
    "    # shift_type\n",
    "    shift_type = []\n",
    "    shift_types = ['Morning','Evening']\n",
    "\n",
    "    dayset = set(shift_day_of_week)\n",
    "    sortedDayset = sorted(list(dayset), key=days.index)\n",
    "\n",
    "    for i in sortedDayset:\n",
    "        temp = []\n",
    "        for j in range(shift_day_of_week.count(i)):\n",
    "            temp.append(random.choice(shift_types))\n",
    "        temp = sorted(temp, key=shift_types.index)\n",
    "        for k in temp:\n",
    "            shift_type.append(k)\n",
    "            \n",
    "    # employee_id\n",
    "    while True:\n",
    "        employee_id = empGen(len(shift_id),num_emps)\n",
    "        if len(shift_id) / len(employee_id) <= 5:\n",
    "            break\n",
    "        \n",
    "    scheduleDic = {'shift_id':shift_id,'shift_day_of_week':shift_day_of_week,'shift_type':shift_type}\n",
    "    \n",
    "    schedule = pd.DataFrame(scheduleDic)\n",
    "    pool = pd.DataFrame({'employee_id':employee_id})\n",
    "    \n",
    "    return schedule, pool"
   ]
  },
  {
   "cell_type": "code",
   "execution_count": 144,
   "metadata": {},
   "outputs": [],
   "source": [
    "def buildTestSet(n,min_shifts,max_shifts,num_emps):\n",
    "    for i in range(n):\n",
    "        try:\n",
    "            schedule, pool = randomProblem(min_shifts=min_shifts,max_shifts=max_shifts,num_emps=num_emps)\n",
    "\n",
    "            #test for ratio?\n",
    "\n",
    "            tstst = sorted(glob.glob(\"test_set/*.csv\"))\n",
    "\n",
    "            if tstst:\n",
    "                id = int(tstst[-1].split('/')[1].split('_')[1].split('.')[0]) + 1\n",
    "        \n",
    "            else:\n",
    "                id = 1\n",
    "\n",
    "            schedule, pool = schedule.to_csv(f'test_set/schedule_{str(id).zfill(2)}.csv',index=False), \\\n",
    "                            pool.to_csv(f'test_set/pool_{str(id).zfill(2)}.csv',index=False) \n",
    "        \n",
    "        except:\n",
    "            pass\n"
   ]
  },
  {
   "cell_type": "code",
   "execution_count": null,
   "metadata": {},
   "outputs": [],
   "source": [
    "buildTestSet(n=50,min_shifts=3,max_shifts=14,num_emps=6)"
   ]
  },
  {
   "cell_type": "code",
   "execution_count": 137,
   "metadata": {},
   "outputs": [],
   "source": [
    "def loadTestProblem(num_shifts=False):\n",
    "    tstst = sorted(glob.glob(\"test_set/*.csv\"))\n",
    "\n",
    "    try:\n",
    "        if num_shifts:\n",
    "            shfts = 0\n",
    "            while not shfts == num_shifts:\n",
    "                n = random.randint(1, (len(tstst) / 2))\n",
    "                p = tstst[n-1]\n",
    "                s = tstst[n+(int(len(tstst) / 2)-1)]\n",
    "\n",
    "                schedule = pd.read_csv(f'{tstst[n+(int(len(tstst) / 2)-1)]}',dtype={'shift_id':'str'})\n",
    "                if len(schedule) == num_shifts:\n",
    "                    shfts = num_shifts\n",
    "\n",
    "        else:\n",
    "            n = random.randint(1, (len(tstst) / 2))\n",
    "            p = tstst[n-1]\n",
    "            s = tstst[n+(int(len(tstst) / 2)-1)]\n",
    "\n",
    "        return (p,s)\n",
    "    except:\n",
    "        print(f\"No problem with {num_shifts} shifts.\")"
   ]
  },
  {
   "cell_type": "code",
   "execution_count": 150,
   "metadata": {},
   "outputs": [
    {
     "data": {
      "text/plain": [
       "('test_set/pool_17.csv', 'test_set/schedule_17.csv')"
      ]
     },
     "execution_count": 150,
     "metadata": {},
     "output_type": "execute_result"
    }
   ],
   "source": [
    "loadTestProblem(num_shifts=5)"
   ]
  },
  {
   "cell_type": "code",
   "execution_count": 106,
   "metadata": {},
   "outputs": [
    {
     "data": {
      "text/plain": [
       "(  employee_id\n",
       " 0      352862\n",
       " 1      630418\n",
       " 2      187636\n",
       " 3      038445\n",
       " 4      065066\n",
       " 5      353246,\n",
       "    shift_id shift_day_of_week shift_type\n",
       " 0         0            Monday    Evening\n",
       " 1         1            Monday    Evening\n",
       " 2         2            Monday    Evening\n",
       " 3         3           Tuesday    Morning\n",
       " 4         4           Tuesday    Morning\n",
       " 5         5           Tuesday    Evening\n",
       " 6         6         Wednesday    Evening\n",
       " 7         7         Wednesday    Evening\n",
       " 8         8         Wednesday    Evening\n",
       " 9         9          Thursday    Morning\n",
       " 10       10          Thursday    Evening\n",
       " 11       11          Thursday    Evening\n",
       " 12       12          Thursday    Evening\n",
       " 13       13            Friday    Evening\n",
       " 14       14            Friday    Evening)"
      ]
     },
     "execution_count": 106,
     "metadata": {},
     "output_type": "execute_result"
    }
   ],
   "source": [
    "tstst = sorted(glob.glob(\"test_set/*.csv\"))\n",
    "n = random.randint(1, (len(tstst) / 2))\n",
    "\n",
    "pool, schedule = pd.read_csv(f'{tstst[n-1]}',dtype={'employee_id':'str'}), \\\n",
    "                pd.read_csv(f'{tstst[n+(int(len(tstst) / 2)-1)]}',dtype={'shift_id':'str'})\n",
    "\n",
    "pool,schedule"
   ]
  },
  {
   "cell_type": "code",
   "execution_count": 108,
   "metadata": {},
   "outputs": [
    {
     "data": {
      "text/plain": [
       "'test_set/schedule_01.csv'"
      ]
     },
     "execution_count": 108,
     "metadata": {},
     "output_type": "execute_result"
    }
   ],
   "source": [
    "tstst[n+(int(len(tstst) / 2)-1)]\n",
    "#tstst[n-1]\n",
    "\n"
   ]
  },
  {
   "cell_type": "code",
   "execution_count": 80,
   "metadata": {},
   "outputs": [
    {
     "data": {
      "text/plain": [
       "'12'"
      ]
     },
     "execution_count": 80,
     "metadata": {},
     "output_type": "execute_result"
    }
   ],
   "source": [
    "# need an overview of the test set\n",
    "\n",
    "#tpi = pd.DataFrame(columns=['Schedule', 'Pool'])"
   ]
  },
  {
   "cell_type": "code",
   "execution_count": null,
   "metadata": {},
   "outputs": [],
   "source": [
    "#######"
   ]
  },
  {
   "cell_type": "code",
   "execution_count": 6,
   "metadata": {},
   "outputs": [
    {
     "data": {
      "text/plain": [
       "'0012'"
      ]
     },
     "execution_count": 6,
     "metadata": {},
     "output_type": "execute_result"
    }
   ],
   "source": [
    "scheds[0].split('/')[1].split('_')[1].split('.')[0]"
   ]
  },
  {
   "cell_type": "code",
   "execution_count": 28,
   "metadata": {},
   "outputs": [],
   "source": [
    "for i in range(40):\n",
    "    sid = len(glob.glob(\"schedules/*.csv\")) + 1\n",
    "    pid = len(glob.glob(\"pools/*.csv\")) + 1\n",
    "    schedule, pool = randomProblem(min_shifts=8,max_shifts=8,num_emps=4)\n",
    "    schedule.to_csv(f\"schedules/schedule_00{sid}.csv\",index=False)\n",
    "    pool.to_csv(f\"pools/pool_00{str(pid).zfill(2)}.csv\",index=False)\n"
   ]
  },
  {
   "cell_type": "code",
   "execution_count": null,
   "metadata": {},
   "outputs": [],
   "source": []
  }
 ],
 "metadata": {
  "kernelspec": {
   "display_name": "werkcollege",
   "language": "python",
   "name": "werkcollege"
  },
  "language_info": {
   "codemirror_mode": {
    "name": "ipython",
    "version": 3
   },
   "file_extension": ".py",
   "mimetype": "text/x-python",
   "name": "python",
   "nbconvert_exporter": "python",
   "pygments_lexer": "ipython3",
   "version": "3.7.2"
  }
 },
 "nbformat": 4,
 "nbformat_minor": 4
}
