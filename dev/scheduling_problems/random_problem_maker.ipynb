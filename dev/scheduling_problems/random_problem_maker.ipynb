{
 "cells": [
  {
   "cell_type": "markdown",
   "metadata": {},
   "source": [
    "TODO\n",
    "\n",
    "make employee count based on distribution: https://stackoverflow.com/questions/4265988/generate-random-numbers-with-a-given-numerical-distribution\n",
    "i.e. realistic shift-employee ratio"
   ]
  },
  {
   "cell_type": "code",
   "execution_count": 2,
   "metadata": {},
   "outputs": [],
   "source": [
    "import pandas as pd\n",
    "import random\n",
    "import matplotlib.pyplot as plt\n",
    "import numpy as np\n",
    "import glob"
   ]
  },
  {
   "cell_type": "code",
   "execution_count": 3,
   "metadata": {},
   "outputs": [],
   "source": [
    "def empGen(num_shifts,num_emps=False):\n",
    "    employee_id = []\n",
    "    e = random.randint(2, num_shifts)\n",
    "    if num_emps:\n",
    "        for i in range(num_emps):\n",
    "            employee_id.append(''.join(np.random.randint(9,size=(6)).astype('str')))\n",
    "    else:\n",
    "        for i in range(e):\n",
    "            employee_id.append(''.join(np.random.randint(9,size=(6)).astype('str')))\n",
    "    \n",
    "    return employee_id\n",
    "\n",
    "\n",
    "def randomProblem(min_shifts=2,max_shifts=15, max_shifts_per_day=4,num_emps=False):\n",
    "    \n",
    "    # shift_id\n",
    "    n = random.randint(min_shifts, max_shifts)\n",
    "    shift_id = list(range(0, n))\n",
    "    \n",
    "    # shift_day_of_week\n",
    "    shift_day_of_week = []\n",
    "    days = ['Monday','Tuesday','Wednesday','Thursday','Friday']\n",
    "\n",
    "    for i in range(len(shift_id)):\n",
    "        choice = random.choice(days)\n",
    "        if shift_day_of_week.count(choice) < max_shifts_per_day + 1:\n",
    "            shift_day_of_week.append(choice)\n",
    "\n",
    "    shift_day_of_week = sorted(shift_day_of_week, key=days.index)\n",
    "    \n",
    "    # shift_type\n",
    "    shift_type = []\n",
    "    shift_types = ['Morning','Evening']\n",
    "\n",
    "    dayset = set(shift_day_of_week)\n",
    "    sortedDayset = sorted(list(dayset), key=days.index)\n",
    "\n",
    "    for i in sortedDayset:\n",
    "        temp = []\n",
    "        for j in range(shift_day_of_week.count(i)):\n",
    "            temp.append(random.choice(shift_types))\n",
    "        temp = sorted(temp, key=shift_types.index)\n",
    "        for k in temp:\n",
    "            shift_type.append(k)\n",
    "            \n",
    "    # employee_id\n",
    "    while True:\n",
    "        employee_id = empGen(len(shift_id),num_emps)\n",
    "        if len(shift_id) / len(employee_id) <= 5:\n",
    "            break\n",
    "        \n",
    "    scheduleDic = {'shift_id':shift_id,'shift_day_of_week':shift_day_of_week,'shift_type':shift_type}\n",
    "    \n",
    "    schedule = pd.DataFrame(scheduleDic)\n",
    "    pool = pd.DataFrame({'employee_id':employee_id})\n",
    "    \n",
    "    return schedule, pool"
   ]
  },
  {
   "cell_type": "code",
   "execution_count": 5,
   "metadata": {},
   "outputs": [
    {
     "name": "stdout",
     "output_type": "stream",
     "text": [
      "    shift_id shift_day_of_week shift_type\n",
      "0          0            Monday    Morning\n",
      "1          1            Monday    Evening\n",
      "2          2           Tuesday    Morning\n",
      "3          3           Tuesday    Morning\n",
      "4          4           Tuesday    Morning\n",
      "5          5           Tuesday    Evening\n",
      "6          6           Tuesday    Evening\n",
      "7          7         Wednesday    Evening\n",
      "8          8          Thursday    Morning\n",
      "9          9          Thursday    Morning\n",
      "10        10          Thursday    Evening\n",
      "11        11            Friday    Morning\n",
      "12        12            Friday    Evening\n",
      "  employee_id\n",
      "0      424425\n",
      "1      163701\n",
      "2      601150\n",
      "3      488548\n",
      "4      378138\n",
      "5      185625\n",
      "6      183646\n",
      "7      000375\n"
     ]
    }
   ],
   "source": [
    "schedule, pool = randomProblem(min_shifts=9,max_shifts=16,num_emps=8)\n",
    "\n",
    "print(schedule)\n",
    "print(pool)"
   ]
  },
  {
   "cell_type": "code",
   "execution_count": 5,
   "metadata": {},
   "outputs": [],
   "source": [
    "scheds = \n",
    "pools = glob.glob(\"pools/*.csv\")"
   ]
  },
  {
   "cell_type": "code",
   "execution_count": 6,
   "metadata": {},
   "outputs": [
    {
     "data": {
      "text/plain": [
       "'0012'"
      ]
     },
     "execution_count": 6,
     "metadata": {},
     "output_type": "execute_result"
    }
   ],
   "source": [
    "scheds[0].split('/')[1].split('_')[1].split('.')[0]"
   ]
  },
  {
   "cell_type": "code",
   "execution_count": 28,
   "metadata": {},
   "outputs": [],
   "source": [
    "for i in range(40):\n",
    "    sid = len(glob.glob(\"schedules/*.csv\")) + 1\n",
    "    pid = len(glob.glob(\"pools/*.csv\")) + 1\n",
    "    schedule, pool = randomProblem(min_shifts=8,max_shifts=8,num_emps=4)\n",
    "    schedule.to_csv(f\"schedules/schedule_00{sid}.csv\",index=False)\n",
    "    pool.to_csv(f\"pools/pool_00{str(pid).zfill(2)}.csv\",index=False)\n"
   ]
  },
  {
   "cell_type": "code",
   "execution_count": null,
   "metadata": {},
   "outputs": [],
   "source": []
  }
 ],
 "metadata": {
  "kernelspec": {
   "display_name": "werkcollege",
   "language": "python",
   "name": "werkcollege"
  },
  "language_info": {
   "codemirror_mode": {
    "name": "ipython",
    "version": 3
   },
   "file_extension": ".py",
   "mimetype": "text/x-python",
   "name": "python",
   "nbconvert_exporter": "python",
   "pygments_lexer": "ipython3",
   "version": "3.7.2"
  }
 },
 "nbformat": 4,
 "nbformat_minor": 4
}
