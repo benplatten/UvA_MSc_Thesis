{
 "cells": [
  {
   "cell_type": "markdown",
   "metadata": {},
   "source": [
    "TODO\n",
    "\n",
    "make employee count based on distribution: https://stackoverflow.com/questions/4265988/generate-random-numbers-with-a-given-numerical-distribution\n",
    "i.e. realistic shift-employee ratio"
   ]
  },
  {
   "cell_type": "code",
   "execution_count": 2,
   "metadata": {},
   "outputs": [],
   "source": [
    "import pandas as pd\n",
    "import random\n",
    "import matplotlib.pyplot as plt\n",
    "import numpy as np\n",
    "import glob"
   ]
  },
  {
   "cell_type": "code",
   "execution_count": null,
   "metadata": {},
   "outputs": [],
   "source": [
    "# is problem solvable \n",
    "\n",
    "# simulatenous shifts + the next consecutive shift\n",
    "\n",
    "# less than workers\n",
    "\n",
    "# return minimum workers for each shift"
   ]
  },
  {
   "cell_type": "code",
   "execution_count": 30,
   "metadata": {},
   "outputs": [],
   "source": [
    "def scheduleValidation():\n",
    "        #check for duplicates in schedules\n",
    "\n",
    "        scheds = glob.glob(\"schedules/*.csv\") # \"scheduling_problems/schedules/*.csv\"\n",
    "\n",
    "        schedDict = {}\n",
    "        for sched in scheds:\n",
    "                id = sched.split('/')[1].split('_')[1].split('.')[0]  # .split('/')[2]\n",
    "                s = pd.read_csv(sched,dtype={'shift_id':'str'})\n",
    "                schedDict[id] = s\n",
    "\n",
    "        dupes=[]\n",
    "        for key, value in schedDict.items(): \n",
    "                for k, v in schedDict.items(): \n",
    "                        if key != k:\n",
    "                                if value.equals(v):\n",
    "                                        dupes.append((key,k))\n",
    "\n",
    "        return dupes\n"
   ]
  },
  {
   "cell_type": "code",
   "execution_count": 31,
   "metadata": {},
   "outputs": [],
   "source": [
    "scheduleValidation()"
   ]
  },
  {
   "cell_type": "code",
   "execution_count": 39,
   "metadata": {},
   "outputs": [],
   "source": [
    "def randomSchedule(min_shifts=2,max_shifts=16, max_shifts_per_day=4):\n",
    "    # shift_id\n",
    "    n = random.randint(min_shifts, max_shifts)\n",
    "    shift_id = list(range(0, n))\n",
    "\n",
    "    shifts = len(shift_id)\n",
    "\n",
    "\n",
    "    # shift_day_of_week\n",
    "    shift_day_of_week = []\n",
    "    days = ['Monday','Tuesday','Wednesday','Thursday','Friday']\n",
    "\n",
    "    for i in range(len(shift_id)):\n",
    "        choice = random.choice(days)\n",
    "        if shift_day_of_week.count(choice) < max_shifts_per_day + 1:\n",
    "            shift_day_of_week.append(choice)\n",
    "\n",
    "    shift_day_of_week = sorted(shift_day_of_week, key=days.index)\n",
    "\n",
    "    # shift_type\n",
    "    shift_type = []\n",
    "    shift_types = ['Morning','Evening']\n",
    "\n",
    "    dayset = set(shift_day_of_week)\n",
    "    sortedDayset = sorted(list(dayset), key=days.index)\n",
    "\n",
    "    for i in sortedDayset:\n",
    "        temp = []\n",
    "        for j in range(shift_day_of_week.count(i)):\n",
    "            temp.append(random.choice(shift_types))\n",
    "        temp = sorted(temp, key=shift_types.index)\n",
    "        for k in temp:\n",
    "            shift_type.append(k)\n",
    "\n",
    "    scheduleDic = {'shift_id':shift_id,'shift_day_of_week':shift_day_of_week,'shift_type':shift_type}\n",
    "\n",
    "    schedule = pd.DataFrame(scheduleDic)\n",
    "\n",
    "    return schedule\n",
    "        "
   ]
  },
  {
   "cell_type": "code",
   "execution_count": 41,
   "metadata": {},
   "outputs": [
    {
     "data": {
      "text/html": [
       "<div>\n",
       "<style scoped>\n",
       "    .dataframe tbody tr th:only-of-type {\n",
       "        vertical-align: middle;\n",
       "    }\n",
       "\n",
       "    .dataframe tbody tr th {\n",
       "        vertical-align: top;\n",
       "    }\n",
       "\n",
       "    .dataframe thead th {\n",
       "        text-align: right;\n",
       "    }\n",
       "</style>\n",
       "<table border=\"1\" class=\"dataframe\">\n",
       "  <thead>\n",
       "    <tr style=\"text-align: right;\">\n",
       "      <th></th>\n",
       "      <th>shift_id</th>\n",
       "      <th>shift_day_of_week</th>\n",
       "      <th>shift_type</th>\n",
       "    </tr>\n",
       "  </thead>\n",
       "  <tbody>\n",
       "    <tr>\n",
       "      <th>0</th>\n",
       "      <td>0</td>\n",
       "      <td>Monday</td>\n",
       "      <td>Evening</td>\n",
       "    </tr>\n",
       "    <tr>\n",
       "      <th>1</th>\n",
       "      <td>1</td>\n",
       "      <td>Tuesday</td>\n",
       "      <td>Morning</td>\n",
       "    </tr>\n",
       "    <tr>\n",
       "      <th>2</th>\n",
       "      <td>2</td>\n",
       "      <td>Wednesday</td>\n",
       "      <td>Morning</td>\n",
       "    </tr>\n",
       "    <tr>\n",
       "      <th>3</th>\n",
       "      <td>3</td>\n",
       "      <td>Wednesday</td>\n",
       "      <td>Evening</td>\n",
       "    </tr>\n",
       "  </tbody>\n",
       "</table>\n",
       "</div>"
      ],
      "text/plain": [
       "   shift_id shift_day_of_week shift_type\n",
       "0         0            Monday    Evening\n",
       "1         1           Tuesday    Morning\n",
       "2         2         Wednesday    Morning\n",
       "3         3         Wednesday    Evening"
      ]
     },
     "execution_count": 41,
     "metadata": {},
     "output_type": "execute_result"
    }
   ],
   "source": [
    "randomSchedule()"
   ]
  },
  {
   "cell_type": "code",
   "execution_count": 3,
   "metadata": {},
   "outputs": [],
   "source": [
    "def empGen(num_shifts,num_emps=False):\n",
    "    employee_id = []\n",
    "    e = random.randint(2, num_shifts)\n",
    "    if num_emps:\n",
    "        for i in range(num_emps):\n",
    "            employee_id.append(''.join(np.random.randint(9,size=(6)).astype('str')))\n",
    "    else:\n",
    "        for i in range(e):\n",
    "            employee_id.append(''.join(np.random.randint(9,size=(6)).astype('str')))\n",
    "    \n",
    "    return employee_id\n",
    "\n",
    "\n",
    "def randomProblem(min_shifts=2,max_shifts=15, max_shifts_per_day=4,num_emps=False):\n",
    "    \n",
    "    # shift_id\n",
    "    n = random.randint(min_shifts, max_shifts)\n",
    "    shift_id = list(range(0, n))\n",
    "    \n",
    "    # shift_day_of_week\n",
    "    shift_day_of_week = []\n",
    "    days = ['Monday','Tuesday','Wednesday','Thursday','Friday']\n",
    "\n",
    "    for i in range(len(shift_id)):\n",
    "        choice = random.choice(days)\n",
    "        if shift_day_of_week.count(choice) < max_shifts_per_day + 1:\n",
    "            shift_day_of_week.append(choice)\n",
    "\n",
    "    shift_day_of_week = sorted(shift_day_of_week, key=days.index)\n",
    "    \n",
    "    # shift_type\n",
    "    shift_type = []\n",
    "    shift_types = ['Morning','Evening']\n",
    "\n",
    "    dayset = set(shift_day_of_week)\n",
    "    sortedDayset = sorted(list(dayset), key=days.index)\n",
    "\n",
    "    for i in sortedDayset:\n",
    "        temp = []\n",
    "        for j in range(shift_day_of_week.count(i)):\n",
    "            temp.append(random.choice(shift_types))\n",
    "        temp = sorted(temp, key=shift_types.index)\n",
    "        for k in temp:\n",
    "            shift_type.append(k)\n",
    "            \n",
    "    # employee_id\n",
    "    while True:\n",
    "        employee_id = empGen(len(shift_id),num_emps)\n",
    "        if len(shift_id) / len(employee_id) <= 5:\n",
    "            break\n",
    "        \n",
    "    scheduleDic = {'shift_id':shift_id,'shift_day_of_week':shift_day_of_week,'shift_type':shift_type}\n",
    "    \n",
    "    schedule = pd.DataFrame(scheduleDic)\n",
    "    pool = pd.DataFrame({'employee_id':employee_id})\n",
    "    \n",
    "    return schedule, pool"
   ]
  },
  {
   "cell_type": "code",
   "execution_count": 5,
   "metadata": {},
   "outputs": [
    {
     "name": "stdout",
     "output_type": "stream",
     "text": [
      "    shift_id shift_day_of_week shift_type\n",
      "0          0            Monday    Morning\n",
      "1          1            Monday    Evening\n",
      "2          2           Tuesday    Morning\n",
      "3          3           Tuesday    Morning\n",
      "4          4           Tuesday    Morning\n",
      "5          5           Tuesday    Evening\n",
      "6          6           Tuesday    Evening\n",
      "7          7         Wednesday    Evening\n",
      "8          8          Thursday    Morning\n",
      "9          9          Thursday    Morning\n",
      "10        10          Thursday    Evening\n",
      "11        11            Friday    Morning\n",
      "12        12            Friday    Evening\n",
      "  employee_id\n",
      "0      424425\n",
      "1      163701\n",
      "2      601150\n",
      "3      488548\n",
      "4      378138\n",
      "5      185625\n",
      "6      183646\n",
      "7      000375\n"
     ]
    }
   ],
   "source": [
    "schedule, pool = randomProblem(min_shifts=9,max_shifts=16,num_emps=8)\n",
    "\n",
    "print(schedule)\n",
    "print(pool)"
   ]
  },
  {
   "cell_type": "code",
   "execution_count": 5,
   "metadata": {},
   "outputs": [],
   "source": [
    "scheds = \n",
    "pools = glob.glob(\"pools/*.csv\")"
   ]
  },
  {
   "cell_type": "code",
   "execution_count": 6,
   "metadata": {},
   "outputs": [
    {
     "data": {
      "text/plain": [
       "'0012'"
      ]
     },
     "execution_count": 6,
     "metadata": {},
     "output_type": "execute_result"
    }
   ],
   "source": [
    "scheds[0].split('/')[1].split('_')[1].split('.')[0]"
   ]
  },
  {
   "cell_type": "code",
   "execution_count": 28,
   "metadata": {},
   "outputs": [],
   "source": [
    "for i in range(40):\n",
    "    sid = len(glob.glob(\"schedules/*.csv\")) + 1\n",
    "    pid = len(glob.glob(\"pools/*.csv\")) + 1\n",
    "    schedule, pool = randomProblem(min_shifts=8,max_shifts=8,num_emps=4)\n",
    "    schedule.to_csv(f\"schedules/schedule_00{sid}.csv\",index=False)\n",
    "    pool.to_csv(f\"pools/pool_00{str(pid).zfill(2)}.csv\",index=False)\n"
   ]
  },
  {
   "cell_type": "code",
   "execution_count": null,
   "metadata": {},
   "outputs": [],
   "source": []
  }
 ],
 "metadata": {
  "kernelspec": {
   "display_name": "werkcollege",
   "language": "python",
   "name": "werkcollege"
  },
  "language_info": {
   "codemirror_mode": {
    "name": "ipython",
    "version": 3
   },
   "file_extension": ".py",
   "mimetype": "text/x-python",
   "name": "python",
   "nbconvert_exporter": "python",
   "pygments_lexer": "ipython3",
   "version": "3.7.2"
  }
 },
 "nbformat": 4,
 "nbformat_minor": 4
}
