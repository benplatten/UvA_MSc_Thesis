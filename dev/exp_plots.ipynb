{
 "cells": [
  {
   "cell_type": "code",
   "execution_count": 2,
   "metadata": {},
   "outputs": [],
   "source": [
    "import pandas as pd\n",
    "import glob"
   ]
  },
  {
   "cell_type": "code",
   "execution_count": 3,
   "metadata": {},
   "outputs": [
    {
     "data": {
      "text/plain": [
       "['run_data/062211:52_max_shifts=8_reward_type=Step_episodes=10000.csv',\n",
       " 'run_data/062214:18_max_shifts=8_reward_type=Terminal_episodes=10000_seed=21.csv',\n",
       " 'run_data/062214:05_max_shifts=8_reward_type=Terminal_episodes=10000.csv',\n",
       " 'run_data/062212:15_max_shifts=8_reward_type=Step_episodes=10000.csv']"
      ]
     },
     "execution_count": 3,
     "metadata": {},
     "output_type": "execute_result"
    }
   ],
   "source": [
    "glob.glob(\"run_data/*.csv\")"
   ]
  }
 ],
 "metadata": {
  "kernelspec": {
   "display_name": "Python 3.7.2 64-bit ('rl')",
   "language": "python",
   "name": "python3"
  },
  "language_info": {
   "codemirror_mode": {
    "name": "ipython",
    "version": 3
   },
   "file_extension": ".py",
   "mimetype": "text/x-python",
   "name": "python",
   "nbconvert_exporter": "python",
   "pygments_lexer": "ipython3",
   "version": "3.7.2"
  },
  "orig_nbformat": 4,
  "vscode": {
   "interpreter": {
    "hash": "a5b0cbe14e1b88e411ba60f7f1e42d018a6caa56656953e7d806710a4690a6c8"
   }
  }
 },
 "nbformat": 4,
 "nbformat_minor": 2
}
