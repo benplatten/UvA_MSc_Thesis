{
 "cells": [
  {
   "cell_type": "code",
   "execution_count": 1,
   "metadata": {},
   "outputs": [],
   "source": [
    "import pandas as pd\n",
    "import glob\n",
    "import numpy as np"
   ]
  },
  {
   "cell_type": "code",
   "execution_count": null,
   "metadata": {},
   "outputs": [],
   "source": [
    "### random problems"
   ]
  },
  {
   "cell_type": "code",
   "execution_count": 8,
   "metadata": {},
   "outputs": [],
   "source": [
    "#scheds = glob.glob(\"/Users/benplatten/workspace/UvA_Thesis/UvA_MSc_Thesis/dev/scheduling_problems/schedules/*.csv\")\n",
    "scheds = glob.glob(\"scheduling_problems/schedules/*.csv\")"
   ]
  },
  {
   "cell_type": "code",
   "execution_count": 9,
   "metadata": {},
   "outputs": [
    {
     "data": {
      "text/plain": [
       "'scheduling_problems/schedules/schedule_0012.csv'"
      ]
     },
     "execution_count": 9,
     "metadata": {},
     "output_type": "execute_result"
    }
   ],
   "source": [
    "scheds[0]"
   ]
  },
  {
   "cell_type": "code",
   "execution_count": 12,
   "metadata": {},
   "outputs": [
    {
     "data": {
      "text/plain": [
       "'schedules'"
      ]
     },
     "execution_count": 12,
     "metadata": {},
     "output_type": "execute_result"
    }
   ],
   "source": [
    "scheds[0].split('/')[1]"
   ]
  },
  {
   "cell_type": "code",
   "execution_count": 10,
   "metadata": {},
   "outputs": [
    {
     "ename": "IndexError",
     "evalue": "list index out of range",
     "output_type": "error",
     "traceback": [
      "\u001b[0;31m---------------------------------------------------------------------------\u001b[0m",
      "\u001b[0;31mIndexError\u001b[0m                                Traceback (most recent call last)",
      "\u001b[0;32m/var/folders/sc/hv26myvn5mqdwfkdxl3bfl580000gn/T/ipykernel_19112/2301004724.py\u001b[0m in \u001b[0;36m<module>\u001b[0;34m\u001b[0m\n\u001b[0;32m----> 1\u001b[0;31m \u001b[0mscheds\u001b[0m\u001b[0;34m[\u001b[0m\u001b[0;36m0\u001b[0m\u001b[0;34m]\u001b[0m\u001b[0;34m.\u001b[0m\u001b[0msplit\u001b[0m\u001b[0;34m(\u001b[0m\u001b[0;34m'/'\u001b[0m\u001b[0;34m)\u001b[0m\u001b[0;34m[\u001b[0m\u001b[0;36m9\u001b[0m\u001b[0;34m]\u001b[0m\u001b[0;34m.\u001b[0m\u001b[0msplit\u001b[0m\u001b[0;34m(\u001b[0m\u001b[0;34m'_'\u001b[0m\u001b[0;34m)\u001b[0m\u001b[0;34m[\u001b[0m\u001b[0;36m1\u001b[0m\u001b[0;34m]\u001b[0m\u001b[0;34m.\u001b[0m\u001b[0msplit\u001b[0m\u001b[0;34m(\u001b[0m\u001b[0;34m'.'\u001b[0m\u001b[0;34m)\u001b[0m\u001b[0;34m[\u001b[0m\u001b[0;36m0\u001b[0m\u001b[0;34m]\u001b[0m\u001b[0;34m\u001b[0m\u001b[0;34m\u001b[0m\u001b[0m\n\u001b[0m",
      "\u001b[0;31mIndexError\u001b[0m: list index out of range"
     ]
    }
   ],
   "source": [
    "scheds[0].split('/')[9].split('_')[1].split('.')[0]"
   ]
  },
  {
   "cell_type": "code",
   "execution_count": 11,
   "metadata": {},
   "outputs": [
    {
     "ename": "IndexError",
     "evalue": "list index out of range",
     "output_type": "error",
     "traceback": [
      "\u001b[0;31m---------------------------------------------------------------------------\u001b[0m",
      "\u001b[0;31mIndexError\u001b[0m                                Traceback (most recent call last)",
      "\u001b[0;32m/var/folders/sc/hv26myvn5mqdwfkdxl3bfl580000gn/T/ipykernel_19112/2300878547.py\u001b[0m in \u001b[0;36m<module>\u001b[0;34m\u001b[0m\n\u001b[0;32m----> 1\u001b[0;31m \u001b[0mscheds\u001b[0m\u001b[0;34m[\u001b[0m\u001b[0;36m0\u001b[0m\u001b[0;34m]\u001b[0m\u001b[0;34m.\u001b[0m\u001b[0msplit\u001b[0m\u001b[0;34m(\u001b[0m\u001b[0;34m'/'\u001b[0m\u001b[0;34m)\u001b[0m\u001b[0;34m[\u001b[0m\u001b[0;36m1\u001b[0m\u001b[0;34m]\u001b[0m\u001b[0;34m.\u001b[0m\u001b[0msplit\u001b[0m\u001b[0;34m(\u001b[0m\u001b[0;34m'_'\u001b[0m\u001b[0;34m)\u001b[0m\u001b[0;34m[\u001b[0m\u001b[0;36m1\u001b[0m\u001b[0;34m]\u001b[0m\u001b[0;34m.\u001b[0m\u001b[0msplit\u001b[0m\u001b[0;34m(\u001b[0m\u001b[0;34m'.'\u001b[0m\u001b[0;34m)\u001b[0m\u001b[0;34m[\u001b[0m\u001b[0;36m0\u001b[0m\u001b[0;34m]\u001b[0m\u001b[0;34m\u001b[0m\u001b[0;34m\u001b[0m\u001b[0m\n\u001b[0m",
      "\u001b[0;31mIndexError\u001b[0m: list index out of range"
     ]
    }
   ],
   "source": [
    "scheds[0].split('/')[1].split('_')[1].split('.')[0]"
   ]
  },
  {
   "cell_type": "code",
   "execution_count": 95,
   "metadata": {},
   "outputs": [
    {
     "data": {
      "text/plain": [
       "'/Users/benplatten/workspace/UvA_Thesis/UvA_MSc_Thesis/dev/scheduling_problems/pools/pool_0005.csv'"
      ]
     },
     "execution_count": 95,
     "metadata": {},
     "output_type": "execute_result"
    }
   ],
   "source": [
    "pools = glob.glob(\"/Users/benplatten/workspace/UvA_Thesis/UvA_MSc_Thesis/dev/scheduling_problems/pools/*.csv\")\n",
    "\n",
    "pools[0]"
   ]
  },
  {
   "cell_type": "code",
   "execution_count": 86,
   "metadata": {},
   "outputs": [],
   "source": [
    "def updateDataIndex():\n",
    "    scheds = glob.glob(\"scheduling_problems/schedules/*.csv\")\n",
    "    pools = glob.glob(\"scheduling_problems/pools/*.csv\")\n",
    "    s_len = []\n",
    "    Schedule = []\n",
    "    for sched in sorted(scheds):\n",
    "        s_len.append(len(pd.read_csv(sched)))\n",
    "        Schedule.append(sched.split('/')[2].split('_')[1].split('.')[0])\n",
    "    p_len = []\n",
    "    Pool = []\n",
    "    for pool in sorted(pools):\n",
    "        p_len.append(len(pd.read_csv(pool)))\n",
    "        Pool.append(pool.split('/')[2].split('_')[1].split('.')[0])\n",
    "\n",
    "    Pool += ['nan'] * (len(Schedule) - len(Pool))\n",
    "    p_len += ['nan'] * (len(s_len) - len(p_len))\n",
    "\n",
    "    data = {'Schedule':Schedule,'shifts':s_len,'Pool':Pool,'employees':p_len}\n",
    "\n",
    "    di = pd.DataFrame(data)\n",
    "    \n",
    "    return di"
   ]
  },
  {
   "cell_type": "code",
   "execution_count": 90,
   "metadata": {},
   "outputs": [
    {
     "data": {
      "text/html": [
       "<div>\n",
       "<style scoped>\n",
       "    .dataframe tbody tr th:only-of-type {\n",
       "        vertical-align: middle;\n",
       "    }\n",
       "\n",
       "    .dataframe tbody tr th {\n",
       "        vertical-align: top;\n",
       "    }\n",
       "\n",
       "    .dataframe thead th {\n",
       "        text-align: right;\n",
       "    }\n",
       "</style>\n",
       "<table border=\"1\" class=\"dataframe\">\n",
       "  <thead>\n",
       "    <tr style=\"text-align: right;\">\n",
       "      <th></th>\n",
       "      <th>Schedule</th>\n",
       "      <th>shifts</th>\n",
       "      <th>Pool</th>\n",
       "      <th>employees</th>\n",
       "    </tr>\n",
       "  </thead>\n",
       "  <tbody>\n",
       "    <tr>\n",
       "      <th>0</th>\n",
       "      <td>0001</td>\n",
       "      <td>4</td>\n",
       "      <td>0001</td>\n",
       "      <td>2</td>\n",
       "    </tr>\n",
       "    <tr>\n",
       "      <th>1</th>\n",
       "      <td>0002</td>\n",
       "      <td>6</td>\n",
       "      <td>0002</td>\n",
       "      <td>3</td>\n",
       "    </tr>\n",
       "    <tr>\n",
       "      <th>2</th>\n",
       "      <td>0003</td>\n",
       "      <td>8</td>\n",
       "      <td>0003</td>\n",
       "      <td>4</td>\n",
       "    </tr>\n",
       "    <tr>\n",
       "      <th>3</th>\n",
       "      <td>0004</td>\n",
       "      <td>5</td>\n",
       "      <td>0004</td>\n",
       "      <td>5</td>\n",
       "    </tr>\n",
       "    <tr>\n",
       "      <th>4</th>\n",
       "      <td>0005</td>\n",
       "      <td>3</td>\n",
       "      <td>0005</td>\n",
       "      <td>6</td>\n",
       "    </tr>\n",
       "    <tr>\n",
       "      <th>5</th>\n",
       "      <td>0006</td>\n",
       "      <td>4</td>\n",
       "      <td>0006</td>\n",
       "      <td>7</td>\n",
       "    </tr>\n",
       "    <tr>\n",
       "      <th>6</th>\n",
       "      <td>0007</td>\n",
       "      <td>5</td>\n",
       "      <td>0007</td>\n",
       "      <td>8</td>\n",
       "    </tr>\n",
       "    <tr>\n",
       "      <th>7</th>\n",
       "      <td>0008</td>\n",
       "      <td>3</td>\n",
       "      <td>0008</td>\n",
       "      <td>4</td>\n",
       "    </tr>\n",
       "    <tr>\n",
       "      <th>8</th>\n",
       "      <td>0009</td>\n",
       "      <td>6</td>\n",
       "      <td>0009</td>\n",
       "      <td>4</td>\n",
       "    </tr>\n",
       "    <tr>\n",
       "      <th>9</th>\n",
       "      <td>0010</td>\n",
       "      <td>7</td>\n",
       "      <td>0010</td>\n",
       "      <td>4</td>\n",
       "    </tr>\n",
       "    <tr>\n",
       "      <th>10</th>\n",
       "      <td>0011</td>\n",
       "      <td>7</td>\n",
       "      <td>0011</td>\n",
       "      <td>4</td>\n",
       "    </tr>\n",
       "    <tr>\n",
       "      <th>11</th>\n",
       "      <td>0012</td>\n",
       "      <td>8</td>\n",
       "      <td>0012</td>\n",
       "      <td>4</td>\n",
       "    </tr>\n",
       "    <tr>\n",
       "      <th>12</th>\n",
       "      <td>0013</td>\n",
       "      <td>8</td>\n",
       "      <td>0013</td>\n",
       "      <td>4</td>\n",
       "    </tr>\n",
       "    <tr>\n",
       "      <th>13</th>\n",
       "      <td>0014</td>\n",
       "      <td>8</td>\n",
       "      <td>0014</td>\n",
       "      <td>4</td>\n",
       "    </tr>\n",
       "    <tr>\n",
       "      <th>14</th>\n",
       "      <td>0015</td>\n",
       "      <td>8</td>\n",
       "      <td>0015</td>\n",
       "      <td>4</td>\n",
       "    </tr>\n",
       "    <tr>\n",
       "      <th>15</th>\n",
       "      <td>0016</td>\n",
       "      <td>8</td>\n",
       "      <td>0016</td>\n",
       "      <td>4</td>\n",
       "    </tr>\n",
       "    <tr>\n",
       "      <th>16</th>\n",
       "      <td>0017</td>\n",
       "      <td>8</td>\n",
       "      <td>0017</td>\n",
       "      <td>4</td>\n",
       "    </tr>\n",
       "    <tr>\n",
       "      <th>17</th>\n",
       "      <td>0018</td>\n",
       "      <td>8</td>\n",
       "      <td>0018</td>\n",
       "      <td>4</td>\n",
       "    </tr>\n",
       "    <tr>\n",
       "      <th>18</th>\n",
       "      <td>0019</td>\n",
       "      <td>8</td>\n",
       "      <td>0019</td>\n",
       "      <td>4</td>\n",
       "    </tr>\n",
       "    <tr>\n",
       "      <th>19</th>\n",
       "      <td>0020</td>\n",
       "      <td>8</td>\n",
       "      <td>0020</td>\n",
       "      <td>4</td>\n",
       "    </tr>\n",
       "    <tr>\n",
       "      <th>20</th>\n",
       "      <td>0021</td>\n",
       "      <td>8</td>\n",
       "      <td>0021</td>\n",
       "      <td>4</td>\n",
       "    </tr>\n",
       "    <tr>\n",
       "      <th>21</th>\n",
       "      <td>0022</td>\n",
       "      <td>8</td>\n",
       "      <td>0022</td>\n",
       "      <td>4</td>\n",
       "    </tr>\n",
       "    <tr>\n",
       "      <th>22</th>\n",
       "      <td>0023</td>\n",
       "      <td>8</td>\n",
       "      <td>0023</td>\n",
       "      <td>4</td>\n",
       "    </tr>\n",
       "    <tr>\n",
       "      <th>23</th>\n",
       "      <td>0024</td>\n",
       "      <td>8</td>\n",
       "      <td>0024</td>\n",
       "      <td>4</td>\n",
       "    </tr>\n",
       "    <tr>\n",
       "      <th>24</th>\n",
       "      <td>0025</td>\n",
       "      <td>8</td>\n",
       "      <td>0025</td>\n",
       "      <td>4</td>\n",
       "    </tr>\n",
       "    <tr>\n",
       "      <th>25</th>\n",
       "      <td>0026</td>\n",
       "      <td>8</td>\n",
       "      <td>0026</td>\n",
       "      <td>4</td>\n",
       "    </tr>\n",
       "    <tr>\n",
       "      <th>26</th>\n",
       "      <td>0027</td>\n",
       "      <td>8</td>\n",
       "      <td>0027</td>\n",
       "      <td>4</td>\n",
       "    </tr>\n",
       "    <tr>\n",
       "      <th>27</th>\n",
       "      <td>0028</td>\n",
       "      <td>8</td>\n",
       "      <td>0028</td>\n",
       "      <td>4</td>\n",
       "    </tr>\n",
       "    <tr>\n",
       "      <th>28</th>\n",
       "      <td>0029</td>\n",
       "      <td>8</td>\n",
       "      <td>0029</td>\n",
       "      <td>4</td>\n",
       "    </tr>\n",
       "    <tr>\n",
       "      <th>29</th>\n",
       "      <td>0030</td>\n",
       "      <td>8</td>\n",
       "      <td>0030</td>\n",
       "      <td>4</td>\n",
       "    </tr>\n",
       "    <tr>\n",
       "      <th>30</th>\n",
       "      <td>0031</td>\n",
       "      <td>8</td>\n",
       "      <td>0031</td>\n",
       "      <td>4</td>\n",
       "    </tr>\n",
       "    <tr>\n",
       "      <th>31</th>\n",
       "      <td>0032</td>\n",
       "      <td>8</td>\n",
       "      <td>0032</td>\n",
       "      <td>4</td>\n",
       "    </tr>\n",
       "    <tr>\n",
       "      <th>32</th>\n",
       "      <td>0033</td>\n",
       "      <td>8</td>\n",
       "      <td>0033</td>\n",
       "      <td>4</td>\n",
       "    </tr>\n",
       "    <tr>\n",
       "      <th>33</th>\n",
       "      <td>0034</td>\n",
       "      <td>8</td>\n",
       "      <td>0034</td>\n",
       "      <td>4</td>\n",
       "    </tr>\n",
       "    <tr>\n",
       "      <th>34</th>\n",
       "      <td>0035</td>\n",
       "      <td>8</td>\n",
       "      <td>0035</td>\n",
       "      <td>4</td>\n",
       "    </tr>\n",
       "    <tr>\n",
       "      <th>35</th>\n",
       "      <td>0036</td>\n",
       "      <td>8</td>\n",
       "      <td>0036</td>\n",
       "      <td>4</td>\n",
       "    </tr>\n",
       "    <tr>\n",
       "      <th>36</th>\n",
       "      <td>0037</td>\n",
       "      <td>8</td>\n",
       "      <td>0037</td>\n",
       "      <td>4</td>\n",
       "    </tr>\n",
       "    <tr>\n",
       "      <th>37</th>\n",
       "      <td>0038</td>\n",
       "      <td>8</td>\n",
       "      <td>0038</td>\n",
       "      <td>4</td>\n",
       "    </tr>\n",
       "    <tr>\n",
       "      <th>38</th>\n",
       "      <td>0039</td>\n",
       "      <td>8</td>\n",
       "      <td>0039</td>\n",
       "      <td>4</td>\n",
       "    </tr>\n",
       "    <tr>\n",
       "      <th>39</th>\n",
       "      <td>0040</td>\n",
       "      <td>8</td>\n",
       "      <td>0040</td>\n",
       "      <td>4</td>\n",
       "    </tr>\n",
       "    <tr>\n",
       "      <th>40</th>\n",
       "      <td>0041</td>\n",
       "      <td>8</td>\n",
       "      <td>0041</td>\n",
       "      <td>4</td>\n",
       "    </tr>\n",
       "    <tr>\n",
       "      <th>41</th>\n",
       "      <td>0042</td>\n",
       "      <td>8</td>\n",
       "      <td>0042</td>\n",
       "      <td>4</td>\n",
       "    </tr>\n",
       "    <tr>\n",
       "      <th>42</th>\n",
       "      <td>0043</td>\n",
       "      <td>8</td>\n",
       "      <td>0043</td>\n",
       "      <td>4</td>\n",
       "    </tr>\n",
       "    <tr>\n",
       "      <th>43</th>\n",
       "      <td>0044</td>\n",
       "      <td>8</td>\n",
       "      <td>0044</td>\n",
       "      <td>4</td>\n",
       "    </tr>\n",
       "    <tr>\n",
       "      <th>44</th>\n",
       "      <td>0045</td>\n",
       "      <td>8</td>\n",
       "      <td>0045</td>\n",
       "      <td>4</td>\n",
       "    </tr>\n",
       "    <tr>\n",
       "      <th>45</th>\n",
       "      <td>0046</td>\n",
       "      <td>8</td>\n",
       "      <td>0046</td>\n",
       "      <td>4</td>\n",
       "    </tr>\n",
       "    <tr>\n",
       "      <th>46</th>\n",
       "      <td>0047</td>\n",
       "      <td>8</td>\n",
       "      <td>0047</td>\n",
       "      <td>4</td>\n",
       "    </tr>\n",
       "    <tr>\n",
       "      <th>47</th>\n",
       "      <td>0048</td>\n",
       "      <td>8</td>\n",
       "      <td>nan</td>\n",
       "      <td>nan</td>\n",
       "    </tr>\n",
       "    <tr>\n",
       "      <th>48</th>\n",
       "      <td>0049</td>\n",
       "      <td>8</td>\n",
       "      <td>nan</td>\n",
       "      <td>nan</td>\n",
       "    </tr>\n",
       "    <tr>\n",
       "      <th>49</th>\n",
       "      <td>0050</td>\n",
       "      <td>8</td>\n",
       "      <td>nan</td>\n",
       "      <td>nan</td>\n",
       "    </tr>\n",
       "    <tr>\n",
       "      <th>50</th>\n",
       "      <td>0051</td>\n",
       "      <td>8</td>\n",
       "      <td>nan</td>\n",
       "      <td>nan</td>\n",
       "    </tr>\n",
       "    <tr>\n",
       "      <th>51</th>\n",
       "      <td>0052</td>\n",
       "      <td>8</td>\n",
       "      <td>nan</td>\n",
       "      <td>nan</td>\n",
       "    </tr>\n",
       "  </tbody>\n",
       "</table>\n",
       "</div>"
      ],
      "text/plain": [
       "   Schedule  shifts  Pool employees\n",
       "0      0001       4  0001         2\n",
       "1      0002       6  0002         3\n",
       "2      0003       8  0003         4\n",
       "3      0004       5  0004         5\n",
       "4      0005       3  0005         6\n",
       "5      0006       4  0006         7\n",
       "6      0007       5  0007         8\n",
       "7      0008       3  0008         4\n",
       "8      0009       6  0009         4\n",
       "9      0010       7  0010         4\n",
       "10     0011       7  0011         4\n",
       "11     0012       8  0012         4\n",
       "12     0013       8  0013         4\n",
       "13     0014       8  0014         4\n",
       "14     0015       8  0015         4\n",
       "15     0016       8  0016         4\n",
       "16     0017       8  0017         4\n",
       "17     0018       8  0018         4\n",
       "18     0019       8  0019         4\n",
       "19     0020       8  0020         4\n",
       "20     0021       8  0021         4\n",
       "21     0022       8  0022         4\n",
       "22     0023       8  0023         4\n",
       "23     0024       8  0024         4\n",
       "24     0025       8  0025         4\n",
       "25     0026       8  0026         4\n",
       "26     0027       8  0027         4\n",
       "27     0028       8  0028         4\n",
       "28     0029       8  0029         4\n",
       "29     0030       8  0030         4\n",
       "30     0031       8  0031         4\n",
       "31     0032       8  0032         4\n",
       "32     0033       8  0033         4\n",
       "33     0034       8  0034         4\n",
       "34     0035       8  0035         4\n",
       "35     0036       8  0036         4\n",
       "36     0037       8  0037         4\n",
       "37     0038       8  0038         4\n",
       "38     0039       8  0039         4\n",
       "39     0040       8  0040         4\n",
       "40     0041       8  0041         4\n",
       "41     0042       8  0042         4\n",
       "42     0043       8  0043         4\n",
       "43     0044       8  0044         4\n",
       "44     0045       8  0045         4\n",
       "45     0046       8  0046         4\n",
       "46     0047       8  0047         4\n",
       "47     0048       8   nan       nan\n",
       "48     0049       8   nan       nan\n",
       "49     0050       8   nan       nan\n",
       "50     0051       8   nan       nan\n",
       "51     0052       8   nan       nan"
      ]
     },
     "execution_count": 90,
     "metadata": {},
     "output_type": "execute_result"
    }
   ],
   "source": [
    "updateDataIndex()"
   ]
  },
  {
   "cell_type": "code",
   "execution_count": 52,
   "metadata": {},
   "outputs": [],
   "source": [
    "di = updateDataIndex()\n",
    "di.to_csv('data_index.csv',index=False)"
   ]
  },
  {
   "cell_type": "code",
   "execution_count": 83,
   "metadata": {},
   "outputs": [],
   "source": [
    "def problemIndex():\n",
    "    di = updateDataIndex()\n",
    "    #pd.read_csv('data_index.csv',dtype=str)\n",
    "    di['shifts'] = di['shifts'].astype(int) \n",
    "    \n",
    "    pi = pd.DataFrame(columns=['Schedule', 'Pool'])\n",
    "\n",
    "    scheds = di.Schedule.to_list()\n",
    "    pools = di.Pool.to_list()\n",
    "    pools = [x for x in pools if str(x) != 'nan']\n",
    "\n",
    "    for sched in scheds:\n",
    "        for pool in pools:\n",
    "            pi.loc[0 if pd.isnull(pi.index.max()) else pi.index.max() + 1] = [sched] + [pool]\n",
    "\n",
    "    pi = pd.merge(pi, di[['Schedule', 'shifts']], on ='Schedule', how ='left')\n",
    "    pi = pd.merge(pi, di[['Pool', 'employees']], on ='Pool', how ='left')\n",
    "    pi['employees'] = pi['employees'].astype(int)\n",
    "    pi['Nodes'] = pi['shifts'] + pi['employees']\n",
    "    pi['Ratio'] = pi['shifts'] / pi['employees']\n",
    "    \n",
    "    return pi\n"
   ]
  },
  {
   "cell_type": "code",
   "execution_count": 89,
   "metadata": {},
   "outputs": [
    {
     "data": {
      "text/html": [
       "<div>\n",
       "<style scoped>\n",
       "    .dataframe tbody tr th:only-of-type {\n",
       "        vertical-align: middle;\n",
       "    }\n",
       "\n",
       "    .dataframe tbody tr th {\n",
       "        vertical-align: top;\n",
       "    }\n",
       "\n",
       "    .dataframe thead th {\n",
       "        text-align: right;\n",
       "    }\n",
       "</style>\n",
       "<table border=\"1\" class=\"dataframe\">\n",
       "  <thead>\n",
       "    <tr style=\"text-align: right;\">\n",
       "      <th></th>\n",
       "      <th>Schedule</th>\n",
       "      <th>Pool</th>\n",
       "      <th>shifts</th>\n",
       "      <th>employees</th>\n",
       "      <th>Nodes</th>\n",
       "      <th>Ratio</th>\n",
       "    </tr>\n",
       "  </thead>\n",
       "  <tbody>\n",
       "    <tr>\n",
       "      <th>0</th>\n",
       "      <td>0001</td>\n",
       "      <td>0001</td>\n",
       "      <td>4</td>\n",
       "      <td>2</td>\n",
       "      <td>6</td>\n",
       "      <td>2.000000</td>\n",
       "    </tr>\n",
       "    <tr>\n",
       "      <th>1</th>\n",
       "      <td>0001</td>\n",
       "      <td>0002</td>\n",
       "      <td>4</td>\n",
       "      <td>3</td>\n",
       "      <td>7</td>\n",
       "      <td>1.333333</td>\n",
       "    </tr>\n",
       "    <tr>\n",
       "      <th>2</th>\n",
       "      <td>0001</td>\n",
       "      <td>0003</td>\n",
       "      <td>4</td>\n",
       "      <td>4</td>\n",
       "      <td>8</td>\n",
       "      <td>1.000000</td>\n",
       "    </tr>\n",
       "    <tr>\n",
       "      <th>3</th>\n",
       "      <td>0001</td>\n",
       "      <td>0004</td>\n",
       "      <td>4</td>\n",
       "      <td>5</td>\n",
       "      <td>9</td>\n",
       "      <td>0.800000</td>\n",
       "    </tr>\n",
       "    <tr>\n",
       "      <th>4</th>\n",
       "      <td>0001</td>\n",
       "      <td>0005</td>\n",
       "      <td>4</td>\n",
       "      <td>6</td>\n",
       "      <td>10</td>\n",
       "      <td>0.666667</td>\n",
       "    </tr>\n",
       "    <tr>\n",
       "      <th>...</th>\n",
       "      <td>...</td>\n",
       "      <td>...</td>\n",
       "      <td>...</td>\n",
       "      <td>...</td>\n",
       "      <td>...</td>\n",
       "      <td>...</td>\n",
       "    </tr>\n",
       "    <tr>\n",
       "      <th>2439</th>\n",
       "      <td>0052</td>\n",
       "      <td>0043</td>\n",
       "      <td>8</td>\n",
       "      <td>4</td>\n",
       "      <td>12</td>\n",
       "      <td>2.000000</td>\n",
       "    </tr>\n",
       "    <tr>\n",
       "      <th>2440</th>\n",
       "      <td>0052</td>\n",
       "      <td>0044</td>\n",
       "      <td>8</td>\n",
       "      <td>4</td>\n",
       "      <td>12</td>\n",
       "      <td>2.000000</td>\n",
       "    </tr>\n",
       "    <tr>\n",
       "      <th>2441</th>\n",
       "      <td>0052</td>\n",
       "      <td>0045</td>\n",
       "      <td>8</td>\n",
       "      <td>4</td>\n",
       "      <td>12</td>\n",
       "      <td>2.000000</td>\n",
       "    </tr>\n",
       "    <tr>\n",
       "      <th>2442</th>\n",
       "      <td>0052</td>\n",
       "      <td>0046</td>\n",
       "      <td>8</td>\n",
       "      <td>4</td>\n",
       "      <td>12</td>\n",
       "      <td>2.000000</td>\n",
       "    </tr>\n",
       "    <tr>\n",
       "      <th>2443</th>\n",
       "      <td>0052</td>\n",
       "      <td>0047</td>\n",
       "      <td>8</td>\n",
       "      <td>4</td>\n",
       "      <td>12</td>\n",
       "      <td>2.000000</td>\n",
       "    </tr>\n",
       "  </tbody>\n",
       "</table>\n",
       "<p>2444 rows × 6 columns</p>\n",
       "</div>"
      ],
      "text/plain": [
       "     Schedule  Pool  shifts  employees  Nodes     Ratio\n",
       "0        0001  0001       4          2      6  2.000000\n",
       "1        0001  0002       4          3      7  1.333333\n",
       "2        0001  0003       4          4      8  1.000000\n",
       "3        0001  0004       4          5      9  0.800000\n",
       "4        0001  0005       4          6     10  0.666667\n",
       "...       ...   ...     ...        ...    ...       ...\n",
       "2439     0052  0043       8          4     12  2.000000\n",
       "2440     0052  0044       8          4     12  2.000000\n",
       "2441     0052  0045       8          4     12  2.000000\n",
       "2442     0052  0046       8          4     12  2.000000\n",
       "2443     0052  0047       8          4     12  2.000000\n",
       "\n",
       "[2444 rows x 6 columns]"
      ]
     },
     "execution_count": 89,
     "metadata": {},
     "output_type": "execute_result"
    }
   ],
   "source": [
    "problemIndex()\n",
    "#pi.to_csv('problem_index.csv', index=False)"
   ]
  },
  {
   "cell_type": "code",
   "execution_count": 2,
   "metadata": {},
   "outputs": [],
   "source": [
    "# ON HOLD\n",
    "\n",
    "# check if values are as expected   \n",
    "    # sequential shift IDs\n",
    "    # proper case spelling\n",
    "# check that size is as expected"
   ]
  },
  {
   "cell_type": "code",
   "execution_count": null,
   "metadata": {},
   "outputs": [],
   "source": [
    "scheds = glob.glob(\"schedules/*.csv\")\n",
    "pools = glob.glob(\"pools/*.csv\")"
   ]
  },
  {
   "cell_type": "code",
   "execution_count": null,
   "metadata": {},
   "outputs": [],
   "source": [
    "shift_day_of_week = ['Monday','Tuesday','Wednesday','Thursday','Friday','Saturday','Sunday']\n",
    "shift_type = ['Morning','Evening']\n"
   ]
  },
  {
   "cell_type": "code",
   "execution_count": null,
   "metadata": {},
   "outputs": [],
   "source": [
    "errorDict = {}\n",
    "for sched in scheds:\n",
    "        id = sched.split('/')[1].split('_')[1].split('.')[0]\n",
    "        s = pd.read_csv(sched,dtype={'shift_id':'str'})\n",
    "        \n",
    "        #stateDict[id] = \n",
    "        "
   ]
  },
  {
   "cell_type": "code",
   "execution_count": null,
   "metadata": {},
   "outputs": [],
   "source": [
    "for pool in pools:\n",
    "    id = pool.split('/')[1].split('_')[1].split('.')[0]\n",
    "    p = pd.read_csv(pool,dtype={'employee_id':'str'})\n",
    "    #stateDict[id] = "
   ]
  },
  {
   "cell_type": "code",
   "execution_count": null,
   "metadata": {},
   "outputs": [],
   "source": [
    "# convert all to matrices\n",
    "# check for unqiueness"
   ]
  },
  {
   "cell_type": "code",
   "execution_count": 6,
   "metadata": {},
   "outputs": [],
   "source": [
    "def matrify(pool, schedule):\n",
    "    schedule = pd.get_dummies(schedule,drop_first=True)\n",
    "    #shift_features = schedule.shape[1]\n",
    "    for i in pd.get_dummies(pool).columns.to_list():\n",
    "        schedule[i] = 0\n",
    "\n",
    "    return schedule.to_numpy()"
   ]
  },
  {
   "cell_type": "code",
   "execution_count": 8,
   "metadata": {},
   "outputs": [],
   "source": [
    "def problemValidation():\n",
    "    scheds = glob.glob(\"schedules/*.csv\")\n",
    "    pools = glob.glob(\"pools/*.csv\")\n",
    "\n",
    "    stateDict = {}\n",
    "    for sched in scheds:\n",
    "        for pool in pools:\n",
    "            id = sched.split('/')[1].split('_')[1].split('.')[0]+pool.split('/')[1].split('_')[1].split('.')[0]\n",
    "            s = pd.read_csv(sched,dtype={'shift_id':'str'})\n",
    "            p = pd.read_csv(pool,dtype={'employee_id':'str'})\n",
    "            stateDict[id] = matrify(p, s)\n",
    "\n",
    "    dupes=[]\n",
    "    for key, value in stateDict.items(): \n",
    "        for k, v in stateDict.items(): \n",
    "            if key != k:\n",
    "                if np.array_equal(value, v):\n",
    "                    dupes.append((key,k))\n",
    "\n",
    "    print(f\"{len(dupes)} duplicate problems found in data set.\")\n",
    "\n",
    "    return dupes"
   ]
  },
  {
   "cell_type": "code",
   "execution_count": 11,
   "metadata": {},
   "outputs": [
    {
     "name": "stdout",
     "output_type": "stream",
     "text": [
      "0 duplicate problems found in data set.\n"
     ]
    }
   ],
   "source": [
    "dupes =  problemValidation()"
   ]
  },
  {
   "cell_type": "code",
   "execution_count": null,
   "metadata": {},
   "outputs": [],
   "source": [
    "### problem loader "
   ]
  },
  {
   "cell_type": "code",
   "execution_count": 36,
   "metadata": {},
   "outputs": [],
   "source": [
    "def problemLoader(max_shifts):\n",
    "    pi = problemIndex()\n",
    "    pi.head()\n",
    "\n",
    "    selectedProbs = pi[pi['shifts'] <=max_shifts] \n",
    "    selectedProbs\n",
    "\n",
    "\n",
    "\n",
    "    glob_list = []\n",
    "    for i in range(len(selectedProbs)):\n",
    "        s = selectedProbs['Schedule'].iloc[i]\n",
    "        p = selectedProbs['Pool'].iloc[i]\n",
    "        glob_list.append((s,p))\n",
    "\n",
    "    return glob_list\n",
    "\n",
    "#problemLoader(max_shifts=5)"
   ]
  },
  {
   "cell_type": "code",
   "execution_count": null,
   "metadata": {},
   "outputs": [],
   "source": [
    "### OneHotEncoder ###"
   ]
  },
  {
   "cell_type": "code",
   "execution_count": 1,
   "metadata": {},
   "outputs": [],
   "source": [
    "import pandas as pd\n",
    "from sklearn.preprocessing import OneHotEncoder\n",
    "import joblib"
   ]
  },
  {
   "cell_type": "code",
   "execution_count": 25,
   "metadata": {},
   "outputs": [],
   "source": [
    "p = \"pool_0001\"\n",
    "s = \"schedule_TEST\"\n",
    "\n",
    "pool, schedule = pd.read_csv(f'scheduling_problems/pools/{p}.csv',dtype={'employee_id':'str'}), \\\n",
    "                 pd.read_csv(f'scheduling_problems/{s}.csv',dtype={'shift_id':'str'})\n"
   ]
  },
  {
   "cell_type": "code",
   "execution_count": 35,
   "metadata": {},
   "outputs": [
    {
     "data": {
      "text/plain": [
       "['Monday', 'Tuesday', 'Wednesday', 'Thursday', 'Friday']"
      ]
     },
     "execution_count": 35,
     "metadata": {},
     "output_type": "execute_result"
    }
   ],
   "source": [
    "ohe = OneHotEncoder(categories=['Monday','Tuesday','Wednesday','Thursday','Friday'],\n",
    "                    drop='first',sparse=False,handle_unknown='error')\n",
    "#ohe.fit(schedule[['shift_day_of_week','shift_type']])\n",
    "\n",
    "ohe.categories\n"
   ]
  },
  {
   "cell_type": "code",
   "execution_count": 37,
   "metadata": {},
   "outputs": [
    {
     "data": {
      "text/plain": [
       "[1, 2, 3, 4, 5]"
      ]
     },
     "execution_count": 37,
     "metadata": {},
     "output_type": "execute_result"
    }
   ],
   "source": [
    "ohe = OneHotEncoder(categories=[1,2,3,4,5],\n",
    "                    drop='first',sparse=False,handle_unknown='error')\n",
    "#ohe.fit(schedule[['shift_day_of_week','shift_type']])\n",
    "\n",
    "ohe.categories"
   ]
  },
  {
   "cell_type": "code",
   "execution_count": 40,
   "metadata": {},
   "outputs": [
    {
     "data": {
      "text/plain": [
       "0    Morning\n",
       "1    Evening\n",
       "2    Morning\n",
       "3    Evening\n",
       "4    Morning\n",
       "Name: shift_type, dtype: object"
      ]
     },
     "execution_count": 40,
     "metadata": {},
     "output_type": "execute_result"
    }
   ],
   "source": [
    "schedule['shift_type'] "
   ]
  },
  {
   "cell_type": "code",
   "execution_count": 42,
   "metadata": {},
   "outputs": [
    {
     "data": {
      "text/plain": [
       "1    3\n",
       "2    2\n",
       "Name: shift_type, dtype: int64"
      ]
     },
     "execution_count": 42,
     "metadata": {},
     "output_type": "execute_result"
    }
   ],
   "source": [
    "schedule['shift_day_of_week'] = schedule['shift_day_of_week'].replace(['Monday', 'Tuesday', 'Wednesday', 'Thursday', 'Friday'],[1, 2, 3, 4, 5])\n",
    "schedule['shift_day_of_week'].value_counts()\n",
    "\n",
    "schedule['shift_type'] = schedule['shift_type'].replace(['Morning', 'Evening'],[1, 2])\n",
    "schedule['shift_type'].value_counts()"
   ]
  },
  {
   "cell_type": "code",
   "execution_count": 45,
   "metadata": {},
   "outputs": [],
   "source": [
    "\n",
    "ohe = OneHotEncoder(drop='first',sparse=False,handle_unknown='error')\n",
    "ohe.fit(schedule[['shift_day_of_week','shift_type']])\n",
    "\n",
    "joblib.dump(ohe,\"shiftFeatureEncoding.joblib\")\n",
    "\n",
    "sfEncodings = joblib.load('shiftFeatureEncoding.joblib')\n",
    "\n",
    "sfEncodings = ohe"
   ]
  },
  {
   "cell_type": "code",
   "execution_count": 46,
   "metadata": {},
   "outputs": [
    {
     "data": {
      "text/plain": [
       "array(['shift_day_of_week_2', 'shift_day_of_week_3',\n",
       "       'shift_day_of_week_4', 'shift_day_of_week_5', 'shift_type_2'],\n",
       "      dtype=object)"
      ]
     },
     "execution_count": 46,
     "metadata": {},
     "output_type": "execute_result"
    }
   ],
   "source": [
    "sfEncodings.get_feature_names_out()"
   ]
  },
  {
   "cell_type": "code",
   "execution_count": 11,
   "metadata": {},
   "outputs": [
    {
     "data": {
      "text/html": [
       "<div>\n",
       "<style scoped>\n",
       "    .dataframe tbody tr th:only-of-type {\n",
       "        vertical-align: middle;\n",
       "    }\n",
       "\n",
       "    .dataframe tbody tr th {\n",
       "        vertical-align: top;\n",
       "    }\n",
       "\n",
       "    .dataframe thead th {\n",
       "        text-align: right;\n",
       "    }\n",
       "</style>\n",
       "<table border=\"1\" class=\"dataframe\">\n",
       "  <thead>\n",
       "    <tr style=\"text-align: right;\">\n",
       "      <th></th>\n",
       "      <th>shift_id_1</th>\n",
       "      <th>shift_id_2</th>\n",
       "      <th>shift_id_3</th>\n",
       "      <th>shift_day_of_week_Monday</th>\n",
       "      <th>shift_day_of_week_Thursday</th>\n",
       "      <th>shift_day_of_week_Tuesday</th>\n",
       "      <th>shift_day_of_week_Wednesday</th>\n",
       "      <th>shift_type_Morning</th>\n",
       "      <th>employee_id_248509</th>\n",
       "      <th>employee_id_508579</th>\n",
       "    </tr>\n",
       "  </thead>\n",
       "  <tbody>\n",
       "    <tr>\n",
       "      <th>0</th>\n",
       "      <td>0</td>\n",
       "      <td>0</td>\n",
       "      <td>0</td>\n",
       "      <td>1.0</td>\n",
       "      <td>0.0</td>\n",
       "      <td>0.0</td>\n",
       "      <td>0.0</td>\n",
       "      <td>1.0</td>\n",
       "      <td>0</td>\n",
       "      <td>0</td>\n",
       "    </tr>\n",
       "    <tr>\n",
       "      <th>1</th>\n",
       "      <td>1</td>\n",
       "      <td>0</td>\n",
       "      <td>0</td>\n",
       "      <td>0.0</td>\n",
       "      <td>0.0</td>\n",
       "      <td>1.0</td>\n",
       "      <td>0.0</td>\n",
       "      <td>0.0</td>\n",
       "      <td>0</td>\n",
       "      <td>0</td>\n",
       "    </tr>\n",
       "    <tr>\n",
       "      <th>2</th>\n",
       "      <td>0</td>\n",
       "      <td>1</td>\n",
       "      <td>0</td>\n",
       "      <td>0.0</td>\n",
       "      <td>0.0</td>\n",
       "      <td>0.0</td>\n",
       "      <td>1.0</td>\n",
       "      <td>1.0</td>\n",
       "      <td>0</td>\n",
       "      <td>0</td>\n",
       "    </tr>\n",
       "    <tr>\n",
       "      <th>3</th>\n",
       "      <td>0</td>\n",
       "      <td>0</td>\n",
       "      <td>1</td>\n",
       "      <td>0.0</td>\n",
       "      <td>1.0</td>\n",
       "      <td>0.0</td>\n",
       "      <td>0.0</td>\n",
       "      <td>0.0</td>\n",
       "      <td>0</td>\n",
       "      <td>0</td>\n",
       "    </tr>\n",
       "    <tr>\n",
       "      <th>4</th>\n",
       "      <td>0</td>\n",
       "      <td>0</td>\n",
       "      <td>1</td>\n",
       "      <td>0.0</td>\n",
       "      <td>0.0</td>\n",
       "      <td>0.0</td>\n",
       "      <td>0.0</td>\n",
       "      <td>1.0</td>\n",
       "      <td>0</td>\n",
       "      <td>0</td>\n",
       "    </tr>\n",
       "  </tbody>\n",
       "</table>\n",
       "</div>"
      ],
      "text/plain": [
       "   shift_id_1  shift_id_2  shift_id_3  shift_day_of_week_Monday  \\\n",
       "0           0           0           0                       1.0   \n",
       "1           1           0           0                       0.0   \n",
       "2           0           1           0                       0.0   \n",
       "3           0           0           1                       0.0   \n",
       "4           0           0           1                       0.0   \n",
       "\n",
       "   shift_day_of_week_Thursday  shift_day_of_week_Tuesday  \\\n",
       "0                         0.0                        0.0   \n",
       "1                         0.0                        1.0   \n",
       "2                         0.0                        0.0   \n",
       "3                         1.0                        0.0   \n",
       "4                         0.0                        0.0   \n",
       "\n",
       "   shift_day_of_week_Wednesday  shift_type_Morning  employee_id_248509  \\\n",
       "0                          0.0                 1.0                   0   \n",
       "1                          0.0                 0.0                   0   \n",
       "2                          1.0                 1.0                   0   \n",
       "3                          0.0                 0.0                   0   \n",
       "4                          0.0                 1.0                   0   \n",
       "\n",
       "   employee_id_508579  \n",
       "0                   0  \n",
       "1                   0  \n",
       "2                   0  \n",
       "3                   0  \n",
       "4                   0  "
      ]
     },
     "execution_count": 11,
     "metadata": {},
     "output_type": "execute_result"
    }
   ],
   "source": [
    "p = \"pool_0001\"\n",
    "s = \"schedule_TEST\"\n",
    "\n",
    "pool, schedule = pd.read_csv(f'scheduling_problems/pools/{p}.csv',dtype={'employee_id':'str'}), \\\n",
    "                 pd.read_csv(f'scheduling_problems/{s}.csv',dtype={'shift_id':'str'})\n",
    "\n",
    "sfEncodings = joblib.load('shiftFeatureEncoding.joblib')\n",
    "\n",
    "shifts = pd.get_dummies(schedule[['shift_id']],drop_first=True)\n",
    "sfEncoded =  sfEncodings.transform(schedule[['shift_day_of_week','shift_type']])\n",
    "shift_features = pd.DataFrame(sfEncoded, columns=sfEncodings.get_feature_names_out())\n",
    "\n",
    "schedule = pd.merge(shifts, shift_features, left_index=True, right_index=True)\n",
    "\n",
    "#self.shift_features = schedule.shape[1]\n",
    "\n",
    "# OR \n",
    "# self.shift_features = shift_features.shape[1]\n",
    "\n",
    "for i in pd.get_dummies(pool).columns.to_list():\n",
    "    schedule[i] = 0\n",
    "\n",
    "schedule"
   ]
  },
  {
   "cell_type": "code",
   "execution_count": null,
   "metadata": {},
   "outputs": [],
   "source": [
    "#### fix embeddings ####"
   ]
  },
  {
   "cell_type": "code",
   "execution_count": 80,
   "metadata": {},
   "outputs": [
    {
     "data": {
      "text/html": [
       "<div>\n",
       "<style scoped>\n",
       "    .dataframe tbody tr th:only-of-type {\n",
       "        vertical-align: middle;\n",
       "    }\n",
       "\n",
       "    .dataframe tbody tr th {\n",
       "        vertical-align: top;\n",
       "    }\n",
       "\n",
       "    .dataframe thead th {\n",
       "        text-align: right;\n",
       "    }\n",
       "</style>\n",
       "<table border=\"1\" class=\"dataframe\">\n",
       "  <thead>\n",
       "    <tr style=\"text-align: right;\">\n",
       "      <th></th>\n",
       "      <th>shift_id_1</th>\n",
       "      <th>shift_id_2</th>\n",
       "      <th>shift_id_3</th>\n",
       "      <th>shift_id_4</th>\n",
       "      <th>shift_id_5</th>\n",
       "      <th>shift_id_6</th>\n",
       "      <th>shift_day_of_week_Monday</th>\n",
       "      <th>shift_day_of_week_Thursday</th>\n",
       "      <th>shift_day_of_week_Tuesday</th>\n",
       "      <th>shift_day_of_week_Wednesday</th>\n",
       "      <th>shift_type_Morning</th>\n",
       "      <th>employee_id_248509</th>\n",
       "      <th>employee_id_508579</th>\n",
       "    </tr>\n",
       "  </thead>\n",
       "  <tbody>\n",
       "    <tr>\n",
       "      <th>0</th>\n",
       "      <td>0</td>\n",
       "      <td>0</td>\n",
       "      <td>0</td>\n",
       "      <td>0</td>\n",
       "      <td>0</td>\n",
       "      <td>0</td>\n",
       "      <td>1.0</td>\n",
       "      <td>0.0</td>\n",
       "      <td>0.0</td>\n",
       "      <td>0.0</td>\n",
       "      <td>1.0</td>\n",
       "      <td>0</td>\n",
       "      <td>0</td>\n",
       "    </tr>\n",
       "    <tr>\n",
       "      <th>1</th>\n",
       "      <td>1</td>\n",
       "      <td>0</td>\n",
       "      <td>0</td>\n",
       "      <td>0</td>\n",
       "      <td>0</td>\n",
       "      <td>0</td>\n",
       "      <td>0.0</td>\n",
       "      <td>0.0</td>\n",
       "      <td>1.0</td>\n",
       "      <td>0.0</td>\n",
       "      <td>1.0</td>\n",
       "      <td>0</td>\n",
       "      <td>0</td>\n",
       "    </tr>\n",
       "    <tr>\n",
       "      <th>2</th>\n",
       "      <td>0</td>\n",
       "      <td>1</td>\n",
       "      <td>0</td>\n",
       "      <td>0</td>\n",
       "      <td>0</td>\n",
       "      <td>0</td>\n",
       "      <td>0.0</td>\n",
       "      <td>0.0</td>\n",
       "      <td>1.0</td>\n",
       "      <td>0.0</td>\n",
       "      <td>0.0</td>\n",
       "      <td>0</td>\n",
       "      <td>0</td>\n",
       "    </tr>\n",
       "    <tr>\n",
       "      <th>3</th>\n",
       "      <td>0</td>\n",
       "      <td>0</td>\n",
       "      <td>1</td>\n",
       "      <td>0</td>\n",
       "      <td>0</td>\n",
       "      <td>0</td>\n",
       "      <td>0.0</td>\n",
       "      <td>0.0</td>\n",
       "      <td>0.0</td>\n",
       "      <td>1.0</td>\n",
       "      <td>1.0</td>\n",
       "      <td>0</td>\n",
       "      <td>0</td>\n",
       "    </tr>\n",
       "    <tr>\n",
       "      <th>4</th>\n",
       "      <td>0</td>\n",
       "      <td>0</td>\n",
       "      <td>0</td>\n",
       "      <td>1</td>\n",
       "      <td>0</td>\n",
       "      <td>0</td>\n",
       "      <td>0.0</td>\n",
       "      <td>0.0</td>\n",
       "      <td>0.0</td>\n",
       "      <td>1.0</td>\n",
       "      <td>0.0</td>\n",
       "      <td>0</td>\n",
       "      <td>0</td>\n",
       "    </tr>\n",
       "    <tr>\n",
       "      <th>5</th>\n",
       "      <td>0</td>\n",
       "      <td>0</td>\n",
       "      <td>0</td>\n",
       "      <td>0</td>\n",
       "      <td>1</td>\n",
       "      <td>0</td>\n",
       "      <td>0.0</td>\n",
       "      <td>1.0</td>\n",
       "      <td>0.0</td>\n",
       "      <td>0.0</td>\n",
       "      <td>1.0</td>\n",
       "      <td>0</td>\n",
       "      <td>0</td>\n",
       "    </tr>\n",
       "    <tr>\n",
       "      <th>6</th>\n",
       "      <td>0</td>\n",
       "      <td>0</td>\n",
       "      <td>0</td>\n",
       "      <td>0</td>\n",
       "      <td>0</td>\n",
       "      <td>1</td>\n",
       "      <td>0.0</td>\n",
       "      <td>0.0</td>\n",
       "      <td>0.0</td>\n",
       "      <td>0.0</td>\n",
       "      <td>1.0</td>\n",
       "      <td>0</td>\n",
       "      <td>0</td>\n",
       "    </tr>\n",
       "  </tbody>\n",
       "</table>\n",
       "</div>"
      ],
      "text/plain": [
       "   shift_id_1  shift_id_2  shift_id_3  shift_id_4  shift_id_5  shift_id_6  \\\n",
       "0           0           0           0           0           0           0   \n",
       "1           1           0           0           0           0           0   \n",
       "2           0           1           0           0           0           0   \n",
       "3           0           0           1           0           0           0   \n",
       "4           0           0           0           1           0           0   \n",
       "5           0           0           0           0           1           0   \n",
       "6           0           0           0           0           0           1   \n",
       "\n",
       "   shift_day_of_week_Monday  shift_day_of_week_Thursday  \\\n",
       "0                       1.0                         0.0   \n",
       "1                       0.0                         0.0   \n",
       "2                       0.0                         0.0   \n",
       "3                       0.0                         0.0   \n",
       "4                       0.0                         0.0   \n",
       "5                       0.0                         1.0   \n",
       "6                       0.0                         0.0   \n",
       "\n",
       "   shift_day_of_week_Tuesday  shift_day_of_week_Wednesday  shift_type_Morning  \\\n",
       "0                        0.0                          0.0                 1.0   \n",
       "1                        1.0                          0.0                 1.0   \n",
       "2                        1.0                          0.0                 0.0   \n",
       "3                        0.0                          1.0                 1.0   \n",
       "4                        0.0                          1.0                 0.0   \n",
       "5                        0.0                          0.0                 1.0   \n",
       "6                        0.0                          0.0                 1.0   \n",
       "\n",
       "   employee_id_248509  employee_id_508579  \n",
       "0                   0                   0  \n",
       "1                   0                   0  \n",
       "2                   0                   0  \n",
       "3                   0                   0  \n",
       "4                   0                   0  \n",
       "5                   0                   0  \n",
       "6                   0                   0  "
      ]
     },
     "execution_count": 80,
     "metadata": {},
     "output_type": "execute_result"
    }
   ],
   "source": [
    "p = \"pool_0001\"\n",
    "s = \"schedule_0010\"\n",
    "\n",
    "pool, schedule = pd.read_csv(f'scheduling_problems/pools/{p}.csv',dtype={'employee_id':'str'}), \\\n",
    "                 pd.read_csv(f'scheduling_problems/schedules/{s}.csv',dtype={'shift_id':'str'})\n",
    "\n",
    "sfEncodings = joblib.load('shiftFeatureEncoding.joblib')\n",
    "\n",
    "shifts = pd.get_dummies(schedule[['shift_id']],drop_first=True)\n",
    "sfEncoded =  sfEncodings.transform(schedule[['shift_day_of_week','shift_type']])\n",
    "shift_features = pd.DataFrame(sfEncoded, columns=sfEncodings.get_feature_names_out())\n",
    "\n",
    "schedule = pd.merge(shifts, shift_features, left_index=True, right_index=True)\n",
    "\n",
    "#self.shift_features = schedule.shape[1]\n",
    "\n",
    "# OR \n",
    "# self.shift_features = shift_features.shape[1]\n",
    "\n",
    "for i in pd.get_dummies(pool).columns.to_list():\n",
    "    schedule[i] = 0\n",
    "\n",
    "schedule\n"
   ]
  },
  {
   "cell_type": "code",
   "execution_count": 81,
   "metadata": {},
   "outputs": [
    {
     "data": {
      "text/plain": [
       "array([[0., 0., 0., 0., 0., 0., 1., 0., 0., 0., 1., 0., 0.],\n",
       "       [1., 0., 0., 0., 0., 0., 0., 0., 1., 0., 1., 0., 0.],\n",
       "       [0., 1., 0., 0., 0., 0., 0., 0., 1., 0., 0., 0., 0.],\n",
       "       [0., 0., 1., 0., 0., 0., 0., 0., 0., 1., 1., 0., 0.],\n",
       "       [0., 0., 0., 1., 0., 0., 0., 0., 0., 1., 0., 0., 0.],\n",
       "       [0., 0., 0., 0., 1., 0., 0., 1., 0., 0., 1., 0., 0.],\n",
       "       [0., 0., 0., 0., 0., 1., 0., 0., 0., 0., 1., 0., 0.]])"
      ]
     },
     "execution_count": 81,
     "metadata": {},
     "output_type": "execute_result"
    }
   ],
   "source": [
    "state = schedule.to_numpy()\n",
    "state"
   ]
  },
  {
   "cell_type": "code",
   "execution_count": 82,
   "metadata": {},
   "outputs": [
    {
     "name": "stdout",
     "output_type": "stream",
     "text": [
      "2\n",
      "7\n"
     ]
    }
   ],
   "source": [
    "print(len(pool))\n",
    "print(len(schedule))"
   ]
  },
  {
   "cell_type": "code",
   "execution_count": 95,
   "metadata": {},
   "outputs": [
    {
     "data": {
      "text/plain": [
       "11"
      ]
     },
     "execution_count": 95,
     "metadata": {},
     "output_type": "execute_result"
    }
   ],
   "source": [
    "schedule.shape[1] - len(pool)"
   ]
  },
  {
   "cell_type": "code",
   "execution_count": 96,
   "metadata": {},
   "outputs": [
    {
     "name": "stdout",
     "output_type": "stream",
     "text": [
      "(6, 11)\n"
     ]
    }
   ],
   "source": [
    "sf_start = len(schedule)-1\n",
    "sf_end = schedule.shape[1] - len(pool)\n",
    "sf_index = (sf_start,sf_end)\n",
    "print(sf_index)"
   ]
  },
  {
   "cell_type": "code",
   "execution_count": 97,
   "metadata": {},
   "outputs": [
    {
     "data": {
      "text/plain": [
       "array([[1., 0., 0., 0., 1.],\n",
       "       [0., 0., 1., 0., 1.],\n",
       "       [0., 0., 1., 0., 0.],\n",
       "       [0., 0., 0., 1., 1.],\n",
       "       [0., 0., 0., 1., 0.],\n",
       "       [0., 1., 0., 0., 1.],\n",
       "       [0., 0., 0., 0., 1.]])"
      ]
     },
     "execution_count": 97,
     "metadata": {},
     "output_type": "execute_result"
    }
   ],
   "source": [
    "state[:,sf_start:sf_end]"
   ]
  },
  {
   "cell_type": "code",
   "execution_count": 93,
   "metadata": {},
   "outputs": [
    {
     "data": {
      "text/plain": [
       "array([[0., 0., 0., 0., 0., 0., 1., 0., 0., 0., 1., 0., 0.],\n",
       "       [1., 0., 0., 0., 0., 0., 0., 0., 1., 0., 1., 0., 0.],\n",
       "       [0., 1., 0., 0., 0., 0., 0., 0., 1., 0., 0., 0., 0.],\n",
       "       [0., 0., 1., 0., 0., 0., 0., 0., 0., 1., 1., 0., 0.],\n",
       "       [0., 0., 0., 1., 0., 0., 0., 0., 0., 1., 0., 0., 0.],\n",
       "       [0., 0., 0., 0., 1., 0., 0., 1., 0., 0., 1., 0., 0.],\n",
       "       [0., 0., 0., 0., 0., 1., 0., 0., 0., 0., 1., 0., 0.]])"
      ]
     },
     "execution_count": 93,
     "metadata": {},
     "output_type": "execute_result"
    }
   ],
   "source": [
    "state"
   ]
  },
  {
   "cell_type": "code",
   "execution_count": 1,
   "metadata": {},
   "outputs": [],
   "source": [
    "##### edge features "
   ]
  },
  {
   "cell_type": "code",
   "execution_count": 8,
   "metadata": {},
   "outputs": [
    {
     "data": {
      "text/plain": [
       "[8, 9, 10, 11, 12, 13, 14, 15]"
      ]
     },
     "execution_count": 8,
     "metadata": {},
     "output_type": "execute_result"
    }
   ],
   "source": [
    "numShifts = 4\n",
    "numEmps = 2\n",
    "num_ES_Edges = numShifts * numEmps\n",
    "edge_ids = [ 0,  1,  2,  3,  4,  5,  6,  7,  8,  9, 10, 11, 12, 13, 14, 15]\n",
    "ES_ids = edge_ids[-num_ES_Edges:]\n",
    "ES_ids"
   ]
  },
  {
   "cell_type": "code",
   "execution_count": 10,
   "metadata": {},
   "outputs": [
    {
     "data": {
      "text/plain": [
       "[(4, 0), (4, 1), (4, 2), (4, 3), (5, 0), (5, 1), (5, 2), (5, 3)]"
      ]
     },
     "execution_count": 10,
     "metadata": {},
     "output_type": "execute_result"
    }
   ],
   "source": [
    "ES_edges=[]\n",
    "for i in ES_ids:\n",
    "    ES_edges.append((source[i],dest[i]))\n",
    "\n",
    "ES_edges"
   ]
  },
  {
   "cell_type": "code",
   "execution_count": null,
   "metadata": {},
   "outputs": [],
   "source": [
    "shift = 3\n",
    "emp = 1\n",
    "\n",
    "\n",
    "\n"
   ]
  },
  {
   "cell_type": "code",
   "execution_count": 66,
   "metadata": {},
   "outputs": [
    {
     "data": {
      "text/plain": [
       "tensor(2)"
      ]
     },
     "execution_count": 66,
     "metadata": {},
     "output_type": "execute_result"
    }
   ],
   "source": [
    "##### get assignment data from state\n",
    "import numpy as np\n",
    "import torch\n",
    "\n",
    "shift_feature_count = 8\n",
    "num_shifts = 4\n",
    "\n",
    "s = np.array([[0, 0, 0, 1, 0, 0, 0, 1, 0, 1],\n",
    "              [1, 0, 0, 1, 0, 0, 0, 0, 0, 1],\n",
    "              [0, 1, 0, 0, 0, 1, 0, 1, 0, 0],\n",
    "              [0, 0, 1, 0, 0, 1, 0, 0, 0, 0]])\n",
    "state = torch.from_numpy(s)\n",
    "shift_index = (torch.sum(state[:,shift_feature_count:],1) == 0).nonzero(as_tuple=True)[0][0]\n",
    "shift_index"
   ]
  },
  {
   "cell_type": "code",
   "execution_count": 67,
   "metadata": {},
   "outputs": [
    {
     "name": "stdout",
     "output_type": "stream",
     "text": [
      "i: 0\n",
      "shift: 0\n",
      "assigned_emp: tensor([1])\n",
      "se_idx tensor([1])\n",
      "es_idx 12\n",
      "i: 1\n",
      "shift: 1\n",
      "assigned_emp: tensor([1])\n",
      "se_idx tensor([3])\n",
      "es_idx 13\n"
     ]
    }
   ],
   "source": [
    "if shift_index > 0:\n",
    "    for i in range(shift_index):\n",
    "        print(f\"i: {i}\")\n",
    "        # get assignment data\n",
    "        shift = i\n",
    "        print(f\"shift: {shift}\")\n",
    "        shift_data = state[shift,shift_feature_count:]\n",
    "        #print(shift_data)\n",
    "        assigned_emp = (state[shift,shift_feature_count:] == 1).nonzero(as_tuple=True)[0]\n",
    "        print(f\"assigned_emp: {assigned_emp}\")\n",
    "        \n",
    "\n",
    "        # save data to edge\n",
    "        edges = torch.FloatTensor([0, 0, 1, 1, 2, 2, 3, 3, 4, 4, 4, 4, 5, 5, 5, 5]) # bg.edges()[0]\n",
    "        # dest =                 ([4, 5, 4, 5, 4, 5, 4, 5, 0, 1, 2, 3, 0, 1, 2, 3])\n",
    "        #edge_ids = torch.FloatTensor([ 0,  1,  2,  3,  4,  5,  6,  7,  8,  9, 10, 11, 12, 13, 14, 15]) #bg.edges()[2]\n",
    "\n",
    "        # edge index for shift-emp edge\n",
    "        se_idx = (edges == shift).nonzero(as_tuple=True)[0][assigned_emp]\n",
    "        print(f\"se_idx {se_idx}\")\n",
    "\n",
    "        # edge index for emp-shift edge\n",
    "        emp_id = torch.unique(edges)[num_shifts:][assigned_emp]\n",
    "        #print(emp_id)\n",
    "        #print(shift)\n",
    "        es_idx = (edges == emp_id).nonzero(as_tuple=True)[0][shift]\n",
    "        print(f\"es_idx {es_idx}\")\n",
    "\n",
    "        #bg.edges[se_idx, es_idx].data['y'] = torch.ones(2)"
   ]
  },
  {
   "cell_type": "code",
   "execution_count": 29,
   "metadata": {},
   "outputs": [
    {
     "data": {
      "text/plain": [
       "tensor([[0, 0, 0, 1, 0, 0, 0, 1, 0, 1],\n",
       "        [1, 0, 0, 1, 0, 0, 0, 0, 0, 0],\n",
       "        [0, 1, 0, 0, 0, 1, 0, 1, 0, 0],\n",
       "        [0, 0, 1, 0, 0, 1, 0, 0, 0, 0]])"
      ]
     },
     "execution_count": 29,
     "metadata": {},
     "output_type": "execute_result"
    }
   ],
   "source": [
    "state"
   ]
  },
  {
   "cell_type": "code",
   "execution_count": 34,
   "metadata": {},
   "outputs": [],
   "source": [
    "shift = shift_index-1\n",
    "shift_data = state[shift_index-1,shift_feature_count:]\n",
    "assigned_emp = (state[shift_index-1,shift_feature_count:] == 1).nonzero(as_tuple=True)[0]"
   ]
  },
  {
   "cell_type": "code",
   "execution_count": 35,
   "metadata": {},
   "outputs": [
    {
     "name": "stdout",
     "output_type": "stream",
     "text": [
      "tensor(0)\n",
      "tensor([1])\n"
     ]
    }
   ],
   "source": [
    "print(shift)\n",
    "print(assigned_emp)"
   ]
  },
  {
   "cell_type": "code",
   "execution_count": 42,
   "metadata": {},
   "outputs": [
    {
     "data": {
      "text/plain": [
       "tensor(6)"
      ]
     },
     "execution_count": 42,
     "metadata": {},
     "output_type": "execute_result"
    }
   ],
   "source": [
    "# id index for shift-emp edge\n",
    "edges = torch.FloatTensor([0, 0, 1, 1, 2, 2, 3, 3, 4, 4, 4, 4, 5, 5, 5, 5])\n",
    "(edges == 3).nonzero(as_tuple=True)[0][0]"
   ]
  },
  {
   "cell_type": "code",
   "execution_count": 49,
   "metadata": {},
   "outputs": [
    {
     "name": "stdout",
     "output_type": "stream",
     "text": [
      "tensor([5.])\n",
      "tensor(0)\n"
     ]
    },
    {
     "data": {
      "text/plain": [
       "tensor(12)"
      ]
     },
     "execution_count": 49,
     "metadata": {},
     "output_type": "execute_result"
    }
   ],
   "source": [
    "# id index for emp-shift edge\n",
    "emp_id = torch.unique(edges)[num_shifts:][assigned_emp]\n",
    "print(emp_id)\n",
    "print(shift)\n",
    "(edges == emp_id).nonzero(as_tuple=True)[0][shift]"
   ]
  },
  {
   "cell_type": "code",
   "execution_count": 33,
   "metadata": {},
   "outputs": [],
   "source": [
    "tensor([0, 0, 1, 1, 2, 2, 3, 3, 4, 4, 4, 4, 5, 5, 5, 5])\n",
    "tensor([4, 5, 4, 5, 4, 5, 4, 5, 0, 1, 2, 3, 0, 1, 2, 3])\n",
    "tensor([ 0,  1,  2,  3,  4,  5,  6,  7,  8,  9, 10, 11, 12, 13, 14, 15])"
   ]
  },
  {
   "cell_type": "code",
   "execution_count": null,
   "metadata": {},
   "outputs": [],
   "source": [
    "#### problem batch"
   ]
  },
  {
   "cell_type": "code",
   "execution_count": 97,
   "metadata": {},
   "outputs": [
    {
     "name": "stdout",
     "output_type": "stream",
     "text": [
      "('0002', '0001')\n",
      "0002\n"
     ]
    }
   ],
   "source": [
    "import random\n",
    "problem_batch = [('0001','0001'),('0002','0001')]\n",
    "prob = random.choice(problem_batch)\n",
    "print(prob)\n",
    "s = prob[0]\n",
    "p = prob[1]\n",
    "\n",
    "print(s)"
   ]
  },
  {
   "cell_type": "code",
   "execution_count": 100,
   "metadata": {},
   "outputs": [],
   "source": [
    "problog= [('0002', '0001'),('0002', '0001'),('0002', '0001')]\n",
    "with open('problog.txt', 'w') as f:\n",
    "    for item in problog:\n",
    "        f.write(\"%s\\n\" % str(item))"
   ]
  },
  {
   "cell_type": "code",
   "execution_count": 101,
   "metadata": {},
   "outputs": [
    {
     "data": {
      "text/html": [
       "<div>\n",
       "<style scoped>\n",
       "    .dataframe tbody tr th:only-of-type {\n",
       "        vertical-align: middle;\n",
       "    }\n",
       "\n",
       "    .dataframe tbody tr th {\n",
       "        vertical-align: top;\n",
       "    }\n",
       "\n",
       "    .dataframe thead th {\n",
       "        text-align: right;\n",
       "    }\n",
       "</style>\n",
       "<table border=\"1\" class=\"dataframe\">\n",
       "  <thead>\n",
       "    <tr style=\"text-align: right;\">\n",
       "      <th></th>\n",
       "      <th>scores</th>\n",
       "    </tr>\n",
       "  </thead>\n",
       "  <tbody>\n",
       "    <tr>\n",
       "      <th>0</th>\n",
       "      <td>0.75</td>\n",
       "    </tr>\n",
       "    <tr>\n",
       "      <th>1</th>\n",
       "      <td>1.00</td>\n",
       "    </tr>\n",
       "    <tr>\n",
       "      <th>2</th>\n",
       "      <td>0.75</td>\n",
       "    </tr>\n",
       "    <tr>\n",
       "      <th>3</th>\n",
       "      <td>1.00</td>\n",
       "    </tr>\n",
       "    <tr>\n",
       "      <th>4</th>\n",
       "      <td>1.00</td>\n",
       "    </tr>\n",
       "    <tr>\n",
       "      <th>5</th>\n",
       "      <td>1.00</td>\n",
       "    </tr>\n",
       "    <tr>\n",
       "      <th>6</th>\n",
       "      <td>1.00</td>\n",
       "    </tr>\n",
       "    <tr>\n",
       "      <th>7</th>\n",
       "      <td>1.00</td>\n",
       "    </tr>\n",
       "    <tr>\n",
       "      <th>8</th>\n",
       "      <td>1.00</td>\n",
       "    </tr>\n",
       "  </tbody>\n",
       "</table>\n",
       "</div>"
      ],
      "text/plain": [
       "   scores\n",
       "0    0.75\n",
       "1    1.00\n",
       "2    0.75\n",
       "3    1.00\n",
       "4    1.00\n",
       "5    1.00\n",
       "6    1.00\n",
       "7    1.00\n",
       "8    1.00"
      ]
     },
     "execution_count": 101,
     "metadata": {},
     "output_type": "execute_result"
    }
   ],
   "source": [
    "scores=[0.75, 1.0, 0.75, 1.0, 1.0, 1.0, 1.0, 1.0, 1.0]\n",
    "\n",
    "data = pd.DataFrame.from_dict({'scores':scores})\n",
    "data.to_csv(f\"{filename}.csv\",index=False)"
   ]
  }
 ],
 "metadata": {
  "interpreter": {
   "hash": "a5b0cbe14e1b88e411ba60f7f1e42d018a6caa56656953e7d806710a4690a6c8"
  },
  "kernelspec": {
   "display_name": "Python 3.7.2 64-bit ('rl')",
   "language": "python",
   "name": "python3"
  },
  "language_info": {
   "codemirror_mode": {
    "name": "ipython",
    "version": 3
   },
   "file_extension": ".py",
   "mimetype": "text/x-python",
   "name": "python",
   "nbconvert_exporter": "python",
   "pygments_lexer": "ipython3",
   "version": "3.7.2"
  },
  "orig_nbformat": 4
 },
 "nbformat": 4,
 "nbformat_minor": 2
}
