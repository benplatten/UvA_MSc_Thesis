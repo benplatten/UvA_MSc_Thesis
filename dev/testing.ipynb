{
 "cells": [
  {
   "cell_type": "code",
   "execution_count": 3,
   "metadata": {},
   "outputs": [],
   "source": [
    "import pandas as pd\n",
    "import glob\n",
    "import numpy as np"
   ]
  },
  {
   "cell_type": "code",
   "execution_count": 24,
   "metadata": {},
   "outputs": [],
   "source": [
    "def updateDataIndex():\n",
    "    scheds = glob.glob(\"schedules/*.csv\")\n",
    "    pools = glob.glob(\"pools/*.csv\")\n",
    "    s_len = []\n",
    "    Schedule = []\n",
    "    for sched in sorted(scheds):\n",
    "        s_len.append(len(pd.read_csv(sched)))\n",
    "        Schedule.append(sched.split('/')[1].split('_')[1].split('.')[0])\n",
    "    p_len = []\n",
    "    Pool = []\n",
    "    for pool in sorted(pools):\n",
    "        p_len.append(len(pd.read_csv(sched)))\n",
    "        Pool.append(pool.split('/')[1].split('_')[1].split('.')[0])\n",
    "\n",
    "    Pool += ['nan'] * (len(Schedule) - len(Pool))\n",
    "    p_len += ['nan'] * (len(s_len) - len(p_len))\n",
    "\n",
    "    data = {'Schedule':Schedule,'shifts':s_len,'Pool':Pool,'employees':p_len}\n",
    "\n",
    "    di = pd.DataFrame(data)\n",
    "    \n",
    "    return di"
   ]
  },
  {
   "cell_type": "code",
   "execution_count": 26,
   "metadata": {},
   "outputs": [],
   "source": [
    "di = updateDataIndex()\n",
    "di.to_csv('data_index.csv',index=False)"
   ]
  },
  {
   "cell_type": "code",
   "execution_count": 28,
   "metadata": {},
   "outputs": [],
   "source": [
    "def problemIndex():\n",
    "    di = updateDataIndex()\n",
    "    #pd.read_csv('data_index.csv',dtype=str)\n",
    "    di['shifts'] = di['shifts'].astype(int) \n",
    "    \n",
    "    pi = pd.DataFrame(columns=['Schedule', 'Pool'])\n",
    "\n",
    "    scheds = di.Schedule.to_list()\n",
    "    pools = di.Pool.to_list()\n",
    "    pools = [x for x in pools if str(x) != 'nan']\n",
    "\n",
    "    for sched in scheds:\n",
    "        for pool in pools:\n",
    "            pi.loc[0 if pd.isnull(pi.index.max()) else pi.index.max() + 1] = [sched] + [pool]\n",
    "\n",
    "    pi = pd.merge(pi, di[['Schedule', 'shifts']], on ='Schedule', how ='left')\n",
    "    pi = pd.merge(pi, di[['Pool', 'employees']], on ='Pool', how ='left')\n",
    "    pi['employees'] = pi['employees'].astype(int)\n",
    "    pi['Nodes'] = pi['shifts'] + pi['employees']\n",
    "    pi['Ratio'] = pi['shifts'] / pi['employees']\n",
    "    \n",
    "    return pi\n"
   ]
  },
  {
   "cell_type": "code",
   "execution_count": 29,
   "metadata": {},
   "outputs": [
    {
     "data": {
      "text/html": [
       "<div>\n",
       "<style scoped>\n",
       "    .dataframe tbody tr th:only-of-type {\n",
       "        vertical-align: middle;\n",
       "    }\n",
       "\n",
       "    .dataframe tbody tr th {\n",
       "        vertical-align: top;\n",
       "    }\n",
       "\n",
       "    .dataframe thead th {\n",
       "        text-align: right;\n",
       "    }\n",
       "</style>\n",
       "<table border=\"1\" class=\"dataframe\">\n",
       "  <thead>\n",
       "    <tr style=\"text-align: right;\">\n",
       "      <th></th>\n",
       "      <th>Schedule</th>\n",
       "      <th>Pool</th>\n",
       "      <th>shifts</th>\n",
       "      <th>employees</th>\n",
       "      <th>Nodes</th>\n",
       "      <th>Ratio</th>\n",
       "    </tr>\n",
       "  </thead>\n",
       "  <tbody>\n",
       "    <tr>\n",
       "      <th>0</th>\n",
       "      <td>0001</td>\n",
       "      <td>0001</td>\n",
       "      <td>4</td>\n",
       "      <td>8</td>\n",
       "      <td>12</td>\n",
       "      <td>0.5</td>\n",
       "    </tr>\n",
       "    <tr>\n",
       "      <th>1</th>\n",
       "      <td>0001</td>\n",
       "      <td>0002</td>\n",
       "      <td>4</td>\n",
       "      <td>8</td>\n",
       "      <td>12</td>\n",
       "      <td>0.5</td>\n",
       "    </tr>\n",
       "    <tr>\n",
       "      <th>2</th>\n",
       "      <td>0001</td>\n",
       "      <td>0003</td>\n",
       "      <td>4</td>\n",
       "      <td>8</td>\n",
       "      <td>12</td>\n",
       "      <td>0.5</td>\n",
       "    </tr>\n",
       "    <tr>\n",
       "      <th>3</th>\n",
       "      <td>0001</td>\n",
       "      <td>0004</td>\n",
       "      <td>4</td>\n",
       "      <td>8</td>\n",
       "      <td>12</td>\n",
       "      <td>0.5</td>\n",
       "    </tr>\n",
       "    <tr>\n",
       "      <th>4</th>\n",
       "      <td>0001</td>\n",
       "      <td>0005</td>\n",
       "      <td>4</td>\n",
       "      <td>8</td>\n",
       "      <td>12</td>\n",
       "      <td>0.5</td>\n",
       "    </tr>\n",
       "    <tr>\n",
       "      <th>...</th>\n",
       "      <td>...</td>\n",
       "      <td>...</td>\n",
       "      <td>...</td>\n",
       "      <td>...</td>\n",
       "      <td>...</td>\n",
       "      <td>...</td>\n",
       "    </tr>\n",
       "    <tr>\n",
       "      <th>79</th>\n",
       "      <td>0012</td>\n",
       "      <td>0003</td>\n",
       "      <td>8</td>\n",
       "      <td>8</td>\n",
       "      <td>16</td>\n",
       "      <td>1.0</td>\n",
       "    </tr>\n",
       "    <tr>\n",
       "      <th>80</th>\n",
       "      <td>0012</td>\n",
       "      <td>0004</td>\n",
       "      <td>8</td>\n",
       "      <td>8</td>\n",
       "      <td>16</td>\n",
       "      <td>1.0</td>\n",
       "    </tr>\n",
       "    <tr>\n",
       "      <th>81</th>\n",
       "      <td>0012</td>\n",
       "      <td>0005</td>\n",
       "      <td>8</td>\n",
       "      <td>8</td>\n",
       "      <td>16</td>\n",
       "      <td>1.0</td>\n",
       "    </tr>\n",
       "    <tr>\n",
       "      <th>82</th>\n",
       "      <td>0012</td>\n",
       "      <td>0006</td>\n",
       "      <td>8</td>\n",
       "      <td>8</td>\n",
       "      <td>16</td>\n",
       "      <td>1.0</td>\n",
       "    </tr>\n",
       "    <tr>\n",
       "      <th>83</th>\n",
       "      <td>0012</td>\n",
       "      <td>0007</td>\n",
       "      <td>8</td>\n",
       "      <td>8</td>\n",
       "      <td>16</td>\n",
       "      <td>1.0</td>\n",
       "    </tr>\n",
       "  </tbody>\n",
       "</table>\n",
       "<p>84 rows × 6 columns</p>\n",
       "</div>"
      ],
      "text/plain": [
       "   Schedule  Pool  shifts  employees  Nodes  Ratio\n",
       "0      0001  0001       4          8     12    0.5\n",
       "1      0001  0002       4          8     12    0.5\n",
       "2      0001  0003       4          8     12    0.5\n",
       "3      0001  0004       4          8     12    0.5\n",
       "4      0001  0005       4          8     12    0.5\n",
       "..      ...   ...     ...        ...    ...    ...\n",
       "79     0012  0003       8          8     16    1.0\n",
       "80     0012  0004       8          8     16    1.0\n",
       "81     0012  0005       8          8     16    1.0\n",
       "82     0012  0006       8          8     16    1.0\n",
       "83     0012  0007       8          8     16    1.0\n",
       "\n",
       "[84 rows x 6 columns]"
      ]
     },
     "execution_count": 29,
     "metadata": {},
     "output_type": "execute_result"
    }
   ],
   "source": [
    "problemIndex()\n",
    "#pi.to_csv('problem_index.csv', index=False)"
   ]
  },
  {
   "cell_type": "code",
   "execution_count": 2,
   "metadata": {},
   "outputs": [],
   "source": [
    "# ON HOLD\n",
    "\n",
    "# check if values are as expected   \n",
    "    # sequential shift IDs\n",
    "    # proper case spelling\n",
    "# check that size is as expected"
   ]
  },
  {
   "cell_type": "code",
   "execution_count": null,
   "metadata": {},
   "outputs": [],
   "source": [
    "scheds = glob.glob(\"schedules/*.csv\")\n",
    "pools = glob.glob(\"pools/*.csv\")"
   ]
  },
  {
   "cell_type": "code",
   "execution_count": null,
   "metadata": {},
   "outputs": [],
   "source": [
    "shift_day_of_week = ['Monday','Tuesday','Wednesday','Thursday','Friday','Saturday','Sunday']\n",
    "shift_type = ['Morning','Evening']\n"
   ]
  },
  {
   "cell_type": "code",
   "execution_count": null,
   "metadata": {},
   "outputs": [],
   "source": [
    "errorDict = {}\n",
    "for sched in scheds:\n",
    "        id = sched.split('/')[1].split('_')[1].split('.')[0]\n",
    "        s = pd.read_csv(sched,dtype={'shift_id':'str'})\n",
    "        \n",
    "        #stateDict[id] = \n",
    "        "
   ]
  },
  {
   "cell_type": "code",
   "execution_count": null,
   "metadata": {},
   "outputs": [],
   "source": [
    "for pool in pools:\n",
    "    id = pool.split('/')[1].split('_')[1].split('.')[0]\n",
    "    p = pd.read_csv(pool,dtype={'employee_id':'str'})\n",
    "    #stateDict[id] = "
   ]
  },
  {
   "cell_type": "code",
   "execution_count": null,
   "metadata": {},
   "outputs": [],
   "source": [
    "# convert all to matrices\n",
    "# check for unqiueness"
   ]
  },
  {
   "cell_type": "code",
   "execution_count": 6,
   "metadata": {},
   "outputs": [],
   "source": [
    "def matrify(pool, schedule):\n",
    "    schedule = pd.get_dummies(schedule,drop_first=True)\n",
    "    #shift_features = schedule.shape[1]\n",
    "    for i in pd.get_dummies(pool).columns.to_list():\n",
    "        schedule[i] = 0\n",
    "\n",
    "    return schedule.to_numpy()"
   ]
  },
  {
   "cell_type": "code",
   "execution_count": 8,
   "metadata": {},
   "outputs": [],
   "source": [
    "def problemValidation():\n",
    "    scheds = glob.glob(\"schedules/*.csv\")\n",
    "    pools = glob.glob(\"pools/*.csv\")\n",
    "\n",
    "    stateDict = {}\n",
    "    for sched in scheds:\n",
    "        for pool in pools:\n",
    "            id = sched.split('/')[1].split('_')[1].split('.')[0]+pool.split('/')[1].split('_')[1].split('.')[0]\n",
    "            s = pd.read_csv(sched,dtype={'shift_id':'str'})\n",
    "            p = pd.read_csv(pool,dtype={'employee_id':'str'})\n",
    "            stateDict[id] = matrify(p, s)\n",
    "\n",
    "    dupes=[]\n",
    "    for key, value in stateDict.items(): \n",
    "        for k, v in stateDict.items(): \n",
    "            if key != k:\n",
    "                if np.array_equal(value, v):\n",
    "                    dupes.append((key,k))\n",
    "\n",
    "    print(f\"{len(dupes)} duplicate problems found in data set.\")\n",
    "\n",
    "    return dupes"
   ]
  },
  {
   "cell_type": "code",
   "execution_count": 11,
   "metadata": {},
   "outputs": [
    {
     "name": "stdout",
     "output_type": "stream",
     "text": [
      "0 duplicate problems found in data set.\n"
     ]
    }
   ],
   "source": [
    "dupes =  problemValidation()"
   ]
  },
  {
   "cell_type": "code",
   "execution_count": null,
   "metadata": {},
   "outputs": [],
   "source": [
    "### problem loader "
   ]
  },
  {
   "cell_type": "code",
   "execution_count": 36,
   "metadata": {},
   "outputs": [],
   "source": [
    "def problemLoader(max_shifts):\n",
    "    pi = problemIndex()\n",
    "    pi.head()\n",
    "\n",
    "    selectedProbs = pi[pi['shifts'] <=max_shifts] \n",
    "    selectedProbs\n",
    "\n",
    "\n",
    "\n",
    "    glob_list = []\n",
    "    for i in range(len(selectedProbs)):\n",
    "        s = selectedProbs['Schedule'].iloc[i]\n",
    "        p = selectedProbs['Pool'].iloc[i]\n",
    "        glob_list.append((s,p))\n",
    "\n",
    "    return glob_list\n",
    "\n",
    "#problemLoader(max_shifts=5)"
   ]
  },
  {
   "cell_type": "code",
   "execution_count": null,
   "metadata": {},
   "outputs": [],
   "source": [
    "### OneHotEncoder ###"
   ]
  },
  {
   "cell_type": "code",
   "execution_count": 9,
   "metadata": {},
   "outputs": [],
   "source": [
    "import pandas as pd\n",
    "from sklearn.preprocessing import OneHotEncoder\n",
    "import joblib"
   ]
  },
  {
   "cell_type": "code",
   "execution_count": 36,
   "metadata": {},
   "outputs": [],
   "source": [
    "p = \"pool_0001\"\n",
    "s = \"schedule_TEST\"\n",
    "\n",
    "pool, schedule = pd.read_csv(f'scheduling_problems/pools/{p}.csv',dtype={'employee_id':'str'}), \\\n",
    "                 pd.read_csv(f'scheduling_problems/{s}.csv',dtype={'shift_id':'str'})\n"
   ]
  },
  {
   "cell_type": "code",
   "execution_count": 33,
   "metadata": {},
   "outputs": [],
   "source": [
    "ohe = OneHotEncoder(drop='first',sparse=False,handle_unknown='error')\n",
    "ohe.fit(schedule[['shift_day_of_week','shift_type']])\n",
    "\n",
    "joblib.dump(ohe,\"shiftFeatureEncoding.joblib\")\n",
    "\n",
    "sfEncodings = joblib.load('shiftFeatureEncoding.joblib')"
   ]
  },
  {
   "cell_type": "code",
   "execution_count": 42,
   "metadata": {},
   "outputs": [
    {
     "data": {
      "text/html": [
       "<div>\n",
       "<style scoped>\n",
       "    .dataframe tbody tr th:only-of-type {\n",
       "        vertical-align: middle;\n",
       "    }\n",
       "\n",
       "    .dataframe tbody tr th {\n",
       "        vertical-align: top;\n",
       "    }\n",
       "\n",
       "    .dataframe thead th {\n",
       "        text-align: right;\n",
       "    }\n",
       "</style>\n",
       "<table border=\"1\" class=\"dataframe\">\n",
       "  <thead>\n",
       "    <tr style=\"text-align: right;\">\n",
       "      <th></th>\n",
       "      <th>shift_id_1</th>\n",
       "      <th>shift_id_2</th>\n",
       "      <th>shift_id_3</th>\n",
       "      <th>shift_day_of_week_Monday</th>\n",
       "      <th>shift_day_of_week_Thursday</th>\n",
       "      <th>shift_day_of_week_Tuesday</th>\n",
       "      <th>shift_day_of_week_Wednesday</th>\n",
       "      <th>shift_type_Morning</th>\n",
       "      <th>employee_id_248509</th>\n",
       "      <th>employee_id_508579</th>\n",
       "    </tr>\n",
       "  </thead>\n",
       "  <tbody>\n",
       "    <tr>\n",
       "      <th>0</th>\n",
       "      <td>0</td>\n",
       "      <td>0</td>\n",
       "      <td>0</td>\n",
       "      <td>1.0</td>\n",
       "      <td>0.0</td>\n",
       "      <td>0.0</td>\n",
       "      <td>0.0</td>\n",
       "      <td>1.0</td>\n",
       "      <td>0</td>\n",
       "      <td>0</td>\n",
       "    </tr>\n",
       "    <tr>\n",
       "      <th>1</th>\n",
       "      <td>1</td>\n",
       "      <td>0</td>\n",
       "      <td>0</td>\n",
       "      <td>0.0</td>\n",
       "      <td>0.0</td>\n",
       "      <td>1.0</td>\n",
       "      <td>0.0</td>\n",
       "      <td>0.0</td>\n",
       "      <td>0</td>\n",
       "      <td>0</td>\n",
       "    </tr>\n",
       "    <tr>\n",
       "      <th>2</th>\n",
       "      <td>0</td>\n",
       "      <td>1</td>\n",
       "      <td>0</td>\n",
       "      <td>0.0</td>\n",
       "      <td>0.0</td>\n",
       "      <td>0.0</td>\n",
       "      <td>1.0</td>\n",
       "      <td>1.0</td>\n",
       "      <td>0</td>\n",
       "      <td>0</td>\n",
       "    </tr>\n",
       "    <tr>\n",
       "      <th>3</th>\n",
       "      <td>0</td>\n",
       "      <td>0</td>\n",
       "      <td>1</td>\n",
       "      <td>0.0</td>\n",
       "      <td>1.0</td>\n",
       "      <td>0.0</td>\n",
       "      <td>0.0</td>\n",
       "      <td>0.0</td>\n",
       "      <td>0</td>\n",
       "      <td>0</td>\n",
       "    </tr>\n",
       "    <tr>\n",
       "      <th>4</th>\n",
       "      <td>0</td>\n",
       "      <td>0</td>\n",
       "      <td>1</td>\n",
       "      <td>0.0</td>\n",
       "      <td>0.0</td>\n",
       "      <td>0.0</td>\n",
       "      <td>0.0</td>\n",
       "      <td>1.0</td>\n",
       "      <td>0</td>\n",
       "      <td>0</td>\n",
       "    </tr>\n",
       "  </tbody>\n",
       "</table>\n",
       "</div>"
      ],
      "text/plain": [
       "   shift_id_1  shift_id_2  shift_id_3  shift_day_of_week_Monday  \\\n",
       "0           0           0           0                       1.0   \n",
       "1           1           0           0                       0.0   \n",
       "2           0           1           0                       0.0   \n",
       "3           0           0           1                       0.0   \n",
       "4           0           0           1                       0.0   \n",
       "\n",
       "   shift_day_of_week_Thursday  shift_day_of_week_Tuesday  \\\n",
       "0                         0.0                        0.0   \n",
       "1                         0.0                        1.0   \n",
       "2                         0.0                        0.0   \n",
       "3                         1.0                        0.0   \n",
       "4                         0.0                        0.0   \n",
       "\n",
       "   shift_day_of_week_Wednesday  shift_type_Morning  employee_id_248509  \\\n",
       "0                          0.0                 1.0                   0   \n",
       "1                          0.0                 0.0                   0   \n",
       "2                          1.0                 1.0                   0   \n",
       "3                          0.0                 0.0                   0   \n",
       "4                          0.0                 1.0                   0   \n",
       "\n",
       "   employee_id_508579  \n",
       "0                   0  \n",
       "1                   0  \n",
       "2                   0  \n",
       "3                   0  \n",
       "4                   0  "
      ]
     },
     "execution_count": 42,
     "metadata": {},
     "output_type": "execute_result"
    }
   ],
   "source": [
    "p = \"pool_0001\"\n",
    "s = \"schedule_TEST\"\n",
    "\n",
    "pool, schedule = pd.read_csv(f'scheduling_problems/pools/{p}.csv',dtype={'employee_id':'str'}), \\\n",
    "                 pd.read_csv(f'scheduling_problems/{s}.csv',dtype={'shift_id':'str'})\n",
    "\n",
    "sfEncodings = joblib.load('shiftFeatureEncoding.joblib')\n",
    "\n",
    "shifts = pd.get_dummies(schedule[['shift_id']],drop_first=True)\n",
    "sfEncoded =  sfEncodings.transform(schedule[['shift_day_of_week','shift_type']])\n",
    "shift_features = pd.DataFrame(sfEncoded, columns=sfEncodings.get_feature_names_out())\n",
    "\n",
    "schedule = pd.merge(shifts, shift_features, left_index=True, right_index=True)\n",
    "\n",
    "#self.shift_features = schedule.shape[1]\n",
    "\n",
    "# OR \n",
    "# self.shift_features = shift_features.shape[1]\n",
    "\n",
    "for i in pd.get_dummies(pool).columns.to_list():\n",
    "    schedule[i] = 0\n",
    "\n",
    "schedule"
   ]
  },
  {
   "cell_type": "code",
   "execution_count": null,
   "metadata": {},
   "outputs": [],
   "source": [
    "#### fix embeddings ####"
   ]
  },
  {
   "cell_type": "code",
   "execution_count": 80,
   "metadata": {},
   "outputs": [
    {
     "data": {
      "text/html": [
       "<div>\n",
       "<style scoped>\n",
       "    .dataframe tbody tr th:only-of-type {\n",
       "        vertical-align: middle;\n",
       "    }\n",
       "\n",
       "    .dataframe tbody tr th {\n",
       "        vertical-align: top;\n",
       "    }\n",
       "\n",
       "    .dataframe thead th {\n",
       "        text-align: right;\n",
       "    }\n",
       "</style>\n",
       "<table border=\"1\" class=\"dataframe\">\n",
       "  <thead>\n",
       "    <tr style=\"text-align: right;\">\n",
       "      <th></th>\n",
       "      <th>shift_id_1</th>\n",
       "      <th>shift_id_2</th>\n",
       "      <th>shift_id_3</th>\n",
       "      <th>shift_id_4</th>\n",
       "      <th>shift_id_5</th>\n",
       "      <th>shift_id_6</th>\n",
       "      <th>shift_day_of_week_Monday</th>\n",
       "      <th>shift_day_of_week_Thursday</th>\n",
       "      <th>shift_day_of_week_Tuesday</th>\n",
       "      <th>shift_day_of_week_Wednesday</th>\n",
       "      <th>shift_type_Morning</th>\n",
       "      <th>employee_id_248509</th>\n",
       "      <th>employee_id_508579</th>\n",
       "    </tr>\n",
       "  </thead>\n",
       "  <tbody>\n",
       "    <tr>\n",
       "      <th>0</th>\n",
       "      <td>0</td>\n",
       "      <td>0</td>\n",
       "      <td>0</td>\n",
       "      <td>0</td>\n",
       "      <td>0</td>\n",
       "      <td>0</td>\n",
       "      <td>1.0</td>\n",
       "      <td>0.0</td>\n",
       "      <td>0.0</td>\n",
       "      <td>0.0</td>\n",
       "      <td>1.0</td>\n",
       "      <td>0</td>\n",
       "      <td>0</td>\n",
       "    </tr>\n",
       "    <tr>\n",
       "      <th>1</th>\n",
       "      <td>1</td>\n",
       "      <td>0</td>\n",
       "      <td>0</td>\n",
       "      <td>0</td>\n",
       "      <td>0</td>\n",
       "      <td>0</td>\n",
       "      <td>0.0</td>\n",
       "      <td>0.0</td>\n",
       "      <td>1.0</td>\n",
       "      <td>0.0</td>\n",
       "      <td>1.0</td>\n",
       "      <td>0</td>\n",
       "      <td>0</td>\n",
       "    </tr>\n",
       "    <tr>\n",
       "      <th>2</th>\n",
       "      <td>0</td>\n",
       "      <td>1</td>\n",
       "      <td>0</td>\n",
       "      <td>0</td>\n",
       "      <td>0</td>\n",
       "      <td>0</td>\n",
       "      <td>0.0</td>\n",
       "      <td>0.0</td>\n",
       "      <td>1.0</td>\n",
       "      <td>0.0</td>\n",
       "      <td>0.0</td>\n",
       "      <td>0</td>\n",
       "      <td>0</td>\n",
       "    </tr>\n",
       "    <tr>\n",
       "      <th>3</th>\n",
       "      <td>0</td>\n",
       "      <td>0</td>\n",
       "      <td>1</td>\n",
       "      <td>0</td>\n",
       "      <td>0</td>\n",
       "      <td>0</td>\n",
       "      <td>0.0</td>\n",
       "      <td>0.0</td>\n",
       "      <td>0.0</td>\n",
       "      <td>1.0</td>\n",
       "      <td>1.0</td>\n",
       "      <td>0</td>\n",
       "      <td>0</td>\n",
       "    </tr>\n",
       "    <tr>\n",
       "      <th>4</th>\n",
       "      <td>0</td>\n",
       "      <td>0</td>\n",
       "      <td>0</td>\n",
       "      <td>1</td>\n",
       "      <td>0</td>\n",
       "      <td>0</td>\n",
       "      <td>0.0</td>\n",
       "      <td>0.0</td>\n",
       "      <td>0.0</td>\n",
       "      <td>1.0</td>\n",
       "      <td>0.0</td>\n",
       "      <td>0</td>\n",
       "      <td>0</td>\n",
       "    </tr>\n",
       "    <tr>\n",
       "      <th>5</th>\n",
       "      <td>0</td>\n",
       "      <td>0</td>\n",
       "      <td>0</td>\n",
       "      <td>0</td>\n",
       "      <td>1</td>\n",
       "      <td>0</td>\n",
       "      <td>0.0</td>\n",
       "      <td>1.0</td>\n",
       "      <td>0.0</td>\n",
       "      <td>0.0</td>\n",
       "      <td>1.0</td>\n",
       "      <td>0</td>\n",
       "      <td>0</td>\n",
       "    </tr>\n",
       "    <tr>\n",
       "      <th>6</th>\n",
       "      <td>0</td>\n",
       "      <td>0</td>\n",
       "      <td>0</td>\n",
       "      <td>0</td>\n",
       "      <td>0</td>\n",
       "      <td>1</td>\n",
       "      <td>0.0</td>\n",
       "      <td>0.0</td>\n",
       "      <td>0.0</td>\n",
       "      <td>0.0</td>\n",
       "      <td>1.0</td>\n",
       "      <td>0</td>\n",
       "      <td>0</td>\n",
       "    </tr>\n",
       "  </tbody>\n",
       "</table>\n",
       "</div>"
      ],
      "text/plain": [
       "   shift_id_1  shift_id_2  shift_id_3  shift_id_4  shift_id_5  shift_id_6  \\\n",
       "0           0           0           0           0           0           0   \n",
       "1           1           0           0           0           0           0   \n",
       "2           0           1           0           0           0           0   \n",
       "3           0           0           1           0           0           0   \n",
       "4           0           0           0           1           0           0   \n",
       "5           0           0           0           0           1           0   \n",
       "6           0           0           0           0           0           1   \n",
       "\n",
       "   shift_day_of_week_Monday  shift_day_of_week_Thursday  \\\n",
       "0                       1.0                         0.0   \n",
       "1                       0.0                         0.0   \n",
       "2                       0.0                         0.0   \n",
       "3                       0.0                         0.0   \n",
       "4                       0.0                         0.0   \n",
       "5                       0.0                         1.0   \n",
       "6                       0.0                         0.0   \n",
       "\n",
       "   shift_day_of_week_Tuesday  shift_day_of_week_Wednesday  shift_type_Morning  \\\n",
       "0                        0.0                          0.0                 1.0   \n",
       "1                        1.0                          0.0                 1.0   \n",
       "2                        1.0                          0.0                 0.0   \n",
       "3                        0.0                          1.0                 1.0   \n",
       "4                        0.0                          1.0                 0.0   \n",
       "5                        0.0                          0.0                 1.0   \n",
       "6                        0.0                          0.0                 1.0   \n",
       "\n",
       "   employee_id_248509  employee_id_508579  \n",
       "0                   0                   0  \n",
       "1                   0                   0  \n",
       "2                   0                   0  \n",
       "3                   0                   0  \n",
       "4                   0                   0  \n",
       "5                   0                   0  \n",
       "6                   0                   0  "
      ]
     },
     "execution_count": 80,
     "metadata": {},
     "output_type": "execute_result"
    }
   ],
   "source": [
    "p = \"pool_0001\"\n",
    "s = \"schedule_0010\"\n",
    "\n",
    "pool, schedule = pd.read_csv(f'scheduling_problems/pools/{p}.csv',dtype={'employee_id':'str'}), \\\n",
    "                 pd.read_csv(f'scheduling_problems/schedules/{s}.csv',dtype={'shift_id':'str'})\n",
    "\n",
    "sfEncodings = joblib.load('shiftFeatureEncoding.joblib')\n",
    "\n",
    "shifts = pd.get_dummies(schedule[['shift_id']],drop_first=True)\n",
    "sfEncoded =  sfEncodings.transform(schedule[['shift_day_of_week','shift_type']])\n",
    "shift_features = pd.DataFrame(sfEncoded, columns=sfEncodings.get_feature_names_out())\n",
    "\n",
    "schedule = pd.merge(shifts, shift_features, left_index=True, right_index=True)\n",
    "\n",
    "#self.shift_features = schedule.shape[1]\n",
    "\n",
    "# OR \n",
    "# self.shift_features = shift_features.shape[1]\n",
    "\n",
    "for i in pd.get_dummies(pool).columns.to_list():\n",
    "    schedule[i] = 0\n",
    "\n",
    "schedule\n"
   ]
  },
  {
   "cell_type": "code",
   "execution_count": 81,
   "metadata": {},
   "outputs": [
    {
     "data": {
      "text/plain": [
       "array([[0., 0., 0., 0., 0., 0., 1., 0., 0., 0., 1., 0., 0.],\n",
       "       [1., 0., 0., 0., 0., 0., 0., 0., 1., 0., 1., 0., 0.],\n",
       "       [0., 1., 0., 0., 0., 0., 0., 0., 1., 0., 0., 0., 0.],\n",
       "       [0., 0., 1., 0., 0., 0., 0., 0., 0., 1., 1., 0., 0.],\n",
       "       [0., 0., 0., 1., 0., 0., 0., 0., 0., 1., 0., 0., 0.],\n",
       "       [0., 0., 0., 0., 1., 0., 0., 1., 0., 0., 1., 0., 0.],\n",
       "       [0., 0., 0., 0., 0., 1., 0., 0., 0., 0., 1., 0., 0.]])"
      ]
     },
     "execution_count": 81,
     "metadata": {},
     "output_type": "execute_result"
    }
   ],
   "source": [
    "state = schedule.to_numpy()\n",
    "state"
   ]
  },
  {
   "cell_type": "code",
   "execution_count": 82,
   "metadata": {},
   "outputs": [
    {
     "name": "stdout",
     "output_type": "stream",
     "text": [
      "2\n",
      "7\n"
     ]
    }
   ],
   "source": [
    "print(len(pool))\n",
    "print(len(schedule))"
   ]
  },
  {
   "cell_type": "code",
   "execution_count": 95,
   "metadata": {},
   "outputs": [
    {
     "data": {
      "text/plain": [
       "11"
      ]
     },
     "execution_count": 95,
     "metadata": {},
     "output_type": "execute_result"
    }
   ],
   "source": [
    "schedule.shape[1] - len(pool)"
   ]
  },
  {
   "cell_type": "code",
   "execution_count": 96,
   "metadata": {},
   "outputs": [
    {
     "name": "stdout",
     "output_type": "stream",
     "text": [
      "(6, 11)\n"
     ]
    }
   ],
   "source": [
    "sf_start = len(schedule)-1\n",
    "sf_end = schedule.shape[1] - len(pool)\n",
    "sf_index = (sf_start,sf_end)\n",
    "print(sf_index)"
   ]
  },
  {
   "cell_type": "code",
   "execution_count": 97,
   "metadata": {},
   "outputs": [
    {
     "data": {
      "text/plain": [
       "array([[1., 0., 0., 0., 1.],\n",
       "       [0., 0., 1., 0., 1.],\n",
       "       [0., 0., 1., 0., 0.],\n",
       "       [0., 0., 0., 1., 1.],\n",
       "       [0., 0., 0., 1., 0.],\n",
       "       [0., 1., 0., 0., 1.],\n",
       "       [0., 0., 0., 0., 1.]])"
      ]
     },
     "execution_count": 97,
     "metadata": {},
     "output_type": "execute_result"
    }
   ],
   "source": [
    "state[:,sf_start:sf_end]"
   ]
  },
  {
   "cell_type": "code",
   "execution_count": 93,
   "metadata": {},
   "outputs": [
    {
     "data": {
      "text/plain": [
       "array([[0., 0., 0., 0., 0., 0., 1., 0., 0., 0., 1., 0., 0.],\n",
       "       [1., 0., 0., 0., 0., 0., 0., 0., 1., 0., 1., 0., 0.],\n",
       "       [0., 1., 0., 0., 0., 0., 0., 0., 1., 0., 0., 0., 0.],\n",
       "       [0., 0., 1., 0., 0., 0., 0., 0., 0., 1., 1., 0., 0.],\n",
       "       [0., 0., 0., 1., 0., 0., 0., 0., 0., 1., 0., 0., 0.],\n",
       "       [0., 0., 0., 0., 1., 0., 0., 1., 0., 0., 1., 0., 0.],\n",
       "       [0., 0., 0., 0., 0., 1., 0., 0., 0., 0., 1., 0., 0.]])"
      ]
     },
     "execution_count": 93,
     "metadata": {},
     "output_type": "execute_result"
    }
   ],
   "source": [
    "state"
   ]
  }
 ],
 "metadata": {
  "interpreter": {
   "hash": "a5b0cbe14e1b88e411ba60f7f1e42d018a6caa56656953e7d806710a4690a6c8"
  },
  "kernelspec": {
   "display_name": "Python 3.7.2 64-bit ('rl')",
   "language": "python",
   "name": "python3"
  },
  "language_info": {
   "codemirror_mode": {
    "name": "ipython",
    "version": 3
   },
   "file_extension": ".py",
   "mimetype": "text/x-python",
   "name": "python",
   "nbconvert_exporter": "python",
   "pygments_lexer": "ipython3",
   "version": "3.7.2"
  },
  "orig_nbformat": 4
 },
 "nbformat": 4,
 "nbformat_minor": 2
}
