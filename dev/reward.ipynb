{
 "cells": [
  {
   "cell_type": "code",
   "execution_count": 150,
   "metadata": {},
   "outputs": [],
   "source": [
    "import pandas as pd\n",
    "import numpy as np\n",
    "from numpy.lib.stride_tricks import sliding_window_view\n",
    "import joblib"
   ]
  },
  {
   "cell_type": "code",
   "execution_count": 339,
   "metadata": {},
   "outputs": [
    {
     "data": {
      "text/html": [
       "<div>\n",
       "<style scoped>\n",
       "    .dataframe tbody tr th:only-of-type {\n",
       "        vertical-align: middle;\n",
       "    }\n",
       "\n",
       "    .dataframe tbody tr th {\n",
       "        vertical-align: top;\n",
       "    }\n",
       "\n",
       "    .dataframe thead th {\n",
       "        text-align: right;\n",
       "    }\n",
       "</style>\n",
       "<table border=\"1\" class=\"dataframe\">\n",
       "  <thead>\n",
       "    <tr style=\"text-align: right;\">\n",
       "      <th></th>\n",
       "      <th>shift_id</th>\n",
       "      <th>shift_day_of_week</th>\n",
       "      <th>shift_type</th>\n",
       "    </tr>\n",
       "  </thead>\n",
       "  <tbody>\n",
       "    <tr>\n",
       "      <th>0</th>\n",
       "      <td>0</td>\n",
       "      <td>1</td>\n",
       "      <td>1</td>\n",
       "    </tr>\n",
       "    <tr>\n",
       "      <th>1</th>\n",
       "      <td>1</td>\n",
       "      <td>2</td>\n",
       "      <td>1</td>\n",
       "    </tr>\n",
       "    <tr>\n",
       "      <th>2</th>\n",
       "      <td>2</td>\n",
       "      <td>2</td>\n",
       "      <td>2</td>\n",
       "    </tr>\n",
       "    <tr>\n",
       "      <th>3</th>\n",
       "      <td>3</td>\n",
       "      <td>3</td>\n",
       "      <td>1</td>\n",
       "    </tr>\n",
       "    <tr>\n",
       "      <th>4</th>\n",
       "      <td>4</td>\n",
       "      <td>3</td>\n",
       "      <td>2</td>\n",
       "    </tr>\n",
       "    <tr>\n",
       "      <th>5</th>\n",
       "      <td>5</td>\n",
       "      <td>4</td>\n",
       "      <td>1</td>\n",
       "    </tr>\n",
       "    <tr>\n",
       "      <th>6</th>\n",
       "      <td>6</td>\n",
       "      <td>5</td>\n",
       "      <td>1</td>\n",
       "    </tr>\n",
       "  </tbody>\n",
       "</table>\n",
       "</div>"
      ],
      "text/plain": [
       "   shift_id  shift_day_of_week  shift_type\n",
       "0         0                  1           1\n",
       "1         1                  2           1\n",
       "2         2                  2           2\n",
       "3         3                  3           1\n",
       "4         4                  3           2\n",
       "5         5                  4           1\n",
       "6         6                  5           1"
      ]
     },
     "execution_count": 339,
     "metadata": {},
     "output_type": "execute_result"
    }
   ],
   "source": [
    "p = \"pool_0010\"\n",
    "s = \"schedule_0010\"\n",
    "\n",
    "pool, schedule = pd.read_csv(f'scheduling_problems/pools/{p}.csv',dtype={'employee_id':'str'}), \\\n",
    "                 pd.read_csv(f'scheduling_problems/schedules/{s}.csv',dtype={'reward_step':'str'})\n",
    "\n",
    "sdf = schedule.copy()\n",
    "schedule['shift_day_of_week'] = schedule['shift_day_of_week'].replace(['Monday', 'Tuesday', 'Wednesday', 'Thursday', 'Friday'],[1, 2, 3, 4, 5])\n",
    "\n",
    "schedule['shift_type'] = schedule['shift_type'].replace(['Morning', 'Evening'],[1, 2])\n",
    "\n",
    "schedule"
   ]
  },
  {
   "cell_type": "code",
   "execution_count": 341,
   "metadata": {},
   "outputs": [
    {
     "data": {
      "text/html": [
       "<div>\n",
       "<style scoped>\n",
       "    .dataframe tbody tr th:only-of-type {\n",
       "        vertical-align: middle;\n",
       "    }\n",
       "\n",
       "    .dataframe tbody tr th {\n",
       "        vertical-align: top;\n",
       "    }\n",
       "\n",
       "    .dataframe thead th {\n",
       "        text-align: right;\n",
       "    }\n",
       "</style>\n",
       "<table border=\"1\" class=\"dataframe\">\n",
       "  <thead>\n",
       "    <tr style=\"text-align: right;\">\n",
       "      <th></th>\n",
       "      <th>shift_id</th>\n",
       "      <th>shift_day_of_week_2</th>\n",
       "      <th>shift_day_of_week_3</th>\n",
       "      <th>shift_day_of_week_4</th>\n",
       "      <th>shift_day_of_week_5</th>\n",
       "      <th>shift_type_2</th>\n",
       "      <th>employee_id_550035</th>\n",
       "      <th>employee_id_804870</th>\n",
       "      <th>employee_id_847472</th>\n",
       "      <th>employee_id_851241</th>\n",
       "    </tr>\n",
       "  </thead>\n",
       "  <tbody>\n",
       "    <tr>\n",
       "      <th>0</th>\n",
       "      <td>0</td>\n",
       "      <td>0.0</td>\n",
       "      <td>0.0</td>\n",
       "      <td>0.0</td>\n",
       "      <td>0.0</td>\n",
       "      <td>0.0</td>\n",
       "      <td>0</td>\n",
       "      <td>0</td>\n",
       "      <td>0</td>\n",
       "      <td>0</td>\n",
       "    </tr>\n",
       "    <tr>\n",
       "      <th>1</th>\n",
       "      <td>1</td>\n",
       "      <td>1.0</td>\n",
       "      <td>0.0</td>\n",
       "      <td>0.0</td>\n",
       "      <td>0.0</td>\n",
       "      <td>0.0</td>\n",
       "      <td>0</td>\n",
       "      <td>0</td>\n",
       "      <td>0</td>\n",
       "      <td>0</td>\n",
       "    </tr>\n",
       "    <tr>\n",
       "      <th>2</th>\n",
       "      <td>2</td>\n",
       "      <td>1.0</td>\n",
       "      <td>0.0</td>\n",
       "      <td>0.0</td>\n",
       "      <td>0.0</td>\n",
       "      <td>1.0</td>\n",
       "      <td>0</td>\n",
       "      <td>0</td>\n",
       "      <td>0</td>\n",
       "      <td>0</td>\n",
       "    </tr>\n",
       "    <tr>\n",
       "      <th>3</th>\n",
       "      <td>3</td>\n",
       "      <td>0.0</td>\n",
       "      <td>1.0</td>\n",
       "      <td>0.0</td>\n",
       "      <td>0.0</td>\n",
       "      <td>0.0</td>\n",
       "      <td>0</td>\n",
       "      <td>0</td>\n",
       "      <td>0</td>\n",
       "      <td>0</td>\n",
       "    </tr>\n",
       "    <tr>\n",
       "      <th>4</th>\n",
       "      <td>4</td>\n",
       "      <td>0.0</td>\n",
       "      <td>1.0</td>\n",
       "      <td>0.0</td>\n",
       "      <td>0.0</td>\n",
       "      <td>1.0</td>\n",
       "      <td>0</td>\n",
       "      <td>0</td>\n",
       "      <td>0</td>\n",
       "      <td>0</td>\n",
       "    </tr>\n",
       "    <tr>\n",
       "      <th>5</th>\n",
       "      <td>5</td>\n",
       "      <td>0.0</td>\n",
       "      <td>0.0</td>\n",
       "      <td>1.0</td>\n",
       "      <td>0.0</td>\n",
       "      <td>0.0</td>\n",
       "      <td>0</td>\n",
       "      <td>0</td>\n",
       "      <td>0</td>\n",
       "      <td>0</td>\n",
       "    </tr>\n",
       "    <tr>\n",
       "      <th>6</th>\n",
       "      <td>6</td>\n",
       "      <td>0.0</td>\n",
       "      <td>0.0</td>\n",
       "      <td>0.0</td>\n",
       "      <td>1.0</td>\n",
       "      <td>0.0</td>\n",
       "      <td>0</td>\n",
       "      <td>0</td>\n",
       "      <td>0</td>\n",
       "      <td>0</td>\n",
       "    </tr>\n",
       "  </tbody>\n",
       "</table>\n",
       "</div>"
      ],
      "text/plain": [
       "   shift_id  shift_day_of_week_2  shift_day_of_week_3  shift_day_of_week_4  \\\n",
       "0         0                  0.0                  0.0                  0.0   \n",
       "1         1                  1.0                  0.0                  0.0   \n",
       "2         2                  1.0                  0.0                  0.0   \n",
       "3         3                  0.0                  1.0                  0.0   \n",
       "4         4                  0.0                  1.0                  0.0   \n",
       "5         5                  0.0                  0.0                  1.0   \n",
       "6         6                  0.0                  0.0                  0.0   \n",
       "\n",
       "   shift_day_of_week_5  shift_type_2  employee_id_550035  employee_id_804870  \\\n",
       "0                  0.0           0.0                   0                   0   \n",
       "1                  0.0           0.0                   0                   0   \n",
       "2                  0.0           1.0                   0                   0   \n",
       "3                  0.0           0.0                   0                   0   \n",
       "4                  0.0           1.0                   0                   0   \n",
       "5                  0.0           0.0                   0                   0   \n",
       "6                  1.0           0.0                   0                   0   \n",
       "\n",
       "   employee_id_847472  employee_id_851241  \n",
       "0                   0                   0  \n",
       "1                   0                   0  \n",
       "2                   0                   0  \n",
       "3                   0                   0  \n",
       "4                   0                   0  \n",
       "5                   0                   0  \n",
       "6                   0                   0  "
      ]
     },
     "execution_count": 341,
     "metadata": {},
     "output_type": "execute_result"
    }
   ],
   "source": [
    "sfEncodings = joblib.load('shiftFeatureEncoding.joblib')\n",
    "\n",
    "shifts = pd.get_dummies(schedule[['shift_id']],drop_first=True)\n",
    "sfEncoded =  sfEncodings.transform(schedule[['shift_day_of_week','shift_type']])\n",
    "shift_features = pd.DataFrame(sfEncoded, columns=sfEncodings.get_feature_names_out())\n",
    "\n",
    "schedule = pd.merge(shifts, shift_features, left_index=True, right_index=True)\n",
    "\n",
    "shift_features = schedule.shape[1]\n",
    "\n",
    "for i in pd.get_dummies(pool).columns.to_list():\n",
    "    schedule[i] = 0\n",
    "\n",
    "schedule"
   ]
  },
  {
   "cell_type": "code",
   "execution_count": 342,
   "metadata": {},
   "outputs": [
    {
     "data": {
      "text/plain": [
       "array([[0., 0., 0., 0., 0., 0., 0., 0., 0., 0.],\n",
       "       [1., 1., 0., 0., 0., 0., 0., 0., 0., 0.],\n",
       "       [2., 1., 0., 0., 0., 1., 0., 0., 0., 0.],\n",
       "       [3., 0., 1., 0., 0., 0., 0., 0., 0., 0.],\n",
       "       [4., 0., 1., 0., 0., 1., 0., 0., 0., 0.],\n",
       "       [5., 0., 0., 1., 0., 0., 0., 0., 0., 0.],\n",
       "       [6., 0., 0., 0., 1., 0., 0., 0., 0., 0.]])"
      ]
     },
     "execution_count": 342,
     "metadata": {},
     "output_type": "execute_result"
    }
   ],
   "source": [
    "num_shifts = len(schedule)\n",
    "count_workers=len(pool)\n",
    "\n",
    "state = schedule.to_numpy()\n",
    "state"
   ]
  },
  {
   "cell_type": "code",
   "execution_count": 355,
   "metadata": {},
   "outputs": [],
   "source": [
    "def evaluateSchedule(state):\n",
    "    \"\"\"Check a completed schedule for constraint violations.\n",
    "    For each employee, apply sliding window to compare successive shifts.\n",
    "    If an employee is assigned to b2b shifts, look up the relevant features.\n",
    "    If the shifts are on the same day, record a constraint violation\n",
    "    If the shifts are on successive days, evening then morning, records a constraint  violation.\n",
    "    Else, no constraint violation.\n",
    "\n",
    "    :param state: state matrix\n",
    "    :type state: numpy.array\n",
    "    :return: count of constraint violations\n",
    "    :rtype: int\n",
    "    \"\"\"\n",
    "    count_b2b_violation = 0\n",
    "\n",
    "    for i in range(count_workers):\n",
    "        # using sliding window to compare successive shifts\n",
    "        # checks = a list of pairwise binary shift assignment feature, from last - first\n",
    "        checks = sliding_window_view(state[:,shift_features+i], 2)[::-1]\n",
    "        #print(checks)\n",
    "        # for each check\n",
    "        for j,k in enumerate(checks):\n",
    "            shift_id = abs(j - len(checks))-1\n",
    "            # check for b2b shifts\n",
    "            # 1 = assigned, 0 = not assigned\n",
    "            if sum(k) > 1:\n",
    "                #print(f\"employee:{i}, shift:{shift_id},{k}\")\n",
    "                # get features for b2b shifts\n",
    "                shift_feats = state[shift_id:shift_id+2,num_shifts-1:shift_features]\n",
    "\n",
    "                # just the features for day of week\n",
    "                day_feats_1 = state[shift_id,num_shifts-1:shift_features-1]\n",
    "                day_feats_2 = state[shift_id+1,num_shifts-1:shift_features-1]\n",
    "                day1 = [np.where(day_feats_1==1)[0].item() + 2 if np.where(day_feats_1==1)[0].size != 0 else 1][0]\n",
    "                day2 = [np.where(day_feats_2==1)[0].item() + 2 if np.where(day_feats_2==1)[0].size != 0 else 1][0]\n",
    "                \n",
    "                # shifts are on the same day = violation\n",
    "                if day1 == day2:\n",
    "                    count_b2b_violation += 1\n",
    "                    print(f\"shift:{shift_id+1},employee:{i}, constraint1 violated\")\n",
    "                \n",
    "                # if shifts are on successive days, evening -> morning = violation\n",
    "                if day2 == day1+1:\n",
    "                    # if shift 1 type = evening and shift 2 type = morning, record violation\n",
    "                    count_b2b_violation += [1 if shift_feats[:,4][0] == 1 and shift_feats[:,4][1] == 0 else 0][0]\n",
    "                    if [1 if shift_feats[:,4][0] == 1 and shift_feats[:,4][1] == 0 else 0][0] == 1:\n",
    "                        print(f\"shift:{shift_id+1},employee:{i}, constraint2 violated\")\n",
    "\n",
    "\n",
    "    return count_b2b_violation"
   ]
  },
  {
   "cell_type": "code",
   "execution_count": 354,
   "metadata": {},
   "outputs": [],
   "source": [
    "def evaluateStep(state,reward_step):\n",
    "    \"\"\"Check the last 2 shift assignments for constraint violations.\n",
    "    For each employee, compare successive shifts.\n",
    "    If an employee is assigned to b2b shifts, look up the relevant features.\n",
    "    If the shifts are on the same day, record a constraint violation\n",
    "    If the shifts are on successive days, evening then morning, records a constraint  violation.\n",
    "    Else, no constraint violation.\n",
    "\n",
    "    :param state: state matrix\n",
    "    :type state: numpy.array\n",
    "    :return: count of constraint violations\n",
    "    :rtype: int\n",
    "    \"\"\"\n",
    "    count_b2b_violation = 0\n",
    "\n",
    "    for i in range(count_workers):\n",
    "        assignments = state[reward_step-1:reward_step+1,shift_features:][:,i]\n",
    "        if sum(assignments) > 1:\n",
    "            shift_feats = state[reward_step-1:reward_step+1,num_shifts-1:shift_features]\n",
    "\n",
    "            # just the features for day of week\n",
    "            day_feats_1 = state[reward_step-1,num_shifts-1:shift_features-1]\n",
    "            day_feats_2 = state[reward_step,num_shifts-1:shift_features-1]\n",
    "            day1 = [np.where(day_feats_1==1)[0].item() + 2 if np.where(day_feats_1==1)[0].size != 0 else 1][0]\n",
    "            day2 = [np.where(day_feats_2==1)[0].item() + 2 if np.where(day_feats_2==1)[0].size != 0 else 1][0]\n",
    "            \n",
    "            # shifts are on the same day = violation\n",
    "            if day1 == day2:\n",
    "                count_b2b_violation += 1\n",
    "                print(f\"shift:{reward_step},employee:{i}, constraint1 violated\")\n",
    "            \n",
    "            # if shifts are on successive days, evening -> morning = violation\n",
    "            if day2 == day1+1:\n",
    "                # if shift 1 type = evening and shift 2 type = morning, record violation\n",
    "                count_b2b_violation += [1 if shift_feats[:,4][0] == 1 and shift_feats[:,4][1] == 0 else 0][0]\n",
    "                if [1 if shift_feats[:,4][0] == 1 and shift_feats[:,4][1] == 0 else 0][0] == 1:\n",
    "                    print(f\"shift:{reward_step},employee:{i}, constraint2 violated\")\n",
    "\n",
    "    return count_b2b_violation"
   ]
  },
  {
   "cell_type": "code",
   "execution_count": 343,
   "metadata": {},
   "outputs": [
    {
     "name": "stdout",
     "output_type": "stream",
     "text": [
      "7\n",
      "4\n",
      "6\n"
     ]
    }
   ],
   "source": [
    "print(num_shifts)\n",
    "print(count_workers)\n",
    "print(shift_features)"
   ]
  },
  {
   "cell_type": "code",
   "execution_count": 345,
   "metadata": {},
   "outputs": [],
   "source": [
    "state = np.array([[0, 0, 0, 0, 0, 0, 0, 0, 0, 1],\n",
    "                  [1, 1, 0, 0, 0, 0, 0, 0, 0, 1],\n",
    "                  [2, 1, 0, 0, 0, 1, 0, 0, 1, 0],\n",
    "                  [3, 0, 1, 0, 0, 0, 0, 0, 1, 0],\n",
    "                  [4, 0, 1, 0, 0, 1, 0, 1, 0, 0],\n",
    "                  [5, 0, 0, 1, 0, 0, 0, 1, 0, 0],\n",
    "                  [6, 0, 0, 0, 1, 0, 0, 1, 0, 0]])"
   ]
  },
  {
   "cell_type": "code",
   "execution_count": 356,
   "metadata": {},
   "outputs": [
    {
     "name": "stdout",
     "output_type": "stream",
     "text": [
      "shift:1,employee:3, constraint1 violated\n",
      "shift:3,employee:2, constraint1 violated\n",
      "shift:5,employee:1, constraint1 violated\n",
      "shift:6,employee:1, constraint1 violated\n"
     ]
    }
   ],
   "source": [
    "for i in range(num_shifts):\n",
    "    if i > 0:\n",
    "        evaluateStep(state, reward_step=i)\n"
   ]
  },
  {
   "cell_type": "code",
   "execution_count": 357,
   "metadata": {},
   "outputs": [
    {
     "name": "stdout",
     "output_type": "stream",
     "text": [
      "shift:6,employee:1, constraint1 violated\n",
      "shift:5,employee:1, constraint1 violated\n",
      "shift:3,employee:2, constraint1 violated\n",
      "shift:1,employee:3, constraint1 violated\n"
     ]
    },
    {
     "data": {
      "text/plain": [
       "4"
      ]
     },
     "execution_count": 357,
     "metadata": {},
     "output_type": "execute_result"
    }
   ],
   "source": [
    "evaluateSchedule(state)"
   ]
  },
  {
   "cell_type": "code",
   "execution_count": 358,
   "metadata": {},
   "outputs": [
    {
     "name": "stdout",
     "output_type": "stream",
     "text": [
      "shift:6,employee:1, constraint1 violated\n",
      "shift:5,employee:1, constraint1 violated\n",
      "shift:3,employee:2, constraint1 violated\n",
      "shift:1,employee:3, constraint1 violated\n"
     ]
    },
    {
     "data": {
      "text/plain": [
       "4"
      ]
     },
     "execution_count": 358,
     "metadata": {},
     "output_type": "execute_result"
    }
   ],
   "source": [
    "v = evaluateSchedule(state)\n",
    "v"
   ]
  },
  {
   "cell_type": "code",
   "execution_count": null,
   "metadata": {},
   "outputs": [],
   "source": [
    "##### rewards"
   ]
  },
  {
   "cell_type": "code",
   "execution_count": 363,
   "metadata": {},
   "outputs": [
    {
     "data": {
      "text/plain": [
       "0.4285714285714286"
      ]
     },
     "execution_count": 363,
     "metadata": {},
     "output_type": "execute_result"
    }
   ],
   "source": [
    "1 - (v / num_shifts)"
   ]
  },
  {
   "cell_type": "code",
   "execution_count": 364,
   "metadata": {},
   "outputs": [
    {
     "data": {
      "text/plain": [
       "4"
      ]
     },
     "execution_count": 364,
     "metadata": {},
     "output_type": "execute_result"
    }
   ],
   "source": [
    "v"
   ]
  }
 ],
 "metadata": {
  "kernelspec": {
   "display_name": "Python 3.7.2 64-bit ('rl')",
   "language": "python",
   "name": "python3"
  },
  "language_info": {
   "codemirror_mode": {
    "name": "ipython",
    "version": 3
   },
   "file_extension": ".py",
   "mimetype": "text/x-python",
   "name": "python",
   "nbconvert_exporter": "python",
   "pygments_lexer": "ipython3",
   "version": "3.7.2"
  },
  "orig_nbformat": 4,
  "vscode": {
   "interpreter": {
    "hash": "a5b0cbe14e1b88e411ba60f7f1e42d018a6caa56656953e7d806710a4690a6c8"
   }
  }
 },
 "nbformat": 4,
 "nbformat_minor": 2
}
