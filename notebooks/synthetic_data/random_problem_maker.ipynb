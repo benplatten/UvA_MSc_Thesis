{
 "cells": [
  {
   "cell_type": "markdown",
   "metadata": {},
   "source": [
    "TODO\n",
    "\n",
    "make employee count based on distribution: https://stackoverflow.com/questions/4265988/generate-random-numbers-with-a-given-numerical-distribution\n",
    "i.e. realistic shift-employee ratio"
   ]
  },
  {
   "cell_type": "code",
   "execution_count": 179,
   "metadata": {},
   "outputs": [],
   "source": [
    "import pandas as pd\n",
    "import random\n",
    "import matplotlib.pyplot as plt\n",
    "import numpy as np"
   ]
  },
  {
   "cell_type": "code",
   "execution_count": 282,
   "metadata": {},
   "outputs": [],
   "source": [
    "def empGen():\n",
    "    employee_id = []\n",
    "    e = random.randint(2, len(shift_id))\n",
    "    for i in range(e):\n",
    "        employee_id.append(''.join(np.random.randint(9,size=(6)).astype('str')))\n",
    "    \n",
    "    return employee_id\n",
    "\n",
    "\n",
    "def randomProblem(max_shifts=15, max_shifts_per_day=4):\n",
    "    \n",
    "    # shift_id\n",
    "    n = random.randint(2, max_shifts)\n",
    "    shift_id = list(range(0, n))\n",
    "    \n",
    "    # shift_day_of_week\n",
    "    shift_day_of_week = []\n",
    "    days = ['Monday','Tuesday','Wednesday','Thursday','Friday']\n",
    "\n",
    "    for i in range(len(shift_id)):\n",
    "        choice = random.choice(days)\n",
    "        if shift_day_of_week.count(choice) < max_shifts_per_day + 1:\n",
    "            shift_day_of_week.append(choice)\n",
    "\n",
    "    shift_day_of_week = sorted(shift_day_of_week, key=days.index)\n",
    "    \n",
    "    # shift_type\n",
    "    shift_type = []\n",
    "    shift_types = ['Morning','Evening']\n",
    "\n",
    "    dayset = set(shift_day_of_week)\n",
    "    sortedDayset = sorted(list(dayset), key=days.index)\n",
    "\n",
    "    for i in sortedDayset:\n",
    "        temp = []\n",
    "        for j in range(shift_day_of_week.count(i)):\n",
    "            temp.append(random.choice(shift_types))\n",
    "        temp = sorted(temp, key=shift_types.index)\n",
    "        for k in temp:\n",
    "            shift_type.append(k)\n",
    "            \n",
    "    # employee_id\n",
    "    while True:\n",
    "        employee_id = empGen()\n",
    "        if len(shift_id) / len(employee_id) <= 5:\n",
    "            break\n",
    "        \n",
    "    scheduleDic = {'shift_id':shift_id,'shift_day_of_week':shift_day_of_week,'shift_type':shift_type}\n",
    "    \n",
    "    schedule = pd.DataFrame(scheduleDic)\n",
    "    pool = pd.DataFrame({'employee_id':employee_id})\n",
    "    \n",
    "    return schedule, pool"
   ]
  },
  {
   "cell_type": "code",
   "execution_count": 285,
   "metadata": {},
   "outputs": [
    {
     "name": "stdout",
     "output_type": "stream",
     "text": [
      "    shift_id shift_day_of_week shift_type\n",
      "0          0            Monday    Evening\n",
      "1          1            Monday    Evening\n",
      "2          2            Monday    Evening\n",
      "3          3            Monday    Evening\n",
      "4          4           Tuesday    Morning\n",
      "5          5           Tuesday    Morning\n",
      "6          6           Tuesday    Evening\n",
      "7          7         Wednesday    Morning\n",
      "8          8         Wednesday    Evening\n",
      "9          9         Wednesday    Evening\n",
      "10        10         Wednesday    Evening\n",
      "11        11          Thursday    Evening\n",
      "12        12          Thursday    Evening\n",
      "13        13            Friday    Morning\n",
      "  employee_id\n",
      "0      556035\n",
      "1      481314\n",
      "2      503061\n",
      "3      467268\n"
     ]
    }
   ],
   "source": [
    "schedule, pool = randomProblem()\n",
    "\n",
    "print(schedule)\n",
    "print(pool)"
   ]
  }
 ],
 "metadata": {
  "kernelspec": {
   "display_name": "werkcollege",
   "language": "python",
   "name": "werkcollege"
  },
  "language_info": {
   "codemirror_mode": {
    "name": "ipython",
    "version": 3
   },
   "file_extension": ".py",
   "mimetype": "text/x-python",
   "name": "python",
   "nbconvert_exporter": "python",
   "pygments_lexer": "ipython3",
   "version": "3.7.2"
  }
 },
 "nbformat": 4,
 "nbformat_minor": 4
}
