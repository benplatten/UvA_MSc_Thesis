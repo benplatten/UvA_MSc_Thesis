{
 "cells": [
  {
   "cell_type": "markdown",
   "metadata": {},
   "source": [
    "TODO\n",
    "\n",
    "get to 45 problems \n",
    "make sure they are all acceptable / solvable "
   ]
  },
  {
   "cell_type": "code",
   "execution_count": 2,
   "metadata": {},
   "outputs": [],
   "source": [
    "import pandas as pd\n",
    "import glob"
   ]
  },
  {
   "cell_type": "code",
   "execution_count": 14,
   "metadata": {},
   "outputs": [],
   "source": [
    "scheduledir = '../../dev/schedules/'\n",
    "pooldir = '../../dev/pools/'"
   ]
  },
  {
   "cell_type": "code",
   "execution_count": 15,
   "metadata": {},
   "outputs": [],
   "source": [
    "schedules = glob.glob(scheduledir+'*')\n",
    "pools = glob.glob(pooldir+'*')"
   ]
  },
  {
   "cell_type": "code",
   "execution_count": 33,
   "metadata": {},
   "outputs": [
    {
     "name": "stdout",
     "output_type": "stream",
     "text": [
      "9\n"
     ]
    },
    {
     "data": {
      "text/plain": [
       "[('../../dev/schedules/schedule_0001.csv', '../../dev/pools/pool_0003.csv'),\n",
       " ('../../dev/schedules/schedule_0001.csv', '../../dev/pools/pool_0002.csv'),\n",
       " ('../../dev/schedules/schedule_0001.csv', '../../dev/pools/pool_0001.csv'),\n",
       " ('../../dev/schedules/schedule_0003.csv', '../../dev/pools/pool_0003.csv'),\n",
       " ('../../dev/schedules/schedule_0003.csv', '../../dev/pools/pool_0002.csv'),\n",
       " ('../../dev/schedules/schedule_0003.csv', '../../dev/pools/pool_0001.csv'),\n",
       " ('../../dev/schedules/schedule_0002.csv', '../../dev/pools/pool_0003.csv'),\n",
       " ('../../dev/schedules/schedule_0002.csv', '../../dev/pools/pool_0002.csv'),\n",
       " ('../../dev/schedules/schedule_0002.csv', '../../dev/pools/pool_0001.csv')]"
      ]
     },
     "execution_count": 33,
     "metadata": {},
     "output_type": "execute_result"
    }
   ],
   "source": [
    "problems = []\n",
    "for i in schedules:\n",
    "    for j in pools:\n",
    "        s = pd.read_csv(i)\n",
    "        p = pd.read_csv(j)\n",
    "        if len(s) / len(p) < 5:\n",
    "            t = (i,j)\n",
    "            problems.append(t)\n",
    "print(len(problems))\n",
    "problems "
   ]
  },
  {
   "cell_type": "code",
   "execution_count": 32,
   "metadata": {},
   "outputs": [
    {
     "name": "stdout",
     "output_type": "stream",
     "text": [
      "   shift_id shift_day_of_week shift_type\n",
      "0         0            Monday    morning\n",
      "1         1            Monday    evening\n",
      "2         2           Tuesday    morning\n",
      "3         3           Tuesday    evening\n",
      "4         4         Wednesday    morning\n",
      "   employee_id\n",
      "0       508579\n",
      "1       248509\n",
      "2       123098\n"
     ]
    }
   ],
   "source": [
    "t = ('../../dev/schedules/schedule_0002.csv', '../../dev/pools/pool_0002.csv')\n",
    "s = pd.read_csv(t[0])\n",
    "p = pd.read_csv(t[1])\n",
    "\n",
    "print(s.head())\n",
    "print(p.head())"
   ]
  },
  {
   "cell_type": "code",
   "execution_count": null,
   "metadata": {},
   "outputs": [],
   "source": []
  }
 ],
 "metadata": {
  "kernelspec": {
   "display_name": "werkcollege",
   "language": "python",
   "name": "werkcollege"
  },
  "language_info": {
   "codemirror_mode": {
    "name": "ipython",
    "version": 3
   },
   "file_extension": ".py",
   "mimetype": "text/x-python",
   "name": "python",
   "nbconvert_exporter": "python",
   "pygments_lexer": "ipython3",
   "version": "3.7.2"
  }
 },
 "nbformat": 4,
 "nbformat_minor": 4
}
