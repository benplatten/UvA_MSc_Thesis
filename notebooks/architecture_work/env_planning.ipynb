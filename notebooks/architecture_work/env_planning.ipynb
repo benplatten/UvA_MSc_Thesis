{
 "cells": [
  {
   "cell_type": "code",
   "execution_count": 92,
   "metadata": {},
   "outputs": [],
   "source": [
    "import pandas as pd\n",
    "\n",
    "import warnings\n",
    "warnings.simplefilter(action='ignore', category=FutureWarning)\n",
    "\n",
    "from pandas.core.common import SettingWithCopyWarning\n",
    "\n",
    "warnings.simplefilter(action=\"ignore\", category=SettingWithCopyWarning)\n"
   ]
  },
  {
   "cell_type": "code",
   "execution_count": 131,
   "metadata": {},
   "outputs": [
    {
     "name": "stdout",
     "output_type": "stream",
     "text": [
      "8\n"
     ]
    }
   ],
   "source": [
    "data_folder = '../../data/'\n",
    "data = pd.read_csv(data_folder + \"simplepool#1.csv\",usecols=\n",
    "                    ['shift_id',\n",
    "                     'start_date_time',\n",
    "                     'shift_day_of_week',  \n",
    "                     'start_time',\n",
    "                     'end_time',\n",
    "                     'employee_id'],\n",
    "                    parse_dates=\n",
    "                    ['start_date_time',\n",
    "                     \"start_time\",\n",
    "                     \"end_time\"])\n",
    "print(data.employee_id.nunique())\n",
    "employees = list(data.employee_id.unique().astype('int').astype('str'))"
   ]
  },
  {
   "cell_type": "code",
   "execution_count": 110,
   "metadata": {},
   "outputs": [],
   "source": [
    "df=data[['shift_id','start_date_time','shift_day_of_week', 'start_time','end_time','employee_id']]\n",
    "df['shift_duration'] = (df['end_time'] - df['start_time']).dt.components['hours'].astype('int')\n",
    "df['start_time'] = df['start_time'].dt.strftime('%H:%M')\n",
    "df['end_time'] = df['end_time'].dt.strftime('%H:%M')\n",
    "df.sort_values(['start_date_time','start_time'],inplace=True)\n",
    "df.drop_duplicates(subset=['shift_id'],inplace=True)\n",
    "df.drop(['start_date_time','shift_id','employee_id'],axis=1,inplace=True)\n",
    "# drop long shift to simplify\n",
    "df = df[df['shift_duration'] < 10]\n",
    "df.reset_index(drop=True,inplace=True)\n",
    "df.reset_index(drop=False,inplace=True)\n",
    "df.rename(columns={'index':'shift_id'}, inplace=True)"
   ]
  },
  {
   "cell_type": "code",
   "execution_count": 111,
   "metadata": {},
   "outputs": [
    {
     "name": "stdout",
     "output_type": "stream",
     "text": [
      "available hours: 43\n"
     ]
    }
   ],
   "source": [
    "print(f\"available hours: {df.shift_duration.sum()}\")"
   ]
  },
  {
   "cell_type": "code",
   "execution_count": 113,
   "metadata": {},
   "outputs": [
    {
     "data": {
      "text/html": [
       "<div>\n",
       "<style scoped>\n",
       "    .dataframe tbody tr th:only-of-type {\n",
       "        vertical-align: middle;\n",
       "    }\n",
       "\n",
       "    .dataframe tbody tr th {\n",
       "        vertical-align: top;\n",
       "    }\n",
       "\n",
       "    .dataframe thead th {\n",
       "        text-align: right;\n",
       "    }\n",
       "</style>\n",
       "<table border=\"1\" class=\"dataframe\">\n",
       "  <thead>\n",
       "    <tr style=\"text-align: right;\">\n",
       "      <th></th>\n",
       "      <th>shift_id</th>\n",
       "      <th>shift_day_of_week</th>\n",
       "      <th>start_time</th>\n",
       "      <th>end_time</th>\n",
       "      <th>shift_duration</th>\n",
       "    </tr>\n",
       "  </thead>\n",
       "  <tbody>\n",
       "    <tr>\n",
       "      <th>0</th>\n",
       "      <td>0</td>\n",
       "      <td>Monday</td>\n",
       "      <td>09:00</td>\n",
       "      <td>12:00</td>\n",
       "      <td>3</td>\n",
       "    </tr>\n",
       "    <tr>\n",
       "      <th>1</th>\n",
       "      <td>1</td>\n",
       "      <td>Monday</td>\n",
       "      <td>13:00</td>\n",
       "      <td>17:00</td>\n",
       "      <td>4</td>\n",
       "    </tr>\n",
       "    <tr>\n",
       "      <th>2</th>\n",
       "      <td>2</td>\n",
       "      <td>Tuesday</td>\n",
       "      <td>09:00</td>\n",
       "      <td>12:00</td>\n",
       "      <td>3</td>\n",
       "    </tr>\n",
       "    <tr>\n",
       "      <th>3</th>\n",
       "      <td>3</td>\n",
       "      <td>Tuesday</td>\n",
       "      <td>13:00</td>\n",
       "      <td>17:00</td>\n",
       "      <td>4</td>\n",
       "    </tr>\n",
       "    <tr>\n",
       "      <th>4</th>\n",
       "      <td>4</td>\n",
       "      <td>Wednesday</td>\n",
       "      <td>09:00</td>\n",
       "      <td>12:00</td>\n",
       "      <td>3</td>\n",
       "    </tr>\n",
       "    <tr>\n",
       "      <th>5</th>\n",
       "      <td>5</td>\n",
       "      <td>Wednesday</td>\n",
       "      <td>13:00</td>\n",
       "      <td>17:00</td>\n",
       "      <td>4</td>\n",
       "    </tr>\n",
       "    <tr>\n",
       "      <th>6</th>\n",
       "      <td>6</td>\n",
       "      <td>Thursday</td>\n",
       "      <td>09:00</td>\n",
       "      <td>12:00</td>\n",
       "      <td>3</td>\n",
       "    </tr>\n",
       "    <tr>\n",
       "      <th>7</th>\n",
       "      <td>7</td>\n",
       "      <td>Thursday</td>\n",
       "      <td>13:00</td>\n",
       "      <td>17:00</td>\n",
       "      <td>4</td>\n",
       "    </tr>\n",
       "    <tr>\n",
       "      <th>8</th>\n",
       "      <td>8</td>\n",
       "      <td>Friday</td>\n",
       "      <td>09:00</td>\n",
       "      <td>12:00</td>\n",
       "      <td>3</td>\n",
       "    </tr>\n",
       "    <tr>\n",
       "      <th>9</th>\n",
       "      <td>9</td>\n",
       "      <td>Friday</td>\n",
       "      <td>09:00</td>\n",
       "      <td>17:00</td>\n",
       "      <td>8</td>\n",
       "    </tr>\n",
       "    <tr>\n",
       "      <th>10</th>\n",
       "      <td>10</td>\n",
       "      <td>Friday</td>\n",
       "      <td>13:00</td>\n",
       "      <td>17:00</td>\n",
       "      <td>4</td>\n",
       "    </tr>\n",
       "  </tbody>\n",
       "</table>\n",
       "</div>"
      ],
      "text/plain": [
       "    shift_id shift_day_of_week start_time end_time  shift_duration\n",
       "0          0            Monday      09:00    12:00               3\n",
       "1          1            Monday      13:00    17:00               4\n",
       "2          2           Tuesday      09:00    12:00               3\n",
       "3          3           Tuesday      13:00    17:00               4\n",
       "4          4         Wednesday      09:00    12:00               3\n",
       "5          5         Wednesday      13:00    17:00               4\n",
       "6          6          Thursday      09:00    12:00               3\n",
       "7          7          Thursday      13:00    17:00               4\n",
       "8          8            Friday      09:00    12:00               3\n",
       "9          9            Friday      09:00    17:00               8\n",
       "10        10            Friday      13:00    17:00               4"
      ]
     },
     "execution_count": 113,
     "metadata": {},
     "output_type": "execute_result"
    }
   ],
   "source": [
    "df"
   ]
  },
  {
   "cell_type": "code",
   "execution_count": 118,
   "metadata": {},
   "outputs": [],
   "source": [
    "required_hours = 3"
   ]
  },
  {
   "cell_type": "code",
   "execution_count": 132,
   "metadata": {},
   "outputs": [
    {
     "data": {
      "text/plain": [
       "['508579',\n",
       " '248509',\n",
       " '246985',\n",
       " '307003',\n",
       " '456212',\n",
       " '659770',\n",
       " '312669',\n",
       " '1030039']"
      ]
     },
     "execution_count": 132,
     "metadata": {},
     "output_type": "execute_result"
    }
   ],
   "source": [
    "employees"
   ]
  }
 ],
 "metadata": {
  "kernelspec": {
   "display_name": "werkcollege",
   "language": "python",
   "name": "werkcollege"
  },
  "language_info": {
   "codemirror_mode": {
    "name": "ipython",
    "version": 3
   },
   "file_extension": ".py",
   "mimetype": "text/x-python",
   "name": "python",
   "nbconvert_exporter": "python",
   "pygments_lexer": "ipython3",
   "version": "3.7.2"
  }
 },
 "nbformat": 4,
 "nbformat_minor": 4
}
