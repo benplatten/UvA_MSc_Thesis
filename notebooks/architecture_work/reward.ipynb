{
 "cells": [
  {
   "cell_type": "code",
   "execution_count": 3,
   "metadata": {},
   "outputs": [],
   "source": [
    "import numpy as np"
   ]
  },
  {
   "cell_type": "code",
   "execution_count": 4,
   "metadata": {},
   "outputs": [],
   "source": [
    "def check_b2b(worker_array):\n",
    "        countb2b=0\n",
    "        count=0\n",
    "        for i in range(len(worker_array)):\n",
    "            if worker_array[i]==1:\n",
    "                count=count+1\n",
    "                if count > 1:\n",
    "                    countb2b += 1                       \n",
    "            else:\n",
    "                count=0\n",
    "\n",
    "        return countb2b"
   ]
  },
  {
   "cell_type": "code",
   "execution_count": 13,
   "metadata": {},
   "outputs": [],
   "source": [
    "worker_array = np.array([1,1,0,0,0,0,1,1])"
   ]
  },
  {
   "cell_type": "code",
   "execution_count": 16,
   "metadata": {},
   "outputs": [
    {
     "data": {
      "text/plain": [
       "0.5"
      ]
     },
     "execution_count": 16,
     "metadata": {},
     "output_type": "execute_result"
    }
   ],
   "source": [
    "(check_b2b(worker_array) / len(worker_array)) * 2"
   ]
  },
  {
   "cell_type": "code",
   "execution_count": 17,
   "metadata": {},
   "outputs": [],
   "source": [
    "########################"
   ]
  },
  {
   "cell_type": "code",
   "execution_count": 73,
   "metadata": {},
   "outputs": [
    {
     "data": {
      "text/plain": [
       "array([[0, 0, 0, 0, 1, 0, 1],\n",
       "       [1, 0, 0, 0, 0, 1, 2],\n",
       "       [0, 1, 0, 1, 1, 1, 3],\n",
       "       [0, 0, 1, 1, 0, 0, 4]])"
      ]
     },
     "execution_count": 73,
     "metadata": {},
     "output_type": "execute_result"
    }
   ],
   "source": [
    "num_shifts = 4\n",
    "shift_number = 1\n",
    "shift_features = 5\n",
    "state = np.array([[0, 0, 0, 0, 1, 0, 1],\n",
    "                [1, 0, 0, 0, 0, 1, 2],\n",
    "                [0, 1, 0, 1, 1, 1, 3],\n",
    "                [0, 0, 1, 1, 0, 0, 4]])\n",
    "state"
   ]
  },
  {
   "cell_type": "code",
   "execution_count": 74,
   "metadata": {},
   "outputs": [
    {
     "name": "stdout",
     "output_type": "stream",
     "text": [
      "0\n",
      "1\n",
      "[0 1]\n",
      "[1 2]\n",
      "2\n",
      "[1 1]\n",
      "[2 3]\n",
      "3\n",
      "[1 0]\n",
      "[3 4]\n"
     ]
    }
   ],
   "source": [
    "for j in range(4): \n",
    "    print(j)\n",
    "    if j > 0: \n",
    "        for i in range(state[j-1:j+1,shift_features:].shape[1]):\n",
    "            step = state[j-1:j+1,shift_features:][:,i]\n",
    "            print(step)"
   ]
  },
  {
   "cell_type": "code",
   "execution_count": 77,
   "metadata": {},
   "outputs": [
    {
     "name": "stdout",
     "output_type": "stream",
     "text": [
      "[[0 1]\n",
      " [1 2]]\n",
      "[0 1]\n",
      "[1 2]\n",
      "-0.75\n",
      "0.0\n",
      "0.25\n"
     ]
    }
   ],
   "source": [
    "step_b2bs = 0 \n",
    "print(state[shift_number-1:shift_number+1,shift_features:])\n",
    "for i in range(state[shift_number-1:shift_number+1,shift_features:].shape[1]):\n",
    "    step = state[shift_number-1:shift_number+1,shift_features:][:,i]\n",
    "    print(step)\n",
    "    step_b2bs += check_b2b(step)\n",
    "step_b2bs\n",
    "\n",
    "reward = (1/num_shifts) - (step_b2bs / num_shifts)\n",
    "print(1/(num_shifts)-1)\n",
    "print(step_b2bs / num_shifts)\n",
    "print(reward)\n",
    "    "
   ]
  },
  {
   "cell_type": "code",
   "execution_count": null,
   "metadata": {},
   "outputs": [],
   "source": [
    "if self.shift_number > 0:\n",
    "    step_b2bs = 0 \n",
    "    #print(state[self.shift_number-1:self.shift_number+1,self.shift_features:])\n",
    "    for i in range(self.state[self.shift_number-1:self.shift_number+1,self.shift_features:].shape[1]):\n",
    "        step = self.state[self.shift_number-1:self.shift_number+1,self.shift_features:][:,i]\n",
    "        print(step)\n",
    "        step_b2bs += check_b2b(step)\n",
    "    #step_b2bs\n",
    "\n",
    "    reward = (1/self.num_shifts) - (step_b2bs / self.num_shifts)"
   ]
  },
  {
   "cell_type": "code",
   "execution_count": 30,
   "metadata": {},
   "outputs": [
    {
     "data": {
      "text/plain": [
       "0.25"
      ]
     },
     "execution_count": 30,
     "metadata": {},
     "output_type": "execute_result"
    }
   ],
   "source": [
    "1 / num_shifts"
   ]
  },
  {
   "cell_type": "code",
   "execution_count": 79,
   "metadata": {},
   "outputs": [],
   "source": [
    "##### total reward test"
   ]
  },
  {
   "cell_type": "code",
   "execution_count": null,
   "metadata": {},
   "outputs": [],
   "source": [
    "import random\n",
    "count_shifts = 100\n",
    "\n",
    "reward=0\n",
    "step_b2bs=0\n",
    "for i in range(count_shifts-1):\n",
    "    step_b2bs += random.randint(0, 1)\n",
    "\n",
    "print(step_b2bs)\n",
    "\n",
    "reward = (1/count_shifts -1) - (step_b2bs / count_shifts - 1)\n",
    "print(reward)"
   ]
  },
  {
   "cell_type": "code",
   "execution_count": null,
   "metadata": {},
   "outputs": [],
   "source": []
  },
  {
   "cell_type": "code",
   "execution_count": null,
   "metadata": {},
   "outputs": [],
   "source": [
    "#################### reward function 1 + 2\n",
    "if done == False:\n",
    "    reward = 0\n",
    "else:\n",
    "        # check if an employee worked twice on the same day \n",
    "    # if so, b2b shift penalty should be applied\n",
    "    count_b2b = 0\n",
    "\n",
    "    for i in range(self.count_workers):\n",
    "        count_b2b += self.check_b2b(self.state[:,self.shift_features+i])\n",
    "\n",
    "    if count_b2b > 0:\n",
    "        reward = 0 #- ((count_b2b / self.count_shifts) * 2 )\n",
    "    else:\n",
    "        reward = 1\n",
    "\n",
    "    #print('summary:')\n",
    "    #print(self.state)\n",
    "    #print(reward) "
   ]
  }
 ],
 "metadata": {
  "interpreter": {
   "hash": "a5b0cbe14e1b88e411ba60f7f1e42d018a6caa56656953e7d806710a4690a6c8"
  },
  "kernelspec": {
   "display_name": "Python 3.7.2 64-bit ('rl')",
   "language": "python",
   "name": "python3"
  },
  "language_info": {
   "codemirror_mode": {
    "name": "ipython",
    "version": 3
   },
   "file_extension": ".py",
   "mimetype": "text/x-python",
   "name": "python",
   "nbconvert_exporter": "python",
   "pygments_lexer": "ipython3",
   "version": "3.7.2"
  },
  "orig_nbformat": 4
 },
 "nbformat": 4,
 "nbformat_minor": 2
}
