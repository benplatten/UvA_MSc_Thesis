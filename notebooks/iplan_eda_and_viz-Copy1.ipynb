{
 "cells": [
  {
   "cell_type": "code",
   "execution_count": 2,
   "metadata": {},
   "outputs": [],
   "source": [
    "import pandas as pd\n",
    "import datetime \n",
    "import seaborn as sns\n",
    "import matplotlib.pyplot as plt"
   ]
  },
  {
   "cell_type": "code",
   "execution_count": 15,
   "metadata": {},
   "outputs": [],
   "source": [
    "pd.set_option('display.max_rows', 90)\n",
    "pd.set_option('display.max_columns', 90)\n",
    "\n",
    "import warnings\n",
    "warnings.simplefilter(action='ignore', category=FutureWarning)\n"
   ]
  },
  {
   "cell_type": "code",
   "execution_count": 16,
   "metadata": {},
   "outputs": [],
   "source": [
    "column_names = [\"repository_timestamp\",\n",
    "                \"op\",\n",
    "                \"dms_timestamp\",\n",
    "                \"id\",\n",
    "                \"shift_id\",\n",
    "                \"start_date_time\",\n",
    "                \"end_date_time\",\n",
    "                \"realized_start_date_time\",\n",
    "                \"realized_end_date_time\",\n",
    "                \"comm_to_employee_date_time\",\n",
    "                \"comm_to_customer_date_time\",\n",
    "                \"is_realiz_ok_by_customer\",\n",
    "                \"decl_to_erp_system_date_time\",\n",
    "                \"decl_to_erp_system_tag\",\n",
    "                \"accept_by_employee_date_time\",\n",
    "                \"accept_by_customer_date_time\",\n",
    "                \"qual_fast_filter_id\",\n",
    "                \"current_qual_percentage\",\n",
    "                \"qual_percentage_increment\",\n",
    "                \"realized_export_date_time\",\n",
    "                \"planned_export_date_time\",\n",
    "                \"last_change_date_of_planning\",\n",
    "                \"pool_id\",\n",
    "                \"customer_in_pool_id\",\n",
    "                \"creation_date_time\",\n",
    "                \"creation_with_type_id\",\n",
    "                \"last_change_with_type_id\",\n",
    "                \"deleted_date_time\",\n",
    "                \"deleted_with_type_id\",\n",
    "                \"comm_to_employee_with_type_id\",\n",
    "                \"accept_by_emp_with_type_id\",\n",
    "                \"comm_to_customer_with_type_id\",\n",
    "                \"planned_export_with_type_id\",\n",
    "                \"realized_date_time\",\n",
    "                \"realized_with_type_id\",\n",
    "                \"accept_by_cust_with_type_id\",\n",
    "                \"decl_to_erp_with_type_id\",\n",
    "                \"realized_export_with_type_id\",\n",
    "                \"employee_id\",\n",
    "                \"pool_employee_id\",\n",
    "                \"is_first_time_by_customer\",\n",
    "                \"event_id\",\n",
    "                \"declared_start_date_time\",\n",
    "                \"declared_end_date_time\",\n",
    "                \"declared_event_id\",\n",
    "                \"is_pauses_realized\",\n",
    "                \"is_cost_categories_realized\",\n",
    "                \"realized_event_id\",\n",
    "                \"is_administrative_checked\",\n",
    "                \"clocked_start_date_time\",\n",
    "                \"clocked_end_date_time\",\n",
    "                \"is_realization_doubtful\",\n",
    "                \"is_to_evaluate_for_clock\",\n",
    "                \"realized_by_employee_date_time\",\n",
    "                \"confirmed_date_time\",\n",
    "                \"confirmed_with_type_id\",\n",
    "                \"viewable_for_emp_date_time\",\n",
    "                \"viewable_for_emp_with_type_id\",\n",
    "                \"called_up_date_time\",\n",
    "                \"called_up_with_type_id\",\n",
    "                \"reject_by_emp_date_time\",\n",
    "                \"reject_by_emp_with_type_id\",\n",
    "                \"reason_edit_emp_shift_type_id\",\n",
    "                \"reason_edit_emp_shift_text\",\n",
    "                \"changed_planned_hours_dt\",\n",
    "                \"changed_event_date_time\",\n",
    "                \"reason_deviant_realiz_type_id\",\n",
    "                \"deviant_realization_start_dt\",\n",
    "                \"deviant_realization_end_dt\",\n",
    "                \"reason_deviant_realiz_text\",\n",
    "                \"un_reject_by_planner_date_time\",\n",
    "                \"current_call_up_id\",\n",
    "                \"deviant_realization_event_id\",\n",
    "                \"subst_group_id\",\n",
    "                \"subst_date_time\",\n",
    "                \"subst_with_type_id\",\n",
    "                \"subst_prev_emp_in_shift_id\",\n",
    "                \"subst_next_emp_in_shift_id\",\n",
    "                \"is_on_call_employee\",\n",
    "                \"placement_number\",\n",
    "                \"is_on_call_source_type_id\",\n",
    "                \"decl_examined_date_time\",\n",
    "                \"batchid\",\n",
    "                \"batch_ts\"]"
   ]
  },
  {
   "cell_type": "code",
   "execution_count": 7,
   "metadata": {},
   "outputs": [],
   "source": [
    "cols_of_interest=[\"repository_timestamp\",\n",
    "                \"op\",\n",
    "                \"dms_timestamp\",\n",
    "                \"id\",\n",
    "                \"shift_id\",\n",
    "                \"start_date_time\",\n",
    "                \"end_date_time\",\n",
    "                \"realized_start_date_time\",\n",
    "                \"realized_end_date_time\",\n",
    "                \"employee_id\",\n",
    "                \"pool_employee_id\",\n",
    "                 \"pool_id\",\n",
    "                 \"confirmed_date_time\", # level of interest doubtfull\n",
    "                 \"called_up_date_time\",\n",
    "                 \"decl_to_erp_system_date_time\",\n",
    "                 \"accept_by_employee_date_time\",\n",
    "                 \"viewable_for_emp_date_time\",\n",
    "                 \"deleted_date_time\"]"
   ]
  },
  {
   "cell_type": "code",
   "execution_count": 18,
   "metadata": {},
   "outputs": [],
   "source": [
    "data_folder = '../data/'\n",
    "file = 'repo_iplan_employee_in_shift_20200210-20200216.csv'\n",
    "df=pd.read_csv(data_folder + file,names=column_names,usecols=cols_of_interest,parse_dates=\n",
    "               [\"repository_timestamp\",\n",
    "                \"dms_timestamp\",\n",
    "                \"start_date_time\",\n",
    "                \"end_date_time\",\n",
    "                \"realized_start_date_time\",\n",
    "                \"realized_end_date_time\",\n",
    "                \"decl_to_erp_system_date_time\",\n",
    "                \"accept_by_employee_date_time\",\n",
    "                \"viewable_for_emp_date_time\",\n",
    "                \"deleted_date_time\",\n",
    "                \"called_up_date_time\"])"
   ]
  },
  {
   "cell_type": "code",
   "execution_count": 27,
   "metadata": {
    "tags": []
   },
   "outputs": [],
   "source": [
    "df['start_date'] = df['start_date_time'].dt.date\n",
    "df['end_date']= df['end_date_time'].dt.date\n",
    "df['start_time'] = df['start_date_time'].dt.strftime('%H:%M')\n",
    "df['end_time'] = df['end_date_time'].dt.strftime('%H:%M')"
   ]
  },
  {
   "cell_type": "code",
   "execution_count": 28,
   "metadata": {},
   "outputs": [
    {
     "name": "stdout",
     "output_type": "stream",
     "text": [
      "(248119, 22)\n",
      "2020-08-18 20:22:52.059095 - 2020-09-10 12:19:48.679259\n",
      "2020-02-09 - 2020-02-16\n",
      "Sunday - Sunday\n"
     ]
    }
   ],
   "source": [
    "df = df[df['end_date_time'] < '2022-02-21 00:00:01']\n",
    "\n",
    "print(df.shape)\n",
    "\n",
    "print(f\"{df.repository_timestamp.min()} - {df.repository_timestamp.max()}\")\n",
    "# what is the meaning of repository_timestamp? these dates suggest that shift data is modified long before shifts start, and after they finish\n",
    "\n",
    "print(f\"{df.start_date.min()} - {df.start_date.max()}\")\n",
    "\n",
    "print(f\"{df.start_date.min().strftime('%A')} - {df.start_date.max().strftime('%A')}\")"
   ]
  },
  {
   "cell_type": "code",
   "execution_count": 29,
   "metadata": {},
   "outputs": [],
   "source": [
    "df.shift_id = df.shift_id.astype('category')\n",
    "df.pool_id = df.pool_id.astype('category')\n",
    "df.employee_id = df.employee_id.astype('category')\n",
    "df.pool_employee_id = df.pool_employee_id.astype('category')"
   ]
  },
  {
   "cell_type": "code",
   "execution_count": 30,
   "metadata": {},
   "outputs": [
    {
     "data": {
      "text/html": [
       "<div>\n",
       "<style scoped>\n",
       "    .dataframe tbody tr th:only-of-type {\n",
       "        vertical-align: middle;\n",
       "    }\n",
       "\n",
       "    .dataframe tbody tr th {\n",
       "        vertical-align: top;\n",
       "    }\n",
       "\n",
       "    .dataframe thead th {\n",
       "        text-align: right;\n",
       "    }\n",
       "</style>\n",
       "<table border=\"1\" class=\"dataframe\">\n",
       "  <thead>\n",
       "    <tr style=\"text-align: right;\">\n",
       "      <th></th>\n",
       "      <th>column_name</th>\n",
       "      <th>percent_missing</th>\n",
       "    </tr>\n",
       "  </thead>\n",
       "  <tbody>\n",
       "    <tr>\n",
       "      <th>confirmed_date_time</th>\n",
       "      <td>confirmed_date_time</td>\n",
       "      <td>99.123808</td>\n",
       "    </tr>\n",
       "    <tr>\n",
       "      <th>realized_end_date_time</th>\n",
       "      <td>realized_end_date_time</td>\n",
       "      <td>75.373510</td>\n",
       "    </tr>\n",
       "    <tr>\n",
       "      <th>realized_start_date_time</th>\n",
       "      <td>realized_start_date_time</td>\n",
       "      <td>75.326759</td>\n",
       "    </tr>\n",
       "    <tr>\n",
       "      <th>decl_to_erp_system_date_time</th>\n",
       "      <td>decl_to_erp_system_date_time</td>\n",
       "      <td>72.220185</td>\n",
       "    </tr>\n",
       "    <tr>\n",
       "      <th>deleted_date_time</th>\n",
       "      <td>deleted_date_time</td>\n",
       "      <td>67.696146</td>\n",
       "    </tr>\n",
       "    <tr>\n",
       "      <th>viewable_for_emp_date_time</th>\n",
       "      <td>viewable_for_emp_date_time</td>\n",
       "      <td>58.816133</td>\n",
       "    </tr>\n",
       "    <tr>\n",
       "      <th>accept_by_employee_date_time</th>\n",
       "      <td>accept_by_employee_date_time</td>\n",
       "      <td>51.256857</td>\n",
       "    </tr>\n",
       "    <tr>\n",
       "      <th>called_up_date_time</th>\n",
       "      <td>called_up_date_time</td>\n",
       "      <td>31.988280</td>\n",
       "    </tr>\n",
       "    <tr>\n",
       "      <th>repository_timestamp</th>\n",
       "      <td>repository_timestamp</td>\n",
       "      <td>0.000000</td>\n",
       "    </tr>\n",
       "    <tr>\n",
       "      <th>pool_employee_id</th>\n",
       "      <td>pool_employee_id</td>\n",
       "      <td>0.000000</td>\n",
       "    </tr>\n",
       "    <tr>\n",
       "      <th>start_time</th>\n",
       "      <td>start_time</td>\n",
       "      <td>0.000000</td>\n",
       "    </tr>\n",
       "    <tr>\n",
       "      <th>end_date</th>\n",
       "      <td>end_date</td>\n",
       "      <td>0.000000</td>\n",
       "    </tr>\n",
       "    <tr>\n",
       "      <th>start_date</th>\n",
       "      <td>start_date</td>\n",
       "      <td>0.000000</td>\n",
       "    </tr>\n",
       "    <tr>\n",
       "      <th>pool_id</th>\n",
       "      <td>pool_id</td>\n",
       "      <td>0.000000</td>\n",
       "    </tr>\n",
       "    <tr>\n",
       "      <th>employee_id</th>\n",
       "      <td>employee_id</td>\n",
       "      <td>0.000000</td>\n",
       "    </tr>\n",
       "    <tr>\n",
       "      <th>op</th>\n",
       "      <td>op</td>\n",
       "      <td>0.000000</td>\n",
       "    </tr>\n",
       "    <tr>\n",
       "      <th>end_date_time</th>\n",
       "      <td>end_date_time</td>\n",
       "      <td>0.000000</td>\n",
       "    </tr>\n",
       "    <tr>\n",
       "      <th>start_date_time</th>\n",
       "      <td>start_date_time</td>\n",
       "      <td>0.000000</td>\n",
       "    </tr>\n",
       "    <tr>\n",
       "      <th>shift_id</th>\n",
       "      <td>shift_id</td>\n",
       "      <td>0.000000</td>\n",
       "    </tr>\n",
       "    <tr>\n",
       "      <th>id</th>\n",
       "      <td>id</td>\n",
       "      <td>0.000000</td>\n",
       "    </tr>\n",
       "    <tr>\n",
       "      <th>dms_timestamp</th>\n",
       "      <td>dms_timestamp</td>\n",
       "      <td>0.000000</td>\n",
       "    </tr>\n",
       "    <tr>\n",
       "      <th>end_time</th>\n",
       "      <td>end_time</td>\n",
       "      <td>0.000000</td>\n",
       "    </tr>\n",
       "  </tbody>\n",
       "</table>\n",
       "</div>"
      ],
      "text/plain": [
       "                                               column_name  percent_missing\n",
       "confirmed_date_time                    confirmed_date_time        99.123808\n",
       "realized_end_date_time              realized_end_date_time        75.373510\n",
       "realized_start_date_time          realized_start_date_time        75.326759\n",
       "decl_to_erp_system_date_time  decl_to_erp_system_date_time        72.220185\n",
       "deleted_date_time                        deleted_date_time        67.696146\n",
       "viewable_for_emp_date_time      viewable_for_emp_date_time        58.816133\n",
       "accept_by_employee_date_time  accept_by_employee_date_time        51.256857\n",
       "called_up_date_time                    called_up_date_time        31.988280\n",
       "repository_timestamp                  repository_timestamp         0.000000\n",
       "pool_employee_id                          pool_employee_id         0.000000\n",
       "start_time                                      start_time         0.000000\n",
       "end_date                                          end_date         0.000000\n",
       "start_date                                      start_date         0.000000\n",
       "pool_id                                            pool_id         0.000000\n",
       "employee_id                                    employee_id         0.000000\n",
       "op                                                      op         0.000000\n",
       "end_date_time                                end_date_time         0.000000\n",
       "start_date_time                            start_date_time         0.000000\n",
       "shift_id                                          shift_id         0.000000\n",
       "id                                                      id         0.000000\n",
       "dms_timestamp                                dms_timestamp         0.000000\n",
       "end_time                                          end_time         0.000000"
      ]
     },
     "execution_count": 30,
     "metadata": {},
     "output_type": "execute_result"
    }
   ],
   "source": [
    "percent_missing = df.isnull().sum() * 100 / len(df)\n",
    "missing_value_df = pd.DataFrame({'column_name': df.columns,\n",
    "                                 'percent_missing': percent_missing})\n",
    "\n",
    "missing_value_df.sort_values('percent_missing', inplace=True,ascending=False)\n",
    "missing_value_df"
   ]
  },
  {
   "cell_type": "markdown",
   "metadata": {},
   "source": [
    "### What does a typical iPlan week look like?"
   ]
  },
  {
   "cell_type": "markdown",
   "metadata": {},
   "source": [
    "- number of shifts\n",
    "- number of employee\n",
    "- number of pools\n",
    "    - employees per pool\n",
    "- average shifts per pool\n",
    "- average employees per pool\n",
    "- average employees per shift"
   ]
  },
  {
   "cell_type": "code",
   "execution_count": 51,
   "metadata": {},
   "outputs": [
    {
     "name": "stdout",
     "output_type": "stream",
     "text": [
      "Statistics for one week of sample data\n",
      "number of shifts: 69118\n",
      "number of employees: 43562\n",
      "number of pools: 442\n"
     ]
    }
   ],
   "source": [
    "print('Statistics for one week of sample data')\n",
    "print(f'number of shifts: {df.shift_id.nunique()}')\n",
    "print(f'number of employees: {df.employee_id.nunique()}')\n",
    "print(f'number of pools: {df.pool_id.nunique()}')"
   ]
  },
  {
   "cell_type": "code",
   "execution_count": 31,
   "metadata": {},
   "outputs": [
    {
     "name": "stdout",
     "output_type": "stream",
     "text": [
      "Statistics for one week of sample data\n",
      "number of shifts: 72017\n",
      "number of employees: 39967\n",
      "number of pools: 472\n"
     ]
    }
   ],
   "source": [
    "print('Statistics for one week of sample data')\n",
    "print(f'number of shifts: {df.shift_id.nunique()}')\n",
    "print(f'number of employees: {df.employee_id.nunique()}')\n",
    "print(f'number of pools: {df.pool_id.nunique()}')"
   ]
  },
  {
   "cell_type": "code",
   "execution_count": null,
   "metadata": {},
   "outputs": [],
   "source": [
    "#### Pools"
   ]
  },
  {
   "cell_type": "code",
   "execution_count": null,
   "metadata": {},
   "outputs": [],
   "source": [
    "dist plot number of employees\n",
    "dist plot number of shifts"
   ]
  },
  {
   "cell_type": "code",
   "execution_count": 33,
   "metadata": {},
   "outputs": [],
   "source": [
    "pooldf = df[['pool_id','shift_id','employee_id']].groupby(['pool_id']).agg({ 'shift_id' : 'nunique', 'employee_id' : 'nunique'})\n",
    "pooldf.columns = ['num_shifts','num_employees']"
   ]
  },
  {
   "cell_type": "code",
   "execution_count": 34,
   "metadata": {},
   "outputs": [
    {
     "name": "stdout",
     "output_type": "stream",
     "text": [
      "min: 2, max: 2972, mean: 152.57838983050848\n",
      "min: 1, max: 1361, mean: 86.29872881355932\n"
     ]
    }
   ],
   "source": [
    "print(f\"min: {pooldf['num_shifts'].min()}, max: {pooldf['num_shifts'].max()}, mean: {pooldf['num_shifts'].mean()}\")\n",
    "print(f\"min: {pooldf['num_employees'].min()}, max: {pooldf['num_employees'].max()}, mean: {pooldf['num_employees'].mean()}\")"
   ]
  },
  {
   "cell_type": "code",
   "execution_count": 98,
   "metadata": {},
   "outputs": [
    {
     "name": "stdout",
     "output_type": "stream",
     "text": [
      "min: 1, max: 2825, mean: 156.37556561085972\n",
      "min: 1, max: 2134, mean: 99.4841628959276\n"
     ]
    }
   ],
   "source": [
    "print(f\"min: {pooldf['num_shifts'].min()}, max: {pooldf['num_shifts'].max()}, mean: {pooldf['num_shifts'].mean()}\")\n",
    "print(f\"min: {pooldf['num_employees'].min()}, max: {pooldf['num_employees'].max()}, mean: {pooldf['num_employees'].mean()}\")"
   ]
  },
  {
   "cell_type": "code",
   "execution_count": 36,
   "metadata": {},
   "outputs": [
    {
     "data": {
      "text/html": [
       "<div>\n",
       "<style scoped>\n",
       "    .dataframe tbody tr th:only-of-type {\n",
       "        vertical-align: middle;\n",
       "    }\n",
       "\n",
       "    .dataframe tbody tr th {\n",
       "        vertical-align: top;\n",
       "    }\n",
       "\n",
       "    .dataframe thead th {\n",
       "        text-align: right;\n",
       "    }\n",
       "</style>\n",
       "<table border=\"1\" class=\"dataframe\">\n",
       "  <thead>\n",
       "    <tr style=\"text-align: right;\">\n",
       "      <th></th>\n",
       "      <th>num_shifts</th>\n",
       "      <th>num_employees</th>\n",
       "    </tr>\n",
       "    <tr>\n",
       "      <th>pool_id</th>\n",
       "      <th></th>\n",
       "      <th></th>\n",
       "    </tr>\n",
       "  </thead>\n",
       "  <tbody>\n",
       "    <tr>\n",
       "      <th>727</th>\n",
       "      <td>5</td>\n",
       "      <td>1</td>\n",
       "    </tr>\n",
       "    <tr>\n",
       "      <th>7170</th>\n",
       "      <td>3</td>\n",
       "      <td>1</td>\n",
       "    </tr>\n",
       "    <tr>\n",
       "      <th>10262</th>\n",
       "      <td>5</td>\n",
       "      <td>1</td>\n",
       "    </tr>\n",
       "    <tr>\n",
       "      <th>14283</th>\n",
       "      <td>5</td>\n",
       "      <td>1</td>\n",
       "    </tr>\n",
       "    <tr>\n",
       "      <th>15744</th>\n",
       "      <td>4</td>\n",
       "      <td>1</td>\n",
       "    </tr>\n",
       "    <tr>\n",
       "      <th>20083</th>\n",
       "      <td>5</td>\n",
       "      <td>1</td>\n",
       "    </tr>\n",
       "    <tr>\n",
       "      <th>20943</th>\n",
       "      <td>5</td>\n",
       "      <td>1</td>\n",
       "    </tr>\n",
       "  </tbody>\n",
       "</table>\n",
       "</div>"
      ],
      "text/plain": [
       "         num_shifts  num_employees\n",
       "pool_id                           \n",
       "727               5              1\n",
       "7170              3              1\n",
       "10262             5              1\n",
       "14283             5              1\n",
       "15744             4              1\n",
       "20083             5              1\n",
       "20943             5              1"
      ]
     },
     "execution_count": 36,
     "metadata": {},
     "output_type": "execute_result"
    }
   ],
   "source": [
    "pooldf[pooldf['num_employees'] == 1]"
   ]
  },
  {
   "cell_type": "code",
   "execution_count": 109,
   "metadata": {},
   "outputs": [
    {
     "data": {
      "text/html": [
       "<div>\n",
       "<style scoped>\n",
       "    .dataframe tbody tr th:only-of-type {\n",
       "        vertical-align: middle;\n",
       "    }\n",
       "\n",
       "    .dataframe tbody tr th {\n",
       "        vertical-align: top;\n",
       "    }\n",
       "\n",
       "    .dataframe thead th {\n",
       "        text-align: right;\n",
       "    }\n",
       "</style>\n",
       "<table border=\"1\" class=\"dataframe\">\n",
       "  <thead>\n",
       "    <tr style=\"text-align: right;\">\n",
       "      <th></th>\n",
       "      <th>num_shifts</th>\n",
       "      <th>num_employees</th>\n",
       "    </tr>\n",
       "    <tr>\n",
       "      <th>pool_id</th>\n",
       "      <th></th>\n",
       "      <th></th>\n",
       "    </tr>\n",
       "  </thead>\n",
       "  <tbody>\n",
       "    <tr>\n",
       "      <th>2024.0</th>\n",
       "      <td>3</td>\n",
       "      <td>1</td>\n",
       "    </tr>\n",
       "    <tr>\n",
       "      <th>14863.0</th>\n",
       "      <td>3</td>\n",
       "      <td>1</td>\n",
       "    </tr>\n",
       "    <tr>\n",
       "      <th>15364.0</th>\n",
       "      <td>1</td>\n",
       "      <td>1</td>\n",
       "    </tr>\n",
       "    <tr>\n",
       "      <th>20903.0</th>\n",
       "      <td>2</td>\n",
       "      <td>1</td>\n",
       "    </tr>\n",
       "    <tr>\n",
       "      <th>23246.0</th>\n",
       "      <td>5</td>\n",
       "      <td>1</td>\n",
       "    </tr>\n",
       "    <tr>\n",
       "      <th>23686.0</th>\n",
       "      <td>1</td>\n",
       "      <td>1</td>\n",
       "    </tr>\n",
       "  </tbody>\n",
       "</table>\n",
       "</div>"
      ],
      "text/plain": [
       "         num_shifts  num_employees\n",
       "pool_id                           \n",
       "2024.0            3              1\n",
       "14863.0           3              1\n",
       "15364.0           1              1\n",
       "20903.0           2              1\n",
       "23246.0           5              1\n",
       "23686.0           1              1"
      ]
     },
     "execution_count": 109,
     "metadata": {},
     "output_type": "execute_result"
    }
   ],
   "source": [
    "pooldf[pooldf['num_employees'] == 1]"
   ]
  },
  {
   "cell_type": "code",
   "execution_count": 37,
   "metadata": {},
   "outputs": [
    {
     "data": {
      "image/png": "[encoded data removed]",
      "text/plain": [
       "<Figure size 648x576 with 1 Axes>"
      ]
     },
     "metadata": {
      "needs_background": "light"
     },
     "output_type": "display_data"
    }
   ],
   "source": [
    "plt.figure(figsize=(9, 8))\n",
    "sns.distplot(pooldf['num_shifts'], color='g', bins=10, hist_kws={'alpha': 0.4});"
   ]
  },
  {
   "cell_type": "code",
   "execution_count": 106,
   "metadata": {},
   "outputs": [
    {
     "data": {
      "image/png": "[encoded data removed]",
      "text/plain": [
       "<Figure size 648x576 with 1 Axes>"
      ]
     },
     "metadata": {
      "needs_background": "light"
     },
     "output_type": "display_data"
    }
   ],
   "source": [
    "plt.figure(figsize=(9, 8))\n",
    "sns.distplot(pooldf['num_employees'], color='g', bins=10);"
   ]
  },
  {
   "cell_type": "code",
   "execution_count": 114,
   "metadata": {},
   "outputs": [
    {
     "data": {
      "text/plain": [
       "34"
      ]
     },
     "execution_count": 114,
     "metadata": {},
     "output_type": "execute_result"
    }
   ],
   "source": [
    "len(pooldf[pooldf['num_shifts']<10])"
   ]
  },
  {
   "cell_type": "code",
   "execution_count": 115,
   "metadata": {},
   "outputs": [
    {
     "data": {
      "text/plain": [
       "(442, 2)"
      ]
     },
     "execution_count": 115,
     "metadata": {},
     "output_type": "execute_result"
    }
   ],
   "source": [
    "pooldf.shape"
   ]
  },
  {
   "cell_type": "code",
   "execution_count": null,
   "metadata": {},
   "outputs": [],
   "source": [
    "#### Shifts"
   ]
  },
  {
   "cell_type": "code",
   "execution_count": null,
   "metadata": {},
   "outputs": [],
   "source": [
    "dist plot number of employees\n",
    "per day?"
   ]
  },
  {
   "cell_type": "code",
   "execution_count": null,
   "metadata": {},
   "outputs": [],
   "source": []
  },
  {
   "cell_type": "code",
   "execution_count": null,
   "metadata": {},
   "outputs": [],
   "source": [
    "#### Employees"
   ]
  },
  {
   "cell_type": "code",
   "execution_count": null,
   "metadata": {},
   "outputs": [],
   "source": [
    "dist plot number of shifts\n",
    "are any in more than one pool?"
   ]
  },
  {
   "cell_type": "code",
   "execution_count": null,
   "metadata": {},
   "outputs": [],
   "source": []
  },
  {
   "cell_type": "code",
   "execution_count": 50,
   "metadata": {},
   "outputs": [
    {
     "data": {
      "text/html": [
       "<div>\n",
       "<style scoped>\n",
       "    .dataframe tbody tr th:only-of-type {\n",
       "        vertical-align: middle;\n",
       "    }\n",
       "\n",
       "    .dataframe tbody tr th {\n",
       "        vertical-align: top;\n",
       "    }\n",
       "\n",
       "    .dataframe thead th {\n",
       "        text-align: right;\n",
       "    }\n",
       "</style>\n",
       "<table border=\"1\" class=\"dataframe\">\n",
       "  <thead>\n",
       "    <tr style=\"text-align: right;\">\n",
       "      <th></th>\n",
       "      <th>repository_timestamp</th>\n",
       "      <th>op</th>\n",
       "      <th>dms_timestamp</th>\n",
       "      <th>id</th>\n",
       "      <th>shift_id</th>\n",
       "      <th>start_date_time</th>\n",
       "      <th>end_date_time</th>\n",
       "      <th>realized_start_date_time</th>\n",
       "      <th>realized_end_date_time</th>\n",
       "      <th>decl_to_erp_system_date_time</th>\n",
       "      <th>accept_by_employee_date_time</th>\n",
       "      <th>pool_id</th>\n",
       "      <th>deleted_date_time</th>\n",
       "      <th>employee_id</th>\n",
       "      <th>pool_employee_id</th>\n",
       "      <th>confirmed_date_time</th>\n",
       "      <th>viewable_for_emp_date_time</th>\n",
       "      <th>called_up_date_time</th>\n",
       "      <th>shift_day_of_week</th>\n",
       "      <th>start_date</th>\n",
       "      <th>end_date</th>\n",
       "      <th>start_time</th>\n",
       "      <th>end_time</th>\n",
       "    </tr>\n",
       "  </thead>\n",
       "  <tbody>\n",
       "    <tr>\n",
       "      <th>0</th>\n",
       "      <td>2021-11-03 11:30:42.201719</td>\n",
       "      <td>I</td>\n",
       "      <td>2021-11-03 10:12:26.546180</td>\n",
       "      <td>138070862.0</td>\n",
       "      <td>143894755.0</td>\n",
       "      <td>2022-02-15 12:30:00.000000</td>\n",
       "      <td>2022-02-15 17:30:00.000000</td>\n",
       "      <td>NaN</td>\n",
       "      <td>NaN</td>\n",
       "      <td>NaN</td>\n",
       "      <td>NaN</td>\n",
       "      <td>4368.0</td>\n",
       "      <td>2021-06-17 15:36:22.000000</td>\n",
       "      <td>71502.0</td>\n",
       "      <td>1208611.0</td>\n",
       "      <td>NaN</td>\n",
       "      <td>2021-01-25 01:25:09.000000</td>\n",
       "      <td>NaN</td>\n",
       "      <td>Tuesday</td>\n",
       "      <td>2022-02-15</td>\n",
       "      <td>2022-02-15</td>\n",
       "      <td>12:30</td>\n",
       "      <td>17:30</td>\n",
       "    </tr>\n",
       "    <tr>\n",
       "      <th>1</th>\n",
       "      <td>2021-11-03 11:30:42.201719</td>\n",
       "      <td>I</td>\n",
       "      <td>2021-11-03 10:16:13.698780</td>\n",
       "      <td>139056869.0</td>\n",
       "      <td>144798670.0</td>\n",
       "      <td>2022-02-16 06:30:00.000000</td>\n",
       "      <td>2022-02-16 14:30:00.000000</td>\n",
       "      <td>NaN</td>\n",
       "      <td>NaN</td>\n",
       "      <td>NaN</td>\n",
       "      <td>NaN</td>\n",
       "      <td>11262.0</td>\n",
       "      <td>2021-10-04 11:23:19.000000</td>\n",
       "      <td>833614.0</td>\n",
       "      <td>1149713.0</td>\n",
       "      <td>NaN</td>\n",
       "      <td>2021-02-22 01:49:40.000000</td>\n",
       "      <td>NaN</td>\n",
       "      <td>Wednesday</td>\n",
       "      <td>2022-02-16</td>\n",
       "      <td>2022-02-16</td>\n",
       "      <td>06:30</td>\n",
       "      <td>14:30</td>\n",
       "    </tr>\n",
       "    <tr>\n",
       "      <th>2</th>\n",
       "      <td>2021-11-03 11:30:42.201719</td>\n",
       "      <td>I</td>\n",
       "      <td>2021-11-03 10:16:45.888114</td>\n",
       "      <td>139056900.0</td>\n",
       "      <td>144798639.0</td>\n",
       "      <td>2022-02-20 06:30:00.000000</td>\n",
       "      <td>2022-02-20 14:30:00.000000</td>\n",
       "      <td>NaN</td>\n",
       "      <td>NaN</td>\n",
       "      <td>NaN</td>\n",
       "      <td>NaN</td>\n",
       "      <td>11262.0</td>\n",
       "      <td>2021-10-29 09:43:42.000000</td>\n",
       "      <td>494823.0</td>\n",
       "      <td>706469.0</td>\n",
       "      <td>NaN</td>\n",
       "      <td>2021-02-22 01:49:43.000000</td>\n",
       "      <td>NaN</td>\n",
       "      <td>Sunday</td>\n",
       "      <td>2022-02-20</td>\n",
       "      <td>2022-02-20</td>\n",
       "      <td>06:30</td>\n",
       "      <td>14:30</td>\n",
       "    </tr>\n",
       "    <tr>\n",
       "      <th>3</th>\n",
       "      <td>2021-11-03 11:30:42.201719</td>\n",
       "      <td>I</td>\n",
       "      <td>2021-11-03 10:16:45.900642</td>\n",
       "      <td>139057142.0</td>\n",
       "      <td>144798698.0</td>\n",
       "      <td>2022-02-16 06:30:00.000000</td>\n",
       "      <td>2022-02-16 14:30:00.000000</td>\n",
       "      <td>NaN</td>\n",
       "      <td>NaN</td>\n",
       "      <td>NaN</td>\n",
       "      <td>NaN</td>\n",
       "      <td>11262.0</td>\n",
       "      <td>2021-08-02 09:07:30.000000</td>\n",
       "      <td>796882.0</td>\n",
       "      <td>1102126.0</td>\n",
       "      <td>NaN</td>\n",
       "      <td>2021-02-22 01:49:57.000000</td>\n",
       "      <td>NaN</td>\n",
       "      <td>Wednesday</td>\n",
       "      <td>2022-02-16</td>\n",
       "      <td>2022-02-16</td>\n",
       "      <td>06:30</td>\n",
       "      <td>14:30</td>\n",
       "    </tr>\n",
       "    <tr>\n",
       "      <th>4</th>\n",
       "      <td>2021-11-03 11:30:42.201719</td>\n",
       "      <td>I</td>\n",
       "      <td>2021-11-03 10:16:13.710262</td>\n",
       "      <td>139057188.0</td>\n",
       "      <td>144798162.0</td>\n",
       "      <td>2022-02-19 22:30:00.000000</td>\n",
       "      <td>2022-02-20 06:30:00.000000</td>\n",
       "      <td>NaN</td>\n",
       "      <td>NaN</td>\n",
       "      <td>NaN</td>\n",
       "      <td>NaN</td>\n",
       "      <td>11262.0</td>\n",
       "      <td>NaN</td>\n",
       "      <td>494758.0</td>\n",
       "      <td>706404.0</td>\n",
       "      <td>NaN</td>\n",
       "      <td>2021-02-22 01:49:59.000000</td>\n",
       "      <td>NaN</td>\n",
       "      <td>Saturday</td>\n",
       "      <td>2022-02-19</td>\n",
       "      <td>2022-02-20</td>\n",
       "      <td>22:30</td>\n",
       "      <td>06:30</td>\n",
       "    </tr>\n",
       "  </tbody>\n",
       "</table>\n",
       "</div>"
      ],
      "text/plain": [
       "         repository_timestamp op               dms_timestamp           id  \\\n",
       "0  2021-11-03 11:30:42.201719  I  2021-11-03 10:12:26.546180  138070862.0   \n",
       "1  2021-11-03 11:30:42.201719  I  2021-11-03 10:16:13.698780  139056869.0   \n",
       "2  2021-11-03 11:30:42.201719  I  2021-11-03 10:16:45.888114  139056900.0   \n",
       "3  2021-11-03 11:30:42.201719  I  2021-11-03 10:16:45.900642  139057142.0   \n",
       "4  2021-11-03 11:30:42.201719  I  2021-11-03 10:16:13.710262  139057188.0   \n",
       "\n",
       "      shift_id             start_date_time               end_date_time  \\\n",
       "0  143894755.0  2022-02-15 12:30:00.000000  2022-02-15 17:30:00.000000   \n",
       "1  144798670.0  2022-02-16 06:30:00.000000  2022-02-16 14:30:00.000000   \n",
       "2  144798639.0  2022-02-20 06:30:00.000000  2022-02-20 14:30:00.000000   \n",
       "3  144798698.0  2022-02-16 06:30:00.000000  2022-02-16 14:30:00.000000   \n",
       "4  144798162.0  2022-02-19 22:30:00.000000  2022-02-20 06:30:00.000000   \n",
       "\n",
       "  realized_start_date_time realized_end_date_time  \\\n",
       "0                      NaN                    NaN   \n",
       "1                      NaN                    NaN   \n",
       "2                      NaN                    NaN   \n",
       "3                      NaN                    NaN   \n",
       "4                      NaN                    NaN   \n",
       "\n",
       "  decl_to_erp_system_date_time accept_by_employee_date_time  pool_id  \\\n",
       "0                          NaN                          NaN   4368.0   \n",
       "1                          NaN                          NaN  11262.0   \n",
       "2                          NaN                          NaN  11262.0   \n",
       "3                          NaN                          NaN  11262.0   \n",
       "4                          NaN                          NaN  11262.0   \n",
       "\n",
       "            deleted_date_time  employee_id  pool_employee_id  \\\n",
       "0  2021-06-17 15:36:22.000000      71502.0         1208611.0   \n",
       "1  2021-10-04 11:23:19.000000     833614.0         1149713.0   \n",
       "2  2021-10-29 09:43:42.000000     494823.0          706469.0   \n",
       "3  2021-08-02 09:07:30.000000     796882.0         1102126.0   \n",
       "4                         NaN     494758.0          706404.0   \n",
       "\n",
       "  confirmed_date_time  viewable_for_emp_date_time called_up_date_time  \\\n",
       "0                 NaN  2021-01-25 01:25:09.000000                 NaN   \n",
       "1                 NaN  2021-02-22 01:49:40.000000                 NaN   \n",
       "2                 NaN  2021-02-22 01:49:43.000000                 NaN   \n",
       "3                 NaN  2021-02-22 01:49:57.000000                 NaN   \n",
       "4                 NaN  2021-02-22 01:49:59.000000                 NaN   \n",
       "\n",
       "  shift_day_of_week  start_date    end_date start_time end_time  \n",
       "0           Tuesday  2022-02-15  2022-02-15      12:30    17:30  \n",
       "1         Wednesday  2022-02-16  2022-02-16      06:30    14:30  \n",
       "2            Sunday  2022-02-20  2022-02-20      06:30    14:30  \n",
       "3         Wednesday  2022-02-16  2022-02-16      06:30    14:30  \n",
       "4          Saturday  2022-02-19  2022-02-20      22:30    06:30  "
      ]
     },
     "execution_count": 50,
     "metadata": {},
     "output_type": "execute_result"
    }
   ],
   "source": [
    "df.head()"
   ]
  }
 ],
 "metadata": {
  "kernelspec": {
   "display_name": "werkcollege",
   "language": "python",
   "name": "werkcollege"
  },
  "language_info": {
   "codemirror_mode": {
    "name": "ipython",
    "version": 3
   },
   "file_extension": ".py",
   "mimetype": "text/x-python",
   "name": "python",
   "nbconvert_exporter": "python",
   "pygments_lexer": "ipython3",
   "version": "3.7.2"
  }
 },
 "nbformat": 4,
 "nbformat_minor": 4
}
