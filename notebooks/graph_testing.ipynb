{
 "cells": [
  {
   "cell_type": "code",
   "execution_count": 26,
   "metadata": {},
   "outputs": [],
   "source": [
    "import dgl\n",
    "import pandas as pd\n",
    "import torch\n",
    "import numpy as np"
   ]
  },
  {
   "cell_type": "code",
   "execution_count": 27,
   "metadata": {},
   "outputs": [],
   "source": [
    "import sys\n",
    "sys.path.append(\"..\")\n",
    "from dev.policy import *"
   ]
  },
  {
   "cell_type": "code",
   "execution_count": 28,
   "metadata": {},
   "outputs": [],
   "source": [
    "p = \"pool_0001\"\n",
    "s = \"schedule_0002\"\n",
    "\n",
    "pool, schedule = pd.read_csv(f'../dev/pools/{p}.csv',dtype={'employee_id':'str'}), \\\n",
    "                 pd.read_csv(f'../dev/schedules/{s}.csv',dtype={'shift_id':'str'})\n",
    "\n",
    "\n",
    "shift_features, count_workers = 8,2"
   ]
  },
  {
   "cell_type": "code",
   "execution_count": 29,
   "metadata": {},
   "outputs": [
    {
     "data": {
      "text/plain": [
       "array([[0, 0, 0, 0, 0, 0, 0, 1, 0, 0],\n",
       "       [1, 0, 0, 0, 0, 0, 0, 0, 0, 0],\n",
       "       [0, 1, 0, 0, 0, 1, 0, 1, 0, 0],\n",
       "       [0, 0, 1, 0, 0, 1, 0, 0, 0, 0],\n",
       "       [0, 0, 0, 1, 0, 0, 1, 1, 0, 0],\n",
       "       [0, 0, 0, 0, 1, 0, 1, 0, 0, 0]])"
      ]
     },
     "execution_count": 29,
     "metadata": {},
     "output_type": "execute_result"
    }
   ],
   "source": [
    "schedule = pd.get_dummies(schedule,drop_first=True)\n",
    "shift_features = schedule.shape[1]\n",
    "for i in pd.get_dummies(pool).columns.to_list():\n",
    "    schedule[i] = 0\n",
    "\n",
    "schedule = schedule\n",
    "state = schedule.to_numpy()\n",
    "state"
   ]
  },
  {
   "cell_type": "code",
   "execution_count": 30,
   "metadata": {},
   "outputs": [],
   "source": [
    "device = torch.device(\"cuda:0\" if torch.cuda.is_available() else \"cpu\")\n",
    "encoder = Encoder(shift_features, count_workers, 32, 32, 32)\n",
    "decoder = Decoder()\n",
    "policy = Policy(encoder, decoder).to(device)"
   ]
  },
  {
   "cell_type": "code",
   "execution_count": 31,
   "metadata": {},
   "outputs": [
    {
     "data": {
      "text/plain": [
       "Graph(num_nodes=8, num_edges=24,\n",
       "      ndata_schemes={'x': Scheme(shape=(32,), dtype=torch.float32), '_ID': Scheme(shape=(), dtype=torch.int64), '_TYPE': Scheme(shape=(), dtype=torch.int64)}\n",
       "      edata_schemes={})"
      ]
     },
     "execution_count": 31,
     "metadata": {},
     "output_type": "execute_result"
    }
   ],
   "source": [
    "bg, shift_index = policy.grapher(state)\n",
    "bg"
   ]
  },
  {
   "cell_type": "code",
   "execution_count": 32,
   "metadata": {},
   "outputs": [],
   "source": [
    "encoded_graph = encoder(bg, bg.ndata['x'])"
   ]
  },
  {
   "cell_type": "code",
   "execution_count": 33,
   "metadata": {},
   "outputs": [
    {
     "data": {
      "text/plain": [
       "tensor([[-0.4178, -0.4862,  0.2360, -0.0494, -0.2569, -0.9166,  0.0618, -0.3302,\n",
       "          0.0510,  0.3893,  0.2635,  0.3080, -0.5470, -0.0314, -0.2741, -0.0091,\n",
       "          0.2288, -0.4567,  0.1581, -0.7147,  0.2120,  0.3984, -0.0408, -0.4238,\n",
       "          0.5873,  0.5146, -0.1482, -0.2600,  0.1145,  0.5446,  0.4510,  0.7426],\n",
       "        [-0.3996, -0.4326,  0.2144, -0.0050, -0.3459, -0.9060, -0.0207, -0.2460,\n",
       "          0.0892,  0.5549,  0.2128,  0.2936, -0.5595, -0.0989, -0.2010, -0.1318,\n",
       "          0.2966, -0.4456,  0.1263, -0.7435,  0.2342,  0.4642,  0.0160, -0.4048,\n",
       "          0.6862,  0.6544, -0.0636, -0.2044,  0.1379,  0.4861,  0.3032,  0.7449],\n",
       "        [-0.4490, -0.4387,  0.3479, -0.0325, -0.3824, -0.8228, -0.0367, -0.3237,\n",
       "          0.0422,  0.5197,  0.3079,  0.2721, -0.6162, -0.1032, -0.2107,  0.0125,\n",
       "          0.3507, -0.4331,  0.1407, -0.6841,  0.1594,  0.4995, -0.0403, -0.3999,\n",
       "          0.6218,  0.6292, -0.0648, -0.2559,  0.1270,  0.5776,  0.3325,  0.8718],\n",
       "        [-0.4317, -0.3606,  0.0145, -0.0102, -0.2917, -0.9098,  0.0038, -0.1014,\n",
       "          0.0904,  0.5248,  0.2628,  0.3239, -0.6312, -0.1603, -0.0657, -0.2692,\n",
       "          0.2225, -0.4465,  0.1257, -0.7754,  0.3119,  0.3264,  0.0695, -0.3422,\n",
       "          0.6342,  0.5771,  0.0275, -0.1082,  0.1085,  0.4376,  0.2322,  0.6195]],\n",
       "       grad_fn=<SliceBackward0>)"
      ]
     },
     "execution_count": 33,
     "metadata": {},
     "output_type": "execute_result"
    }
   ],
   "source": [
    "encoded_graph.ndata['h'][4:]"
   ]
  },
  {
   "cell_type": "code",
   "execution_count": null,
   "metadata": {},
   "outputs": [],
   "source": []
  }
 ],
 "metadata": {
  "interpreter": {
   "hash": "a5b0cbe14e1b88e411ba60f7f1e42d018a6caa56656953e7d806710a4690a6c8"
  },
  "kernelspec": {
   "display_name": "Python 3.7.2 64-bit ('rl')",
   "language": "python",
   "name": "python3"
  },
  "language_info": {
   "codemirror_mode": {
    "name": "ipython",
    "version": 3
   },
   "file_extension": ".py",
   "mimetype": "text/x-python",
   "name": "python",
   "nbconvert_exporter": "python",
   "pygments_lexer": "ipython3",
   "version": "3.7.2"
  },
  "orig_nbformat": 4
 },
 "nbformat": 4,
 "nbformat_minor": 2
}
