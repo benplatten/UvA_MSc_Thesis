{
 "cells": [
  {
   "cell_type": "code",
   "execution_count": 1,
   "id": "a594e043",
   "metadata": {},
   "outputs": [],
   "source": [
    "import pandas as pd\n",
    "import pickle"
   ]
  },
  {
   "cell_type": "code",
   "execution_count": 2,
   "id": "a03f85ec",
   "metadata": {},
   "outputs": [],
   "source": [
    "cols_of_interest=[\"repository_timestamp\",\n",
    "                \"op\",\n",
    "                \"dms_timestamp\",\n",
    "                \"id\",\n",
    "                \"shift_id\",\n",
    "                \"start_date_time\",\n",
    "                \"end_date_time\",\n",
    "                \"realized_start_date_time\",\n",
    "                \"realized_end_date_time\",\n",
    "                \"employee_id\",\n",
    "                \"pool_employee_id\",\n",
    "                 \"pool_id\",\n",
    "                 \"confirmed_date_time\", # level of interest doubtfull\n",
    "                 \"called_up_date_time\",\n",
    "                 \"decl_to_erp_system_date_time\",\n",
    "                 \"accept_by_employee_date_time\",\n",
    "                 \"viewable_for_emp_date_time\",\n",
    "                 \"deleted_date_time\"]"
   ]
  },
  {
   "cell_type": "code",
   "execution_count": null,
   "id": "0554a4c0-9825-49b4-84aa-601f74b72a4c",
   "metadata": {},
   "outputs": [],
   "source": []
  },
  {
   "cell_type": "code",
   "execution_count": null,
   "id": "865c8904-b71c-46c0-8a9c-4aece3590f43",
   "metadata": {},
   "outputs": [],
   "source": []
  },
  {
   "cell_type": "code",
   "execution_count": 3,
   "id": "5e4e4f84",
   "metadata": {},
   "outputs": [
    {
     "name": "stderr",
     "output_type": "stream",
     "text": [
      "/Users/benplatten/.pyenv/versions/3.7.2/lib/python3.7/site-packages/IPython/core/interactiveshell.py:3418: DtypeWarning: Columns (54) have mixed types.Specify dtype option on import or set low_memory=False.\n",
      "  exec(code_obj, self.user_global_ns, self.user_ns)\n"
     ]
    },
    {
     "data": {
      "text/plain": [
       "(273866, 18)"
      ]
     },
     "execution_count": 3,
     "metadata": {},
     "output_type": "execute_result"
    }
   ],
   "source": [
    "filename = '../data/iplan_employee_in_shift_20220214-20220218.pkl' \n",
    "newfilename = '../data/iplan_employee_in_shift_20220214-20220218.csv' \n",
    "pk = pd.read_pickle(filename)\n",
    "pk.to_csv(newfilename,index=False)\n",
    "\n",
    "df = pd.read_csv(newfilename,usecols=cols_of_interest,parse_dates=[\"repository_timestamp\",\n",
    "                \"dms_timestamp\",\n",
    "                \"start_date_time\",\n",
    "                \"end_date_time\",\n",
    "                \"realized_start_date_time\",\n",
    "                \"realized_end_date_time\",\n",
    "                \"decl_to_erp_system_date_time\",\n",
    "                \"accept_by_employee_date_time\",\n",
    "                \"viewable_for_emp_date_time\",\n",
    "                \"deleted_date_time\",\n",
    "                \"called_up_date_time\"])\n",
    "df.shape"
   ]
  },
  {
   "cell_type": "code",
   "execution_count": 4,
   "id": "324e31ee",
   "metadata": {},
   "outputs": [],
   "source": [
    "df['shift_day_of_week'] = df['start_date_time'].dt.day_name()"
   ]
  },
  {
   "cell_type": "code",
   "execution_count": 5,
   "id": "9914fb49-4b16-4752-a026-ba7982bb2413",
   "metadata": {},
   "outputs": [
    {
     "data": {
      "text/plain": [
       "Timestamp('2022-02-15 12:30:00')"
      ]
     },
     "execution_count": 5,
     "metadata": {},
     "output_type": "execute_result"
    }
   ],
   "source": [
    "df['start_date_time'].iloc[0]"
   ]
  },
  {
   "cell_type": "code",
   "execution_count": 6,
   "id": "70cfb488-7e60-40a6-9870-2e761d212571",
   "metadata": {},
   "outputs": [],
   "source": [
    "df['start_date'] = df['start_date_time'].dt.date\n",
    "df['end_date']= df['end_date_time'].dt.date\n",
    "df['start_time'] = df['start_date_time'].dt.strftime('%H:%M')\n",
    "df['end_time'] = df['end_date_time'].dt.strftime('%H:%M')"
   ]
  },
  {
   "cell_type": "code",
   "execution_count": 7,
   "id": "82533f1a-a437-4fa1-9e51-40a77f727096",
   "metadata": {},
   "outputs": [
    {
     "data": {
      "text/html": [
       "<div>\n",
       "<style scoped>\n",
       "    .dataframe tbody tr th:only-of-type {\n",
       "        vertical-align: middle;\n",
       "    }\n",
       "\n",
       "    .dataframe tbody tr th {\n",
       "        vertical-align: top;\n",
       "    }\n",
       "\n",
       "    .dataframe thead th {\n",
       "        text-align: right;\n",
       "    }\n",
       "</style>\n",
       "<table border=\"1\" class=\"dataframe\">\n",
       "  <thead>\n",
       "    <tr style=\"text-align: right;\">\n",
       "      <th></th>\n",
       "      <th>start_date</th>\n",
       "      <th>end_time</th>\n",
       "    </tr>\n",
       "  </thead>\n",
       "  <tbody>\n",
       "    <tr>\n",
       "      <th>0</th>\n",
       "      <td>2022-02-15</td>\n",
       "      <td>17:30</td>\n",
       "    </tr>\n",
       "    <tr>\n",
       "      <th>1</th>\n",
       "      <td>2022-02-16</td>\n",
       "      <td>14:30</td>\n",
       "    </tr>\n",
       "    <tr>\n",
       "      <th>2</th>\n",
       "      <td>2022-02-20</td>\n",
       "      <td>14:30</td>\n",
       "    </tr>\n",
       "    <tr>\n",
       "      <th>3</th>\n",
       "      <td>2022-02-16</td>\n",
       "      <td>14:30</td>\n",
       "    </tr>\n",
       "    <tr>\n",
       "      <th>4</th>\n",
       "      <td>2022-02-19</td>\n",
       "      <td>06:30</td>\n",
       "    </tr>\n",
       "    <tr>\n",
       "      <th>...</th>\n",
       "      <td>...</td>\n",
       "      <td>...</td>\n",
       "    </tr>\n",
       "    <tr>\n",
       "      <th>273861</th>\n",
       "      <td>2022-02-20</td>\n",
       "      <td>07:00</td>\n",
       "    </tr>\n",
       "    <tr>\n",
       "      <th>273862</th>\n",
       "      <td>2022-02-15</td>\n",
       "      <td>14:00</td>\n",
       "    </tr>\n",
       "    <tr>\n",
       "      <th>273863</th>\n",
       "      <td>2022-02-19</td>\n",
       "      <td>13:30</td>\n",
       "    </tr>\n",
       "    <tr>\n",
       "      <th>273864</th>\n",
       "      <td>2022-02-16</td>\n",
       "      <td>19:00</td>\n",
       "    </tr>\n",
       "    <tr>\n",
       "      <th>273865</th>\n",
       "      <td>2022-02-19</td>\n",
       "      <td>13:30</td>\n",
       "    </tr>\n",
       "  </tbody>\n",
       "</table>\n",
       "<p>273866 rows × 2 columns</p>\n",
       "</div>"
      ],
      "text/plain": [
       "        start_date end_time\n",
       "0       2022-02-15    17:30\n",
       "1       2022-02-16    14:30\n",
       "2       2022-02-20    14:30\n",
       "3       2022-02-16    14:30\n",
       "4       2022-02-19    06:30\n",
       "...            ...      ...\n",
       "273861  2022-02-20    07:00\n",
       "273862  2022-02-15    14:00\n",
       "273863  2022-02-19    13:30\n",
       "273864  2022-02-16    19:00\n",
       "273865  2022-02-19    13:30\n",
       "\n",
       "[273866 rows x 2 columns]"
      ]
     },
     "execution_count": 7,
     "metadata": {},
     "output_type": "execute_result"
    }
   ],
   "source": [
    "df[['start_date','end_time']]"
   ]
  },
  {
   "cell_type": "code",
   "execution_count": 29,
   "id": "ad17e3cc-abe8-4fe2-8430-fb8a854c2ba7",
   "metadata": {},
   "outputs": [
    {
     "data": {
      "text/plain": [
       "shift_day_of_week\n",
       "Friday       13297\n",
       "Monday       13661\n",
       "Saturday      4174\n",
       "Sunday        3790\n",
       "Thursday     13990\n",
       "Tuesday      13873\n",
       "Wednesday    13721\n",
       "Name: shift_id, dtype: int64"
      ]
     },
     "execution_count": 29,
     "metadata": {},
     "output_type": "execute_result"
    }
   ],
   "source": [
    "days = df[[\"shift_id\",\"shift_day_of_week\"]].groupby('shift_day_of_week').agg({'shift_day_of_week' : 'nunique', \n",
    "                                                                    'shift_day_of_week' : 'count',})\n",
    "\n",
    "days.columns = ['\n",
    "days['shifts_per_day'] = "
   ]
  },
  {
   "cell_type": "code",
   "execution_count": 7,
   "id": "fba51118-6068-47a0-ad11-5242e48cd473",
   "metadata": {},
   "outputs": [
    {
     "data": {
      "text/plain": [
       "19"
      ]
     },
     "execution_count": 7,
     "metadata": {},
     "output_type": "execute_result"
    }
   ],
   "source": [
    "len(df.columns)"
   ]
  },
  {
   "cell_type": "code",
   "execution_count": 27,
   "id": "e7ecb215-2892-49d5-b41c-26893a2b1b8f",
   "metadata": {},
   "outputs": [],
   "source": [
    "df.to_csv('../data/iplan_sample.csv',index=False)"
   ]
  }
 ],
 "metadata": {
  "kernelspec": {
   "display_name": "Python 3",
   "language": "python",
   "name": "python3"
  },
  "language_info": {
   "codemirror_mode": {
    "name": "ipython",
    "version": 3
   },
   "file_extension": ".py",
   "mimetype": "text/x-python",
   "name": "python",
   "nbconvert_exporter": "python",
   "pygments_lexer": "ipython3",
   "version": "3.7.2"
  }
 },
 "nbformat": 4,
 "nbformat_minor": 5
}
