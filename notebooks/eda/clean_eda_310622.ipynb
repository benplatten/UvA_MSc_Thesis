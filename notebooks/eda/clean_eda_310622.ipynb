{
 "cells": [
  {
   "cell_type": "markdown",
   "metadata": {},
   "source": [
    "look at work on Randstad laptop"
   ]
  },
  {
   "cell_type": "code",
   "execution_count": 3,
   "metadata": {},
   "outputs": [],
   "source": [
    "import pandas as pd\n",
    "import numpy as np\n",
    "import pickle\n",
    "import numpy as np\n",
    "import matplotlib.pyplot as plt\n",
    "import seaborn as sns "
   ]
  },
  {
   "cell_type": "code",
   "execution_count": 6,
   "metadata": {},
   "outputs": [],
   "source": [
    "with open('../../../data/iplan_column_names.pkl', 'rb') as f:\n",
    "    column_names = pickle.load(f)\n",
    "\n",
    "#with open('../data/iplan_date_columns.pkl', 'rb') as f:\n",
    "#    date_columns = pickle.load(f)\n",
    "date_columns = ['accept_by_employee_date_time']\n",
    "\n",
    "data_folder = '../../../data/'\n",
    "data_file = 'repo_iplan_employee_in_shift_20200210-20200216.csv'"
   ]
  },
  {
   "cell_type": "code",
   "execution_count": 2,
   "metadata": {},
   "outputs": [],
   "source": [
    "usecols = ['shift_id','accept_by_employee_date_time','pool_id']"
   ]
  },
  {
   "cell_type": "code",
   "execution_count": 7,
   "metadata": {},
   "outputs": [
    {
     "name": "stderr",
     "output_type": "stream",
     "text": [
      "/Users/benplatten/.pyenv/versions/werkcollege/lib/python3.7/site-packages/IPython/core/interactiveshell.py:3146: DtypeWarning: Columns (19,53,67,68,69) have mixed types.Specify dtype option on import or set low_memory=False.\n",
      "  interactivity=interactivity, compiler=compiler, result=result)\n"
     ]
    }
   ],
   "source": [
    "df = pd.read_csv(data_folder+data_file,names=column_names, parse_dates=date_columns) #,usecols=usecols)"
   ]
  },
  {
   "cell_type": "code",
   "execution_count": 16,
   "metadata": {},
   "outputs": [
    {
     "data": {
      "text/plain": [
       "(248119, 84)"
      ]
     },
     "execution_count": 16,
     "metadata": {},
     "output_type": "execute_result"
    }
   ],
   "source": [
    "df.shape"
   ]
  },
  {
   "cell_type": "code",
   "execution_count": 25,
   "metadata": {
    "collapsed": true,
    "jupyter": {
     "outputs_hidden": true
    },
    "tags": []
   },
   "outputs": [
    {
     "data": {
      "text/plain": [
       "['accept_by_cust_with_type_id',\n",
       " 'accept_by_customer_date_time',\n",
       " 'accept_by_emp_with_type_id',\n",
       " 'accept_by_employee_date_time',\n",
       " 'batch_ts',\n",
       " 'batchid',\n",
       " 'called_up_date_time',\n",
       " 'called_up_with_type_id',\n",
       " 'changed_event_date_time',\n",
       " 'changed_planned_hours_dt',\n",
       " 'clocked_end_date_time',\n",
       " 'clocked_start_date_time',\n",
       " 'comm_to_customer_date_time',\n",
       " 'comm_to_customer_with_type_id',\n",
       " 'comm_to_employee_date_time',\n",
       " 'comm_to_employee_with_type_id',\n",
       " 'confirmed_date_time',\n",
       " 'confirmed_with_type_id',\n",
       " 'creation_date_time',\n",
       " 'creation_with_type_id',\n",
       " 'current_call_up_id',\n",
       " 'current_qual_percentage',\n",
       " 'customer_in_pool_id',\n",
       " 'decl_examined_date_time',\n",
       " 'decl_to_erp_system_date_time',\n",
       " 'decl_to_erp_system_tag',\n",
       " 'decl_to_erp_with_type_id',\n",
       " 'declared_end_date_time',\n",
       " 'declared_event_id',\n",
       " 'declared_start_date_time',\n",
       " 'deleted_date_time',\n",
       " 'deleted_with_type_id',\n",
       " 'deviant_realization_end_dt',\n",
       " 'deviant_realization_event_id',\n",
       " 'deviant_realization_start_dt',\n",
       " 'dms_timestamp',\n",
       " 'employee_id',\n",
       " 'end_date_time',\n",
       " 'event_id',\n",
       " 'id',\n",
       " 'is_administrative_checked',\n",
       " 'is_cost_categories_realized',\n",
       " 'is_first_time_by_customer',\n",
       " 'is_on_call_employee',\n",
       " 'is_on_call_source_type_id',\n",
       " 'is_pauses_realized',\n",
       " 'is_realiz_ok_by_customer',\n",
       " 'is_realization_doubtful',\n",
       " 'is_to_evaluate_for_clock',\n",
       " 'last_change_date_of_planning',\n",
       " 'last_change_with_type_id',\n",
       " 'op',\n",
       " 'placement_number',\n",
       " 'planned_export_date_time',\n",
       " 'planned_export_with_type_id',\n",
       " 'pool_employee_id',\n",
       " 'pool_id',\n",
       " 'qual_fast_filter_id',\n",
       " 'qual_percentage_increment',\n",
       " 'realized_by_employee_date_time',\n",
       " 'realized_date_time',\n",
       " 'realized_end_date_time',\n",
       " 'realized_event_id',\n",
       " 'realized_export_date_time',\n",
       " 'realized_export_with_type_id',\n",
       " 'realized_start_date_time',\n",
       " 'realized_with_type_id',\n",
       " 'reason_deviant_realiz_text',\n",
       " 'reason_deviant_realiz_type_id',\n",
       " 'reason_edit_emp_shift_text',\n",
       " 'reason_edit_emp_shift_type_id',\n",
       " 'reject_by_emp_date_time',\n",
       " 'reject_by_emp_with_type_id',\n",
       " 'repository_timestamp',\n",
       " 'shift_id',\n",
       " 'start_date_time',\n",
       " 'subst_date_time',\n",
       " 'subst_group_id',\n",
       " 'subst_next_emp_in_shift_id',\n",
       " 'subst_prev_emp_in_shift_id',\n",
       " 'subst_with_type_id',\n",
       " 'un_reject_by_planner_date_time',\n",
       " 'viewable_for_emp_date_time',\n",
       " 'viewable_for_emp_with_type_id']"
      ]
     },
     "execution_count": 25,
     "metadata": {},
     "output_type": "execute_result"
    }
   ],
   "source": [
    "cols = df.columns.to_list()\n",
    "cols.sort()\n",
    "cols"
   ]
  },
  {
   "cell_type": "markdown",
   "metadata": {},
   "source": [
    "### What should the audience conclude from my EDA visualisations?\n",
    "\n",
    "Range in complexity - small pools and very large pool  \n",
    "But most are small  \n"
   ]
  },
  {
   "cell_type": "code",
   "execution_count": null,
   "metadata": {},
   "outputs": [],
   "source": [
    "# smallest pool \n",
    "# largest pool"
   ]
  },
  {
   "cell_type": "code",
   "execution_count": null,
   "metadata": {},
   "outputs": [],
   "source": []
  },
  {
   "cell_type": "markdown",
   "metadata": {},
   "source": [
    "### Analysis: accepted, realised and confirmed"
   ]
  },
  {
   "cell_type": "code",
   "execution_count": 9,
   "metadata": {
    "tags": []
   },
   "outputs": [],
   "source": [
    "# accept_by_employee_date_time\n",
    "# \n",
    "\n",
    "pooldf = df[['pool_id','shift_id','employee_id']].groupby(['pool_id']).agg({ 'shift_id' : 'nunique', 'employee_id' : 'nunique'})\n",
    "pooldf.columns = ['num_shifts','num_employees']"
   ]
  },
  {
   "cell_type": "code",
   "execution_count": 12,
   "metadata": {},
   "outputs": [
    {
     "name": "stdout",
     "output_type": "stream",
     "text": [
      "440\n",
      "32\n"
     ]
    }
   ],
   "source": [
    "print(len(pooldf[pooldf['num_shifts'] > 7]))\n",
    "print(len(pooldf[pooldf['num_shifts'] <= 7]))"
   ]
  },
  {
   "cell_type": "code",
   "execution_count": 14,
   "metadata": {},
   "outputs": [
    {
     "data": {
      "text/plain": [
       "(355, 2)"
      ]
     },
     "execution_count": 14,
     "metadata": {},
     "output_type": "execute_result"
    }
   ],
   "source": [
    "mediumPools = pooldf[(pooldf['num_shifts'] > 7) & (pooldf['num_shifts'] < 200)]\n",
    "mediumPools.shape"
   ]
  },
  {
   "cell_type": "code",
   "execution_count": 15,
   "metadata": {},
   "outputs": [
    {
     "data": {
      "text/html": [
       "<div>\n",
       "<style scoped>\n",
       "    .dataframe tbody tr th:only-of-type {\n",
       "        vertical-align: middle;\n",
       "    }\n",
       "\n",
       "    .dataframe tbody tr th {\n",
       "        vertical-align: top;\n",
       "    }\n",
       "\n",
       "    .dataframe thead th {\n",
       "        text-align: right;\n",
       "    }\n",
       "</style>\n",
       "<table border=\"1\" class=\"dataframe\">\n",
       "  <thead>\n",
       "    <tr style=\"text-align: right;\">\n",
       "      <th></th>\n",
       "      <th>num_shifts</th>\n",
       "      <th>num_employees</th>\n",
       "    </tr>\n",
       "    <tr>\n",
       "      <th>pool_id</th>\n",
       "      <th></th>\n",
       "      <th></th>\n",
       "    </tr>\n",
       "  </thead>\n",
       "  <tbody>\n",
       "    <tr>\n",
       "      <th>1</th>\n",
       "      <td>24</td>\n",
       "      <td>11</td>\n",
       "    </tr>\n",
       "    <tr>\n",
       "      <th>24</th>\n",
       "      <td>90</td>\n",
       "      <td>62</td>\n",
       "    </tr>\n",
       "    <tr>\n",
       "      <th>29</th>\n",
       "      <td>51</td>\n",
       "      <td>15</td>\n",
       "    </tr>\n",
       "    <tr>\n",
       "      <th>32</th>\n",
       "      <td>80</td>\n",
       "      <td>23</td>\n",
       "    </tr>\n",
       "    <tr>\n",
       "      <th>66</th>\n",
       "      <td>8</td>\n",
       "      <td>3</td>\n",
       "    </tr>\n",
       "  </tbody>\n",
       "</table>\n",
       "</div>"
      ],
      "text/plain": [
       "         num_shifts  num_employees\n",
       "pool_id                           \n",
       "1                24             11\n",
       "24               90             62\n",
       "29               51             15\n",
       "32               80             23\n",
       "66                8              3"
      ]
     },
     "execution_count": 15,
     "metadata": {},
     "output_type": "execute_result"
    }
   ],
   "source": [
    "mediumPools.head()"
   ]
  },
  {
   "cell_type": "code",
   "execution_count": null,
   "metadata": {},
   "outputs": [],
   "source": []
  }
 ],
 "metadata": {
  "kernelspec": {
   "display_name": "werkcollege",
   "language": "python",
   "name": "werkcollege"
  },
  "language_info": {
   "codemirror_mode": {
    "name": "ipython",
    "version": 3
   },
   "file_extension": ".py",
   "mimetype": "text/x-python",
   "name": "python",
   "nbconvert_exporter": "python",
   "pygments_lexer": "ipython3",
   "version": "3.7.2"
  }
 },
 "nbformat": 4,
 "nbformat_minor": 4
}
