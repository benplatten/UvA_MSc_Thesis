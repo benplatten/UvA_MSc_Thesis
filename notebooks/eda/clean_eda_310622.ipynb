{
 "cells": [
  {
   "cell_type": "markdown",
   "metadata": {},
   "source": [
    "### Aims:\n",
    "show: \n",
    "   - range of pools and schedules\n",
    "   - show that most pools are small\n",
    "   - range of employee to shift per pool ratio "
   ]
  },
  {
   "cell_type": "code",
   "execution_count": 5,
   "metadata": {},
   "outputs": [],
   "source": [
    "import pandas as pd\n",
    "import numpy as np\n",
    "import pickle\n",
    "import numpy as np\n",
    "import matplotlib.pyplot as plt\n",
    "import seaborn as sns "
   ]
  },
  {
   "cell_type": "code",
   "execution_count": 6,
   "metadata": {},
   "outputs": [],
   "source": [
    "plots = \"/Users/benplatten/workspace/UvA_Thesis/FINAL_REPORT/plots/\""
   ]
  },
  {
   "cell_type": "code",
   "execution_count": null,
   "metadata": {},
   "outputs": [],
   "source": [
    "title=\n",
    "name=\n",
    "sns.set_context(\"talk\")\n",
    "\n",
    "plot = ## .set_title(title)\n",
    "\n",
    "fig = plot.get_figure()\n",
    "fig.savefig(f\"{plots}{name}.png\",bbox_inches='tight') "
   ]
  },
  {
   "cell_type": "code",
   "execution_count": 7,
   "metadata": {},
   "outputs": [],
   "source": [
    "with open('../../../data/iplan_column_names.pkl', 'rb') as f:\n",
    "    column_names = pickle.load(f)\n",
    "\n",
    "#with open('../data/iplan_date_columns.pkl', 'rb') as f:\n",
    "#    date_columns = pickle.load(f)\n",
    "date_columns = ['repository_timestamp','start_date_time','end_date_time']\n",
    "\n",
    "data_folder = '../../../data/'\n",
    "data_file = 'repo_iplan_employee_in_shift_20200210-20200216.csv'"
   ]
  },
  {
   "cell_type": "code",
   "execution_count": 8,
   "metadata": {},
   "outputs": [],
   "source": [
    "usecols=[\"repository_timestamp\",\n",
    "                \"id\",\n",
    "                \"shift_id\",\n",
    "                \"start_date_time\",\n",
    "                \"end_date_time\",\n",
    "                \"employee_id\",\n",
    "                \"pool_employee_id\",\n",
    "                 \"pool_id\"]"
   ]
  },
  {
   "cell_type": "code",
   "execution_count": 9,
   "metadata": {},
   "outputs": [],
   "source": [
    "df = pd.read_csv(data_folder+data_file,names=column_names, parse_dates=date_columns,usecols=usecols)"
   ]
  },
  {
   "cell_type": "code",
   "execution_count": 10,
   "metadata": {},
   "outputs": [
    {
     "data": {
      "text/plain": [
       "(248119, 8)"
      ]
     },
     "execution_count": 10,
     "metadata": {},
     "output_type": "execute_result"
    }
   ],
   "source": [
    "df.shape"
   ]
  },
  {
   "cell_type": "code",
   "execution_count": 11,
   "metadata": {},
   "outputs": [
    {
     "data": {
      "text/html": [
       "<div>\n",
       "<style scoped>\n",
       "    .dataframe tbody tr th:only-of-type {\n",
       "        vertical-align: middle;\n",
       "    }\n",
       "\n",
       "    .dataframe tbody tr th {\n",
       "        vertical-align: top;\n",
       "    }\n",
       "\n",
       "    .dataframe thead th {\n",
       "        text-align: right;\n",
       "    }\n",
       "</style>\n",
       "<table border=\"1\" class=\"dataframe\">\n",
       "  <thead>\n",
       "    <tr style=\"text-align: right;\">\n",
       "      <th></th>\n",
       "      <th>repository_timestamp</th>\n",
       "      <th>id</th>\n",
       "      <th>shift_id</th>\n",
       "      <th>start_date_time</th>\n",
       "      <th>end_date_time</th>\n",
       "      <th>pool_id</th>\n",
       "      <th>employee_id</th>\n",
       "      <th>pool_employee_id</th>\n",
       "    </tr>\n",
       "  </thead>\n",
       "  <tbody>\n",
       "    <tr>\n",
       "      <th>0</th>\n",
       "      <td>2020-08-18 20:22:52.059095</td>\n",
       "      <td>126361814</td>\n",
       "      <td>131254489</td>\n",
       "      <td>2020-02-12 08:00:00</td>\n",
       "      <td>2020-02-12 17:00:00</td>\n",
       "      <td>4550</td>\n",
       "      <td>823499</td>\n",
       "      <td>1136288</td>\n",
       "    </tr>\n",
       "    <tr>\n",
       "      <th>1</th>\n",
       "      <td>2020-08-18 20:22:52.059095</td>\n",
       "      <td>125706123</td>\n",
       "      <td>131073033</td>\n",
       "      <td>2020-02-13 15:15:00</td>\n",
       "      <td>2020-02-13 18:00:00</td>\n",
       "      <td>5314</td>\n",
       "      <td>851774</td>\n",
       "      <td>1172843</td>\n",
       "    </tr>\n",
       "  </tbody>\n",
       "</table>\n",
       "</div>"
      ],
      "text/plain": [
       "        repository_timestamp         id   shift_id     start_date_time  \\\n",
       "0 2020-08-18 20:22:52.059095  126361814  131254489 2020-02-12 08:00:00   \n",
       "1 2020-08-18 20:22:52.059095  125706123  131073033 2020-02-13 15:15:00   \n",
       "\n",
       "        end_date_time  pool_id  employee_id  pool_employee_id  \n",
       "0 2020-02-12 17:00:00     4550       823499           1136288  \n",
       "1 2020-02-13 18:00:00     5314       851774           1172843  "
      ]
     },
     "execution_count": 11,
     "metadata": {},
     "output_type": "execute_result"
    }
   ],
   "source": [
    "df.head(2)"
   ]
  },
  {
   "cell_type": "markdown",
   "metadata": {},
   "source": [
    "### Summary Statistics"
   ]
  },
  {
   "cell_type": "code",
   "execution_count": 12,
   "metadata": {},
   "outputs": [
    {
     "name": "stdout",
     "output_type": "stream",
     "text": [
      "Data from date range: 2020-02-09 00:01:00 - 2020-02-16 23:00:00\n",
      "Number of pools: 472\n",
      "Number of shifts: 72017\n",
      "Number of employees: 39967\n",
      "Number of pool employee id: 40733 (employees can be in more than 1 pool)\n"
     ]
    }
   ],
   "source": [
    "print(f\"Data from date range: {df.start_date_time.min()} - {df.start_date_time.max()}\")\n",
    "print(f\"Number of pools: {df.pool_id.nunique()}\")\n",
    "print(f\"Number of shifts: {df.shift_id.nunique()}\")\n",
    "print(f\"Number of employees: {df.employee_id.nunique()}\")\n",
    "print(f\"Number of pool employee id: {df.pool_employee_id.nunique()} (employees can be in more than 1 pool)\")"
   ]
  },
  {
   "cell_type": "markdown",
   "metadata": {},
   "source": [
    "### What should the audience conclude from my EDA visualisations?\n",
    "\n",
    "Range in complexity - small pools and very large pool  \n",
    "But most (some...) are small  \n"
   ]
  },
  {
   "cell_type": "code",
   "execution_count": 13,
   "metadata": {},
   "outputs": [
    {
     "data": {
      "text/html": [
       "<div>\n",
       "<style scoped>\n",
       "    .dataframe tbody tr th:only-of-type {\n",
       "        vertical-align: middle;\n",
       "    }\n",
       "\n",
       "    .dataframe tbody tr th {\n",
       "        vertical-align: top;\n",
       "    }\n",
       "\n",
       "    .dataframe thead th {\n",
       "        text-align: right;\n",
       "    }\n",
       "</style>\n",
       "<table border=\"1\" class=\"dataframe\">\n",
       "  <thead>\n",
       "    <tr style=\"text-align: right;\">\n",
       "      <th></th>\n",
       "      <th>pool_id</th>\n",
       "      <th>shift_count</th>\n",
       "      <th>employee_count</th>\n",
       "      <th>shift_emp_ratio</th>\n",
       "    </tr>\n",
       "  </thead>\n",
       "  <tbody>\n",
       "    <tr>\n",
       "      <th>0</th>\n",
       "      <td>1</td>\n",
       "      <td>24</td>\n",
       "      <td>11</td>\n",
       "      <td>2.181818</td>\n",
       "    </tr>\n",
       "    <tr>\n",
       "      <th>1</th>\n",
       "      <td>24</td>\n",
       "      <td>90</td>\n",
       "      <td>62</td>\n",
       "      <td>1.451613</td>\n",
       "    </tr>\n",
       "  </tbody>\n",
       "</table>\n",
       "</div>"
      ],
      "text/plain": [
       "   pool_id  shift_count  employee_count  shift_emp_ratio\n",
       "0        1           24              11         2.181818\n",
       "1       24           90              62         1.451613"
      ]
     },
     "execution_count": 13,
     "metadata": {},
     "output_type": "execute_result"
    }
   ],
   "source": [
    "pool_df = df.groupby(['pool_id']).agg({\n",
    "                    'shift_id':lambda x: x.nunique(),\n",
    "                    'employee_id':lambda x: x.nunique()}).reset_index()\n",
    "\n",
    "pool_df.columns = ['pool_id','shift_count','employee_count']\n",
    "pool_df['shift_emp_ratio'] = pool_df['shift_count'] / pool_df['employee_count'] \n",
    "\n",
    "pool_df.head(2)"
   ]
  },
  {
   "cell_type": "code",
   "execution_count": 10,
   "metadata": {},
   "outputs": [
    {
     "name": "stdout",
     "output_type": "stream",
     "text": [
      "Smallest pool by shifts: 2\n",
      "Largest pool by shifts: 2972\n"
     ]
    }
   ],
   "source": [
    "print(f\"Smallest pool by shifts: {pool_df.shift_count.min()}\")\n",
    "print(f\"Largest pool by shifts: {pool_df.shift_count.max()}\")\n",
    "# largest pool"
   ]
  },
  {
   "cell_type": "code",
   "execution_count": 12,
   "metadata": {},
   "outputs": [
    {
     "data": {
      "text/plain": [
       "2.052800127930148"
      ]
     },
     "execution_count": 12,
     "metadata": {},
     "output_type": "execute_result"
    }
   ],
   "source": [
    "pool_df['shift_emp_ratio'].mean()"
   ]
  },
  {
   "cell_type": "code",
   "execution_count": 22,
   "metadata": {},
   "outputs": [
    {
     "data": {
      "text/html": [
       "<div>\n",
       "<style scoped>\n",
       "    .dataframe tbody tr th:only-of-type {\n",
       "        vertical-align: middle;\n",
       "    }\n",
       "\n",
       "    .dataframe tbody tr th {\n",
       "        vertical-align: top;\n",
       "    }\n",
       "\n",
       "    .dataframe thead th {\n",
       "        text-align: right;\n",
       "    }\n",
       "</style>\n",
       "<table border=\"1\" class=\"dataframe\">\n",
       "  <thead>\n",
       "    <tr style=\"text-align: right;\">\n",
       "      <th></th>\n",
       "      <th>pool_id</th>\n",
       "      <th>shift_count</th>\n",
       "      <th>employee_count</th>\n",
       "      <th>shift_emp_ratio</th>\n",
       "    </tr>\n",
       "  </thead>\n",
       "  <tbody>\n",
       "    <tr>\n",
       "      <th>382</th>\n",
       "      <td>18224</td>\n",
       "      <td>14</td>\n",
       "      <td>2</td>\n",
       "      <td>7.0</td>\n",
       "    </tr>\n",
       "  </tbody>\n",
       "</table>\n",
       "</div>"
      ],
      "text/plain": [
       "     pool_id  shift_count  employee_count  shift_emp_ratio\n",
       "382    18224           14               2              7.0"
      ]
     },
     "execution_count": 22,
     "metadata": {},
     "output_type": "execute_result"
    }
   ],
   "source": [
    "pool_df[pool_df['shift_emp_ratio'] >5]"
   ]
  },
  {
   "cell_type": "markdown",
   "metadata": {},
   "source": [
    "#### Shift analysis"
   ]
  },
  {
   "cell_type": "code",
   "execution_count": 14,
   "metadata": {},
   "outputs": [
    {
     "data": {
      "text/plain": [
       "28"
      ]
     },
     "execution_count": 14,
     "metadata": {},
     "output_type": "execute_result"
    }
   ],
   "source": [
    "pool_df[\"shift_count\"][pool_df[\"shift_count\"]>500].count()"
   ]
  },
  {
   "cell_type": "code",
   "execution_count": 39,
   "metadata": {},
   "outputs": [
    {
     "data": {
      "text/plain": [
       "Text(0.5, 1.0, 'Count of shifts per Pool')"
      ]
     },
     "execution_count": 39,
     "metadata": {},
     "output_type": "execute_result"
    },
    {
     "data": {
      "image/png": "[encoded data removed]",
      "text/plain": [
       "<Figure size 432x288 with 1 Axes>"
      ]
     },
     "metadata": {
      "needs_background": "light"
     },
     "output_type": "display_data"
    }
   ],
   "source": [
    "sns.boxplot(x=pool_df[\"shift_count\"][pool_df[\"shift_count\"]<500]).set_title('Count of shifts per pool')"
   ]
  },
  {
   "cell_type": "code",
   "execution_count": 18,
   "metadata": {},
   "outputs": [
    {
     "name": "stdout",
     "output_type": "stream",
     "text": [
      "152.57838983050848\n",
      "95.14414414414415\n",
      "61.5\n"
     ]
    }
   ],
   "source": [
    "print(pool_df.shift_count.mean())\n",
    "print(pool_df[\"shift_count\"][pool_df[\"shift_count\"]<500].mean())\n",
    "print(pool_df[\"shift_count\"][pool_df[\"shift_count\"]<500].median())"
   ]
  },
  {
   "cell_type": "code",
   "execution_count": 65,
   "metadata": {},
   "outputs": [
    {
     "name": "stdout",
     "output_type": "stream",
     "text": [
      "pools with less shifts than the mean: 294\n",
      "pools with more shifts than the mean: 175\n",
      "pools with less shifts than the median: 220\n",
      "pools with more shifts than the mean: 175\n",
      "pools with a small shift count: 67\n",
      "% small pools: 14.194915254237289\n"
     ]
    }
   ],
   "source": [
    "print(f\"pools with less shifts than the mean: {pool_df['shift_count'][pool_df['shift_count']<95].count()}\")\n",
    "print(f\"pools with more shifts than the mean: {pool_df['shift_count'][pool_df['shift_count']>95].count()}\")\n",
    "print(f\"pools with less shifts than the median: {pool_df['shift_count'][pool_df['shift_count']<61].count()}\")\n",
    "print(f\"pools with more shifts than the mean: {pool_df['shift_count'][pool_df['shift_count']>95].count()}\")\n",
    "print(f\"pools with a small shift count: {pool_df['shift_count'][pool_df['shift_count']<15].count()}\")\n",
    "print(f\"% small pools: {(pool_df['shift_count'][pool_df['shift_count']<15].count() / len(pool_df))*100}\")"
   ]
  },
  {
   "cell_type": "code",
   "execution_count": 64,
   "metadata": {},
   "outputs": [
    {
     "data": {
      "image/png": "[encoded data removed]",
      "text/plain": [
       "<Figure size 432x288 with 1 Axes>"
      ]
     },
     "metadata": {
      "needs_background": "light"
     },
     "output_type": "display_data"
    }
   ],
   "source": [
    "title='Ratio between shifts and employees per Pool'\n",
    "name='shift_emp_ratio'\n",
    "\n",
    "plot = sns.boxplot(x=pool_df[\"shift_emp_ratio\"]).set_title(title)\n",
    "\n",
    "fig = plot.get_figure()\n",
    "fig.savefig(f\"{plots}{name}.png\",bbox_inches='tight') "
   ]
  },
  {
   "cell_type": "markdown",
   "metadata": {},
   "source": [
    "#### Matching schedules"
   ]
  },
  {
   "cell_type": "code",
   "execution_count": 72,
   "metadata": {},
   "outputs": [
    {
     "data": {
      "text/plain": [
       "(38, 4)"
      ]
     },
     "execution_count": 72,
     "metadata": {},
     "output_type": "execute_result"
    }
   ],
   "source": [
    "match_df = pool_df[pool_df.duplicated(subset=[\"shift_count\", \"employee_count\"], keep=False)].sort_values(['shift_count','employee_count'])\n",
    "match_df.shape"
   ]
  },
  {
   "cell_type": "code",
   "execution_count": 74,
   "metadata": {},
   "outputs": [
    {
     "data": {
      "image/png": "[encoded data removed]",
      "text/plain": [
       "<Figure size 432x288 with 1 Axes>"
      ]
     },
     "metadata": {
      "needs_background": "light"
     },
     "output_type": "display_data"
    }
   ],
   "source": [
    "title='Count of shifts and employees per pool'\n",
    "name='shifts_employees_per_pool_presentation'\n",
    "\n",
    "plot = sns.scatterplot(data=match_df, x=\"employee_count\", y=\"shift_count\").set_title(title)\n",
    "\n",
    "#fig = plot.get_figure()\n",
    "#fig.savefig(f\"{plots}{name}.png\",bbox_inches='tight') "
   ]
  },
  {
   "cell_type": "code",
   "execution_count": 86,
   "metadata": {
    "tags": []
   },
   "outputs": [
    {
     "data": {
      "text/plain": [
       "pool_id              int64\n",
       "shift_count          int64\n",
       "employee_count       int64\n",
       "shift_emp_ratio    float64\n",
       "dtype: object"
      ]
     },
     "execution_count": 86,
     "metadata": {},
     "output_type": "execute_result"
    }
   ],
   "source": [
    "pool_df.dtypes"
   ]
  },
  {
   "cell_type": "code",
   "execution_count": 73,
   "metadata": {
    "collapsed": true,
    "jupyter": {
     "outputs_hidden": true
    },
    "tags": []
   },
   "outputs": [
    {
     "data": {
      "text/html": [
       "<div>\n",
       "<style scoped>\n",
       "    .dataframe tbody tr th:only-of-type {\n",
       "        vertical-align: middle;\n",
       "    }\n",
       "\n",
       "    .dataframe tbody tr th {\n",
       "        vertical-align: top;\n",
       "    }\n",
       "\n",
       "    .dataframe thead th {\n",
       "        text-align: right;\n",
       "    }\n",
       "</style>\n",
       "<table border=\"1\" class=\"dataframe\">\n",
       "  <thead>\n",
       "    <tr style=\"text-align: right;\">\n",
       "      <th></th>\n",
       "      <th>pool_id</th>\n",
       "      <th>shift_count</th>\n",
       "      <th>employee_count</th>\n",
       "      <th>shift_emp_ratio</th>\n",
       "    </tr>\n",
       "  </thead>\n",
       "  <tbody>\n",
       "    <tr>\n",
       "      <th>70</th>\n",
       "      <td>1783</td>\n",
       "      <td>2</td>\n",
       "      <td>2</td>\n",
       "      <td>1.000000</td>\n",
       "    </tr>\n",
       "    <tr>\n",
       "      <th>315</th>\n",
       "      <td>15364</td>\n",
       "      <td>2</td>\n",
       "      <td>2</td>\n",
       "      <td>1.000000</td>\n",
       "    </tr>\n",
       "    <tr>\n",
       "      <th>406</th>\n",
       "      <td>19043</td>\n",
       "      <td>2</td>\n",
       "      <td>2</td>\n",
       "      <td>1.000000</td>\n",
       "    </tr>\n",
       "    <tr>\n",
       "      <th>427</th>\n",
       "      <td>19623</td>\n",
       "      <td>2</td>\n",
       "      <td>2</td>\n",
       "      <td>1.000000</td>\n",
       "    </tr>\n",
       "    <tr>\n",
       "      <th>293</th>\n",
       "      <td>14103</td>\n",
       "      <td>4</td>\n",
       "      <td>5</td>\n",
       "      <td>0.800000</td>\n",
       "    </tr>\n",
       "    <tr>\n",
       "      <th>342</th>\n",
       "      <td>16443</td>\n",
       "      <td>4</td>\n",
       "      <td>5</td>\n",
       "      <td>0.800000</td>\n",
       "    </tr>\n",
       "    <tr>\n",
       "      <th>55</th>\n",
       "      <td>727</td>\n",
       "      <td>5</td>\n",
       "      <td>1</td>\n",
       "      <td>5.000000</td>\n",
       "    </tr>\n",
       "    <tr>\n",
       "      <th>228</th>\n",
       "      <td>10262</td>\n",
       "      <td>5</td>\n",
       "      <td>1</td>\n",
       "      <td>5.000000</td>\n",
       "    </tr>\n",
       "    <tr>\n",
       "      <th>296</th>\n",
       "      <td>14283</td>\n",
       "      <td>5</td>\n",
       "      <td>1</td>\n",
       "      <td>5.000000</td>\n",
       "    </tr>\n",
       "    <tr>\n",
       "      <th>443</th>\n",
       "      <td>20083</td>\n",
       "      <td>5</td>\n",
       "      <td>1</td>\n",
       "      <td>5.000000</td>\n",
       "    </tr>\n",
       "    <tr>\n",
       "      <th>471</th>\n",
       "      <td>20943</td>\n",
       "      <td>5</td>\n",
       "      <td>1</td>\n",
       "      <td>5.000000</td>\n",
       "    </tr>\n",
       "    <tr>\n",
       "      <th>27</th>\n",
       "      <td>234</td>\n",
       "      <td>5</td>\n",
       "      <td>2</td>\n",
       "      <td>2.500000</td>\n",
       "    </tr>\n",
       "    <tr>\n",
       "      <th>446</th>\n",
       "      <td>20143</td>\n",
       "      <td>5</td>\n",
       "      <td>2</td>\n",
       "      <td>2.500000</td>\n",
       "    </tr>\n",
       "    <tr>\n",
       "      <th>144</th>\n",
       "      <td>5936</td>\n",
       "      <td>5</td>\n",
       "      <td>4</td>\n",
       "      <td>1.250000</td>\n",
       "    </tr>\n",
       "    <tr>\n",
       "      <th>435</th>\n",
       "      <td>19843</td>\n",
       "      <td>5</td>\n",
       "      <td>4</td>\n",
       "      <td>1.250000</td>\n",
       "    </tr>\n",
       "    <tr>\n",
       "      <th>6</th>\n",
       "      <td>66</td>\n",
       "      <td>8</td>\n",
       "      <td>3</td>\n",
       "      <td>2.666667</td>\n",
       "    </tr>\n",
       "    <tr>\n",
       "      <th>113</th>\n",
       "      <td>4752</td>\n",
       "      <td>8</td>\n",
       "      <td>3</td>\n",
       "      <td>2.666667</td>\n",
       "    </tr>\n",
       "    <tr>\n",
       "      <th>272</th>\n",
       "      <td>12822</td>\n",
       "      <td>10</td>\n",
       "      <td>2</td>\n",
       "      <td>5.000000</td>\n",
       "    </tr>\n",
       "    <tr>\n",
       "      <th>299</th>\n",
       "      <td>14423</td>\n",
       "      <td>10</td>\n",
       "      <td>2</td>\n",
       "      <td>5.000000</td>\n",
       "    </tr>\n",
       "    <tr>\n",
       "      <th>307</th>\n",
       "      <td>14763</td>\n",
       "      <td>10</td>\n",
       "      <td>2</td>\n",
       "      <td>5.000000</td>\n",
       "    </tr>\n",
       "    <tr>\n",
       "      <th>425</th>\n",
       "      <td>19583</td>\n",
       "      <td>10</td>\n",
       "      <td>2</td>\n",
       "      <td>5.000000</td>\n",
       "    </tr>\n",
       "    <tr>\n",
       "      <th>411</th>\n",
       "      <td>19163</td>\n",
       "      <td>10</td>\n",
       "      <td>4</td>\n",
       "      <td>2.500000</td>\n",
       "    </tr>\n",
       "    <tr>\n",
       "      <th>433</th>\n",
       "      <td>19803</td>\n",
       "      <td>10</td>\n",
       "      <td>4</td>\n",
       "      <td>2.500000</td>\n",
       "    </tr>\n",
       "    <tr>\n",
       "      <th>450</th>\n",
       "      <td>20344</td>\n",
       "      <td>10</td>\n",
       "      <td>4</td>\n",
       "      <td>2.500000</td>\n",
       "    </tr>\n",
       "    <tr>\n",
       "      <th>337</th>\n",
       "      <td>16123</td>\n",
       "      <td>10</td>\n",
       "      <td>10</td>\n",
       "      <td>1.000000</td>\n",
       "    </tr>\n",
       "    <tr>\n",
       "      <th>432</th>\n",
       "      <td>19763</td>\n",
       "      <td>10</td>\n",
       "      <td>10</td>\n",
       "      <td>1.000000</td>\n",
       "    </tr>\n",
       "    <tr>\n",
       "      <th>134</th>\n",
       "      <td>5734</td>\n",
       "      <td>13</td>\n",
       "      <td>3</td>\n",
       "      <td>4.333333</td>\n",
       "    </tr>\n",
       "    <tr>\n",
       "      <th>197</th>\n",
       "      <td>8382</td>\n",
       "      <td>13</td>\n",
       "      <td>3</td>\n",
       "      <td>4.333333</td>\n",
       "    </tr>\n",
       "    <tr>\n",
       "      <th>15</th>\n",
       "      <td>152</td>\n",
       "      <td>15</td>\n",
       "      <td>43</td>\n",
       "      <td>0.348837</td>\n",
       "    </tr>\n",
       "    <tr>\n",
       "      <th>461</th>\n",
       "      <td>20703</td>\n",
       "      <td>15</td>\n",
       "      <td>43</td>\n",
       "      <td>0.348837</td>\n",
       "    </tr>\n",
       "    <tr>\n",
       "      <th>16</th>\n",
       "      <td>156</td>\n",
       "      <td>20</td>\n",
       "      <td>6</td>\n",
       "      <td>3.333333</td>\n",
       "    </tr>\n",
       "    <tr>\n",
       "      <th>192</th>\n",
       "      <td>7982</td>\n",
       "      <td>20</td>\n",
       "      <td>6</td>\n",
       "      <td>3.333333</td>\n",
       "    </tr>\n",
       "    <tr>\n",
       "      <th>172</th>\n",
       "      <td>7000</td>\n",
       "      <td>23</td>\n",
       "      <td>14</td>\n",
       "      <td>1.642857</td>\n",
       "    </tr>\n",
       "    <tr>\n",
       "      <th>319</th>\n",
       "      <td>15463</td>\n",
       "      <td>23</td>\n",
       "      <td>14</td>\n",
       "      <td>1.642857</td>\n",
       "    </tr>\n",
       "    <tr>\n",
       "      <th>136</th>\n",
       "      <td>5775</td>\n",
       "      <td>24</td>\n",
       "      <td>9</td>\n",
       "      <td>2.666667</td>\n",
       "    </tr>\n",
       "    <tr>\n",
       "      <th>151</th>\n",
       "      <td>6175</td>\n",
       "      <td>24</td>\n",
       "      <td>9</td>\n",
       "      <td>2.666667</td>\n",
       "    </tr>\n",
       "    <tr>\n",
       "      <th>127</th>\n",
       "      <td>5575</td>\n",
       "      <td>30</td>\n",
       "      <td>11</td>\n",
       "      <td>2.727273</td>\n",
       "    </tr>\n",
       "    <tr>\n",
       "      <th>304</th>\n",
       "      <td>14623</td>\n",
       "      <td>30</td>\n",
       "      <td>11</td>\n",
       "      <td>2.727273</td>\n",
       "    </tr>\n",
       "  </tbody>\n",
       "</table>\n",
       "</div>"
      ],
      "text/plain": [
       "     pool_id  shift_count  employee_count  shift_emp_ratio\n",
       "70      1783            2               2         1.000000\n",
       "315    15364            2               2         1.000000\n",
       "406    19043            2               2         1.000000\n",
       "427    19623            2               2         1.000000\n",
       "293    14103            4               5         0.800000\n",
       "342    16443            4               5         0.800000\n",
       "55       727            5               1         5.000000\n",
       "228    10262            5               1         5.000000\n",
       "296    14283            5               1         5.000000\n",
       "443    20083            5               1         5.000000\n",
       "471    20943            5               1         5.000000\n",
       "27       234            5               2         2.500000\n",
       "446    20143            5               2         2.500000\n",
       "144     5936            5               4         1.250000\n",
       "435    19843            5               4         1.250000\n",
       "6         66            8               3         2.666667\n",
       "113     4752            8               3         2.666667\n",
       "272    12822           10               2         5.000000\n",
       "299    14423           10               2         5.000000\n",
       "307    14763           10               2         5.000000\n",
       "425    19583           10               2         5.000000\n",
       "411    19163           10               4         2.500000\n",
       "433    19803           10               4         2.500000\n",
       "450    20344           10               4         2.500000\n",
       "337    16123           10              10         1.000000\n",
       "432    19763           10              10         1.000000\n",
       "134     5734           13               3         4.333333\n",
       "197     8382           13               3         4.333333\n",
       "15       152           15              43         0.348837\n",
       "461    20703           15              43         0.348837\n",
       "16       156           20               6         3.333333\n",
       "192     7982           20               6         3.333333\n",
       "172     7000           23              14         1.642857\n",
       "319    15463           23              14         1.642857\n",
       "136     5775           24               9         2.666667\n",
       "151     6175           24               9         2.666667\n",
       "127     5575           30              11         2.727273\n",
       "304    14623           30              11         2.727273"
      ]
     },
     "execution_count": 73,
     "metadata": {},
     "output_type": "execute_result"
    }
   ],
   "source": [
    "match_df"
   ]
  },
  {
   "cell_type": "code",
   "execution_count": 98,
   "metadata": {},
   "outputs": [
    {
     "data": {
      "text/html": [
       "<div>\n",
       "<style scoped>\n",
       "    .dataframe tbody tr th:only-of-type {\n",
       "        vertical-align: middle;\n",
       "    }\n",
       "\n",
       "    .dataframe tbody tr th {\n",
       "        vertical-align: top;\n",
       "    }\n",
       "\n",
       "    .dataframe thead th {\n",
       "        text-align: right;\n",
       "    }\n",
       "</style>\n",
       "<table border=\"1\" class=\"dataframe\">\n",
       "  <thead>\n",
       "    <tr style=\"text-align: right;\">\n",
       "      <th></th>\n",
       "      <th>repository_timestamp</th>\n",
       "      <th>id</th>\n",
       "      <th>shift_id</th>\n",
       "      <th>start_date_time</th>\n",
       "      <th>end_date_time</th>\n",
       "      <th>pool_id</th>\n",
       "      <th>employee_id</th>\n",
       "      <th>pool_employee_id</th>\n",
       "    </tr>\n",
       "  </thead>\n",
       "  <tbody>\n",
       "    <tr>\n",
       "      <th>31413</th>\n",
       "      <td>2020-08-18 20:22:52.059095</td>\n",
       "      <td>123665079</td>\n",
       "      <td>128884109</td>\n",
       "      <td>2020-02-11 11:15:00</td>\n",
       "      <td>2020-02-11 12:15:00</td>\n",
       "      <td>1783</td>\n",
       "      <td>860638</td>\n",
       "      <td>1184297</td>\n",
       "    </tr>\n",
       "    <tr>\n",
       "      <th>82766</th>\n",
       "      <td>2020-08-18 20:22:52.059095</td>\n",
       "      <td>123665077</td>\n",
       "      <td>128884102</td>\n",
       "      <td>2020-02-11 11:15:00</td>\n",
       "      <td>2020-02-11 12:15:00</td>\n",
       "      <td>1783</td>\n",
       "      <td>848188</td>\n",
       "      <td>1168394</td>\n",
       "    </tr>\n",
       "  </tbody>\n",
       "</table>\n",
       "</div>"
      ],
      "text/plain": [
       "            repository_timestamp         id   shift_id     start_date_time  \\\n",
       "31413 2020-08-18 20:22:52.059095  123665079  128884109 2020-02-11 11:15:00   \n",
       "82766 2020-08-18 20:22:52.059095  123665077  128884102 2020-02-11 11:15:00   \n",
       "\n",
       "            end_date_time  pool_id  employee_id  pool_employee_id  \n",
       "31413 2020-02-11 12:15:00     1783       860638           1184297  \n",
       "82766 2020-02-11 12:15:00     1783       848188           1168394  "
      ]
     },
     "execution_count": 98,
     "metadata": {},
     "output_type": "execute_result"
    }
   ],
   "source": [
    "df[df['pool_id']==1783]"
   ]
  },
  {
   "cell_type": "markdown",
   "metadata": {},
   "source": [
    "#### Employee analysis "
   ]
  },
  {
   "cell_type": "code",
   "execution_count": 67,
   "metadata": {},
   "outputs": [
    {
     "name": "stdout",
     "output_type": "stream",
     "text": [
      "86.29872881355932\n",
      "65.58951965065502\n",
      "37.0\n"
     ]
    }
   ],
   "source": [
    "print(pool_df.employee_count.mean())\n",
    "print(pool_df[\"employee_count\"][pool_df[\"employee_count\"]<500].mean())\n",
    "print(pool_df[\"employee_count\"][pool_df[\"employee_count\"]<500].median())"
   ]
  },
  {
   "cell_type": "code",
   "execution_count": 68,
   "metadata": {},
   "outputs": [
    {
     "data": {
      "text/plain": [
       "15     43\n",
       "273    15\n",
       "288    19\n",
       "308     9\n",
       "353     4\n",
       "354     6\n",
       "370    17\n",
       "373    22\n",
       "412    11\n",
       "440     7\n",
       "449     3\n",
       "458    16\n",
       "461    43\n",
       "Name: employee_count, dtype: int64"
      ]
     },
     "execution_count": 68,
     "metadata": {},
     "output_type": "execute_result"
    }
   ],
   "source": [
    "pool_df[\"employee_count\"][pool_df[\"shift_count\"]==15]"
   ]
  },
  {
   "cell_type": "code",
   "execution_count": 40,
   "metadata": {},
   "outputs": [
    {
     "data": {
      "text/html": [
       "<div>\n",
       "<style scoped>\n",
       "    .dataframe tbody tr th:only-of-type {\n",
       "        vertical-align: middle;\n",
       "    }\n",
       "\n",
       "    .dataframe tbody tr th {\n",
       "        vertical-align: top;\n",
       "    }\n",
       "\n",
       "    .dataframe thead th {\n",
       "        text-align: right;\n",
       "    }\n",
       "</style>\n",
       "<table border=\"1\" class=\"dataframe\">\n",
       "  <thead>\n",
       "    <tr style=\"text-align: right;\">\n",
       "      <th></th>\n",
       "      <th>employee_id</th>\n",
       "      <th>shift_count</th>\n",
       "      <th>pool_count</th>\n",
       "    </tr>\n",
       "  </thead>\n",
       "  <tbody>\n",
       "    <tr>\n",
       "      <th>0</th>\n",
       "      <td>1614</td>\n",
       "      <td>5</td>\n",
       "      <td>1</td>\n",
       "    </tr>\n",
       "    <tr>\n",
       "      <th>1</th>\n",
       "      <td>1665</td>\n",
       "      <td>4</td>\n",
       "      <td>1</td>\n",
       "    </tr>\n",
       "  </tbody>\n",
       "</table>\n",
       "</div>"
      ],
      "text/plain": [
       "   employee_id  shift_count  pool_count\n",
       "0         1614            5           1\n",
       "1         1665            4           1"
      ]
     },
     "execution_count": 40,
     "metadata": {},
     "output_type": "execute_result"
    }
   ],
   "source": [
    "emp_df = df.groupby(['employee_id']).agg({\n",
    "                    'shift_id':lambda x: x.nunique(),\n",
    "                    'pool_id':lambda x: x.nunique()}).reset_index()\n",
    "\n",
    "emp_df.columns = ['employee_id','shift_count','pool_count']\n",
    "#pool_df['shift_emp_ratio'] = pool_df['shift_count'] / pool_df['employee_count'] \n",
    "\n",
    "emp_df.head(2)"
   ]
  },
  {
   "cell_type": "code",
   "execution_count": 47,
   "metadata": {},
   "outputs": [
    {
     "data": {
      "text/plain": [
       "5.381814997372833"
      ]
     },
     "execution_count": 47,
     "metadata": {},
     "output_type": "execute_result"
    }
   ],
   "source": [
    "emp_df.shift_count.mean()"
   ]
  },
  {
   "cell_type": "code",
   "execution_count": 42,
   "metadata": {},
   "outputs": [
    {
     "data": {
      "text/plain": [
       "<AxesSubplot:xlabel='shift_count'>"
      ]
     },
     "execution_count": 42,
     "metadata": {},
     "output_type": "execute_result"
    },
    {
     "data": {
      "image/png": "[encoded data removed]",
      "text/plain": [
       "<Figure size 432x288 with 1 Axes>"
      ]
     },
     "metadata": {
      "needs_background": "light"
     },
     "output_type": "display_data"
    }
   ],
   "source": [
    "sns.boxplot(x=emp_df[\"shift_count\"])#[pool_df[\"employee_count\"]<300])"
   ]
  },
  {
   "cell_type": "code",
   "execution_count": 56,
   "metadata": {},
   "outputs": [
    {
     "data": {
      "text/plain": [
       "Text(0.5, 1.0, 'Count of employees per Pool')"
      ]
     },
     "execution_count": 56,
     "metadata": {},
     "output_type": "execute_result"
    },
    {
     "data": {
      "image/png": "[encoded data removed]",
      "text/plain": [
       "<Figure size 432x288 with 1 Axes>"
      ]
     },
     "metadata": {
      "needs_background": "light"
     },
     "output_type": "display_data"
    }
   ],
   "source": [
    "\n",
    "sns.boxplot(x=pool_df[\"employee_count\"][pool_df[\"employee_count\"]<150]).set_title('Count of employees per Pool')"
   ]
  },
  {
   "cell_type": "code",
   "execution_count": 34,
   "metadata": {},
   "outputs": [
    {
     "name": "stdout",
     "output_type": "stream",
     "text": [
      "86.29872881355932\n",
      "57.33856502242153\n"
     ]
    }
   ],
   "source": [
    "print(pool_df.employee_count.mean())\n",
    "print(pool_df[\"employee_count\"][pool_df[\"employee_count\"]<300].mean())"
   ]
  },
  {
   "cell_type": "code",
   "execution_count": 14,
   "metadata": {},
   "outputs": [],
   "source": [
    "trimmed_pool_df = pool_df[(pool_df[\"employee_count\"]<300) & (pool_df[\"shift_count\"]<500)]"
   ]
  },
  {
   "cell_type": "code",
   "execution_count": 89,
   "metadata": {},
   "outputs": [
    {
     "data": {
      "image/png": "[encoded data removed]",
      "text/plain": [
       "<Figure size 432x288 with 1 Axes>"
      ]
     },
     "metadata": {
      "needs_background": "light"
     },
     "output_type": "display_data"
    }
   ],
   "source": [
    "plot = sns.scatterplot(data=pool_df, x=\"employee_count\", y=\"shift_count\").set_title(title)"
   ]
  },
  {
   "cell_type": "code",
   "execution_count": 16,
   "metadata": {},
   "outputs": [
    {
     "data": {
      "image/png": "[encoded data removed]",
      "text/plain": [
       "<Figure size 432x288 with 1 Axes>"
      ]
     },
     "metadata": {
      "needs_background": "light"
     },
     "output_type": "display_data"
    }
   ],
   "source": [
    "sns.set_context(\"paper\")\n",
    "\n",
    "title='Count of shifts and employees per pool'\n",
    "name='shifts_employees_per_pool_report'\n",
    "\n",
    "plot = sns.scatterplot(data=trimmed_pool_df, x=\"employee_count\", y=\"shift_count\").set_title(title)\n",
    "\n",
    "fig = plot.get_figure()\n",
    "fig.savefig(f\"{plots}{name}.png\",bbox_inches='tight') "
   ]
  },
  {
   "cell_type": "code",
   "execution_count": 17,
   "metadata": {},
   "outputs": [
    {
     "data": {
      "image/png": "[encoded data removed]",
      "text/plain": [
       "<Figure size 432x288 with 1 Axes>"
      ]
     },
     "metadata": {
      "needs_background": "light"
     },
     "output_type": "display_data"
    }
   ],
   "source": [
    "title='Ratio between shifts and employees per Pool'\n",
    "name='shift_emp_ratio_trimmed_report'\n",
    "\n",
    "plot = sns.boxplot(x=trimmed_pool_df[\"shift_emp_ratio\"]).set_title(title)\n",
    "\n",
    "fig = plot.get_figure()\n",
    "fig.savefig(f\"{plots}{name}.png\",bbox_inches='tight') "
   ]
  },
  {
   "cell_type": "code",
   "execution_count": 36,
   "metadata": {},
   "outputs": [
    {
     "data": {
      "text/plain": [
       "<AxesSubplot:xlabel='employee_count', ylabel='shift_count'>"
      ]
     },
     "execution_count": 36,
     "metadata": {},
     "output_type": "execute_result"
    },
    {
     "data": {
      "image/png": "[encoded data removed]",
      "text/plain": [
       "<Figure size 432x288 with 1 Axes>"
      ]
     },
     "metadata": {
      "needs_background": "light"
     },
     "output_type": "display_data"
    }
   ],
   "source": [
    "name=\n",
    "sns.set_context(\"talk\")\n",
    "\n",
    "sns.regplot(data=trimmed_pool_df, x=\"employee_count\", y=\"shift_count\",line_kws={\"color\": \"black\"})\n"
   ]
  },
  {
   "cell_type": "code",
   "execution_count": 11,
   "metadata": {},
   "outputs": [
    {
     "data": {
      "text/html": [
       "<div>\n",
       "<style scoped>\n",
       "    .dataframe tbody tr th:only-of-type {\n",
       "        vertical-align: middle;\n",
       "    }\n",
       "\n",
       "    .dataframe tbody tr th {\n",
       "        vertical-align: top;\n",
       "    }\n",
       "\n",
       "    .dataframe thead th {\n",
       "        text-align: right;\n",
       "    }\n",
       "</style>\n",
       "<table border=\"1\" class=\"dataframe\">\n",
       "  <thead>\n",
       "    <tr style=\"text-align: right;\">\n",
       "      <th></th>\n",
       "      <th>pool_id</th>\n",
       "      <th>shift_count</th>\n",
       "      <th>employee_count</th>\n",
       "      <th>shift_emp_ratio</th>\n",
       "    </tr>\n",
       "  </thead>\n",
       "  <tbody>\n",
       "    <tr>\n",
       "      <th>15</th>\n",
       "      <td>152</td>\n",
       "      <td>15</td>\n",
       "      <td>43</td>\n",
       "      <td>0.348837</td>\n",
       "    </tr>\n",
       "    <tr>\n",
       "      <th>19</th>\n",
       "      <td>168</td>\n",
       "      <td>153</td>\n",
       "      <td>258</td>\n",
       "      <td>0.593023</td>\n",
       "    </tr>\n",
       "    <tr>\n",
       "      <th>20</th>\n",
       "      <td>174</td>\n",
       "      <td>166</td>\n",
       "      <td>375</td>\n",
       "      <td>0.442667</td>\n",
       "    </tr>\n",
       "    <tr>\n",
       "      <th>21</th>\n",
       "      <td>184</td>\n",
       "      <td>170</td>\n",
       "      <td>204</td>\n",
       "      <td>0.833333</td>\n",
       "    </tr>\n",
       "    <tr>\n",
       "      <th>25</th>\n",
       "      <td>229</td>\n",
       "      <td>117</td>\n",
       "      <td>149</td>\n",
       "      <td>0.785235</td>\n",
       "    </tr>\n",
       "    <tr>\n",
       "      <th>...</th>\n",
       "      <td>...</td>\n",
       "      <td>...</td>\n",
       "      <td>...</td>\n",
       "      <td>...</td>\n",
       "    </tr>\n",
       "    <tr>\n",
       "      <th>458</th>\n",
       "      <td>20643</td>\n",
       "      <td>15</td>\n",
       "      <td>16</td>\n",
       "      <td>0.937500</td>\n",
       "    </tr>\n",
       "    <tr>\n",
       "      <th>459</th>\n",
       "      <td>20663</td>\n",
       "      <td>293</td>\n",
       "      <td>393</td>\n",
       "      <td>0.745547</td>\n",
       "    </tr>\n",
       "    <tr>\n",
       "      <th>461</th>\n",
       "      <td>20703</td>\n",
       "      <td>15</td>\n",
       "      <td>43</td>\n",
       "      <td>0.348837</td>\n",
       "    </tr>\n",
       "    <tr>\n",
       "      <th>467</th>\n",
       "      <td>20783</td>\n",
       "      <td>4</td>\n",
       "      <td>9</td>\n",
       "      <td>0.444444</td>\n",
       "    </tr>\n",
       "    <tr>\n",
       "      <th>468</th>\n",
       "      <td>20803</td>\n",
       "      <td>11</td>\n",
       "      <td>12</td>\n",
       "      <td>0.916667</td>\n",
       "    </tr>\n",
       "  </tbody>\n",
       "</table>\n",
       "<p>74 rows × 4 columns</p>\n",
       "</div>"
      ],
      "text/plain": [
       "     pool_id  shift_count  employee_count  shift_emp_ratio\n",
       "15       152           15              43         0.348837\n",
       "19       168          153             258         0.593023\n",
       "20       174          166             375         0.442667\n",
       "21       184          170             204         0.833333\n",
       "25       229          117             149         0.785235\n",
       "..       ...          ...             ...              ...\n",
       "458    20643           15              16         0.937500\n",
       "459    20663          293             393         0.745547\n",
       "461    20703           15              43         0.348837\n",
       "467    20783            4               9         0.444444\n",
       "468    20803           11              12         0.916667\n",
       "\n",
       "[74 rows x 4 columns]"
      ]
     },
     "execution_count": 11,
     "metadata": {},
     "output_type": "execute_result"
    }
   ],
   "source": [
    "pool_df[pool_df[\"employee_count\"]> pool_df[\"shift_count\"]]"
   ]
  },
  {
   "cell_type": "markdown",
   "metadata": {},
   "source": [
    "### Testing complexity calculation"
   ]
  },
  {
   "cell_type": "code",
   "execution_count": 2,
   "metadata": {},
   "outputs": [],
   "source": [
    "import itertools"
   ]
  },
  {
   "cell_type": "code",
   "execution_count": 3,
   "metadata": {},
   "outputs": [],
   "source": [
    "def complexCalc(shift_count,employee_count):\n",
    "    list1= range(shift_count)\n",
    "    list2= range(employee_count)\n",
    "    \n",
    "    return len([list(zip(x,list2)) for x in itertools.permutations(list1,len(list2))])\n",
    "    "
   ]
  },
  {
   "cell_type": "code",
   "execution_count": 13,
   "metadata": {},
   "outputs": [
    {
     "data": {
      "text/plain": [
       "30"
      ]
     },
     "execution_count": 13,
     "metadata": {},
     "output_type": "execute_result"
    }
   ],
   "source": [
    "complexCalc(6,2)"
   ]
  },
  {
   "cell_type": "markdown",
   "metadata": {},
   "source": [
    "### Analysis: accepted, realised and confirmed"
   ]
  },
  {
   "cell_type": "code",
   "execution_count": 9,
   "metadata": {
    "tags": []
   },
   "outputs": [],
   "source": [
    "# accept_by_employee_date_time\n",
    "# \n",
    "\n",
    "pooldf = df[['pool_id','shift_id','employee_id']].groupby(['pool_id']).agg({ 'shift_id' : 'nunique', 'employee_id' : 'nunique'})\n",
    "pooldf.columns = ['num_shifts','num_employees']"
   ]
  },
  {
   "cell_type": "code",
   "execution_count": 12,
   "metadata": {},
   "outputs": [
    {
     "name": "stdout",
     "output_type": "stream",
     "text": [
      "440\n",
      "32\n"
     ]
    }
   ],
   "source": [
    "print(len(pooldf[pooldf['num_shifts'] > 7]))\n",
    "print(len(pooldf[pooldf['num_shifts'] <= 7]))"
   ]
  },
  {
   "cell_type": "code",
   "execution_count": 14,
   "metadata": {},
   "outputs": [
    {
     "data": {
      "text/plain": [
       "(355, 2)"
      ]
     },
     "execution_count": 14,
     "metadata": {},
     "output_type": "execute_result"
    }
   ],
   "source": [
    "mediumPools = pooldf[(pooldf['num_shifts'] > 7) & (pooldf['num_shifts'] < 200)]\n",
    "mediumPools.shape"
   ]
  },
  {
   "cell_type": "code",
   "execution_count": 15,
   "metadata": {},
   "outputs": [
    {
     "data": {
      "text/html": [
       "<div>\n",
       "<style scoped>\n",
       "    .dataframe tbody tr th:only-of-type {\n",
       "        vertical-align: middle;\n",
       "    }\n",
       "\n",
       "    .dataframe tbody tr th {\n",
       "        vertical-align: top;\n",
       "    }\n",
       "\n",
       "    .dataframe thead th {\n",
       "        text-align: right;\n",
       "    }\n",
       "</style>\n",
       "<table border=\"1\" class=\"dataframe\">\n",
       "  <thead>\n",
       "    <tr style=\"text-align: right;\">\n",
       "      <th></th>\n",
       "      <th>num_shifts</th>\n",
       "      <th>num_employees</th>\n",
       "    </tr>\n",
       "    <tr>\n",
       "      <th>pool_id</th>\n",
       "      <th></th>\n",
       "      <th></th>\n",
       "    </tr>\n",
       "  </thead>\n",
       "  <tbody>\n",
       "    <tr>\n",
       "      <th>1</th>\n",
       "      <td>24</td>\n",
       "      <td>11</td>\n",
       "    </tr>\n",
       "    <tr>\n",
       "      <th>24</th>\n",
       "      <td>90</td>\n",
       "      <td>62</td>\n",
       "    </tr>\n",
       "    <tr>\n",
       "      <th>29</th>\n",
       "      <td>51</td>\n",
       "      <td>15</td>\n",
       "    </tr>\n",
       "    <tr>\n",
       "      <th>32</th>\n",
       "      <td>80</td>\n",
       "      <td>23</td>\n",
       "    </tr>\n",
       "    <tr>\n",
       "      <th>66</th>\n",
       "      <td>8</td>\n",
       "      <td>3</td>\n",
       "    </tr>\n",
       "  </tbody>\n",
       "</table>\n",
       "</div>"
      ],
      "text/plain": [
       "         num_shifts  num_employees\n",
       "pool_id                           \n",
       "1                24             11\n",
       "24               90             62\n",
       "29               51             15\n",
       "32               80             23\n",
       "66                8              3"
      ]
     },
     "execution_count": 15,
     "metadata": {},
     "output_type": "execute_result"
    }
   ],
   "source": [
    "mediumPools.head()"
   ]
  },
  {
   "cell_type": "code",
   "execution_count": null,
   "metadata": {},
   "outputs": [],
   "source": []
  }
 ],
 "metadata": {
  "kernelspec": {
   "display_name": "werkcollege",
   "language": "python",
   "name": "werkcollege"
  },
  "language_info": {
   "codemirror_mode": {
    "name": "ipython",
    "version": 3
   },
   "file_extension": ".py",
   "mimetype": "text/x-python",
   "name": "python",
   "nbconvert_exporter": "python",
   "pygments_lexer": "ipython3",
   "version": "3.7.2"
  }
 },
 "nbformat": 4,
 "nbformat_minor": 4
}
