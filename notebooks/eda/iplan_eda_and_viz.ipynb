{
 "cells": [
  {
   "cell_type": "code",
   "execution_count": null,
   "metadata": {},
   "outputs": [],
   "source": [
    "import pandas as pd\n",
    "import datetime \n",
    "import seaborn as sns\n",
    "import matplotlib.pyplot as plt"
   ]
  },
  {
   "cell_type": "code",
   "execution_count": null,
   "metadata": {},
   "outputs": [],
   "source": [
    "pd.set_option('display.max_rows', 90)\n",
    "pd.set_option('display.max_columns', 90)\n",
    "\n",
    "import warnings\n",
    "warnings.simplefilter(action='ignore', category=FutureWarning)\n"
   ]
  },
  {
   "cell_type": "code",
   "execution_count": null,
   "metadata": {},
   "outputs": [],
   "source": [
    "plots_folder = '../../data/iplan_eda_plots/'\n",
    "data_folder = '../../data/'\n",
    "file = 'iplan_sample.csv'\n",
    "df=pd.read_csv(data_folder + file,parse_dates=\n",
    "               [\"repository_timestamp\",\n",
    "                \"dms_timestamp\",\n",
    "                \"start_date_time\",\n",
    "                \"end_date_time\",\n",
    "                \"realized_start_date_time\",\n",
    "                \"realized_end_date_time\",\n",
    "                \"decl_to_erp_system_date_time\",\n",
    "                \"accept_by_employee_date_time\",\n",
    "                \"viewable_for_emp_date_time\",\n",
    "                \"deleted_date_time\",\n",
    "                \"called_up_date_time\",\n",
    "               \"start_date\",\n",
    "               \"end_date\"])"
   ]
  },
  {
   "cell_type": "code",
   "execution_count": null,
   "metadata": {},
   "outputs": [],
   "source": [
    "df = df[df['end_date_time'] < '2022-02-21 00:00:01']\n",
    "\n",
    "print(df.shape)\n",
    "\n",
    "print(f\"{df.repository_timestamp.min()} - {df.repository_timestamp.max()}\")\n",
    "# what is the meaning of repository_timestamp? these dates suggest that shift data is modified long before shifts start, and after they finish\n",
    "\n",
    "print(f\"{df.start_date.min()} - {df.start_date.max()}\")\n",
    "\n",
    "print(f\"{df.start_date.min().strftime('%A')} - {df.start_date.max().strftime('%A')}\")"
   ]
  },
  {
   "cell_type": "code",
   "execution_count": null,
   "metadata": {},
   "outputs": [],
   "source": [
    "df.shift_id = df.shift_id.astype('category')\n",
    "df.pool_id = df.pool_id.astype('category')\n",
    "df.employee_id = df.employee_id.astype('category')\n",
    "df.pool_employee_id = df.pool_employee_id.astype('category')"
   ]
  },
  {
   "cell_type": "code",
   "execution_count": null,
   "metadata": {},
   "outputs": [],
   "source": [
    "# begin analysis"
   ]
  },
  {
   "cell_type": "code",
   "execution_count": null,
   "metadata": {},
   "outputs": [],
   "source": [
    "percent_missing = df.isnull().sum() * 100 / len(df)\n",
    "missing_value_df = pd.DataFrame({'column_name': df.columns,\n",
    "                                 'percent_missing': percent_missing})\n",
    "\n",
    "missing_value_df.sort_values('percent_missing', inplace=True,ascending=False)\n",
    "missing_value_df"
   ]
  },
  {
   "cell_type": "markdown",
   "metadata": {},
   "source": [
    "### What does a typical iPlan week look like?"
   ]
  },
  {
   "cell_type": "markdown",
   "metadata": {},
   "source": [
    "- number of shifts\n",
    "- number of employee\n",
    "- number of pools\n",
    "    - employees per pool\n",
    "- average shifts per pool\n",
    "- average employees per pool\n",
    "- average employees per shift"
   ]
  },
  {
   "cell_type": "code",
   "execution_count": null,
   "metadata": {},
   "outputs": [],
   "source": [
    "print('Statistics for one week of sample data')\n",
    "print(f'number of shifts: {df.shift_id.nunique()}')\n",
    "print(f'number of employees: {df.employee_id.nunique()}')\n",
    "print(f'number of pools: {df.pool_id.nunique()}')"
   ]
  },
  {
   "cell_type": "code",
   "execution_count": null,
   "metadata": {},
   "outputs": [],
   "source": [
    "test=df.sample(10)\n",
    "test"
   ]
  },
  {
   "cell_type": "code",
   "execution_count": null,
   "metadata": {},
   "outputs": [],
   "source": [
    "t2 = test[['pool_id','shift_id','employee_id','accept_by_employee_date_time','realized_start_date_time','confirmed_date_time']].groupby(['pool_id'], observed=True).agg({ 'shift_id':'nunique',\n",
    "                                                                                                           'employee_id':'nunique',\n",
    "                                                                                                          'accept_by_employee_date_time':'count',\n",
    "                                                                                                          'realized_start_date_time':'count'})\n",
    "t2"
   ]
  },
  {
   "cell_type": "code",
   "execution_count": null,
   "metadata": {},
   "outputs": [],
   "source": [
    "t2.columns = ['num_shifts','num_employees','accepted_shifts','realised_shifts']\n",
    "t2['pct_accepted'] = t2['accepted_shifts'] / t2['num_shifts'] * 100\n",
    "t2['pct_realised'] = t2['realised_shifts'] / t2['num_shifts'] * 100\n",
    "t2"
   ]
  },
  {
   "cell_type": "markdown",
   "metadata": {},
   "source": [
    "#### Pools"
   ]
  },
  {
   "cell_type": "markdown",
   "metadata": {},
   "source": [
    "dist plot number of employees\n",
    "dist plot number of shifts\n",
    "average per day\n",
    "average per day (mon-friday)"
   ]
  },
  {
   "cell_type": "code",
   "execution_count": null,
   "metadata": {},
   "outputs": [],
   "source": [
    "pooldf = df[['pool_id','shift_id','employee_id','accept_by_employee_date_time','realized_start_date_time','confirmed_date_time']].groupby(['pool_id']).agg({ 'shift_id':'nunique',\n",
    "                                                                                                           'employee_id':'nunique',\n",
    "                                                                                                           'accept_by_employee_date_time':'count',\n",
    "                                                                                                           'realized_start_date_time':'count',\n",
    "                                                                                                           'confirmed_date_time':'count'})\n",
    "pooldf.columns = ['num_shifts','num_employees','accepted_shifts','realised_shifts','confirmed_shifts']\n",
    "pooldf['pct_accepted'] = pooldf['accepted_shifts'] / pooldf['num_shifts'] * 100\n",
    "pooldf['pct_realised'] = pooldf['realised_shifts'] / pooldf['num_shifts'] * 100\n",
    "pooldf['pct_confirmed'] = pooldf['confirmed_shifts'] / pooldf['num_shifts'] * 100\n",
    "pooldf['avg_shifts_pd'] = pooldf['num_shifts'] / 7\n",
    "pooldf['shift_employee_ratio'] = (pooldf['num_employees'] / pooldf['num_shifts']) * 100\n",
    "print(pooldf['avg_shifts_pd'].mean())\n",
    "print(pooldf['shift_employee_ratio'].mean())"
   ]
  },
  {
   "cell_type": "code",
   "execution_count": null,
   "metadata": {},
   "outputs": [],
   "source": [
    "print(len(pooldf[pooldf['num_shifts'] > 500]))\n",
    "print(len(pooldf[pooldf['num_employees'] > 1000]))"
   ]
  },
  {
   "cell_type": "code",
   "execution_count": null,
   "metadata": {},
   "outputs": [],
   "source": [
    "# remove outliers\n",
    "pooldf = pooldf[pooldf['num_shifts'] < 500]\n",
    "pooldf = pooldf[pooldf['num_employees'] < 1000]"
   ]
  },
  {
   "cell_type": "code",
   "execution_count": null,
   "metadata": {},
   "outputs": [],
   "source": [
    "print(f\"Shifts per pool: min: {pooldf['num_shifts'].min()}, max: {pooldf['num_shifts'].max()}, mean: {pooldf['num_shifts'].mean()}, median: {pooldf['num_shifts'].median()}\")\n",
    "print(f\"Employees per pool: min: {pooldf['num_employees'].min()}, max: {pooldf['num_employees'].max()}, mean: {pooldf['num_employees'].mean()}, median: {pooldf['num_employees'].median()}\")"
   ]
  },
  {
   "cell_type": "code",
   "execution_count": null,
   "metadata": {},
   "outputs": [],
   "source": [
    "pooldf['avg_shifts_pd'].mean()"
   ]
  },
  {
   "cell_type": "code",
   "execution_count": null,
   "metadata": {},
   "outputs": [],
   "source": [
    "#define plotting region (2 rows, 2 columns)\n",
    "sns.set(font_scale=1.5)\n",
    "#fig, axes = plt.subplots(1, 3,figsize=(20,5))\n",
    "#\n",
    "\n",
    "fig = plt.figure(figsize=(20,5))\n",
    "fig.supylabel('Density')\n",
    "ax1 = fig.add_subplot(131)\n",
    "ax2 = fig.add_subplot(132)\n",
    "ax3 = fig.add_subplot(133)\n",
    "\n",
    "#create boxplot in each subplot\n",
    "sns.distplot(pooldf['num_shifts'], color='g', bins=10, ax=ax1).set(ylabel=None)\n",
    "ax1.set_title('Distribution of Shifts per Pool')\n",
    "sns.distplot(pooldf['num_employees'], color='g', bins=10, ax=ax2).set(ylabel=None)\n",
    "ax2.set_title('Distribution of Employees per Pool')\n",
    "sns.distplot(pooldf['avg_shifts_pd'], color='g', bins=10, ax=ax3).set(ylabel=None)\n",
    "ax3.set_title('Distribution of Average Shifts per Day')\n",
    "\n",
    "#save = fig.get_figure()\n",
    "#fig.savefig(plots_folder+\"Pool Distributions.png\") \n"
   ]
  },
  {
   "cell_type": "code",
   "execution_count": null,
   "metadata": {},
   "outputs": [],
   "source": [
    "fig = plt.figure(figsize=(9, 8))\n",
    "ax=sns.scatterplot(data=pooldf, x=\"num_shifts\", y=\"num_employees\").set_title('Employees per Pool vs Shifts per Pool')\n",
    "#fig.savefig(plots_folder+\"emplys_pr_pl_v_shfts_pr_pl.png\") "
   ]
  },
  {
   "cell_type": "code",
   "execution_count": null,
   "metadata": {
    "tags": []
   },
   "outputs": [],
   "source": [
    "fig = plt.figure(figsize=(9, 8))\n",
    "ax=sns.distplot(pooldf['pct_accepted'], color='g', bins=10)\n",
    "#fig.savefig(plots_folder+\"emplys_pr_pl_v_shfts_pr_pl.png\") \n"
   ]
  },
  {
   "cell_type": "markdown",
   "metadata": {},
   "source": [
    "#### A closer look into small pools"
   ]
  },
  {
   "cell_type": "code",
   "execution_count": 16,
   "metadata": {},
   "outputs": [
    {
     "data": {
      "text/plain": [
       "169"
      ]
     },
     "execution_count": 16,
     "metadata": {},
     "output_type": "execute_result"
    }
   ],
   "source": [
    "len(pooldf[pooldf['avg_shifts_pd']<7].sort_values(['num_shifts','pct_accepted'],ascending=[True,False]))"
   ]
  },
  {
   "cell_type": "code",
   "execution_count": 17,
   "metadata": {},
   "outputs": [
    {
     "data": {
      "text/html": [
       "<div>\n",
       "<style scoped>\n",
       "    .dataframe tbody tr th:only-of-type {\n",
       "        vertical-align: middle;\n",
       "    }\n",
       "\n",
       "    .dataframe tbody tr th {\n",
       "        vertical-align: top;\n",
       "    }\n",
       "\n",
       "    .dataframe thead th {\n",
       "        text-align: right;\n",
       "    }\n",
       "</style>\n",
       "<table border=\"1\" class=\"dataframe\">\n",
       "  <thead>\n",
       "    <tr style=\"text-align: right;\">\n",
       "      <th></th>\n",
       "      <th>num_shifts</th>\n",
       "      <th>num_employees</th>\n",
       "      <th>accepted_shifts</th>\n",
       "      <th>realised_shifts</th>\n",
       "      <th>confirmed_shifts</th>\n",
       "      <th>pct_accepted</th>\n",
       "      <th>pct_realised</th>\n",
       "      <th>pct_confirmed</th>\n",
       "      <th>avg_shifts_pd</th>\n",
       "      <th>shift_employee_ratio</th>\n",
       "    </tr>\n",
       "  </thead>\n",
       "  <tbody>\n",
       "    <tr>\n",
       "      <th>count</th>\n",
       "      <td>169.000000</td>\n",
       "      <td>169.000000</td>\n",
       "      <td>169.000000</td>\n",
       "      <td>169.000000</td>\n",
       "      <td>169.000000</td>\n",
       "      <td>169.000000</td>\n",
       "      <td>169.000000</td>\n",
       "      <td>169.000000</td>\n",
       "      <td>169.000000</td>\n",
       "      <td>169.000000</td>\n",
       "    </tr>\n",
       "    <tr>\n",
       "      <th>mean</th>\n",
       "      <td>23.840237</td>\n",
       "      <td>25.118343</td>\n",
       "      <td>54.011834</td>\n",
       "      <td>29.822485</td>\n",
       "      <td>0.804734</td>\n",
       "      <td>223.781625</td>\n",
       "      <td>122.219133</td>\n",
       "      <td>3.324327</td>\n",
       "      <td>3.405748</td>\n",
       "      <td>107.710813</td>\n",
       "    </tr>\n",
       "    <tr>\n",
       "      <th>std</th>\n",
       "      <td>13.267550</td>\n",
       "      <td>35.340489</td>\n",
       "      <td>69.432049</td>\n",
       "      <td>51.820241</td>\n",
       "      <td>3.126839</td>\n",
       "      <td>312.299926</td>\n",
       "      <td>232.855151</td>\n",
       "      <td>13.065417</td>\n",
       "      <td>1.895364</td>\n",
       "      <td>148.641613</td>\n",
       "    </tr>\n",
       "    <tr>\n",
       "      <th>min</th>\n",
       "      <td>2.000000</td>\n",
       "      <td>1.000000</td>\n",
       "      <td>0.000000</td>\n",
       "      <td>0.000000</td>\n",
       "      <td>0.000000</td>\n",
       "      <td>0.000000</td>\n",
       "      <td>0.000000</td>\n",
       "      <td>0.000000</td>\n",
       "      <td>0.285714</td>\n",
       "      <td>20.000000</td>\n",
       "    </tr>\n",
       "    <tr>\n",
       "      <th>25%</th>\n",
       "      <td>12.000000</td>\n",
       "      <td>8.000000</td>\n",
       "      <td>13.000000</td>\n",
       "      <td>0.000000</td>\n",
       "      <td>0.000000</td>\n",
       "      <td>87.500000</td>\n",
       "      <td>0.000000</td>\n",
       "      <td>0.000000</td>\n",
       "      <td>1.714286</td>\n",
       "      <td>42.857143</td>\n",
       "    </tr>\n",
       "    <tr>\n",
       "      <th>50%</th>\n",
       "      <td>22.000000</td>\n",
       "      <td>15.000000</td>\n",
       "      <td>32.000000</td>\n",
       "      <td>3.000000</td>\n",
       "      <td>0.000000</td>\n",
       "      <td>148.387097</td>\n",
       "      <td>34.782609</td>\n",
       "      <td>0.000000</td>\n",
       "      <td>3.142857</td>\n",
       "      <td>63.829787</td>\n",
       "    </tr>\n",
       "    <tr>\n",
       "      <th>75%</th>\n",
       "      <td>35.000000</td>\n",
       "      <td>29.000000</td>\n",
       "      <td>69.000000</td>\n",
       "      <td>41.000000</td>\n",
       "      <td>0.000000</td>\n",
       "      <td>256.756757</td>\n",
       "      <td>170.000000</td>\n",
       "      <td>0.000000</td>\n",
       "      <td>5.000000</td>\n",
       "      <td>105.405405</td>\n",
       "    </tr>\n",
       "    <tr>\n",
       "      <th>max</th>\n",
       "      <td>48.000000</td>\n",
       "      <td>290.000000</td>\n",
       "      <td>540.000000</td>\n",
       "      <td>378.000000</td>\n",
       "      <td>25.000000</td>\n",
       "      <td>2842.105263</td>\n",
       "      <td>1890.000000</td>\n",
       "      <td>94.736842</td>\n",
       "      <td>6.857143</td>\n",
       "      <td>1526.315789</td>\n",
       "    </tr>\n",
       "  </tbody>\n",
       "</table>\n",
       "</div>"
      ],
      "text/plain": [
       "       num_shifts  num_employees  accepted_shifts  realised_shifts  \\\n",
       "count  169.000000     169.000000       169.000000       169.000000   \n",
       "mean    23.840237      25.118343        54.011834        29.822485   \n",
       "std     13.267550      35.340489        69.432049        51.820241   \n",
       "min      2.000000       1.000000         0.000000         0.000000   \n",
       "25%     12.000000       8.000000        13.000000         0.000000   \n",
       "50%     22.000000      15.000000        32.000000         3.000000   \n",
       "75%     35.000000      29.000000        69.000000        41.000000   \n",
       "max     48.000000     290.000000       540.000000       378.000000   \n",
       "\n",
       "       confirmed_shifts  pct_accepted  pct_realised  pct_confirmed  \\\n",
       "count        169.000000    169.000000    169.000000     169.000000   \n",
       "mean           0.804734    223.781625    122.219133       3.324327   \n",
       "std            3.126839    312.299926    232.855151      13.065417   \n",
       "min            0.000000      0.000000      0.000000       0.000000   \n",
       "25%            0.000000     87.500000      0.000000       0.000000   \n",
       "50%            0.000000    148.387097     34.782609       0.000000   \n",
       "75%            0.000000    256.756757    170.000000       0.000000   \n",
       "max           25.000000   2842.105263   1890.000000      94.736842   \n",
       "\n",
       "       avg_shifts_pd  shift_employee_ratio  \n",
       "count     169.000000            169.000000  \n",
       "mean        3.405748            107.710813  \n",
       "std         1.895364            148.641613  \n",
       "min         0.285714             20.000000  \n",
       "25%         1.714286             42.857143  \n",
       "50%         3.142857             63.829787  \n",
       "75%         5.000000            105.405405  \n",
       "max         6.857143           1526.315789  "
      ]
     },
     "execution_count": 17,
     "metadata": {},
     "output_type": "execute_result"
    }
   ],
   "source": [
    "simpool = pooldf[pooldf['avg_shifts_pd']<7].sort_values(['num_shifts','pct_accepted'],ascending=[True,False])\n",
    "simpool.describe()"
   ]
  },
  {
   "cell_type": "code",
   "execution_count": 18,
   "metadata": {},
   "outputs": [
    {
     "name": "stdout",
     "output_type": "stream",
     "text": [
      "169\n",
      "108\n",
      "67\n",
      "4\n",
      "144\n"
     ]
    }
   ],
   "source": [
    "print(len(pooldf[(pooldf['avg_shifts_pd']<7)]))\n",
    "print(len(pooldf[(pooldf['avg_shifts_pd']<7)&(pooldf['pct_accepted']>100)]))\n",
    "print(len(pooldf[(pooldf['avg_shifts_pd']<7)&(pooldf['pct_realised']>100)]))\n",
    "print(len(pooldf[(pooldf['avg_shifts_pd']<7)&(pooldf['pct_confirmed']>50)]))\n",
    "print(len(pooldf[(pooldf['avg_shifts_pd']<7)&(pooldf['pct_confirmed']==0)]))"
   ]
  },
  {
   "cell_type": "code",
   "execution_count": 19,
   "metadata": {},
   "outputs": [
    {
     "data": {
      "text/html": [
       "<div>\n",
       "<style scoped>\n",
       "    .dataframe tbody tr th:only-of-type {\n",
       "        vertical-align: middle;\n",
       "    }\n",
       "\n",
       "    .dataframe tbody tr th {\n",
       "        vertical-align: top;\n",
       "    }\n",
       "\n",
       "    .dataframe thead th {\n",
       "        text-align: right;\n",
       "    }\n",
       "</style>\n",
       "<table border=\"1\" class=\"dataframe\">\n",
       "  <thead>\n",
       "    <tr style=\"text-align: right;\">\n",
       "      <th></th>\n",
       "      <th>num_shifts</th>\n",
       "      <th>num_employees</th>\n",
       "      <th>accepted_shifts</th>\n",
       "      <th>realised_shifts</th>\n",
       "      <th>confirmed_shifts</th>\n",
       "      <th>pct_accepted</th>\n",
       "      <th>pct_realised</th>\n",
       "      <th>pct_confirmed</th>\n",
       "      <th>avg_shifts_pd</th>\n",
       "      <th>shift_employee_ratio</th>\n",
       "    </tr>\n",
       "    <tr>\n",
       "      <th>pool_id</th>\n",
       "      <th></th>\n",
       "      <th></th>\n",
       "      <th></th>\n",
       "      <th></th>\n",
       "      <th></th>\n",
       "      <th></th>\n",
       "      <th></th>\n",
       "      <th></th>\n",
       "      <th></th>\n",
       "      <th></th>\n",
       "    </tr>\n",
       "  </thead>\n",
       "  <tbody>\n",
       "    <tr>\n",
       "      <th>152.0</th>\n",
       "      <td>15</td>\n",
       "      <td>58</td>\n",
       "      <td>123</td>\n",
       "      <td>188</td>\n",
       "      <td>0</td>\n",
       "      <td>820.000000</td>\n",
       "      <td>1253.333333</td>\n",
       "      <td>0.000000</td>\n",
       "      <td>2.142857</td>\n",
       "      <td>386.666667</td>\n",
       "    </tr>\n",
       "    <tr>\n",
       "      <th>10242.0</th>\n",
       "      <td>15</td>\n",
       "      <td>7</td>\n",
       "      <td>29</td>\n",
       "      <td>33</td>\n",
       "      <td>0</td>\n",
       "      <td>193.333333</td>\n",
       "      <td>220.000000</td>\n",
       "      <td>0.000000</td>\n",
       "      <td>2.142857</td>\n",
       "      <td>46.666667</td>\n",
       "    </tr>\n",
       "    <tr>\n",
       "      <th>902.0</th>\n",
       "      <td>15</td>\n",
       "      <td>12</td>\n",
       "      <td>22</td>\n",
       "      <td>34</td>\n",
       "      <td>0</td>\n",
       "      <td>146.666667</td>\n",
       "      <td>226.666667</td>\n",
       "      <td>0.000000</td>\n",
       "      <td>2.142857</td>\n",
       "      <td>80.000000</td>\n",
       "    </tr>\n",
       "    <tr>\n",
       "      <th>13122.0</th>\n",
       "      <td>15</td>\n",
       "      <td>7</td>\n",
       "      <td>19</td>\n",
       "      <td>25</td>\n",
       "      <td>0</td>\n",
       "      <td>126.666667</td>\n",
       "      <td>166.666667</td>\n",
       "      <td>0.000000</td>\n",
       "      <td>2.142857</td>\n",
       "      <td>46.666667</td>\n",
       "    </tr>\n",
       "    <tr>\n",
       "      <th>21066.0</th>\n",
       "      <td>15</td>\n",
       "      <td>4</td>\n",
       "      <td>15</td>\n",
       "      <td>15</td>\n",
       "      <td>0</td>\n",
       "      <td>100.000000</td>\n",
       "      <td>100.000000</td>\n",
       "      <td>0.000000</td>\n",
       "      <td>2.142857</td>\n",
       "      <td>26.666667</td>\n",
       "    </tr>\n",
       "    <tr>\n",
       "      <th>749.0</th>\n",
       "      <td>16</td>\n",
       "      <td>45</td>\n",
       "      <td>58</td>\n",
       "      <td>44</td>\n",
       "      <td>1</td>\n",
       "      <td>362.500000</td>\n",
       "      <td>275.000000</td>\n",
       "      <td>6.250000</td>\n",
       "      <td>2.285714</td>\n",
       "      <td>281.250000</td>\n",
       "    </tr>\n",
       "    <tr>\n",
       "      <th>14763.0</th>\n",
       "      <td>16</td>\n",
       "      <td>5</td>\n",
       "      <td>2</td>\n",
       "      <td>0</td>\n",
       "      <td>0</td>\n",
       "      <td>12.500000</td>\n",
       "      <td>0.000000</td>\n",
       "      <td>0.000000</td>\n",
       "      <td>2.285714</td>\n",
       "      <td>31.250000</td>\n",
       "    </tr>\n",
       "    <tr>\n",
       "      <th>9582.0</th>\n",
       "      <td>17</td>\n",
       "      <td>6</td>\n",
       "      <td>16</td>\n",
       "      <td>19</td>\n",
       "      <td>0</td>\n",
       "      <td>94.117647</td>\n",
       "      <td>111.764706</td>\n",
       "      <td>0.000000</td>\n",
       "      <td>2.428571</td>\n",
       "      <td>35.294118</td>\n",
       "    </tr>\n",
       "    <tr>\n",
       "      <th>6358.0</th>\n",
       "      <td>17</td>\n",
       "      <td>8</td>\n",
       "      <td>2</td>\n",
       "      <td>0</td>\n",
       "      <td>0</td>\n",
       "      <td>11.764706</td>\n",
       "      <td>0.000000</td>\n",
       "      <td>0.000000</td>\n",
       "      <td>2.428571</td>\n",
       "      <td>47.058824</td>\n",
       "    </tr>\n",
       "    <tr>\n",
       "      <th>15543.0</th>\n",
       "      <td>17</td>\n",
       "      <td>5</td>\n",
       "      <td>0</td>\n",
       "      <td>14</td>\n",
       "      <td>0</td>\n",
       "      <td>0.000000</td>\n",
       "      <td>82.352941</td>\n",
       "      <td>0.000000</td>\n",
       "      <td>2.428571</td>\n",
       "      <td>29.411765</td>\n",
       "    </tr>\n",
       "    <tr>\n",
       "      <th>23546.0</th>\n",
       "      <td>18</td>\n",
       "      <td>19</td>\n",
       "      <td>64</td>\n",
       "      <td>60</td>\n",
       "      <td>0</td>\n",
       "      <td>355.555556</td>\n",
       "      <td>333.333333</td>\n",
       "      <td>0.000000</td>\n",
       "      <td>2.571429</td>\n",
       "      <td>105.555556</td>\n",
       "    </tr>\n",
       "    <tr>\n",
       "      <th>7086.0</th>\n",
       "      <td>18</td>\n",
       "      <td>41</td>\n",
       "      <td>30</td>\n",
       "      <td>20</td>\n",
       "      <td>7</td>\n",
       "      <td>166.666667</td>\n",
       "      <td>111.111111</td>\n",
       "      <td>38.888889</td>\n",
       "      <td>2.571429</td>\n",
       "      <td>227.777778</td>\n",
       "    </tr>\n",
       "    <tr>\n",
       "      <th>23386.0</th>\n",
       "      <td>18</td>\n",
       "      <td>13</td>\n",
       "      <td>26</td>\n",
       "      <td>0</td>\n",
       "      <td>0</td>\n",
       "      <td>144.444444</td>\n",
       "      <td>0.000000</td>\n",
       "      <td>0.000000</td>\n",
       "      <td>2.571429</td>\n",
       "      <td>72.222222</td>\n",
       "    </tr>\n",
       "    <tr>\n",
       "      <th>12342.0</th>\n",
       "      <td>18</td>\n",
       "      <td>10</td>\n",
       "      <td>6</td>\n",
       "      <td>0</td>\n",
       "      <td>0</td>\n",
       "      <td>33.333333</td>\n",
       "      <td>0.000000</td>\n",
       "      <td>0.000000</td>\n",
       "      <td>2.571429</td>\n",
       "      <td>55.555556</td>\n",
       "    </tr>\n",
       "    <tr>\n",
       "      <th>3106.0</th>\n",
       "      <td>19</td>\n",
       "      <td>290</td>\n",
       "      <td>540</td>\n",
       "      <td>0</td>\n",
       "      <td>0</td>\n",
       "      <td>2842.105263</td>\n",
       "      <td>0.000000</td>\n",
       "      <td>0.000000</td>\n",
       "      <td>2.714286</td>\n",
       "      <td>1526.315789</td>\n",
       "    </tr>\n",
       "    <tr>\n",
       "      <th>18344.0</th>\n",
       "      <td>19</td>\n",
       "      <td>45</td>\n",
       "      <td>125</td>\n",
       "      <td>0</td>\n",
       "      <td>0</td>\n",
       "      <td>657.894737</td>\n",
       "      <td>0.000000</td>\n",
       "      <td>0.000000</td>\n",
       "      <td>2.714286</td>\n",
       "      <td>236.842105</td>\n",
       "    </tr>\n",
       "    <tr>\n",
       "      <th>21367.0</th>\n",
       "      <td>19</td>\n",
       "      <td>42</td>\n",
       "      <td>45</td>\n",
       "      <td>0</td>\n",
       "      <td>0</td>\n",
       "      <td>236.842105</td>\n",
       "      <td>0.000000</td>\n",
       "      <td>0.000000</td>\n",
       "      <td>2.714286</td>\n",
       "      <td>221.052632</td>\n",
       "    </tr>\n",
       "    <tr>\n",
       "      <th>23427.0</th>\n",
       "      <td>19</td>\n",
       "      <td>12</td>\n",
       "      <td>28</td>\n",
       "      <td>0</td>\n",
       "      <td>1</td>\n",
       "      <td>147.368421</td>\n",
       "      <td>0.000000</td>\n",
       "      <td>5.263158</td>\n",
       "      <td>2.714286</td>\n",
       "      <td>63.157895</td>\n",
       "    </tr>\n",
       "    <tr>\n",
       "      <th>762.0</th>\n",
       "      <td>19</td>\n",
       "      <td>9</td>\n",
       "      <td>13</td>\n",
       "      <td>3</td>\n",
       "      <td>18</td>\n",
       "      <td>68.421053</td>\n",
       "      <td>15.789474</td>\n",
       "      <td>94.736842</td>\n",
       "      <td>2.714286</td>\n",
       "      <td>47.368421</td>\n",
       "    </tr>\n",
       "    <tr>\n",
       "      <th>22309.0</th>\n",
       "      <td>19</td>\n",
       "      <td>5</td>\n",
       "      <td>11</td>\n",
       "      <td>14</td>\n",
       "      <td>0</td>\n",
       "      <td>57.894737</td>\n",
       "      <td>73.684211</td>\n",
       "      <td>0.000000</td>\n",
       "      <td>2.714286</td>\n",
       "      <td>26.315789</td>\n",
       "    </tr>\n",
       "  </tbody>\n",
       "</table>\n",
       "</div>"
      ],
      "text/plain": [
       "         num_shifts  num_employees  accepted_shifts  realised_shifts  \\\n",
       "pool_id                                                                \n",
       "152.0            15             58              123              188   \n",
       "10242.0          15              7               29               33   \n",
       "902.0            15             12               22               34   \n",
       "13122.0          15              7               19               25   \n",
       "21066.0          15              4               15               15   \n",
       "749.0            16             45               58               44   \n",
       "14763.0          16              5                2                0   \n",
       "9582.0           17              6               16               19   \n",
       "6358.0           17              8                2                0   \n",
       "15543.0          17              5                0               14   \n",
       "23546.0          18             19               64               60   \n",
       "7086.0           18             41               30               20   \n",
       "23386.0          18             13               26                0   \n",
       "12342.0          18             10                6                0   \n",
       "3106.0           19            290              540                0   \n",
       "18344.0          19             45              125                0   \n",
       "21367.0          19             42               45                0   \n",
       "23427.0          19             12               28                0   \n",
       "762.0            19              9               13                3   \n",
       "22309.0          19              5               11               14   \n",
       "\n",
       "         confirmed_shifts  pct_accepted  pct_realised  pct_confirmed  \\\n",
       "pool_id                                                                \n",
       "152.0                   0    820.000000   1253.333333       0.000000   \n",
       "10242.0                 0    193.333333    220.000000       0.000000   \n",
       "902.0                   0    146.666667    226.666667       0.000000   \n",
       "13122.0                 0    126.666667    166.666667       0.000000   \n",
       "21066.0                 0    100.000000    100.000000       0.000000   \n",
       "749.0                   1    362.500000    275.000000       6.250000   \n",
       "14763.0                 0     12.500000      0.000000       0.000000   \n",
       "9582.0                  0     94.117647    111.764706       0.000000   \n",
       "6358.0                  0     11.764706      0.000000       0.000000   \n",
       "15543.0                 0      0.000000     82.352941       0.000000   \n",
       "23546.0                 0    355.555556    333.333333       0.000000   \n",
       "7086.0                  7    166.666667    111.111111      38.888889   \n",
       "23386.0                 0    144.444444      0.000000       0.000000   \n",
       "12342.0                 0     33.333333      0.000000       0.000000   \n",
       "3106.0                  0   2842.105263      0.000000       0.000000   \n",
       "18344.0                 0    657.894737      0.000000       0.000000   \n",
       "21367.0                 0    236.842105      0.000000       0.000000   \n",
       "23427.0                 1    147.368421      0.000000       5.263158   \n",
       "762.0                  18     68.421053     15.789474      94.736842   \n",
       "22309.0                 0     57.894737     73.684211       0.000000   \n",
       "\n",
       "         avg_shifts_pd  shift_employee_ratio  \n",
       "pool_id                                       \n",
       "152.0         2.142857            386.666667  \n",
       "10242.0       2.142857             46.666667  \n",
       "902.0         2.142857             80.000000  \n",
       "13122.0       2.142857             46.666667  \n",
       "21066.0       2.142857             26.666667  \n",
       "749.0         2.285714            281.250000  \n",
       "14763.0       2.285714             31.250000  \n",
       "9582.0        2.428571             35.294118  \n",
       "6358.0        2.428571             47.058824  \n",
       "15543.0       2.428571             29.411765  \n",
       "23546.0       2.571429            105.555556  \n",
       "7086.0        2.571429            227.777778  \n",
       "23386.0       2.571429             72.222222  \n",
       "12342.0       2.571429             55.555556  \n",
       "3106.0        2.714286           1526.315789  \n",
       "18344.0       2.714286            236.842105  \n",
       "21367.0       2.714286            221.052632  \n",
       "23427.0       2.714286             63.157895  \n",
       "762.0         2.714286             47.368421  \n",
       "22309.0       2.714286             26.315789  "
      ]
     },
     "execution_count": 19,
     "metadata": {},
     "output_type": "execute_result"
    }
   ],
   "source": [
    "pooldf[(pooldf['avg_shifts_pd']>2)&(pooldf['avg_shifts_pd']<7)].sort_values(['num_shifts','pct_accepted'],ascending=[True,False]).head(20)"
   ]
  },
  {
   "cell_type": "code",
   "execution_count": 20,
   "metadata": {},
   "outputs": [],
   "source": [
    "pooldf[pooldf['avg_shifts_pd']<7].sort_values(['num_shifts','pct_accepted'],ascending=[True,False]).head(10).to_csv(data_folder+\"simple_pools_sample.csv\",index=False)"
   ]
  },
  {
   "cell_type": "code",
   "execution_count": null,
   "metadata": {},
   "outputs": [],
   "source": [
    "df[df['pool_id']==17983.0]"
   ]
  },
  {
   "cell_type": "code",
   "execution_count": 21,
   "metadata": {},
   "outputs": [
    {
     "data": {
      "text/plain": [
       "shift_day_of_week\n",
       "Friday        7\n",
       "Monday        9\n",
       "Saturday      2\n",
       "Thursday     10\n",
       "Tuesday       6\n",
       "Wednesday     7\n",
       "Name: shift_id, dtype: int64"
      ]
     },
     "execution_count": 21,
     "metadata": {},
     "output_type": "execute_result"
    }
   ],
   "source": [
    "twentynine = df[df['pool_id'] == 29.0]\n",
    "twentynine[[\"shift_id\",\"shift_day_of_week\"]].groupby('shift_day_of_week')['shift_id'].nunique()"
   ]
  },
  {
   "cell_type": "code",
   "execution_count": null,
   "metadata": {},
   "outputs": [],
   "source": [
    "print(twentynine.employee_id.nunique())\n",
    "print(twentynine.shift_id.nunique())"
   ]
  },
  {
   "cell_type": "code",
   "execution_count": 22,
   "metadata": {},
   "outputs": [
    {
     "data": {
      "text/plain": [
       "shift_day_of_week\n",
       "Friday       4\n",
       "Monday       2\n",
       "Thursday     3\n",
       "Tuesday      2\n",
       "Wednesday    2\n",
       "Name: shift_id, dtype: int64"
      ]
     },
     "execution_count": 22,
     "metadata": {},
     "output_type": "execute_result"
    }
   ],
   "source": [
    "one = df[df['pool_id'] == 1.0]\n",
    "one[[\"shift_id\",\"shift_day_of_week\"]].groupby('shift_day_of_week')['shift_id'].nunique()"
   ]
  },
  {
   "cell_type": "code",
   "execution_count": 33,
   "metadata": {},
   "outputs": [
    {
     "name": "stdout",
     "output_type": "stream",
     "text": [
      "8\n",
      "13\n"
     ]
    }
   ],
   "source": [
    "print(one.employee_id.nunique())\n",
    "print(one.shift_id.nunique()) "
   ]
  },
  {
   "cell_type": "code",
   "execution_count": 38,
   "metadata": {},
   "outputs": [],
   "source": [
    "one = one[one['shift_id'] !=157705104.0] # df[(df['pool_id']==1)] #) & ()]"
   ]
  },
  {
   "cell_type": "code",
   "execution_count": 39,
   "metadata": {},
   "outputs": [],
   "source": [
    "one.to_csv(data_folder + \"simplepool#1.csv\",index=False)"
   ]
  },
  {
   "cell_type": "code",
   "execution_count": 28,
   "metadata": {},
   "outputs": [
    {
     "data": {
      "text/plain": [
       "33"
      ]
     },
     "execution_count": 28,
     "metadata": {},
     "output_type": "execute_result"
    }
   ],
   "source": [
    "onedf = one[['repository_timestamp','shift_id','start_date_time','end_date_time','start_time','end_time','start_date','end_date', \\\n",
    "            'employee_id']].sort_values('start_date_time')\n",
    "onedf.drop_duplicates(subset=['shift_id'])\n",
    "len(onedf)"
   ]
  },
  {
   "cell_type": "markdown",
   "metadata": {},
   "source": [
    "### Shifts"
   ]
  },
  {
   "cell_type": "code",
   "execution_count": null,
   "metadata": {},
   "outputs": [],
   "source": [
    "dist plot number of employees\n",
    "per day?\n",
    "common start times"
   ]
  },
  {
   "cell_type": "code",
   "execution_count": null,
   "metadata": {},
   "outputs": [],
   "source": [
    "duration outliers"
   ]
  },
  {
   "cell_type": "code",
   "execution_count": null,
   "metadata": {},
   "outputs": [],
   "source": []
  },
  {
   "cell_type": "code",
   "execution_count": null,
   "metadata": {},
   "outputs": [],
   "source": []
  },
  {
   "cell_type": "code",
   "execution_count": null,
   "metadata": {},
   "outputs": [],
   "source": []
  },
  {
   "cell_type": "markdown",
   "metadata": {},
   "source": [
    "### Employees"
   ]
  },
  {
   "cell_type": "code",
   "execution_count": null,
   "metadata": {},
   "outputs": [],
   "source": [
    "#outliers\n",
    "outliers=[]\n",
    "outliers.extend(pooldf.index[pooldf['num_shifts'] > 500].tolist())\n",
    "outliers.extend(pooldf.index[pooldf['num_employees'] > 1000].tolist())"
   ]
  },
  {
   "cell_type": "code",
   "execution_count": null,
   "metadata": {},
   "outputs": [],
   "source": [
    "dist plot number of shifts\n",
    "are any in more than one pool?\n",
    "\n",
    "accept_by_employee_date_time"
   ]
  },
  {
   "cell_type": "code",
   "execution_count": null,
   "metadata": {},
   "outputs": [],
   "source": [
    "len(outliers)"
   ]
  },
  {
   "cell_type": "code",
   "execution_count": null,
   "metadata": {},
   "outputs": [],
   "source": [
    "df[~df['pool_id'].isin(outliers)].shape"
   ]
  },
  {
   "cell_type": "code",
   "execution_count": null,
   "metadata": {},
   "outputs": [],
   "source": [
    "empdf = df[~df['pool_id'].isin(outliers)]\n",
    "empdf = empdf[['pool_id','shift_id','employee_id','accept_by_employee_date_time']].groupby(['employee_id']).agg({'shift_id' : 'nunique', \n",
    "                                                                                                              'pool_id' : 'nunique',\n",
    "                                                                                                             'accept_by_employee_date_time' : 'count'})\n",
    "\n",
    "empdf.columns = ['num_shifts','num_pools','num_accepted']"
   ]
  },
  {
   "cell_type": "code",
   "execution_count": null,
   "metadata": {},
   "outputs": [],
   "source": [
    "empdf.head()"
   ]
  },
  {
   "cell_type": "code",
   "execution_count": null,
   "metadata": {},
   "outputs": [],
   "source": [
    "print(f\"Shifts per employee: min: {empdf['num_shifts'].min()}, max: {empdf['num_shifts'].max()}, mean: {empdf['num_shifts'].mean()}, median: {empdf['num_shifts'].median()}\")\n",
    "print(f\"Accepted shifts per employee: min: {empdf['num_accepted'].min()}, max: {empdf['num_accepted'].max()}, mean: {empdf['num_accepted'].mean()}, median: {empdf['num_accepted'].median()}\")\n",
    "print(f\"Accepted shifts per employee: min: {empdf['num_pools'].min()}, max: {empdf['num_pools'].max()}, mean: {empdf['num_pools'].mean()}, median: {empdf['num_pools'].median()}\")\n"
   ]
  },
  {
   "cell_type": "code",
   "execution_count": null,
   "metadata": {},
   "outputs": [],
   "source": [
    "print(f\"Shifts per employee: min: {empdf['num_shifts'].min()}, max: {empdf['num_shifts'].max()}, mean: {empdf['num_shifts'].mean()}, median: {empdf['num_shifts'].median()}\")\n",
    "print(f\"Accepted shifts per employee: min: {empdf['num_accepted'].min()}, max: {empdf['num_accepted'].max()}, mean: {empdf['num_accepted'].mean()}, median: {empdf['num_accepted'].median()}\")\n",
    "print(f\"Accepted shifts per employee: min: {empdf['num_pools'].min()}, max: {empdf['num_pools'].max()}, mean: {empdf['num_pools'].mean()}, median: {empdf['num_pools'].median()}\")\n"
   ]
  },
  {
   "cell_type": "code",
   "execution_count": null,
   "metadata": {},
   "outputs": [],
   "source": [
    "print(f\"Number of employees in more than 1 pool: {len(empdf[empdf['num_pools']>1])} ({(len(empdf[empdf['num_pools']>1])/len(empdf))*100}%)\")"
   ]
  },
  {
   "cell_type": "code",
   "execution_count": null,
   "metadata": {},
   "outputs": [],
   "source": [
    "empdf[empdf['num_accepted'] > 10].sort_values(['num_accepted'],ascending=False)"
   ]
  },
  {
   "cell_type": "raw",
   "metadata": {},
   "source": []
  },
  {
   "cell_type": "code",
   "execution_count": null,
   "metadata": {},
   "outputs": [],
   "source": [
    "#df[df['pool_id']==225.0]"
   ]
  },
  {
   "cell_type": "code",
   "execution_count": null,
   "metadata": {},
   "outputs": [],
   "source": [
    "df[df['employee_id']==1047368.0].sort_values('start_date_time')"
   ]
  },
  {
   "cell_type": "code",
   "execution_count": null,
   "metadata": {},
   "outputs": [],
   "source": []
  },
  {
   "cell_type": "code",
   "execution_count": null,
   "metadata": {},
   "outputs": [],
   "source": []
  },
  {
   "cell_type": "code",
   "execution_count": null,
   "metadata": {},
   "outputs": [],
   "source": [
    "df.head()"
   ]
  }
 ],
 "metadata": {
  "kernelspec": {
   "display_name": "werkcollege",
   "language": "python",
   "name": "werkcollege"
  },
  "language_info": {
   "codemirror_mode": {
    "name": "ipython",
    "version": 3
   },
   "file_extension": ".py",
   "mimetype": "text/x-python",
   "name": "python",
   "nbconvert_exporter": "python",
   "pygments_lexer": "ipython3",
   "version": "3.7.2"
  }
 },
 "nbformat": 4,
 "nbformat_minor": 4
}
