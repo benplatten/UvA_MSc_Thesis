{
 "cells": [
  {
   "cell_type": "code",
   "execution_count": null,
   "metadata": {},
   "outputs": [],
   "source": [
    "# schedule 0001, pool 0001 -> state\n",
    "\n",
    "['shift_id_1', 'shift_id_2', 'shift_id_3', 'shift_day_of_week_Tuesday', 'shift_type_morning']\n",
    "\n",
    "[[0 0 0 0 1 0 0]\n",
    " [1 0 0 0 0 0 0]\n",
    " [0 1 0 1 1 0 0]\n",
    " [0 0 1 1 0 0 0]]"
   ]
  },
  {
   "cell_type": "code",
   "execution_count": null,
   "metadata": {},
   "outputs": [],
   "source": [
    "# schedule 0002, pool 0001 -> state\n",
    "\n",
    "['shift_id_1', 'shift_id_2', 'shift_id_3', 'shift_id_4', 'shift_id_5','shift_day_of_week_Tuesday', 'shift_day_of_week_Wednesday','shift_type_morning']\n",
    "\n",
    "[[0 0 0 0 0 0 0 1 0 0]\n",
    " [1 0 0 0 0 0 0 0 0 0]\n",
    " [0 1 0 0 0 1 0 1 0 0]\n",
    " [0 0 1 0 0 1 0 0 0 0]\n",
    " [0 0 0 1 0 0 1 1 0 0]\n",
    " [0 0 0 0 1 0 1 0 0 0]]"
   ]
  },
  {
   "cell_type": "code",
   "execution_count": null,
   "metadata": {},
   "outputs": [],
   "source": [
    "torch.Size([2, 32])\n",
    "torch.Size([32])\n",
    "tensor([-0.1833, -0.1019], grad_fn=<ReshapeAliasBackward0>)\n",
    "\n",
    "\n",
    "torch.Size([4, 32])\n",
    "torch.Size([32])\n",
    "tensor([0.0658, 0.0492, 0.0634, 0.0147], grad_fn=<ReshapeAliasBackward0>)"
   ]
  }
 ],
 "metadata": {
  "language_info": {
   "name": "python"
  },
  "orig_nbformat": 4
 },
 "nbformat": 4,
 "nbformat_minor": 2
}
