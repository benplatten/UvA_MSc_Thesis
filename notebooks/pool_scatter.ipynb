{
 "cells": [
  {
   "cell_type": "code",
   "execution_count": 133,
   "metadata": {},
   "outputs": [],
   "source": [
    "import pandas as pd\n",
    "import numpy as np\n",
    "import pickle\n",
    "import numpy as np\n",
    "import matplotlib.pyplot as plt\n",
    "import seaborn as sns \n"
   ]
  },
  {
   "cell_type": "code",
   "execution_count": 10,
   "metadata": {},
   "outputs": [],
   "source": [
    "pd.set_option('display.max_rows', 90)\n",
    "pd.set_option('display.max_columns', 90)"
   ]
  },
  {
   "cell_type": "markdown",
   "metadata": {},
   "source": [
    "with open('10M.pkl', 'wb') as f:\n",
    "    pickle.dump(df, f)\n",
    "\n",
    "with open('10M.pkl', 'rb') as f:\n",
    "    df = pickle.load(f)"
   ]
  },
  {
   "cell_type": "code",
   "execution_count": 21,
   "metadata": {},
   "outputs": [],
   "source": [
    "with open('../data/iplan_column_names.pkl', 'rb') as f:\n",
    "    column_names = pickle.load(f)\n",
    "\n",
    "#with open('../data/iplan_date_columns.pkl', 'rb') as f:\n",
    "#    date_columns = pickle.load(f)\n",
    "date_columns = ['accept_by_employee_date_time']\n",
    "\n",
    "data_folder = '../data/'\n",
    "data_file = 'repo_iplan_employee_in_shift_20200210-20200216.csv'"
   ]
  },
  {
   "cell_type": "code",
   "execution_count": 14,
   "metadata": {},
   "outputs": [],
   "source": [
    "usecols = ['shift_id','accept_by_employee_date_time','pool_id']"
   ]
  },
  {
   "cell_type": "code",
   "execution_count": 22,
   "metadata": {},
   "outputs": [],
   "source": [
    "df = pd.read_csv(data_folder+data_file,names=column_names, parse_dates=date_columns,usecols=usecols)"
   ]
  },
  {
   "cell_type": "code",
   "execution_count": 35,
   "metadata": {},
   "outputs": [],
   "source": [
    "df1 = df.loc[~df.accept_by_employee_date_time.isnull()]"
   ]
  },
  {
   "cell_type": "code",
   "execution_count": 41,
   "metadata": {},
   "outputs": [
    {
     "name": "stdout",
     "output_type": "stream",
     "text": [
      "(248119, 3)\n",
      "(120941, 3)\n",
      "472\n",
      "434\n"
     ]
    }
   ],
   "source": [
    "print(df.shape)\n",
    "print(df1.shape)\n",
    "print(len(np.unique(df.pool_id)))\n",
    "print(len(np.unique(df1.pool_id)))"
   ]
  },
  {
   "cell_type": "code",
   "execution_count": 36,
   "metadata": {},
   "outputs": [
    {
     "data": {
      "text/html": [
       "<div>\n",
       "<style scoped>\n",
       "    .dataframe tbody tr th:only-of-type {\n",
       "        vertical-align: middle;\n",
       "    }\n",
       "\n",
       "    .dataframe tbody tr th {\n",
       "        vertical-align: top;\n",
       "    }\n",
       "\n",
       "    .dataframe thead th {\n",
       "        text-align: right;\n",
       "    }\n",
       "</style>\n",
       "<table border=\"1\" class=\"dataframe\">\n",
       "  <thead>\n",
       "    <tr style=\"text-align: right;\">\n",
       "      <th></th>\n",
       "      <th>shift_id</th>\n",
       "      <th>accept_by_employee_date_time</th>\n",
       "      <th>pool_id</th>\n",
       "    </tr>\n",
       "  </thead>\n",
       "  <tbody>\n",
       "    <tr>\n",
       "      <th>0</th>\n",
       "      <td>131254489</td>\n",
       "      <td>2020-02-06 10:05:14</td>\n",
       "      <td>4550</td>\n",
       "    </tr>\n",
       "    <tr>\n",
       "      <th>1</th>\n",
       "      <td>131073033</td>\n",
       "      <td>2020-02-13 14:09:04</td>\n",
       "      <td>5314</td>\n",
       "    </tr>\n",
       "    <tr>\n",
       "      <th>6</th>\n",
       "      <td>131953810</td>\n",
       "      <td>2020-02-05 07:55:58</td>\n",
       "      <td>8222</td>\n",
       "    </tr>\n",
       "    <tr>\n",
       "      <th>7</th>\n",
       "      <td>131790645</td>\n",
       "      <td>2020-02-16 11:51:33</td>\n",
       "      <td>12102</td>\n",
       "    </tr>\n",
       "    <tr>\n",
       "      <th>9</th>\n",
       "      <td>128817253</td>\n",
       "      <td>2020-02-06 14:15:56</td>\n",
       "      <td>168</td>\n",
       "    </tr>\n",
       "  </tbody>\n",
       "</table>\n",
       "</div>"
      ],
      "text/plain": [
       "    shift_id accept_by_employee_date_time  pool_id\n",
       "0  131254489          2020-02-06 10:05:14     4550\n",
       "1  131073033          2020-02-13 14:09:04     5314\n",
       "6  131953810          2020-02-05 07:55:58     8222\n",
       "7  131790645          2020-02-16 11:51:33    12102\n",
       "9  128817253          2020-02-06 14:15:56      168"
      ]
     },
     "execution_count": 36,
     "metadata": {},
     "output_type": "execute_result"
    }
   ],
   "source": [
    "df1.head()"
   ]
  },
  {
   "cell_type": "code",
   "execution_count": null,
   "metadata": {},
   "outputs": [],
   "source": [
    "# viz 1\n",
    "    #count shifts (inique shift id) per pool \n",
    "    #count employees per shift (count shift id)"
   ]
  },
  {
   "cell_type": "code",
   "execution_count": 105,
   "metadata": {},
   "outputs": [],
   "source": [
    "df2 = df1.groupby(['pool_id']).agg({\n",
    "    'shift_id':lambda x: x.nunique(),\n",
    "    'accept_by_employee_date_time':lambda x: x.count() / x.nunique()\n",
    "}).reset_index()"
   ]
  },
  {
   "cell_type": "code",
   "execution_count": 106,
   "metadata": {},
   "outputs": [],
   "source": [
    "df2cols = ['pool_id', 'shifts', 'employees_per_shift']\n",
    "df2.columns = df2cols"
   ]
  },
  {
   "cell_type": "code",
   "execution_count": 115,
   "metadata": {},
   "outputs": [
    {
     "data": {
      "text/html": [
       "<div>\n",
       "<style scoped>\n",
       "    .dataframe tbody tr th:only-of-type {\n",
       "        vertical-align: middle;\n",
       "    }\n",
       "\n",
       "    .dataframe tbody tr th {\n",
       "        vertical-align: top;\n",
       "    }\n",
       "\n",
       "    .dataframe thead th {\n",
       "        text-align: right;\n",
       "    }\n",
       "</style>\n",
       "<table border=\"1\" class=\"dataframe\">\n",
       "  <thead>\n",
       "    <tr style=\"text-align: right;\">\n",
       "      <th></th>\n",
       "      <th>pool_id</th>\n",
       "      <th>shifts</th>\n",
       "      <th>employees_per_shift</th>\n",
       "    </tr>\n",
       "  </thead>\n",
       "  <tbody>\n",
       "    <tr>\n",
       "      <th>431</th>\n",
       "      <td>20803</td>\n",
       "      <td>10.000000</td>\n",
       "      <td>1.866667</td>\n",
       "    </tr>\n",
       "    <tr>\n",
       "      <th>432</th>\n",
       "      <td>20843</td>\n",
       "      <td>19.000000</td>\n",
       "      <td>1.750000</td>\n",
       "    </tr>\n",
       "    <tr>\n",
       "      <th>433</th>\n",
       "      <td>20863</td>\n",
       "      <td>131.000000</td>\n",
       "      <td>3.145833</td>\n",
       "    </tr>\n",
       "    <tr>\n",
       "      <th>434</th>\n",
       "      <td>mean</td>\n",
       "      <td>120.034562</td>\n",
       "      <td>2.204648</td>\n",
       "    </tr>\n",
       "    <tr>\n",
       "      <th>435</th>\n",
       "      <td>mean</td>\n",
       "      <td>120.034562</td>\n",
       "      <td>2.204648</td>\n",
       "    </tr>\n",
       "  </tbody>\n",
       "</table>\n",
       "</div>"
      ],
      "text/plain": [
       "    pool_id      shifts  employees_per_shift\n",
       "431   20803   10.000000             1.866667\n",
       "432   20843   19.000000             1.750000\n",
       "433   20863  131.000000             3.145833\n",
       "434    mean  120.034562             2.204648\n",
       "435    mean  120.034562             2.204648"
      ]
     },
     "execution_count": 115,
     "metadata": {},
     "output_type": "execute_result"
    }
   ],
   "source": [
    "mean_s = df2.shifts.mean()\n",
    "mean_e = df2.employees_per_shift.mean()\n",
    "meanrow = pd.DataFrame([['mean', mean_s, mean_e]], columns=df2cols, index=[1000])"
   ]
  },
  {
   "cell_type": "code",
   "execution_count": null,
   "metadata": {},
   "outputs": [],
   "source": [
    "# viz 2\n",
    "    #count shifts (inique shift id) per pool \n",
    "    #count employees per pool"
   ]
  },
  {
   "cell_type": "code",
   "execution_count": 119,
   "metadata": {},
   "outputs": [],
   "source": [
    "df3 = df1.groupby(['pool_id']).agg({\n",
    "    'shift_id':lambda x: x.nunique(),\n",
    "    'accept_by_employee_date_time':lambda x: x.count()\n",
    "}).reset_index()\n",
    "\n",
    "df3cols = ['pool_id', 'shifts', 'employees']\n",
    "df3.columns = df3cols\n",
    "\n",
    "mean_s = df3.shifts.mean()\n",
    "mean_e = df3.employees.mean()\n",
    "meanrow2 = pd.DataFrame([['mean', mean_s, mean_e]], columns=df3cols, index=[1000])"
   ]
  },
  {
   "cell_type": "code",
   "execution_count": 140,
   "metadata": {},
   "outputs": [],
   "source": [
    "# viz 3\n",
    "    # viz 1 as a hist"
   ]
  },
  {
   "cell_type": "code",
   "execution_count": null,
   "metadata": {},
   "outputs": [],
   "source": []
  },
  {
   "cell_type": "code",
   "execution_count": 132,
   "metadata": {},
   "outputs": [],
   "source": [
    "# viz 4\n",
    "    # viz 2 as a hist"
   ]
  },
  {
   "cell_type": "code",
   "execution_count": null,
   "metadata": {},
   "outputs": [],
   "source": []
  },
  {
   "cell_type": "code",
   "execution_count": 143,
   "metadata": {},
   "outputs": [
    {
     "data": {
      "text/plain": [
       "Text(0, 0.5, 'Employees per pool')"
      ]
     },
     "execution_count": 143,
     "metadata": {},
     "output_type": "execute_result"
    },
    {
     "data": {
      "image/png": "[encoded data removed]",
      "text/plain": [
       "<Figure size 864x432 with 2 Axes>"
      ]
     },
     "metadata": {
      "needs_background": "light"
     },
     "output_type": "display_data"
    }
   ],
   "source": [
    "fig, (ax1, ax2) = plt.subplots(nrows=1, ncols=2,\n",
    "                                figsize=(12, 6))\n",
    "\n",
    "sns.scatterplot(data=df2, x=\"shifts\", y=\"employees_per_shift\", ax=ax1)\n",
    "sns.scatterplot(data=meanrow, x=\"shifts\", y=\"employees_per_shift\", ax=ax1, palette=\"deep\")\n",
    "ax1.set_xlabel('Shifts per pool')\n",
    "ax1.set_ylabel('Employees per shift')\n",
    "\n",
    "sns.scatterplot(data=df3, x=\"shifts\", y=\"employees\", ax=ax2)\n",
    "sns.scatterplot(data=meanrow2, x=\"shifts\", y=\"employees\", ax=ax2, palette=\"deep\")\n",
    "ax2.set_xlabel('Shifts per pool')\n",
    "ax2.set_ylabel('Employees per pool')\n",
    "\n"
   ]
  },
  {
   "cell_type": "code",
   "execution_count": null,
   "metadata": {},
   "outputs": [],
   "source": []
  },
  {
   "cell_type": "code",
   "execution_count": null,
   "metadata": {},
   "outputs": [],
   "source": []
  },
  {
   "cell_type": "code",
   "execution_count": null,
   "metadata": {},
   "outputs": [],
   "source": [
    "# viz idea\n",
    "    # shift length\n",
    "    # shift start time \n",
    "    \n",
    "# viz idea\n",
    "    # shift count\n",
    "    # day"
   ]
  }
 ],
 "metadata": {
  "kernelspec": {
   "display_name": "werkcollege",
   "language": "python",
   "name": "werkcollege"
  },
  "language_info": {
   "codemirror_mode": {
    "name": "ipython",
    "version": 3
   },
   "file_extension": ".py",
   "mimetype": "text/x-python",
   "name": "python",
   "nbconvert_exporter": "python",
   "pygments_lexer": "ipython3",
   "version": "3.7.2"
  }
 },
 "nbformat": 4,
 "nbformat_minor": 4
}
